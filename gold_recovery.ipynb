{
 "cells": [
  {
   "attachments": {},
   "cell_type": "markdown",
   "id": "94d8fd5e",
   "metadata": {},
   "source": [
    "<h1 style=\"color:C0504D;\">ПРОЕКТ: Восстановление золота из руды</h1>"
   ]
  },
  {
   "attachments": {},
   "cell_type": "markdown",
   "id": "1b27a223",
   "metadata": {},
   "source": [
    "<div style=\"background-color:whitesmoke; border:solid #363636 1.5px; padding: 15px\">\n",
    "    <div style=\"color: black;\">\n",
    "        <p>В распоряжении есть данные с параметрами добычи и очистки, компания разрабатывает решения для эффективной\n",
    "            работы\n",
    "            промышленных предприятий.</p>\n",
    "        <p><b>Цель данного проекта</b> - Необходимо построить модель машинного обучения, которая поможет предсказать\n",
    "            коэффициент восстановления золота из золотосодержащей руды.</p>\n",
    "    </div>\n",
    "    <div style=\"color: C0504D; font-weight: bold;\">\n",
    "        <ol>\n",
    "            <li>Загрузить и подготовить данные:\n",
    "            <ul style=\"color: black; font-weight: normal;\" type=\"disc\">\n",
    "                <li>Проверить, что эффективность обогащения рассчитана правильно;</li>\n",
    "                <li>Проверить состав предоставленных выборок;</li>\n",
    "                <li>Проверить данные на наличие пропусков;</li>\n",
    "                <li>Провести восстановление пропусков;</li>\n",
    "                <li>Проанализировать результаты.</li>\n",
    "            </ul>\n",
    "            <li>Проанализировать данные:\n",
    "            <ul style=\"color: black; font-weight: normal;\" type=\"disc\">\n",
    "                <li>Посмотреть, как меняется концентрация металлов (Au, Ag, Pb) на различных этапах очистки;</li>\n",
    "                <li>Сравнить распределения размеров гранул сырья на обучающей и тестовой выборках;</li>\n",
    "                <li>Исследовать суммарную концентрацию всех веществ на разных стадиях: в сырье, в черновом и\n",
    "                    финальном\n",
    "                    концентратах;</li>\n",
    "                <li>Сделать выводы.</li>\n",
    "            </ul>\n",
    "            <li>Обучить модель и выбрать лучшую:\n",
    "            <ul style=\"color: black; font-weight: normal;\" type=\"disc\">\n",
    "                <li>Напишите функцию для вычисления итоговой <b>sMAPE</b>;</li>\n",
    "                <li>Обучите разные модели;</li>\n",
    "                <li>Подобрать для моделей оптимальные гиперпараметры;</li>\n",
    "                <li>Оценить качество моделей кросс-валидацией;</li>\n",
    "                <li>Выбрать лучшую модель</li>\n",
    "                <li>Сделать выводы.</li>\n",
    "            </ul>\n",
    "            <li>Тестирование лучшей модели:\n",
    "            <ul style=\"color: black; font-weight: normal;\" type=\"disc\">\n",
    "                <li>Проверить модель на тестовой выборке;</li>\n",
    "                <li>Проанализировать предсказания выбранной модели;</li>\n",
    "                <li>Написать выводы и обосновать выбор.</li>\n",
    "            </ul>\n",
    "    </div>\n",
    "</div>"
   ]
  },
  {
   "cell_type": "code",
   "execution_count": 1,
   "id": "f4079068",
   "metadata": {},
   "outputs": [],
   "source": [
    "# библиотеки\n",
    "import re\n",
    "import pandas as pd \n",
    "import numpy as np\n",
    "import seaborn as sns\n",
    "import warnings \n",
    "from matplotlib import pyplot as plt\n",
    "from time import time\n",
    "\n",
    "# обработка\n",
    "from sklearn.model_selection import train_test_split\n",
    "from sklearn.model_selection import GridSearchCV\n",
    "from sklearn.model_selection import cross_val_score\n",
    "from sklearn.preprocessing import StandardScaler\n",
    "\n",
    "# модели\n",
    "from sklearn.linear_model import Lasso\n",
    "from sklearn.linear_model import LinearRegression\n",
    "from sklearn.ensemble import RandomForestRegressor\n",
    "from sklearn.ensemble import ExtraTreesRegressor\n",
    "from sklearn.dummy import DummyRegressor\n",
    "from sklearn.tree import DecisionTreeRegressor\n",
    "from lightgbm import LGBMRegressor\n",
    "\n",
    "# метрики\n",
    "from sklearn.preprocessing import StandardScaler\n",
    "from sklearn.metrics import mean_absolute_error\n",
    "from sklearn.metrics import make_scorer\n",
    "from sklearn.impute import KNNImputer\n",
    "\n",
    "# настройки и параметры\n",
    "from tqdm import notebook\n",
    "pd.set_option('display.max_columns', None)\n",
    "warnings.filterwarnings('ignore')\n"
   ]
  },
  {
   "attachments": {},
   "cell_type": "markdown",
   "id": "daa4f8da",
   "metadata": {},
   "source": [
    "<p style=\"color: #363636; background-color:whitesmoke; border:solid #363636 1.5px; padding: 15px\">\n",
    "    создам стиль для отображения табличных данных\n",
    "</p>"
   ]
  },
  {
   "cell_type": "code",
   "execution_count": 2,
   "id": "37a5033d",
   "metadata": {},
   "outputs": [],
   "source": [
    "cell_hover     = {'selector': 'td:hover',\n",
    "                  'props'   : [('background', '#9E4447'), \n",
    "                               ('color', '#ffffff')]}           # формат выделенной ячейки\n",
    "\n",
    "row_hover      = {'selector': 'tr:hover',\n",
    "                  'props'   : [('background', '#808080'), \n",
    "                               ('color', '#ffffff')]}           # формат выделенной строки\n",
    "\n",
    "color_row_even = {'selector': 'tr:nth-of-type(even)',\n",
    "                  'props'   : [('background', '#D9D9D9'),\n",
    "                               ('color', 'black')]}             # формат нечетных строк\n",
    "\n",
    "color_row_odd  = {'selector': 'tr:nth-of-type(odd)',\n",
    "                  'props'   : [('background', '#ffffff'),\n",
    "                               ('color', '#363636')]}           # формат четных строк\n",
    "\n",
    "index_names    = {'selector': 'th',\n",
    "                  'props'   : [('background', '#363636'), \n",
    "                               ('color', '#ffffff'),  \n",
    "                               ('text-align','center')]}        # формат заголовка и индекса\n",
    "\n",
    "border_inner   = {'selector': 'td',\n",
    "                  'props'   : [('border','1px dashed #363636')]}# формат границы таблицы\n",
    "\n",
    "border_outer   = {'selector': '',\n",
    "                  'props'   : [('border','2px solid #363636')]} # формат границы таблицы\n",
    "\n",
    "caption        = {'selector': 'caption',\n",
    "                  'props'   : [('color', '#363636'), \n",
    "                               ('font-size', '15px')]}\n",
    "\n",
    "# передаю в переменную для дальнейшего использования\n",
    "styler = [cell_hover, color_row_even, color_row_odd, index_names, row_hover, border_inner, border_outer, caption]"
   ]
  },
  {
   "attachments": {},
   "cell_type": "markdown",
   "id": "e6b00722",
   "metadata": {},
   "source": [
    "<h2 style=\"color:C0504D;\">Загрузка и подготовка данных</h2>"
   ]
  },
  {
   "attachments": {},
   "cell_type": "markdown",
   "id": "9e98e885",
   "metadata": {},
   "source": [
    "<h3 style=\"color:C0504D;\">Загрузка данных</h3>"
   ]
  },
  {
   "attachments": {},
   "cell_type": "markdown",
   "id": "7bfb9d31",
   "metadata": {},
   "source": [
    "<p style=\"color: #363636; background-color:whitesmoke; border:solid #363636 1.5px; padding: 15px\">\n",
    "    Загрузим данные и познакомимся с их содержимым\n",
    "</p>"
   ]
  },
  {
   "cell_type": "code",
   "execution_count": 3,
   "id": "4032628a",
   "metadata": {},
   "outputs": [],
   "source": [
    "try:\n",
    "    data_train = pd.read_csv('/datasets/gold_recovery_train_new.csv')\n",
    "    data_test  = pd.read_csv('/datasets/gold_recovery_test_new.csv ')\n",
    "    data_full  = pd.read_csv('/datasets/gold_recovery_full_new.csv .csv')\n",
    "except:\n",
    "    data_train = pd.read_csv('gold_recovery_train_new.csv')\n",
    "    data_test  = pd.read_csv('gold_recovery_test_new.csv')\n",
    "    data_full  = pd.read_csv('gold_recovery_full_new.csv')"
   ]
  },
  {
   "cell_type": "code",
   "execution_count": 4,
   "id": "076b78a1",
   "metadata": {},
   "outputs": [],
   "source": [
    "data_flow      = [data_train, data_test, data_full]\n",
    "data_flow_name = ['data_train', 'data_test', 'data_full']\n",
    "\n",
    "STAGE  = ['rougher', 'primary_cleaner', 'final', 'secondary_cleaner']\n",
    "METAL  = ['ag', 'au', 'pb', 'sol']\n",
    "TYPE   = ['calculation', 'input', 'state', 'output']\n",
    "SAMPLE = [data_train, data_test, data_full]\n",
    "TARGET = ['rougher_output_recovery', 'final_output_recovery']\n",
    "RANDOM = 1123581321"
   ]
  },
  {
   "cell_type": "code",
   "execution_count": 5,
   "id": "6427e2ac",
   "metadata": {
    "scrolled": false
   },
   "outputs": [
    {
     "data": {
      "text/html": [
       "<style type=\"text/css\">\n",
       "#T_b1520_ td:hover {\n",
       "  background: #9E4447;\n",
       "  color: #ffffff;\n",
       "}\n",
       "#T_b1520_ tr:nth-of-type(even) {\n",
       "  background: #D9D9D9;\n",
       "  color: black;\n",
       "}\n",
       "#T_b1520_ tr:nth-of-type(odd) {\n",
       "  background: #ffffff;\n",
       "  color: #363636;\n",
       "}\n",
       "#T_b1520_ th {\n",
       "  background: #363636;\n",
       "  color: #ffffff;\n",
       "  text-align: center;\n",
       "}\n",
       "#T_b1520_ tr:hover {\n",
       "  background: #808080;\n",
       "  color: #ffffff;\n",
       "}\n",
       "#T_b1520_ td {\n",
       "  border: 1px dashed #363636;\n",
       "}\n",
       "#T_b1520_  {\n",
       "  border: 2px solid #363636;\n",
       "}\n",
       "#T_b1520_ caption {\n",
       "  color: #363636;\n",
       "  font-size: 15px;\n",
       "}\n",
       "</style>\n",
       "<table id=\"T_b1520_\">\n",
       "  <caption>Набор данных data_train</caption>\n",
       "  <thead>\n",
       "    <tr>\n",
       "      <th class=\"blank level0\" >&nbsp;</th>\n",
       "      <th class=\"col_heading level0 col0\" >date</th>\n",
       "      <th class=\"col_heading level0 col1\" >final.output.concentrate_ag</th>\n",
       "      <th class=\"col_heading level0 col2\" >final.output.concentrate_pb</th>\n",
       "      <th class=\"col_heading level0 col3\" >final.output.concentrate_sol</th>\n",
       "      <th class=\"col_heading level0 col4\" >final.output.concentrate_au</th>\n",
       "      <th class=\"col_heading level0 col5\" >final.output.recovery</th>\n",
       "      <th class=\"col_heading level0 col6\" >final.output.tail_ag</th>\n",
       "      <th class=\"col_heading level0 col7\" >final.output.tail_pb</th>\n",
       "      <th class=\"col_heading level0 col8\" >final.output.tail_sol</th>\n",
       "      <th class=\"col_heading level0 col9\" >final.output.tail_au</th>\n",
       "      <th class=\"col_heading level0 col10\" >primary_cleaner.input.sulfate</th>\n",
       "      <th class=\"col_heading level0 col11\" >primary_cleaner.input.depressant</th>\n",
       "      <th class=\"col_heading level0 col12\" >primary_cleaner.input.feed_size</th>\n",
       "      <th class=\"col_heading level0 col13\" >primary_cleaner.input.xanthate</th>\n",
       "      <th class=\"col_heading level0 col14\" >primary_cleaner.output.concentrate_ag</th>\n",
       "      <th class=\"col_heading level0 col15\" >primary_cleaner.output.concentrate_pb</th>\n",
       "      <th class=\"col_heading level0 col16\" >primary_cleaner.output.concentrate_sol</th>\n",
       "      <th class=\"col_heading level0 col17\" >primary_cleaner.output.concentrate_au</th>\n",
       "      <th class=\"col_heading level0 col18\" >primary_cleaner.output.tail_ag</th>\n",
       "      <th class=\"col_heading level0 col19\" >primary_cleaner.output.tail_pb</th>\n",
       "      <th class=\"col_heading level0 col20\" >primary_cleaner.output.tail_sol</th>\n",
       "      <th class=\"col_heading level0 col21\" >primary_cleaner.output.tail_au</th>\n",
       "      <th class=\"col_heading level0 col22\" >primary_cleaner.state.floatbank8_a_air</th>\n",
       "      <th class=\"col_heading level0 col23\" >primary_cleaner.state.floatbank8_a_level</th>\n",
       "      <th class=\"col_heading level0 col24\" >primary_cleaner.state.floatbank8_b_air</th>\n",
       "      <th class=\"col_heading level0 col25\" >primary_cleaner.state.floatbank8_b_level</th>\n",
       "      <th class=\"col_heading level0 col26\" >primary_cleaner.state.floatbank8_c_air</th>\n",
       "      <th class=\"col_heading level0 col27\" >primary_cleaner.state.floatbank8_c_level</th>\n",
       "      <th class=\"col_heading level0 col28\" >primary_cleaner.state.floatbank8_d_air</th>\n",
       "      <th class=\"col_heading level0 col29\" >primary_cleaner.state.floatbank8_d_level</th>\n",
       "      <th class=\"col_heading level0 col30\" >rougher.calculation.sulfate_to_au_concentrate</th>\n",
       "      <th class=\"col_heading level0 col31\" >rougher.calculation.floatbank10_sulfate_to_au_feed</th>\n",
       "      <th class=\"col_heading level0 col32\" >rougher.calculation.floatbank11_sulfate_to_au_feed</th>\n",
       "      <th class=\"col_heading level0 col33\" >rougher.calculation.au_pb_ratio</th>\n",
       "      <th class=\"col_heading level0 col34\" >rougher.input.feed_ag</th>\n",
       "      <th class=\"col_heading level0 col35\" >rougher.input.feed_pb</th>\n",
       "      <th class=\"col_heading level0 col36\" >rougher.input.feed_rate</th>\n",
       "      <th class=\"col_heading level0 col37\" >rougher.input.feed_size</th>\n",
       "      <th class=\"col_heading level0 col38\" >rougher.input.feed_sol</th>\n",
       "      <th class=\"col_heading level0 col39\" >rougher.input.feed_au</th>\n",
       "      <th class=\"col_heading level0 col40\" >rougher.input.floatbank10_sulfate</th>\n",
       "      <th class=\"col_heading level0 col41\" >rougher.input.floatbank10_xanthate</th>\n",
       "      <th class=\"col_heading level0 col42\" >rougher.input.floatbank11_sulfate</th>\n",
       "      <th class=\"col_heading level0 col43\" >rougher.input.floatbank11_xanthate</th>\n",
       "      <th class=\"col_heading level0 col44\" >rougher.output.concentrate_ag</th>\n",
       "      <th class=\"col_heading level0 col45\" >rougher.output.concentrate_pb</th>\n",
       "      <th class=\"col_heading level0 col46\" >rougher.output.concentrate_sol</th>\n",
       "      <th class=\"col_heading level0 col47\" >rougher.output.concentrate_au</th>\n",
       "      <th class=\"col_heading level0 col48\" >rougher.output.recovery</th>\n",
       "      <th class=\"col_heading level0 col49\" >rougher.output.tail_ag</th>\n",
       "      <th class=\"col_heading level0 col50\" >rougher.output.tail_pb</th>\n",
       "      <th class=\"col_heading level0 col51\" >rougher.output.tail_sol</th>\n",
       "      <th class=\"col_heading level0 col52\" >rougher.output.tail_au</th>\n",
       "      <th class=\"col_heading level0 col53\" >rougher.state.floatbank10_a_air</th>\n",
       "      <th class=\"col_heading level0 col54\" >rougher.state.floatbank10_a_level</th>\n",
       "      <th class=\"col_heading level0 col55\" >rougher.state.floatbank10_b_air</th>\n",
       "      <th class=\"col_heading level0 col56\" >rougher.state.floatbank10_b_level</th>\n",
       "      <th class=\"col_heading level0 col57\" >rougher.state.floatbank10_c_air</th>\n",
       "      <th class=\"col_heading level0 col58\" >rougher.state.floatbank10_c_level</th>\n",
       "      <th class=\"col_heading level0 col59\" >rougher.state.floatbank10_d_air</th>\n",
       "      <th class=\"col_heading level0 col60\" >rougher.state.floatbank10_d_level</th>\n",
       "      <th class=\"col_heading level0 col61\" >rougher.state.floatbank10_e_air</th>\n",
       "      <th class=\"col_heading level0 col62\" >rougher.state.floatbank10_e_level</th>\n",
       "      <th class=\"col_heading level0 col63\" >rougher.state.floatbank10_f_air</th>\n",
       "      <th class=\"col_heading level0 col64\" >rougher.state.floatbank10_f_level</th>\n",
       "      <th class=\"col_heading level0 col65\" >secondary_cleaner.output.tail_ag</th>\n",
       "      <th class=\"col_heading level0 col66\" >secondary_cleaner.output.tail_pb</th>\n",
       "      <th class=\"col_heading level0 col67\" >secondary_cleaner.output.tail_sol</th>\n",
       "      <th class=\"col_heading level0 col68\" >secondary_cleaner.output.tail_au</th>\n",
       "      <th class=\"col_heading level0 col69\" >secondary_cleaner.state.floatbank2_a_air</th>\n",
       "      <th class=\"col_heading level0 col70\" >secondary_cleaner.state.floatbank2_a_level</th>\n",
       "      <th class=\"col_heading level0 col71\" >secondary_cleaner.state.floatbank2_b_air</th>\n",
       "      <th class=\"col_heading level0 col72\" >secondary_cleaner.state.floatbank2_b_level</th>\n",
       "      <th class=\"col_heading level0 col73\" >secondary_cleaner.state.floatbank3_a_air</th>\n",
       "      <th class=\"col_heading level0 col74\" >secondary_cleaner.state.floatbank3_a_level</th>\n",
       "      <th class=\"col_heading level0 col75\" >secondary_cleaner.state.floatbank3_b_air</th>\n",
       "      <th class=\"col_heading level0 col76\" >secondary_cleaner.state.floatbank3_b_level</th>\n",
       "      <th class=\"col_heading level0 col77\" >secondary_cleaner.state.floatbank4_a_air</th>\n",
       "      <th class=\"col_heading level0 col78\" >secondary_cleaner.state.floatbank4_a_level</th>\n",
       "      <th class=\"col_heading level0 col79\" >secondary_cleaner.state.floatbank4_b_air</th>\n",
       "      <th class=\"col_heading level0 col80\" >secondary_cleaner.state.floatbank4_b_level</th>\n",
       "      <th class=\"col_heading level0 col81\" >secondary_cleaner.state.floatbank5_a_air</th>\n",
       "      <th class=\"col_heading level0 col82\" >secondary_cleaner.state.floatbank5_a_level</th>\n",
       "      <th class=\"col_heading level0 col83\" >secondary_cleaner.state.floatbank5_b_air</th>\n",
       "      <th class=\"col_heading level0 col84\" >secondary_cleaner.state.floatbank5_b_level</th>\n",
       "      <th class=\"col_heading level0 col85\" >secondary_cleaner.state.floatbank6_a_air</th>\n",
       "      <th class=\"col_heading level0 col86\" >secondary_cleaner.state.floatbank6_a_level</th>\n",
       "    </tr>\n",
       "  </thead>\n",
       "  <tbody>\n",
       "    <tr>\n",
       "      <th id=\"T_b1520_level0_row0\" class=\"row_heading level0 row0\" >0</th>\n",
       "      <td id=\"T_b1520_row0_col0\" class=\"data row0 col0\" >2016-01-15 00:00:00</td>\n",
       "      <td id=\"T_b1520_row0_col1\" class=\"data row0 col1\" >6.055403</td>\n",
       "      <td id=\"T_b1520_row0_col2\" class=\"data row0 col2\" >9.889648</td>\n",
       "      <td id=\"T_b1520_row0_col3\" class=\"data row0 col3\" >5.507324</td>\n",
       "      <td id=\"T_b1520_row0_col4\" class=\"data row0 col4\" >42.192020</td>\n",
       "      <td id=\"T_b1520_row0_col5\" class=\"data row0 col5\" >70.541216</td>\n",
       "      <td id=\"T_b1520_row0_col6\" class=\"data row0 col6\" >10.411962</td>\n",
       "      <td id=\"T_b1520_row0_col7\" class=\"data row0 col7\" >0.895447</td>\n",
       "      <td id=\"T_b1520_row0_col8\" class=\"data row0 col8\" >16.904297</td>\n",
       "      <td id=\"T_b1520_row0_col9\" class=\"data row0 col9\" >2.143149</td>\n",
       "      <td id=\"T_b1520_row0_col10\" class=\"data row0 col10\" >127.092003</td>\n",
       "      <td id=\"T_b1520_row0_col11\" class=\"data row0 col11\" >10.128295</td>\n",
       "      <td id=\"T_b1520_row0_col12\" class=\"data row0 col12\" >7.250000</td>\n",
       "      <td id=\"T_b1520_row0_col13\" class=\"data row0 col13\" >0.988759</td>\n",
       "      <td id=\"T_b1520_row0_col14\" class=\"data row0 col14\" >8.547551</td>\n",
       "      <td id=\"T_b1520_row0_col15\" class=\"data row0 col15\" >10.389648</td>\n",
       "      <td id=\"T_b1520_row0_col16\" class=\"data row0 col16\" >19.529297</td>\n",
       "      <td id=\"T_b1520_row0_col17\" class=\"data row0 col17\" >34.174427</td>\n",
       "      <td id=\"T_b1520_row0_col18\" class=\"data row0 col18\" >14.936526</td>\n",
       "      <td id=\"T_b1520_row0_col19\" class=\"data row0 col19\" >2.534912</td>\n",
       "      <td id=\"T_b1520_row0_col20\" class=\"data row0 col20\" >7.476074</td>\n",
       "      <td id=\"T_b1520_row0_col21\" class=\"data row0 col21\" >2.106679</td>\n",
       "      <td id=\"T_b1520_row0_col22\" class=\"data row0 col22\" >1549.775757</td>\n",
       "      <td id=\"T_b1520_row0_col23\" class=\"data row0 col23\" >-498.912140</td>\n",
       "      <td id=\"T_b1520_row0_col24\" class=\"data row0 col24\" >1551.434204</td>\n",
       "      <td id=\"T_b1520_row0_col25\" class=\"data row0 col25\" >-516.403442</td>\n",
       "      <td id=\"T_b1520_row0_col26\" class=\"data row0 col26\" >1549.873901</td>\n",
       "      <td id=\"T_b1520_row0_col27\" class=\"data row0 col27\" >-498.666595</td>\n",
       "      <td id=\"T_b1520_row0_col28\" class=\"data row0 col28\" >1554.367432</td>\n",
       "      <td id=\"T_b1520_row0_col29\" class=\"data row0 col29\" >-493.428131</td>\n",
       "      <td id=\"T_b1520_row0_col30\" class=\"data row0 col30\" >41885.707031</td>\n",
       "      <td id=\"T_b1520_row0_col31\" class=\"data row0 col31\" >3481.779053</td>\n",
       "      <td id=\"T_b1520_row0_col32\" class=\"data row0 col32\" >3520.337158</td>\n",
       "      <td id=\"T_b1520_row0_col33\" class=\"data row0 col33\" >2.838687</td>\n",
       "      <td id=\"T_b1520_row0_col34\" class=\"data row0 col34\" >6.100378</td>\n",
       "      <td id=\"T_b1520_row0_col35\" class=\"data row0 col35\" >2.284912</td>\n",
       "      <td id=\"T_b1520_row0_col36\" class=\"data row0 col36\" >523.546326</td>\n",
       "      <td id=\"T_b1520_row0_col37\" class=\"data row0 col37\" >55.486599</td>\n",
       "      <td id=\"T_b1520_row0_col38\" class=\"data row0 col38\" >36.808594</td>\n",
       "      <td id=\"T_b1520_row0_col39\" class=\"data row0 col39\" >6.486150</td>\n",
       "      <td id=\"T_b1520_row0_col40\" class=\"data row0 col40\" >11.986616</td>\n",
       "      <td id=\"T_b1520_row0_col41\" class=\"data row0 col41\" >6.007990</td>\n",
       "      <td id=\"T_b1520_row0_col42\" class=\"data row0 col42\" >11.836743</td>\n",
       "      <td id=\"T_b1520_row0_col43\" class=\"data row0 col43\" >6.005818</td>\n",
       "      <td id=\"T_b1520_row0_col44\" class=\"data row0 col44\" >11.500771</td>\n",
       "      <td id=\"T_b1520_row0_col45\" class=\"data row0 col45\" >7.101074</td>\n",
       "      <td id=\"T_b1520_row0_col46\" class=\"data row0 col46\" >28.029297</td>\n",
       "      <td id=\"T_b1520_row0_col47\" class=\"data row0 col47\" >19.793808</td>\n",
       "      <td id=\"T_b1520_row0_col48\" class=\"data row0 col48\" >87.107763</td>\n",
       "      <td id=\"T_b1520_row0_col49\" class=\"data row0 col49\" >5.008018</td>\n",
       "      <td id=\"T_b1520_row0_col50\" class=\"data row0 col50\" >0.508728</td>\n",
       "      <td id=\"T_b1520_row0_col51\" class=\"data row0 col51\" >19.154297</td>\n",
       "      <td id=\"T_b1520_row0_col52\" class=\"data row0 col52\" >1.170244</td>\n",
       "      <td id=\"T_b1520_row0_col53\" class=\"data row0 col53\" >999.706909</td>\n",
       "      <td id=\"T_b1520_row0_col54\" class=\"data row0 col54\" >-404.066986</td>\n",
       "      <td id=\"T_b1520_row0_col55\" class=\"data row0 col55\" >1603.011353</td>\n",
       "      <td id=\"T_b1520_row0_col56\" class=\"data row0 col56\" >-434.715027</td>\n",
       "      <td id=\"T_b1520_row0_col57\" class=\"data row0 col57\" >1602.375000</td>\n",
       "      <td id=\"T_b1520_row0_col58\" class=\"data row0 col58\" >-442.204468</td>\n",
       "      <td id=\"T_b1520_row0_col59\" class=\"data row0 col59\" >1598.937256</td>\n",
       "      <td id=\"T_b1520_row0_col60\" class=\"data row0 col60\" >-451.294128</td>\n",
       "      <td id=\"T_b1520_row0_col61\" class=\"data row0 col61\" >1404.472046</td>\n",
       "      <td id=\"T_b1520_row0_col62\" class=\"data row0 col62\" >-455.462982</td>\n",
       "      <td id=\"T_b1520_row0_col63\" class=\"data row0 col63\" >1416.354980</td>\n",
       "      <td id=\"T_b1520_row0_col64\" class=\"data row0 col64\" >-451.939636</td>\n",
       "      <td id=\"T_b1520_row0_col65\" class=\"data row0 col65\" >14.500184</td>\n",
       "      <td id=\"T_b1520_row0_col66\" class=\"data row0 col66\" >4.694824</td>\n",
       "      <td id=\"T_b1520_row0_col67\" class=\"data row0 col67\" >8.764648</td>\n",
       "      <td id=\"T_b1520_row0_col68\" class=\"data row0 col68\" >2.606185</td>\n",
       "      <td id=\"T_b1520_row0_col69\" class=\"data row0 col69\" >25.853109</td>\n",
       "      <td id=\"T_b1520_row0_col70\" class=\"data row0 col70\" >-498.526489</td>\n",
       "      <td id=\"T_b1520_row0_col71\" class=\"data row0 col71\" >23.893660</td>\n",
       "      <td id=\"T_b1520_row0_col72\" class=\"data row0 col72\" >-501.406281</td>\n",
       "      <td id=\"T_b1520_row0_col73\" class=\"data row0 col73\" >23.961798</td>\n",
       "      <td id=\"T_b1520_row0_col74\" class=\"data row0 col74\" >-495.262817</td>\n",
       "      <td id=\"T_b1520_row0_col75\" class=\"data row0 col75\" >21.940409</td>\n",
       "      <td id=\"T_b1520_row0_col76\" class=\"data row0 col76\" >-499.340973</td>\n",
       "      <td id=\"T_b1520_row0_col77\" class=\"data row0 col77\" >14.016835</td>\n",
       "      <td id=\"T_b1520_row0_col78\" class=\"data row0 col78\" >-502.488007</td>\n",
       "      <td id=\"T_b1520_row0_col79\" class=\"data row0 col79\" >12.099931</td>\n",
       "      <td id=\"T_b1520_row0_col80\" class=\"data row0 col80\" >-504.715942</td>\n",
       "      <td id=\"T_b1520_row0_col81\" class=\"data row0 col81\" >9.925633</td>\n",
       "      <td id=\"T_b1520_row0_col82\" class=\"data row0 col82\" >-498.310211</td>\n",
       "      <td id=\"T_b1520_row0_col83\" class=\"data row0 col83\" >8.079666</td>\n",
       "      <td id=\"T_b1520_row0_col84\" class=\"data row0 col84\" >-500.470978</td>\n",
       "      <td id=\"T_b1520_row0_col85\" class=\"data row0 col85\" >14.151341</td>\n",
       "      <td id=\"T_b1520_row0_col86\" class=\"data row0 col86\" >-605.841980</td>\n",
       "    </tr>\n",
       "    <tr>\n",
       "      <th id=\"T_b1520_level0_row1\" class=\"row_heading level0 row1\" >1</th>\n",
       "      <td id=\"T_b1520_row1_col0\" class=\"data row1 col0\" >2016-01-15 01:00:00</td>\n",
       "      <td id=\"T_b1520_row1_col1\" class=\"data row1 col1\" >6.029369</td>\n",
       "      <td id=\"T_b1520_row1_col2\" class=\"data row1 col2\" >9.968944</td>\n",
       "      <td id=\"T_b1520_row1_col3\" class=\"data row1 col3\" >5.257781</td>\n",
       "      <td id=\"T_b1520_row1_col4\" class=\"data row1 col4\" >42.701629</td>\n",
       "      <td id=\"T_b1520_row1_col5\" class=\"data row1 col5\" >69.266198</td>\n",
       "      <td id=\"T_b1520_row1_col6\" class=\"data row1 col6\" >10.462676</td>\n",
       "      <td id=\"T_b1520_row1_col7\" class=\"data row1 col7\" >0.927452</td>\n",
       "      <td id=\"T_b1520_row1_col8\" class=\"data row1 col8\" >16.634514</td>\n",
       "      <td id=\"T_b1520_row1_col9\" class=\"data row1 col9\" >2.224930</td>\n",
       "      <td id=\"T_b1520_row1_col10\" class=\"data row1 col10\" >125.629232</td>\n",
       "      <td id=\"T_b1520_row1_col11\" class=\"data row1 col11\" >10.296251</td>\n",
       "      <td id=\"T_b1520_row1_col12\" class=\"data row1 col12\" >7.250000</td>\n",
       "      <td id=\"T_b1520_row1_col13\" class=\"data row1 col13\" >1.002663</td>\n",
       "      <td id=\"T_b1520_row1_col14\" class=\"data row1 col14\" >8.558743</td>\n",
       "      <td id=\"T_b1520_row1_col15\" class=\"data row1 col15\" >10.497069</td>\n",
       "      <td id=\"T_b1520_row1_col16\" class=\"data row1 col16\" >19.369147</td>\n",
       "      <td id=\"T_b1520_row1_col17\" class=\"data row1 col17\" >34.118526</td>\n",
       "      <td id=\"T_b1520_row1_col18\" class=\"data row1 col18\" >16.250511</td>\n",
       "      <td id=\"T_b1520_row1_col19\" class=\"data row1 col19\" >3.049646</td>\n",
       "      <td id=\"T_b1520_row1_col20\" class=\"data row1 col20\" >6.733907</td>\n",
       "      <td id=\"T_b1520_row1_col21\" class=\"data row1 col21\" >2.353017</td>\n",
       "      <td id=\"T_b1520_row1_col22\" class=\"data row1 col22\" >1576.166671</td>\n",
       "      <td id=\"T_b1520_row1_col23\" class=\"data row1 col23\" >-500.904965</td>\n",
       "      <td id=\"T_b1520_row1_col24\" class=\"data row1 col24\" >1575.950626</td>\n",
       "      <td id=\"T_b1520_row1_col25\" class=\"data row1 col25\" >-499.865889</td>\n",
       "      <td id=\"T_b1520_row1_col26\" class=\"data row1 col26\" >1575.994189</td>\n",
       "      <td id=\"T_b1520_row1_col27\" class=\"data row1 col27\" >-499.315107</td>\n",
       "      <td id=\"T_b1520_row1_col28\" class=\"data row1 col28\" >1574.479259</td>\n",
       "      <td id=\"T_b1520_row1_col29\" class=\"data row1 col29\" >-498.931665</td>\n",
       "      <td id=\"T_b1520_row1_col30\" class=\"data row1 col30\" >42050.861809</td>\n",
       "      <td id=\"T_b1520_row1_col31\" class=\"data row1 col31\" >3498.370979</td>\n",
       "      <td id=\"T_b1520_row1_col32\" class=\"data row1 col32\" >3489.981857</td>\n",
       "      <td id=\"T_b1520_row1_col33\" class=\"data row1 col33\" >2.858998</td>\n",
       "      <td id=\"T_b1520_row1_col34\" class=\"data row1 col34\" >6.161113</td>\n",
       "      <td id=\"T_b1520_row1_col35\" class=\"data row1 col35\" >2.266033</td>\n",
       "      <td id=\"T_b1520_row1_col36\" class=\"data row1 col36\" >525.290581</td>\n",
       "      <td id=\"T_b1520_row1_col37\" class=\"data row1 col37\" >57.278666</td>\n",
       "      <td id=\"T_b1520_row1_col38\" class=\"data row1 col38\" >35.753385</td>\n",
       "      <td id=\"T_b1520_row1_col39\" class=\"data row1 col39\" >6.478583</td>\n",
       "      <td id=\"T_b1520_row1_col40\" class=\"data row1 col40\" >11.971193</td>\n",
       "      <td id=\"T_b1520_row1_col41\" class=\"data row1 col41\" >6.005766</td>\n",
       "      <td id=\"T_b1520_row1_col42\" class=\"data row1 col42\" >11.996163</td>\n",
       "      <td id=\"T_b1520_row1_col43\" class=\"data row1 col43\" >6.012594</td>\n",
       "      <td id=\"T_b1520_row1_col44\" class=\"data row1 col44\" >11.615865</td>\n",
       "      <td id=\"T_b1520_row1_col45\" class=\"data row1 col45\" >7.278807</td>\n",
       "      <td id=\"T_b1520_row1_col46\" class=\"data row1 col46\" >28.067063</td>\n",
       "      <td id=\"T_b1520_row1_col47\" class=\"data row1 col47\" >20.050975</td>\n",
       "      <td id=\"T_b1520_row1_col48\" class=\"data row1 col48\" >86.843261</td>\n",
       "      <td id=\"T_b1520_row1_col49\" class=\"data row1 col49\" >4.955378</td>\n",
       "      <td id=\"T_b1520_row1_col50\" class=\"data row1 col50\" >0.536689</td>\n",
       "      <td id=\"T_b1520_row1_col51\" class=\"data row1 col51\" >18.965234</td>\n",
       "      <td id=\"T_b1520_row1_col52\" class=\"data row1 col52\" >1.184827</td>\n",
       "      <td id=\"T_b1520_row1_col53\" class=\"data row1 col53\" >1000.286398</td>\n",
       "      <td id=\"T_b1520_row1_col54\" class=\"data row1 col54\" >-400.065196</td>\n",
       "      <td id=\"T_b1520_row1_col55\" class=\"data row1 col55\" >1600.754587</td>\n",
       "      <td id=\"T_b1520_row1_col56\" class=\"data row1 col56\" >-449.953435</td>\n",
       "      <td id=\"T_b1520_row1_col57\" class=\"data row1 col57\" >1600.479580</td>\n",
       "      <td id=\"T_b1520_row1_col58\" class=\"data row1 col58\" >-449.830646</td>\n",
       "      <td id=\"T_b1520_row1_col59\" class=\"data row1 col59\" >1600.527589</td>\n",
       "      <td id=\"T_b1520_row1_col60\" class=\"data row1 col60\" >-449.953649</td>\n",
       "      <td id=\"T_b1520_row1_col61\" class=\"data row1 col61\" >1399.227084</td>\n",
       "      <td id=\"T_b1520_row1_col62\" class=\"data row1 col62\" >-450.869848</td>\n",
       "      <td id=\"T_b1520_row1_col63\" class=\"data row1 col63\" >1399.719514</td>\n",
       "      <td id=\"T_b1520_row1_col64\" class=\"data row1 col64\" >-450.119001</td>\n",
       "      <td id=\"T_b1520_row1_col65\" class=\"data row1 col65\" >14.265474</td>\n",
       "      <td id=\"T_b1520_row1_col66\" class=\"data row1 col66\" >4.592547</td>\n",
       "      <td id=\"T_b1520_row1_col67\" class=\"data row1 col67\" >9.001494</td>\n",
       "      <td id=\"T_b1520_row1_col68\" class=\"data row1 col68\" >2.488248</td>\n",
       "      <td id=\"T_b1520_row1_col69\" class=\"data row1 col69\" >25.880539</td>\n",
       "      <td id=\"T_b1520_row1_col70\" class=\"data row1 col70\" >-499.989656</td>\n",
       "      <td id=\"T_b1520_row1_col71\" class=\"data row1 col71\" >23.889530</td>\n",
       "      <td id=\"T_b1520_row1_col72\" class=\"data row1 col72\" >-500.372428</td>\n",
       "      <td id=\"T_b1520_row1_col73\" class=\"data row1 col73\" >23.970550</td>\n",
       "      <td id=\"T_b1520_row1_col74\" class=\"data row1 col74\" >-500.085473</td>\n",
       "      <td id=\"T_b1520_row1_col75\" class=\"data row1 col75\" >22.085714</td>\n",
       "      <td id=\"T_b1520_row1_col76\" class=\"data row1 col76\" >-499.446897</td>\n",
       "      <td id=\"T_b1520_row1_col77\" class=\"data row1 col77\" >13.992281</td>\n",
       "      <td id=\"T_b1520_row1_col78\" class=\"data row1 col78\" >-505.503262</td>\n",
       "      <td id=\"T_b1520_row1_col79\" class=\"data row1 col79\" >11.950531</td>\n",
       "      <td id=\"T_b1520_row1_col80\" class=\"data row1 col80\" >-501.331529</td>\n",
       "      <td id=\"T_b1520_row1_col81\" class=\"data row1 col81\" >10.039245</td>\n",
       "      <td id=\"T_b1520_row1_col82\" class=\"data row1 col82\" >-500.169983</td>\n",
       "      <td id=\"T_b1520_row1_col83\" class=\"data row1 col83\" >7.984757</td>\n",
       "      <td id=\"T_b1520_row1_col84\" class=\"data row1 col84\" >-500.582168</td>\n",
       "      <td id=\"T_b1520_row1_col85\" class=\"data row1 col85\" >13.998353</td>\n",
       "      <td id=\"T_b1520_row1_col86\" class=\"data row1 col86\" >-599.787184</td>\n",
       "    </tr>\n",
       "    <tr>\n",
       "      <th id=\"T_b1520_level0_row2\" class=\"row_heading level0 row2\" >2</th>\n",
       "      <td id=\"T_b1520_row2_col0\" class=\"data row2 col0\" >2016-01-15 02:00:00</td>\n",
       "      <td id=\"T_b1520_row2_col1\" class=\"data row2 col1\" >6.055926</td>\n",
       "      <td id=\"T_b1520_row2_col2\" class=\"data row2 col2\" >10.213995</td>\n",
       "      <td id=\"T_b1520_row2_col3\" class=\"data row2 col3\" >5.383759</td>\n",
       "      <td id=\"T_b1520_row2_col4\" class=\"data row2 col4\" >42.657501</td>\n",
       "      <td id=\"T_b1520_row2_col5\" class=\"data row2 col5\" >68.116445</td>\n",
       "      <td id=\"T_b1520_row2_col6\" class=\"data row2 col6\" >10.507046</td>\n",
       "      <td id=\"T_b1520_row2_col7\" class=\"data row2 col7\" >0.953716</td>\n",
       "      <td id=\"T_b1520_row2_col8\" class=\"data row2 col8\" >16.208849</td>\n",
       "      <td id=\"T_b1520_row2_col9\" class=\"data row2 col9\" >2.257889</td>\n",
       "      <td id=\"T_b1520_row2_col10\" class=\"data row2 col10\" >123.819808</td>\n",
       "      <td id=\"T_b1520_row2_col11\" class=\"data row2 col11\" >11.316280</td>\n",
       "      <td id=\"T_b1520_row2_col12\" class=\"data row2 col12\" >7.250000</td>\n",
       "      <td id=\"T_b1520_row2_col13\" class=\"data row2 col13\" >0.991265</td>\n",
       "      <td id=\"T_b1520_row2_col14\" class=\"data row2 col14\" >8.603505</td>\n",
       "      <td id=\"T_b1520_row2_col15\" class=\"data row2 col15\" >10.354494</td>\n",
       "      <td id=\"T_b1520_row2_col16\" class=\"data row2 col16\" >19.167579</td>\n",
       "      <td id=\"T_b1520_row2_col17\" class=\"data row2 col17\" >33.969464</td>\n",
       "      <td id=\"T_b1520_row2_col18\" class=\"data row2 col18\" >16.491823</td>\n",
       "      <td id=\"T_b1520_row2_col19\" class=\"data row2 col19\" >3.124664</td>\n",
       "      <td id=\"T_b1520_row2_col20\" class=\"data row2 col20\" >6.471768</td>\n",
       "      <td id=\"T_b1520_row2_col21\" class=\"data row2 col21\" >2.416800</td>\n",
       "      <td id=\"T_b1520_row2_col22\" class=\"data row2 col22\" >1601.556163</td>\n",
       "      <td id=\"T_b1520_row2_col23\" class=\"data row2 col23\" >-499.997791</td>\n",
       "      <td id=\"T_b1520_row2_col24\" class=\"data row2 col24\" >1600.386685</td>\n",
       "      <td id=\"T_b1520_row2_col25\" class=\"data row2 col25\" >-500.607762</td>\n",
       "      <td id=\"T_b1520_row2_col26\" class=\"data row2 col26\" >1602.003542</td>\n",
       "      <td id=\"T_b1520_row2_col27\" class=\"data row2 col27\" >-500.870069</td>\n",
       "      <td id=\"T_b1520_row2_col28\" class=\"data row2 col28\" >1599.541515</td>\n",
       "      <td id=\"T_b1520_row2_col29\" class=\"data row2 col29\" >-499.827444</td>\n",
       "      <td id=\"T_b1520_row2_col30\" class=\"data row2 col30\" >42018.101184</td>\n",
       "      <td id=\"T_b1520_row2_col31\" class=\"data row2 col31\" >3495.348910</td>\n",
       "      <td id=\"T_b1520_row2_col32\" class=\"data row2 col32\" >3502.359819</td>\n",
       "      <td id=\"T_b1520_row2_col33\" class=\"data row2 col33\" >2.945989</td>\n",
       "      <td id=\"T_b1520_row2_col34\" class=\"data row2 col34\" >6.116455</td>\n",
       "      <td id=\"T_b1520_row2_col35\" class=\"data row2 col35\" >2.159622</td>\n",
       "      <td id=\"T_b1520_row2_col36\" class=\"data row2 col36\" >530.026610</td>\n",
       "      <td id=\"T_b1520_row2_col37\" class=\"data row2 col37\" >57.510649</td>\n",
       "      <td id=\"T_b1520_row2_col38\" class=\"data row2 col38\" >35.971630</td>\n",
       "      <td id=\"T_b1520_row2_col39\" class=\"data row2 col39\" >6.362222</td>\n",
       "      <td id=\"T_b1520_row2_col40\" class=\"data row2 col40\" >11.920603</td>\n",
       "      <td id=\"T_b1520_row2_col41\" class=\"data row2 col41\" >6.197377</td>\n",
       "      <td id=\"T_b1520_row2_col42\" class=\"data row2 col42\" >11.920305</td>\n",
       "      <td id=\"T_b1520_row2_col43\" class=\"data row2 col43\" >6.204633</td>\n",
       "      <td id=\"T_b1520_row2_col44\" class=\"data row2 col44\" >11.695753</td>\n",
       "      <td id=\"T_b1520_row2_col45\" class=\"data row2 col45\" >7.216833</td>\n",
       "      <td id=\"T_b1520_row2_col46\" class=\"data row2 col46\" >27.454037</td>\n",
       "      <td id=\"T_b1520_row2_col47\" class=\"data row2 col47\" >19.737170</td>\n",
       "      <td id=\"T_b1520_row2_col48\" class=\"data row2 col48\" >86.842308</td>\n",
       "      <td id=\"T_b1520_row2_col49\" class=\"data row2 col49\" >4.843460</td>\n",
       "      <td id=\"T_b1520_row2_col50\" class=\"data row2 col50\" >0.546416</td>\n",
       "      <td id=\"T_b1520_row2_col51\" class=\"data row2 col51\" >18.808533</td>\n",
       "      <td id=\"T_b1520_row2_col52\" class=\"data row2 col52\" >1.162562</td>\n",
       "      <td id=\"T_b1520_row2_col53\" class=\"data row2 col53\" >999.719565</td>\n",
       "      <td id=\"T_b1520_row2_col54\" class=\"data row2 col54\" >-400.074028</td>\n",
       "      <td id=\"T_b1520_row2_col55\" class=\"data row2 col55\" >1599.337330</td>\n",
       "      <td id=\"T_b1520_row2_col56\" class=\"data row2 col56\" >-450.008530</td>\n",
       "      <td id=\"T_b1520_row2_col57\" class=\"data row2 col57\" >1599.672797</td>\n",
       "      <td id=\"T_b1520_row2_col58\" class=\"data row2 col58\" >-449.954491</td>\n",
       "      <td id=\"T_b1520_row2_col59\" class=\"data row2 col59\" >1599.849325</td>\n",
       "      <td id=\"T_b1520_row2_col60\" class=\"data row2 col60\" >-449.954185</td>\n",
       "      <td id=\"T_b1520_row2_col61\" class=\"data row2 col61\" >1399.180945</td>\n",
       "      <td id=\"T_b1520_row2_col62\" class=\"data row2 col62\" >-449.937588</td>\n",
       "      <td id=\"T_b1520_row2_col63\" class=\"data row2 col63\" >1400.316682</td>\n",
       "      <td id=\"T_b1520_row2_col64\" class=\"data row2 col64\" >-450.527147</td>\n",
       "      <td id=\"T_b1520_row2_col65\" class=\"data row2 col65\" >14.115662</td>\n",
       "      <td id=\"T_b1520_row2_col66\" class=\"data row2 col66\" >4.624775</td>\n",
       "      <td id=\"T_b1520_row2_col67\" class=\"data row2 col67\" >8.842896</td>\n",
       "      <td id=\"T_b1520_row2_col68\" class=\"data row2 col68\" >2.458187</td>\n",
       "      <td id=\"T_b1520_row2_col69\" class=\"data row2 col69\" >26.005245</td>\n",
       "      <td id=\"T_b1520_row2_col70\" class=\"data row2 col70\" >-499.929616</td>\n",
       "      <td id=\"T_b1520_row2_col71\" class=\"data row2 col71\" >23.886657</td>\n",
       "      <td id=\"T_b1520_row2_col72\" class=\"data row2 col72\" >-499.951928</td>\n",
       "      <td id=\"T_b1520_row2_col73\" class=\"data row2 col73\" >23.913535</td>\n",
       "      <td id=\"T_b1520_row2_col74\" class=\"data row2 col74\" >-499.442343</td>\n",
       "      <td id=\"T_b1520_row2_col75\" class=\"data row2 col75\" >23.957717</td>\n",
       "      <td id=\"T_b1520_row2_col76\" class=\"data row2 col76\" >-499.901982</td>\n",
       "      <td id=\"T_b1520_row2_col77\" class=\"data row2 col77\" >14.015015</td>\n",
       "      <td id=\"T_b1520_row2_col78\" class=\"data row2 col78\" >-502.520901</td>\n",
       "      <td id=\"T_b1520_row2_col79\" class=\"data row2 col79\" >11.912783</td>\n",
       "      <td id=\"T_b1520_row2_col80\" class=\"data row2 col80\" >-501.133383</td>\n",
       "      <td id=\"T_b1520_row2_col81\" class=\"data row2 col81\" >10.070913</td>\n",
       "      <td id=\"T_b1520_row2_col82\" class=\"data row2 col82\" >-500.129135</td>\n",
       "      <td id=\"T_b1520_row2_col83\" class=\"data row2 col83\" >8.013877</td>\n",
       "      <td id=\"T_b1520_row2_col84\" class=\"data row2 col84\" >-500.517572</td>\n",
       "      <td id=\"T_b1520_row2_col85\" class=\"data row2 col85\" >14.028663</td>\n",
       "      <td id=\"T_b1520_row2_col86\" class=\"data row2 col86\" >-601.427363</td>\n",
       "    </tr>\n",
       "    <tr>\n",
       "      <th id=\"T_b1520_level0_row3\" class=\"row_heading level0 row3\" >3</th>\n",
       "      <td id=\"T_b1520_row3_col0\" class=\"data row3 col0\" >2016-01-15 03:00:00</td>\n",
       "      <td id=\"T_b1520_row3_col1\" class=\"data row3 col1\" >6.047977</td>\n",
       "      <td id=\"T_b1520_row3_col2\" class=\"data row3 col2\" >9.977019</td>\n",
       "      <td id=\"T_b1520_row3_col3\" class=\"data row3 col3\" >4.858634</td>\n",
       "      <td id=\"T_b1520_row3_col4\" class=\"data row3 col4\" >42.689819</td>\n",
       "      <td id=\"T_b1520_row3_col5\" class=\"data row3 col5\" >68.347543</td>\n",
       "      <td id=\"T_b1520_row3_col6\" class=\"data row3 col6\" >10.422762</td>\n",
       "      <td id=\"T_b1520_row3_col7\" class=\"data row3 col7\" >0.883763</td>\n",
       "      <td id=\"T_b1520_row3_col8\" class=\"data row3 col8\" >16.532835</td>\n",
       "      <td id=\"T_b1520_row3_col9\" class=\"data row3 col9\" >2.146849</td>\n",
       "      <td id=\"T_b1520_row3_col10\" class=\"data row3 col10\" >122.270188</td>\n",
       "      <td id=\"T_b1520_row3_col11\" class=\"data row3 col11\" >11.322140</td>\n",
       "      <td id=\"T_b1520_row3_col12\" class=\"data row3 col12\" >7.250000</td>\n",
       "      <td id=\"T_b1520_row3_col13\" class=\"data row3 col13\" >0.996739</td>\n",
       "      <td id=\"T_b1520_row3_col14\" class=\"data row3 col14\" >7.221879</td>\n",
       "      <td id=\"T_b1520_row3_col15\" class=\"data row3 col15\" >8.496563</td>\n",
       "      <td id=\"T_b1520_row3_col16\" class=\"data row3 col16\" >15.978538</td>\n",
       "      <td id=\"T_b1520_row3_col17\" class=\"data row3 col17\" >28.260743</td>\n",
       "      <td id=\"T_b1520_row3_col18\" class=\"data row3 col18\" >16.024359</td>\n",
       "      <td id=\"T_b1520_row3_col19\" class=\"data row3 col19\" >2.960362</td>\n",
       "      <td id=\"T_b1520_row3_col20\" class=\"data row3 col20\" >6.843791</td>\n",
       "      <td id=\"T_b1520_row3_col21\" class=\"data row3 col21\" >2.262051</td>\n",
       "      <td id=\"T_b1520_row3_col22\" class=\"data row3 col22\" >1599.968720</td>\n",
       "      <td id=\"T_b1520_row3_col23\" class=\"data row3 col23\" >-500.951778</td>\n",
       "      <td id=\"T_b1520_row3_col24\" class=\"data row3 col24\" >1600.659236</td>\n",
       "      <td id=\"T_b1520_row3_col25\" class=\"data row3 col25\" >-499.677094</td>\n",
       "      <td id=\"T_b1520_row3_col26\" class=\"data row3 col26\" >1600.304144</td>\n",
       "      <td id=\"T_b1520_row3_col27\" class=\"data row3 col27\" >-500.727997</td>\n",
       "      <td id=\"T_b1520_row3_col28\" class=\"data row3 col28\" >1600.449520</td>\n",
       "      <td id=\"T_b1520_row3_col29\" class=\"data row3 col29\" >-500.052575</td>\n",
       "      <td id=\"T_b1520_row3_col30\" class=\"data row3 col30\" >42029.447991</td>\n",
       "      <td id=\"T_b1520_row3_col31\" class=\"data row3 col31\" >3498.578313</td>\n",
       "      <td id=\"T_b1520_row3_col32\" class=\"data row3 col32\" >3499.162912</td>\n",
       "      <td id=\"T_b1520_row3_col33\" class=\"data row3 col33\" >3.002340</td>\n",
       "      <td id=\"T_b1520_row3_col34\" class=\"data row3 col34\" >6.043309</td>\n",
       "      <td id=\"T_b1520_row3_col35\" class=\"data row3 col35\" >2.037807</td>\n",
       "      <td id=\"T_b1520_row3_col36\" class=\"data row3 col36\" >542.590390</td>\n",
       "      <td id=\"T_b1520_row3_col37\" class=\"data row3 col37\" >57.792734</td>\n",
       "      <td id=\"T_b1520_row3_col38\" class=\"data row3 col38\" >36.862241</td>\n",
       "      <td id=\"T_b1520_row3_col39\" class=\"data row3 col39\" >6.118189</td>\n",
       "      <td id=\"T_b1520_row3_col40\" class=\"data row3 col40\" >11.630094</td>\n",
       "      <td id=\"T_b1520_row3_col41\" class=\"data row3 col41\" >6.203177</td>\n",
       "      <td id=\"T_b1520_row3_col42\" class=\"data row3 col42\" >11.692450</td>\n",
       "      <td id=\"T_b1520_row3_col43\" class=\"data row3 col43\" >6.196578</td>\n",
       "      <td id=\"T_b1520_row3_col44\" class=\"data row3 col44\" >11.915047</td>\n",
       "      <td id=\"T_b1520_row3_col45\" class=\"data row3 col45\" >7.175616</td>\n",
       "      <td id=\"T_b1520_row3_col46\" class=\"data row3 col46\" >27.341277</td>\n",
       "      <td id=\"T_b1520_row3_col47\" class=\"data row3 col47\" >19.320810</td>\n",
       "      <td id=\"T_b1520_row3_col48\" class=\"data row3 col48\" >87.226430</td>\n",
       "      <td id=\"T_b1520_row3_col49\" class=\"data row3 col49\" >4.655288</td>\n",
       "      <td id=\"T_b1520_row3_col50\" class=\"data row3 col50\" >0.542525</td>\n",
       "      <td id=\"T_b1520_row3_col51\" class=\"data row3 col51\" >19.330200</td>\n",
       "      <td id=\"T_b1520_row3_col52\" class=\"data row3 col52\" >1.079755</td>\n",
       "      <td id=\"T_b1520_row3_col53\" class=\"data row3 col53\" >999.814770</td>\n",
       "      <td id=\"T_b1520_row3_col54\" class=\"data row3 col54\" >-400.200179</td>\n",
       "      <td id=\"T_b1520_row3_col55\" class=\"data row3 col55\" >1600.059442</td>\n",
       "      <td id=\"T_b1520_row3_col56\" class=\"data row3 col56\" >-450.619948</td>\n",
       "      <td id=\"T_b1520_row3_col57\" class=\"data row3 col57\" >1600.012842</td>\n",
       "      <td id=\"T_b1520_row3_col58\" class=\"data row3 col58\" >-449.910497</td>\n",
       "      <td id=\"T_b1520_row3_col59\" class=\"data row3 col59\" >1597.725177</td>\n",
       "      <td id=\"T_b1520_row3_col60\" class=\"data row3 col60\" >-450.130127</td>\n",
       "      <td id=\"T_b1520_row3_col61\" class=\"data row3 col61\" >1400.943157</td>\n",
       "      <td id=\"T_b1520_row3_col62\" class=\"data row3 col62\" >-450.030142</td>\n",
       "      <td id=\"T_b1520_row3_col63\" class=\"data row3 col63\" >1400.234743</td>\n",
       "      <td id=\"T_b1520_row3_col64\" class=\"data row3 col64\" >-449.790835</td>\n",
       "      <td id=\"T_b1520_row3_col65\" class=\"data row3 col65\" >13.732071</td>\n",
       "      <td id=\"T_b1520_row3_col66\" class=\"data row3 col66\" >4.482453</td>\n",
       "      <td id=\"T_b1520_row3_col67\" class=\"data row3 col67\" >9.122857</td>\n",
       "      <td id=\"T_b1520_row3_col68\" class=\"data row3 col68\" >2.322062</td>\n",
       "      <td id=\"T_b1520_row3_col69\" class=\"data row3 col69\" >25.942508</td>\n",
       "      <td id=\"T_b1520_row3_col70\" class=\"data row3 col70\" >-499.176749</td>\n",
       "      <td id=\"T_b1520_row3_col71\" class=\"data row3 col71\" >23.955516</td>\n",
       "      <td id=\"T_b1520_row3_col72\" class=\"data row3 col72\" >-499.848796</td>\n",
       "      <td id=\"T_b1520_row3_col73\" class=\"data row3 col73\" >23.966838</td>\n",
       "      <td id=\"T_b1520_row3_col74\" class=\"data row3 col74\" >-500.008812</td>\n",
       "      <td id=\"T_b1520_row3_col75\" class=\"data row3 col75\" >23.954443</td>\n",
       "      <td id=\"T_b1520_row3_col76\" class=\"data row3 col76\" >-499.944710</td>\n",
       "      <td id=\"T_b1520_row3_col77\" class=\"data row3 col77\" >14.036510</td>\n",
       "      <td id=\"T_b1520_row3_col78\" class=\"data row3 col78\" >-500.857308</td>\n",
       "      <td id=\"T_b1520_row3_col79\" class=\"data row3 col79\" >11.999550</td>\n",
       "      <td id=\"T_b1520_row3_col80\" class=\"data row3 col80\" >-501.193686</td>\n",
       "      <td id=\"T_b1520_row3_col81\" class=\"data row3 col81\" >9.970366</td>\n",
       "      <td id=\"T_b1520_row3_col82\" class=\"data row3 col82\" >-499.201640</td>\n",
       "      <td id=\"T_b1520_row3_col83\" class=\"data row3 col83\" >7.977324</td>\n",
       "      <td id=\"T_b1520_row3_col84\" class=\"data row3 col84\" >-500.255908</td>\n",
       "      <td id=\"T_b1520_row3_col85\" class=\"data row3 col85\" >14.005551</td>\n",
       "      <td id=\"T_b1520_row3_col86\" class=\"data row3 col86\" >-599.996129</td>\n",
       "    </tr>\n",
       "    <tr>\n",
       "      <th id=\"T_b1520_level0_row4\" class=\"row_heading level0 row4\" >4</th>\n",
       "      <td id=\"T_b1520_row4_col0\" class=\"data row4 col0\" >2016-01-15 04:00:00</td>\n",
       "      <td id=\"T_b1520_row4_col1\" class=\"data row4 col1\" >6.148599</td>\n",
       "      <td id=\"T_b1520_row4_col2\" class=\"data row4 col2\" >10.142511</td>\n",
       "      <td id=\"T_b1520_row4_col3\" class=\"data row4 col3\" >4.939416</td>\n",
       "      <td id=\"T_b1520_row4_col4\" class=\"data row4 col4\" >42.774141</td>\n",
       "      <td id=\"T_b1520_row4_col5\" class=\"data row4 col5\" >66.927016</td>\n",
       "      <td id=\"T_b1520_row4_col6\" class=\"data row4 col6\" >10.360302</td>\n",
       "      <td id=\"T_b1520_row4_col7\" class=\"data row4 col7\" >0.792826</td>\n",
       "      <td id=\"T_b1520_row4_col8\" class=\"data row4 col8\" >16.525686</td>\n",
       "      <td id=\"T_b1520_row4_col9\" class=\"data row4 col9\" >2.055292</td>\n",
       "      <td id=\"T_b1520_row4_col10\" class=\"data row4 col10\" >117.988169</td>\n",
       "      <td id=\"T_b1520_row4_col11\" class=\"data row4 col11\" >11.913613</td>\n",
       "      <td id=\"T_b1520_row4_col12\" class=\"data row4 col12\" >7.250000</td>\n",
       "      <td id=\"T_b1520_row4_col13\" class=\"data row4 col13\" >1.009869</td>\n",
       "      <td id=\"T_b1520_row4_col14\" class=\"data row4 col14\" >9.089428</td>\n",
       "      <td id=\"T_b1520_row4_col15\" class=\"data row4 col15\" >9.986786</td>\n",
       "      <td id=\"T_b1520_row4_col16\" class=\"data row4 col16\" >19.199864</td>\n",
       "      <td id=\"T_b1520_row4_col17\" class=\"data row4 col17\" >33.044932</td>\n",
       "      <td id=\"T_b1520_row4_col18\" class=\"data row4 col18\" >16.480185</td>\n",
       "      <td id=\"T_b1520_row4_col19\" class=\"data row4 col19\" >3.112100</td>\n",
       "      <td id=\"T_b1520_row4_col20\" class=\"data row4 col20\" >6.550154</td>\n",
       "      <td id=\"T_b1520_row4_col21\" class=\"data row4 col21\" >2.277073</td>\n",
       "      <td id=\"T_b1520_row4_col22\" class=\"data row4 col22\" >1601.339707</td>\n",
       "      <td id=\"T_b1520_row4_col23\" class=\"data row4 col23\" >-498.975456</td>\n",
       "      <td id=\"T_b1520_row4_col24\" class=\"data row4 col24\" >1601.437854</td>\n",
       "      <td id=\"T_b1520_row4_col25\" class=\"data row4 col25\" >-500.323246</td>\n",
       "      <td id=\"T_b1520_row4_col26\" class=\"data row4 col26\" >1599.581894</td>\n",
       "      <td id=\"T_b1520_row4_col27\" class=\"data row4 col27\" >-500.888152</td>\n",
       "      <td id=\"T_b1520_row4_col28\" class=\"data row4 col28\" >1602.649541</td>\n",
       "      <td id=\"T_b1520_row4_col29\" class=\"data row4 col29\" >-500.593010</td>\n",
       "      <td id=\"T_b1520_row4_col30\" class=\"data row4 col30\" >42125.354245</td>\n",
       "      <td id=\"T_b1520_row4_col31\" class=\"data row4 col31\" >3494.800771</td>\n",
       "      <td id=\"T_b1520_row4_col32\" class=\"data row4 col32\" >3506.679315</td>\n",
       "      <td id=\"T_b1520_row4_col33\" class=\"data row4 col33\" >3.169615</td>\n",
       "      <td id=\"T_b1520_row4_col34\" class=\"data row4 col34\" >6.060915</td>\n",
       "      <td id=\"T_b1520_row4_col35\" class=\"data row4 col35\" >1.786875</td>\n",
       "      <td id=\"T_b1520_row4_col36\" class=\"data row4 col36\" >540.531893</td>\n",
       "      <td id=\"T_b1520_row4_col37\" class=\"data row4 col37\" >56.047189</td>\n",
       "      <td id=\"T_b1520_row4_col38\" class=\"data row4 col38\" >34.347666</td>\n",
       "      <td id=\"T_b1520_row4_col39\" class=\"data row4 col39\" >5.663707</td>\n",
       "      <td id=\"T_b1520_row4_col40\" class=\"data row4 col40\" >10.957755</td>\n",
       "      <td id=\"T_b1520_row4_col41\" class=\"data row4 col41\" >6.198826</td>\n",
       "      <td id=\"T_b1520_row4_col42\" class=\"data row4 col42\" >10.960521</td>\n",
       "      <td id=\"T_b1520_row4_col43\" class=\"data row4 col43\" >6.194897</td>\n",
       "      <td id=\"T_b1520_row4_col44\" class=\"data row4 col44\" >12.411054</td>\n",
       "      <td id=\"T_b1520_row4_col45\" class=\"data row4 col45\" >7.240205</td>\n",
       "      <td id=\"T_b1520_row4_col46\" class=\"data row4 col46\" >27.041023</td>\n",
       "      <td id=\"T_b1520_row4_col47\" class=\"data row4 col47\" >19.216101</td>\n",
       "      <td id=\"T_b1520_row4_col48\" class=\"data row4 col48\" >86.688794</td>\n",
       "      <td id=\"T_b1520_row4_col49\" class=\"data row4 col49\" >4.552800</td>\n",
       "      <td id=\"T_b1520_row4_col50\" class=\"data row4 col50\" >0.515438</td>\n",
       "      <td id=\"T_b1520_row4_col51\" class=\"data row4 col51\" >19.267422</td>\n",
       "      <td id=\"T_b1520_row4_col52\" class=\"data row4 col52\" >1.012642</td>\n",
       "      <td id=\"T_b1520_row4_col53\" class=\"data row4 col53\" >999.678690</td>\n",
       "      <td id=\"T_b1520_row4_col54\" class=\"data row4 col54\" >-399.752729</td>\n",
       "      <td id=\"T_b1520_row4_col55\" class=\"data row4 col55\" >1600.208824</td>\n",
       "      <td id=\"T_b1520_row4_col56\" class=\"data row4 col56\" >-449.599614</td>\n",
       "      <td id=\"T_b1520_row4_col57\" class=\"data row4 col57\" >1600.357732</td>\n",
       "      <td id=\"T_b1520_row4_col58\" class=\"data row4 col58\" >-450.034364</td>\n",
       "      <td id=\"T_b1520_row4_col59\" class=\"data row4 col59\" >1599.759049</td>\n",
       "      <td id=\"T_b1520_row4_col60\" class=\"data row4 col60\" >-449.909799</td>\n",
       "      <td id=\"T_b1520_row4_col61\" class=\"data row4 col61\" >1401.560902</td>\n",
       "      <td id=\"T_b1520_row4_col62\" class=\"data row4 col62\" >-448.877187</td>\n",
       "      <td id=\"T_b1520_row4_col63\" class=\"data row4 col63\" >1401.160227</td>\n",
       "      <td id=\"T_b1520_row4_col64\" class=\"data row4 col64\" >-450.407128</td>\n",
       "      <td id=\"T_b1520_row4_col65\" class=\"data row4 col65\" >14.079996</td>\n",
       "      <td id=\"T_b1520_row4_col66\" class=\"data row4 col66\" >4.470737</td>\n",
       "      <td id=\"T_b1520_row4_col67\" class=\"data row4 col67\" >8.871028</td>\n",
       "      <td id=\"T_b1520_row4_col68\" class=\"data row4 col68\" >2.330448</td>\n",
       "      <td id=\"T_b1520_row4_col69\" class=\"data row4 col69\" >26.024787</td>\n",
       "      <td id=\"T_b1520_row4_col70\" class=\"data row4 col70\" >-500.279091</td>\n",
       "      <td id=\"T_b1520_row4_col71\" class=\"data row4 col71\" >23.955345</td>\n",
       "      <td id=\"T_b1520_row4_col72\" class=\"data row4 col72\" >-500.593614</td>\n",
       "      <td id=\"T_b1520_row4_col73\" class=\"data row4 col73\" >23.985703</td>\n",
       "      <td id=\"T_b1520_row4_col74\" class=\"data row4 col74\" >-500.083811</td>\n",
       "      <td id=\"T_b1520_row4_col75\" class=\"data row4 col75\" >23.958945</td>\n",
       "      <td id=\"T_b1520_row4_col76\" class=\"data row4 col76\" >-499.990309</td>\n",
       "      <td id=\"T_b1520_row4_col77\" class=\"data row4 col77\" >14.027298</td>\n",
       "      <td id=\"T_b1520_row4_col78\" class=\"data row4 col78\" >-499.838632</td>\n",
       "      <td id=\"T_b1520_row4_col79\" class=\"data row4 col79\" >11.953070</td>\n",
       "      <td id=\"T_b1520_row4_col80\" class=\"data row4 col80\" >-501.053894</td>\n",
       "      <td id=\"T_b1520_row4_col81\" class=\"data row4 col81\" >9.925709</td>\n",
       "      <td id=\"T_b1520_row4_col82\" class=\"data row4 col82\" >-501.686727</td>\n",
       "      <td id=\"T_b1520_row4_col83\" class=\"data row4 col83\" >7.894242</td>\n",
       "      <td id=\"T_b1520_row4_col84\" class=\"data row4 col84\" >-500.356035</td>\n",
       "      <td id=\"T_b1520_row4_col85\" class=\"data row4 col85\" >13.996647</td>\n",
       "      <td id=\"T_b1520_row4_col86\" class=\"data row4 col86\" >-601.496691</td>\n",
       "    </tr>\n",
       "  </tbody>\n",
       "</table>\n"
      ],
      "text/plain": [
       "<pandas.io.formats.style.Styler at 0x29ee87e3970>"
      ]
     },
     "metadata": {},
     "output_type": "display_data"
    },
    {
     "name": "stdout",
     "output_type": "stream",
     "text": [
      "<class 'pandas.core.frame.DataFrame'>\n",
      "RangeIndex: 14149 entries, 0 to 14148\n",
      "Data columns (total 87 columns):\n",
      " #   Column                                              Non-Null Count  Dtype  \n",
      "---  ------                                              --------------  -----  \n",
      " 0   date                                                14149 non-null  object \n",
      " 1   final.output.concentrate_ag                         14148 non-null  float64\n",
      " 2   final.output.concentrate_pb                         14148 non-null  float64\n",
      " 3   final.output.concentrate_sol                        13938 non-null  float64\n",
      " 4   final.output.concentrate_au                         14149 non-null  float64\n",
      " 5   final.output.recovery                               14149 non-null  float64\n",
      " 6   final.output.tail_ag                                14149 non-null  float64\n",
      " 7   final.output.tail_pb                                14049 non-null  float64\n",
      " 8   final.output.tail_sol                               14144 non-null  float64\n",
      " 9   final.output.tail_au                                14149 non-null  float64\n",
      " 10  primary_cleaner.input.sulfate                       14129 non-null  float64\n",
      " 11  primary_cleaner.input.depressant                    14117 non-null  float64\n",
      " 12  primary_cleaner.input.feed_size                     14149 non-null  float64\n",
      " 13  primary_cleaner.input.xanthate                      14049 non-null  float64\n",
      " 14  primary_cleaner.output.concentrate_ag               14149 non-null  float64\n",
      " 15  primary_cleaner.output.concentrate_pb               14063 non-null  float64\n",
      " 16  primary_cleaner.output.concentrate_sol              13863 non-null  float64\n",
      " 17  primary_cleaner.output.concentrate_au               14149 non-null  float64\n",
      " 18  primary_cleaner.output.tail_ag                      14148 non-null  float64\n",
      " 19  primary_cleaner.output.tail_pb                      14134 non-null  float64\n",
      " 20  primary_cleaner.output.tail_sol                     14103 non-null  float64\n",
      " 21  primary_cleaner.output.tail_au                      14149 non-null  float64\n",
      " 22  primary_cleaner.state.floatbank8_a_air              14145 non-null  float64\n",
      " 23  primary_cleaner.state.floatbank8_a_level            14148 non-null  float64\n",
      " 24  primary_cleaner.state.floatbank8_b_air              14145 non-null  float64\n",
      " 25  primary_cleaner.state.floatbank8_b_level            14148 non-null  float64\n",
      " 26  primary_cleaner.state.floatbank8_c_air              14147 non-null  float64\n",
      " 27  primary_cleaner.state.floatbank8_c_level            14148 non-null  float64\n",
      " 28  primary_cleaner.state.floatbank8_d_air              14146 non-null  float64\n",
      " 29  primary_cleaner.state.floatbank8_d_level            14148 non-null  float64\n",
      " 30  rougher.calculation.sulfate_to_au_concentrate       14148 non-null  float64\n",
      " 31  rougher.calculation.floatbank10_sulfate_to_au_feed  14148 non-null  float64\n",
      " 32  rougher.calculation.floatbank11_sulfate_to_au_feed  14148 non-null  float64\n",
      " 33  rougher.calculation.au_pb_ratio                     14149 non-null  float64\n",
      " 34  rougher.input.feed_ag                               14149 non-null  float64\n",
      " 35  rougher.input.feed_pb                               14049 non-null  float64\n",
      " 36  rougher.input.feed_rate                             14141 non-null  float64\n",
      " 37  rougher.input.feed_size                             14005 non-null  float64\n",
      " 38  rougher.input.feed_sol                              14071 non-null  float64\n",
      " 39  rougher.input.feed_au                               14149 non-null  float64\n",
      " 40  rougher.input.floatbank10_sulfate                   14120 non-null  float64\n",
      " 41  rougher.input.floatbank10_xanthate                  14141 non-null  float64\n",
      " 42  rougher.input.floatbank11_sulfate                   14113 non-null  float64\n",
      " 43  rougher.input.floatbank11_xanthate                  13721 non-null  float64\n",
      " 44  rougher.output.concentrate_ag                       14149 non-null  float64\n",
      " 45  rougher.output.concentrate_pb                       14149 non-null  float64\n",
      " 46  rougher.output.concentrate_sol                      14127 non-null  float64\n",
      " 47  rougher.output.concentrate_au                       14149 non-null  float64\n",
      " 48  rougher.output.recovery                             14149 non-null  float64\n",
      " 49  rougher.output.tail_ag                              14148 non-null  float64\n",
      " 50  rougher.output.tail_pb                              14149 non-null  float64\n",
      " 51  rougher.output.tail_sol                             14149 non-null  float64\n",
      " 52  rougher.output.tail_au                              14149 non-null  float64\n",
      " 53  rougher.state.floatbank10_a_air                     14148 non-null  float64\n",
      " 54  rougher.state.floatbank10_a_level                   14148 non-null  float64\n",
      " 55  rougher.state.floatbank10_b_air                     14148 non-null  float64\n",
      " 56  rougher.state.floatbank10_b_level                   14148 non-null  float64\n",
      " 57  rougher.state.floatbank10_c_air                     14148 non-null  float64\n",
      " 58  rougher.state.floatbank10_c_level                   14148 non-null  float64\n",
      " 59  rougher.state.floatbank10_d_air                     14149 non-null  float64\n",
      " 60  rougher.state.floatbank10_d_level                   14149 non-null  float64\n",
      " 61  rougher.state.floatbank10_e_air                     13713 non-null  float64\n",
      " 62  rougher.state.floatbank10_e_level                   14149 non-null  float64\n",
      " 63  rougher.state.floatbank10_f_air                     14149 non-null  float64\n",
      " 64  rougher.state.floatbank10_f_level                   14149 non-null  float64\n",
      " 65  secondary_cleaner.output.tail_ag                    14147 non-null  float64\n",
      " 66  secondary_cleaner.output.tail_pb                    14139 non-null  float64\n",
      " 67  secondary_cleaner.output.tail_sol                   12544 non-null  float64\n",
      " 68  secondary_cleaner.output.tail_au                    14149 non-null  float64\n",
      " 69  secondary_cleaner.state.floatbank2_a_air            13932 non-null  float64\n",
      " 70  secondary_cleaner.state.floatbank2_a_level          14148 non-null  float64\n",
      " 71  secondary_cleaner.state.floatbank2_b_air            14128 non-null  float64\n",
      " 72  secondary_cleaner.state.floatbank2_b_level          14148 non-null  float64\n",
      " 73  secondary_cleaner.state.floatbank3_a_air            14145 non-null  float64\n",
      " 74  secondary_cleaner.state.floatbank3_a_level          14148 non-null  float64\n",
      " 75  secondary_cleaner.state.floatbank3_b_air            14148 non-null  float64\n",
      " 76  secondary_cleaner.state.floatbank3_b_level          14148 non-null  float64\n",
      " 77  secondary_cleaner.state.floatbank4_a_air            14143 non-null  float64\n",
      " 78  secondary_cleaner.state.floatbank4_a_level          14148 non-null  float64\n",
      " 79  secondary_cleaner.state.floatbank4_b_air            14148 non-null  float64\n",
      " 80  secondary_cleaner.state.floatbank4_b_level          14148 non-null  float64\n",
      " 81  secondary_cleaner.state.floatbank5_a_air            14148 non-null  float64\n",
      " 82  secondary_cleaner.state.floatbank5_a_level          14148 non-null  float64\n",
      " 83  secondary_cleaner.state.floatbank5_b_air            14148 non-null  float64\n",
      " 84  secondary_cleaner.state.floatbank5_b_level          14148 non-null  float64\n",
      " 85  secondary_cleaner.state.floatbank6_a_air            14147 non-null  float64\n",
      " 86  secondary_cleaner.state.floatbank6_a_level          14148 non-null  float64\n",
      "dtypes: float64(86), object(1)\n",
      "memory usage: 9.4+ MB\n"
     ]
    },
    {
     "data": {
      "text/plain": [
       "None"
      ]
     },
     "metadata": {},
     "output_type": "display_data"
    },
    {
     "name": "stdout",
     "output_type": "stream",
     "text": [
      "====================================================================================================\n"
     ]
    },
    {
     "data": {
      "text/html": [
       "<style type=\"text/css\">\n",
       "#T_cb21d_ td:hover {\n",
       "  background: #9E4447;\n",
       "  color: #ffffff;\n",
       "}\n",
       "#T_cb21d_ tr:nth-of-type(even) {\n",
       "  background: #D9D9D9;\n",
       "  color: black;\n",
       "}\n",
       "#T_cb21d_ tr:nth-of-type(odd) {\n",
       "  background: #ffffff;\n",
       "  color: #363636;\n",
       "}\n",
       "#T_cb21d_ th {\n",
       "  background: #363636;\n",
       "  color: #ffffff;\n",
       "  text-align: center;\n",
       "}\n",
       "#T_cb21d_ tr:hover {\n",
       "  background: #808080;\n",
       "  color: #ffffff;\n",
       "}\n",
       "#T_cb21d_ td {\n",
       "  border: 1px dashed #363636;\n",
       "}\n",
       "#T_cb21d_  {\n",
       "  border: 2px solid #363636;\n",
       "}\n",
       "#T_cb21d_ caption {\n",
       "  color: #363636;\n",
       "  font-size: 15px;\n",
       "}\n",
       "</style>\n",
       "<table id=\"T_cb21d_\">\n",
       "  <caption>Набор данных data_test</caption>\n",
       "  <thead>\n",
       "    <tr>\n",
       "      <th class=\"blank level0\" >&nbsp;</th>\n",
       "      <th class=\"col_heading level0 col0\" >date</th>\n",
       "      <th class=\"col_heading level0 col1\" >primary_cleaner.input.sulfate</th>\n",
       "      <th class=\"col_heading level0 col2\" >primary_cleaner.input.depressant</th>\n",
       "      <th class=\"col_heading level0 col3\" >primary_cleaner.input.feed_size</th>\n",
       "      <th class=\"col_heading level0 col4\" >primary_cleaner.input.xanthate</th>\n",
       "      <th class=\"col_heading level0 col5\" >primary_cleaner.state.floatbank8_a_air</th>\n",
       "      <th class=\"col_heading level0 col6\" >primary_cleaner.state.floatbank8_a_level</th>\n",
       "      <th class=\"col_heading level0 col7\" >primary_cleaner.state.floatbank8_b_air</th>\n",
       "      <th class=\"col_heading level0 col8\" >primary_cleaner.state.floatbank8_b_level</th>\n",
       "      <th class=\"col_heading level0 col9\" >primary_cleaner.state.floatbank8_c_air</th>\n",
       "      <th class=\"col_heading level0 col10\" >primary_cleaner.state.floatbank8_c_level</th>\n",
       "      <th class=\"col_heading level0 col11\" >primary_cleaner.state.floatbank8_d_air</th>\n",
       "      <th class=\"col_heading level0 col12\" >primary_cleaner.state.floatbank8_d_level</th>\n",
       "      <th class=\"col_heading level0 col13\" >rougher.input.feed_ag</th>\n",
       "      <th class=\"col_heading level0 col14\" >rougher.input.feed_pb</th>\n",
       "      <th class=\"col_heading level0 col15\" >rougher.input.feed_rate</th>\n",
       "      <th class=\"col_heading level0 col16\" >rougher.input.feed_size</th>\n",
       "      <th class=\"col_heading level0 col17\" >rougher.input.feed_sol</th>\n",
       "      <th class=\"col_heading level0 col18\" >rougher.input.feed_au</th>\n",
       "      <th class=\"col_heading level0 col19\" >rougher.input.floatbank10_sulfate</th>\n",
       "      <th class=\"col_heading level0 col20\" >rougher.input.floatbank10_xanthate</th>\n",
       "      <th class=\"col_heading level0 col21\" >rougher.input.floatbank11_sulfate</th>\n",
       "      <th class=\"col_heading level0 col22\" >rougher.input.floatbank11_xanthate</th>\n",
       "      <th class=\"col_heading level0 col23\" >rougher.state.floatbank10_a_air</th>\n",
       "      <th class=\"col_heading level0 col24\" >rougher.state.floatbank10_a_level</th>\n",
       "      <th class=\"col_heading level0 col25\" >rougher.state.floatbank10_b_air</th>\n",
       "      <th class=\"col_heading level0 col26\" >rougher.state.floatbank10_b_level</th>\n",
       "      <th class=\"col_heading level0 col27\" >rougher.state.floatbank10_c_air</th>\n",
       "      <th class=\"col_heading level0 col28\" >rougher.state.floatbank10_c_level</th>\n",
       "      <th class=\"col_heading level0 col29\" >rougher.state.floatbank10_d_air</th>\n",
       "      <th class=\"col_heading level0 col30\" >rougher.state.floatbank10_d_level</th>\n",
       "      <th class=\"col_heading level0 col31\" >rougher.state.floatbank10_e_air</th>\n",
       "      <th class=\"col_heading level0 col32\" >rougher.state.floatbank10_e_level</th>\n",
       "      <th class=\"col_heading level0 col33\" >rougher.state.floatbank10_f_air</th>\n",
       "      <th class=\"col_heading level0 col34\" >rougher.state.floatbank10_f_level</th>\n",
       "      <th class=\"col_heading level0 col35\" >secondary_cleaner.state.floatbank2_a_air</th>\n",
       "      <th class=\"col_heading level0 col36\" >secondary_cleaner.state.floatbank2_a_level</th>\n",
       "      <th class=\"col_heading level0 col37\" >secondary_cleaner.state.floatbank2_b_air</th>\n",
       "      <th class=\"col_heading level0 col38\" >secondary_cleaner.state.floatbank2_b_level</th>\n",
       "      <th class=\"col_heading level0 col39\" >secondary_cleaner.state.floatbank3_a_air</th>\n",
       "      <th class=\"col_heading level0 col40\" >secondary_cleaner.state.floatbank3_a_level</th>\n",
       "      <th class=\"col_heading level0 col41\" >secondary_cleaner.state.floatbank3_b_air</th>\n",
       "      <th class=\"col_heading level0 col42\" >secondary_cleaner.state.floatbank3_b_level</th>\n",
       "      <th class=\"col_heading level0 col43\" >secondary_cleaner.state.floatbank4_a_air</th>\n",
       "      <th class=\"col_heading level0 col44\" >secondary_cleaner.state.floatbank4_a_level</th>\n",
       "      <th class=\"col_heading level0 col45\" >secondary_cleaner.state.floatbank4_b_air</th>\n",
       "      <th class=\"col_heading level0 col46\" >secondary_cleaner.state.floatbank4_b_level</th>\n",
       "      <th class=\"col_heading level0 col47\" >secondary_cleaner.state.floatbank5_a_air</th>\n",
       "      <th class=\"col_heading level0 col48\" >secondary_cleaner.state.floatbank5_a_level</th>\n",
       "      <th class=\"col_heading level0 col49\" >secondary_cleaner.state.floatbank5_b_air</th>\n",
       "      <th class=\"col_heading level0 col50\" >secondary_cleaner.state.floatbank5_b_level</th>\n",
       "      <th class=\"col_heading level0 col51\" >secondary_cleaner.state.floatbank6_a_air</th>\n",
       "      <th class=\"col_heading level0 col52\" >secondary_cleaner.state.floatbank6_a_level</th>\n",
       "    </tr>\n",
       "  </thead>\n",
       "  <tbody>\n",
       "    <tr>\n",
       "      <th id=\"T_cb21d_level0_row0\" class=\"row_heading level0 row0\" >0</th>\n",
       "      <td id=\"T_cb21d_row0_col0\" class=\"data row0 col0\" >2016-09-01 00:59:59</td>\n",
       "      <td id=\"T_cb21d_row0_col1\" class=\"data row0 col1\" >210.800909</td>\n",
       "      <td id=\"T_cb21d_row0_col2\" class=\"data row0 col2\" >14.993118</td>\n",
       "      <td id=\"T_cb21d_row0_col3\" class=\"data row0 col3\" >8.080000</td>\n",
       "      <td id=\"T_cb21d_row0_col4\" class=\"data row0 col4\" >1.005021</td>\n",
       "      <td id=\"T_cb21d_row0_col5\" class=\"data row0 col5\" >1398.981301</td>\n",
       "      <td id=\"T_cb21d_row0_col6\" class=\"data row0 col6\" >-500.225577</td>\n",
       "      <td id=\"T_cb21d_row0_col7\" class=\"data row0 col7\" >1399.144926</td>\n",
       "      <td id=\"T_cb21d_row0_col8\" class=\"data row0 col8\" >-499.919735</td>\n",
       "      <td id=\"T_cb21d_row0_col9\" class=\"data row0 col9\" >1400.102998</td>\n",
       "      <td id=\"T_cb21d_row0_col10\" class=\"data row0 col10\" >-500.704369</td>\n",
       "      <td id=\"T_cb21d_row0_col11\" class=\"data row0 col11\" >1399.001695</td>\n",
       "      <td id=\"T_cb21d_row0_col12\" class=\"data row0 col12\" >-499.485144</td>\n",
       "      <td id=\"T_cb21d_row0_col13\" class=\"data row0 col13\" >13.128569</td>\n",
       "      <td id=\"T_cb21d_row0_col14\" class=\"data row0 col14\" >5.636710</td>\n",
       "      <td id=\"T_cb21d_row0_col15\" class=\"data row0 col15\" >489.793655</td>\n",
       "      <td id=\"T_cb21d_row0_col16\" class=\"data row0 col16\" >62.710452</td>\n",
       "      <td id=\"T_cb21d_row0_col17\" class=\"data row0 col17\" >42.022440</td>\n",
       "      <td id=\"T_cb21d_row0_col18\" class=\"data row0 col18\" >12.084103</td>\n",
       "      <td id=\"T_cb21d_row0_col19\" class=\"data row0 col19\" >16.922877</td>\n",
       "      <td id=\"T_cb21d_row0_col20\" class=\"data row0 col20\" >6.153479</td>\n",
       "      <td id=\"T_cb21d_row0_col21\" class=\"data row0 col21\" >16.867518</td>\n",
       "      <td id=\"T_cb21d_row0_col22\" class=\"data row0 col22\" >6.150709</td>\n",
       "      <td id=\"T_cb21d_row0_col23\" class=\"data row0 col23\" >1001.849317</td>\n",
       "      <td id=\"T_cb21d_row0_col24\" class=\"data row0 col24\" >-350.301265</td>\n",
       "      <td id=\"T_cb21d_row0_col25\" class=\"data row0 col25\" >1249.738612</td>\n",
       "      <td id=\"T_cb21d_row0_col26\" class=\"data row0 col26\" >-399.107531</td>\n",
       "      <td id=\"T_cb21d_row0_col27\" class=\"data row0 col27\" >1249.750520</td>\n",
       "      <td id=\"T_cb21d_row0_col28\" class=\"data row0 col28\" >-399.396730</td>\n",
       "      <td id=\"T_cb21d_row0_col29\" class=\"data row0 col29\" >1198.287855</td>\n",
       "      <td id=\"T_cb21d_row0_col30\" class=\"data row0 col30\" >-399.488594</td>\n",
       "      <td id=\"T_cb21d_row0_col31\" class=\"data row0 col31\" >999.472250</td>\n",
       "      <td id=\"T_cb21d_row0_col32\" class=\"data row0 col32\" >-399.530962</td>\n",
       "      <td id=\"T_cb21d_row0_col33\" class=\"data row0 col33\" >949.566189</td>\n",
       "      <td id=\"T_cb21d_row0_col34\" class=\"data row0 col34\" >-398.180807</td>\n",
       "      <td id=\"T_cb21d_row0_col35\" class=\"data row0 col35\" >24.938200</td>\n",
       "      <td id=\"T_cb21d_row0_col36\" class=\"data row0 col36\" >-500.490963</td>\n",
       "      <td id=\"T_cb21d_row0_col37\" class=\"data row0 col37\" >14.947607</td>\n",
       "      <td id=\"T_cb21d_row0_col38\" class=\"data row0 col38\" >-500.013837</td>\n",
       "      <td id=\"T_cb21d_row0_col39\" class=\"data row0 col39\" >20.018166</td>\n",
       "      <td id=\"T_cb21d_row0_col40\" class=\"data row0 col40\" >-450.395995</td>\n",
       "      <td id=\"T_cb21d_row0_col41\" class=\"data row0 col41\" >13.987058</td>\n",
       "      <td id=\"T_cb21d_row0_col42\" class=\"data row0 col42\" >-449.831513</td>\n",
       "      <td id=\"T_cb21d_row0_col43\" class=\"data row0 col43\" >12.023554</td>\n",
       "      <td id=\"T_cb21d_row0_col44\" class=\"data row0 col44\" >-497.795834</td>\n",
       "      <td id=\"T_cb21d_row0_col45\" class=\"data row0 col45\" >8.016656</td>\n",
       "      <td id=\"T_cb21d_row0_col46\" class=\"data row0 col46\" >-501.289139</td>\n",
       "      <td id=\"T_cb21d_row0_col47\" class=\"data row0 col47\" >7.946562</td>\n",
       "      <td id=\"T_cb21d_row0_col48\" class=\"data row0 col48\" >-432.317850</td>\n",
       "      <td id=\"T_cb21d_row0_col49\" class=\"data row0 col49\" >4.872511</td>\n",
       "      <td id=\"T_cb21d_row0_col50\" class=\"data row0 col50\" >-500.037437</td>\n",
       "      <td id=\"T_cb21d_row0_col51\" class=\"data row0 col51\" >26.705889</td>\n",
       "      <td id=\"T_cb21d_row0_col52\" class=\"data row0 col52\" >-499.709414</td>\n",
       "    </tr>\n",
       "    <tr>\n",
       "      <th id=\"T_cb21d_level0_row1\" class=\"row_heading level0 row1\" >1</th>\n",
       "      <td id=\"T_cb21d_row1_col0\" class=\"data row1 col0\" >2016-09-01 01:59:59</td>\n",
       "      <td id=\"T_cb21d_row1_col1\" class=\"data row1 col1\" >215.392455</td>\n",
       "      <td id=\"T_cb21d_row1_col2\" class=\"data row1 col2\" >14.987471</td>\n",
       "      <td id=\"T_cb21d_row1_col3\" class=\"data row1 col3\" >8.080000</td>\n",
       "      <td id=\"T_cb21d_row1_col4\" class=\"data row1 col4\" >0.990469</td>\n",
       "      <td id=\"T_cb21d_row1_col5\" class=\"data row1 col5\" >1398.777912</td>\n",
       "      <td id=\"T_cb21d_row1_col6\" class=\"data row1 col6\" >-500.057435</td>\n",
       "      <td id=\"T_cb21d_row1_col7\" class=\"data row1 col7\" >1398.055362</td>\n",
       "      <td id=\"T_cb21d_row1_col8\" class=\"data row1 col8\" >-499.778182</td>\n",
       "      <td id=\"T_cb21d_row1_col9\" class=\"data row1 col9\" >1396.151033</td>\n",
       "      <td id=\"T_cb21d_row1_col10\" class=\"data row1 col10\" >-499.240168</td>\n",
       "      <td id=\"T_cb21d_row1_col11\" class=\"data row1 col11\" >1399.508091</td>\n",
       "      <td id=\"T_cb21d_row1_col12\" class=\"data row1 col12\" >-500.416324</td>\n",
       "      <td id=\"T_cb21d_row1_col13\" class=\"data row1 col13\" >13.036280</td>\n",
       "      <td id=\"T_cb21d_row1_col14\" class=\"data row1 col14\" >5.526065</td>\n",
       "      <td id=\"T_cb21d_row1_col15\" class=\"data row1 col15\" >490.104534</td>\n",
       "      <td id=\"T_cb21d_row1_col16\" class=\"data row1 col16\" >61.961163</td>\n",
       "      <td id=\"T_cb21d_row1_col17\" class=\"data row1 col17\" >41.187903</td>\n",
       "      <td id=\"T_cb21d_row1_col18\" class=\"data row1 col18\" >11.918977</td>\n",
       "      <td id=\"T_cb21d_row1_col19\" class=\"data row1 col19\" >17.002532</td>\n",
       "      <td id=\"T_cb21d_row1_col20\" class=\"data row1 col20\" >5.999043</td>\n",
       "      <td id=\"T_cb21d_row1_col21\" class=\"data row1 col21\" >16.996063</td>\n",
       "      <td id=\"T_cb21d_row1_col22\" class=\"data row1 col22\" >6.002315</td>\n",
       "      <td id=\"T_cb21d_row1_col23\" class=\"data row1 col23\" >998.690785</td>\n",
       "      <td id=\"T_cb21d_row1_col24\" class=\"data row1 col24\" >-350.425704</td>\n",
       "      <td id=\"T_cb21d_row1_col25\" class=\"data row1 col25\" >1248.395457</td>\n",
       "      <td id=\"T_cb21d_row1_col26\" class=\"data row1 col26\" >-399.946025</td>\n",
       "      <td id=\"T_cb21d_row1_col27\" class=\"data row1 col27\" >1249.514451</td>\n",
       "      <td id=\"T_cb21d_row1_col28\" class=\"data row1 col28\" >-399.630810</td>\n",
       "      <td id=\"T_cb21d_row1_col29\" class=\"data row1 col29\" >1200.506459</td>\n",
       "      <td id=\"T_cb21d_row1_col30\" class=\"data row1 col30\" >-399.942434</td>\n",
       "      <td id=\"T_cb21d_row1_col31\" class=\"data row1 col31\" >1000.002114</td>\n",
       "      <td id=\"T_cb21d_row1_col32\" class=\"data row1 col32\" >-399.491528</td>\n",
       "      <td id=\"T_cb21d_row1_col33\" class=\"data row1 col33\" >950.200009</td>\n",
       "      <td id=\"T_cb21d_row1_col34\" class=\"data row1 col34\" >-405.787514</td>\n",
       "      <td id=\"T_cb21d_row1_col35\" class=\"data row1 col35\" >24.923466</td>\n",
       "      <td id=\"T_cb21d_row1_col36\" class=\"data row1 col36\" >-499.813963</td>\n",
       "      <td id=\"T_cb21d_row1_col37\" class=\"data row1 col37\" >14.930873</td>\n",
       "      <td id=\"T_cb21d_row1_col38\" class=\"data row1 col38\" >-500.764452</td>\n",
       "      <td id=\"T_cb21d_row1_col39\" class=\"data row1 col39\" >19.988503</td>\n",
       "      <td id=\"T_cb21d_row1_col40\" class=\"data row1 col40\" >-450.114024</td>\n",
       "      <td id=\"T_cb21d_row1_col41\" class=\"data row1 col41\" >14.092981</td>\n",
       "      <td id=\"T_cb21d_row1_col42\" class=\"data row1 col42\" >-450.059163</td>\n",
       "      <td id=\"T_cb21d_row1_col43\" class=\"data row1 col43\" >12.058140</td>\n",
       "      <td id=\"T_cb21d_row1_col44\" class=\"data row1 col44\" >-498.695773</td>\n",
       "      <td id=\"T_cb21d_row1_col45\" class=\"data row1 col45\" >8.130979</td>\n",
       "      <td id=\"T_cb21d_row1_col46\" class=\"data row1 col46\" >-499.634209</td>\n",
       "      <td id=\"T_cb21d_row1_col47\" class=\"data row1 col47\" >7.958270</td>\n",
       "      <td id=\"T_cb21d_row1_col48\" class=\"data row1 col48\" >-525.839648</td>\n",
       "      <td id=\"T_cb21d_row1_col49\" class=\"data row1 col49\" >4.878850</td>\n",
       "      <td id=\"T_cb21d_row1_col50\" class=\"data row1 col50\" >-500.162375</td>\n",
       "      <td id=\"T_cb21d_row1_col51\" class=\"data row1 col51\" >25.019940</td>\n",
       "      <td id=\"T_cb21d_row1_col52\" class=\"data row1 col52\" >-499.819438</td>\n",
       "    </tr>\n",
       "    <tr>\n",
       "      <th id=\"T_cb21d_level0_row2\" class=\"row_heading level0 row2\" >2</th>\n",
       "      <td id=\"T_cb21d_row2_col0\" class=\"data row2 col0\" >2016-09-01 02:59:59</td>\n",
       "      <td id=\"T_cb21d_row2_col1\" class=\"data row2 col1\" >215.259946</td>\n",
       "      <td id=\"T_cb21d_row2_col2\" class=\"data row2 col2\" >12.884934</td>\n",
       "      <td id=\"T_cb21d_row2_col3\" class=\"data row2 col3\" >7.786667</td>\n",
       "      <td id=\"T_cb21d_row2_col4\" class=\"data row2 col4\" >0.996043</td>\n",
       "      <td id=\"T_cb21d_row2_col5\" class=\"data row2 col5\" >1398.493666</td>\n",
       "      <td id=\"T_cb21d_row2_col6\" class=\"data row2 col6\" >-500.868360</td>\n",
       "      <td id=\"T_cb21d_row2_col7\" class=\"data row2 col7\" >1398.860436</td>\n",
       "      <td id=\"T_cb21d_row2_col8\" class=\"data row2 col8\" >-499.764529</td>\n",
       "      <td id=\"T_cb21d_row2_col9\" class=\"data row2 col9\" >1398.075709</td>\n",
       "      <td id=\"T_cb21d_row2_col10\" class=\"data row2 col10\" >-502.151509</td>\n",
       "      <td id=\"T_cb21d_row2_col11\" class=\"data row2 col11\" >1399.497088</td>\n",
       "      <td id=\"T_cb21d_row2_col12\" class=\"data row2 col12\" >-499.715479</td>\n",
       "      <td id=\"T_cb21d_row2_col13\" class=\"data row2 col13\" >13.138412</td>\n",
       "      <td id=\"T_cb21d_row2_col14\" class=\"data row2 col14\" >5.426561</td>\n",
       "      <td id=\"T_cb21d_row2_col15\" class=\"data row2 col15\" >489.617969</td>\n",
       "      <td id=\"T_cb21d_row2_col16\" class=\"data row2 col16\" >66.903807</td>\n",
       "      <td id=\"T_cb21d_row2_col17\" class=\"data row2 col17\" >42.546294</td>\n",
       "      <td id=\"T_cb21d_row2_col18\" class=\"data row2 col18\" >12.091332</td>\n",
       "      <td id=\"T_cb21d_row2_col19\" class=\"data row2 col19\" >16.992520</td>\n",
       "      <td id=\"T_cb21d_row2_col20\" class=\"data row2 col20\" >5.850632</td>\n",
       "      <td id=\"T_cb21d_row2_col21\" class=\"data row2 col21\" >16.982096</td>\n",
       "      <td id=\"T_cb21d_row2_col22\" class=\"data row2 col22\" >5.853594</td>\n",
       "      <td id=\"T_cb21d_row2_col23\" class=\"data row2 col23\" >998.516720</td>\n",
       "      <td id=\"T_cb21d_row2_col24\" class=\"data row2 col24\" >-349.783538</td>\n",
       "      <td id=\"T_cb21d_row2_col25\" class=\"data row2 col25\" >1247.440748</td>\n",
       "      <td id=\"T_cb21d_row2_col26\" class=\"data row2 col26\" >-400.264330</td>\n",
       "      <td id=\"T_cb21d_row2_col27\" class=\"data row2 col27\" >1248.207204</td>\n",
       "      <td id=\"T_cb21d_row2_col28\" class=\"data row2 col28\" >-401.074405</td>\n",
       "      <td id=\"T_cb21d_row2_col29\" class=\"data row2 col29\" >1199.770026</td>\n",
       "      <td id=\"T_cb21d_row2_col30\" class=\"data row2 col30\" >-400.790582</td>\n",
       "      <td id=\"T_cb21d_row2_col31\" class=\"data row2 col31\" >999.925519</td>\n",
       "      <td id=\"T_cb21d_row2_col32\" class=\"data row2 col32\" >-399.236999</td>\n",
       "      <td id=\"T_cb21d_row2_col33\" class=\"data row2 col33\" >950.320481</td>\n",
       "      <td id=\"T_cb21d_row2_col34\" class=\"data row2 col34\" >-400.864340</td>\n",
       "      <td id=\"T_cb21d_row2_col35\" class=\"data row2 col35\" >24.908732</td>\n",
       "      <td id=\"T_cb21d_row2_col36\" class=\"data row2 col36\" >-500.304035</td>\n",
       "      <td id=\"T_cb21d_row2_col37\" class=\"data row2 col37\" >14.996511</td>\n",
       "      <td id=\"T_cb21d_row2_col38\" class=\"data row2 col38\" >-500.993821</td>\n",
       "      <td id=\"T_cb21d_row2_col39\" class=\"data row2 col39\" >20.039689</td>\n",
       "      <td id=\"T_cb21d_row2_col40\" class=\"data row2 col40\" >-450.263164</td>\n",
       "      <td id=\"T_cb21d_row2_col41\" class=\"data row2 col41\" >14.077881</td>\n",
       "      <td id=\"T_cb21d_row2_col42\" class=\"data row2 col42\" >-449.660997</td>\n",
       "      <td id=\"T_cb21d_row2_col43\" class=\"data row2 col43\" >11.962366</td>\n",
       "      <td id=\"T_cb21d_row2_col44\" class=\"data row2 col44\" >-498.767484</td>\n",
       "      <td id=\"T_cb21d_row2_col45\" class=\"data row2 col45\" >8.096893</td>\n",
       "      <td id=\"T_cb21d_row2_col46\" class=\"data row2 col46\" >-500.827423</td>\n",
       "      <td id=\"T_cb21d_row2_col47\" class=\"data row2 col47\" >8.071056</td>\n",
       "      <td id=\"T_cb21d_row2_col48\" class=\"data row2 col48\" >-500.801673</td>\n",
       "      <td id=\"T_cb21d_row2_col49\" class=\"data row2 col49\" >4.905125</td>\n",
       "      <td id=\"T_cb21d_row2_col50\" class=\"data row2 col50\" >-499.828510</td>\n",
       "      <td id=\"T_cb21d_row2_col51\" class=\"data row2 col51\" >24.994862</td>\n",
       "      <td id=\"T_cb21d_row2_col52\" class=\"data row2 col52\" >-500.622559</td>\n",
       "    </tr>\n",
       "    <tr>\n",
       "      <th id=\"T_cb21d_level0_row3\" class=\"row_heading level0 row3\" >3</th>\n",
       "      <td id=\"T_cb21d_row3_col0\" class=\"data row3 col0\" >2016-09-01 03:59:59</td>\n",
       "      <td id=\"T_cb21d_row3_col1\" class=\"data row3 col1\" >215.336236</td>\n",
       "      <td id=\"T_cb21d_row3_col2\" class=\"data row3 col2\" >12.006805</td>\n",
       "      <td id=\"T_cb21d_row3_col3\" class=\"data row3 col3\" >7.640000</td>\n",
       "      <td id=\"T_cb21d_row3_col4\" class=\"data row3 col4\" >0.863514</td>\n",
       "      <td id=\"T_cb21d_row3_col5\" class=\"data row3 col5\" >1399.618111</td>\n",
       "      <td id=\"T_cb21d_row3_col6\" class=\"data row3 col6\" >-498.863574</td>\n",
       "      <td id=\"T_cb21d_row3_col7\" class=\"data row3 col7\" >1397.440120</td>\n",
       "      <td id=\"T_cb21d_row3_col8\" class=\"data row3 col8\" >-499.211024</td>\n",
       "      <td id=\"T_cb21d_row3_col9\" class=\"data row3 col9\" >1400.129303</td>\n",
       "      <td id=\"T_cb21d_row3_col10\" class=\"data row3 col10\" >-498.355873</td>\n",
       "      <td id=\"T_cb21d_row3_col11\" class=\"data row3 col11\" >1401.065165</td>\n",
       "      <td id=\"T_cb21d_row3_col12\" class=\"data row3 col12\" >-501.038738</td>\n",
       "      <td id=\"T_cb21d_row3_col13\" class=\"data row3 col13\" >12.400507</td>\n",
       "      <td id=\"T_cb21d_row3_col14\" class=\"data row3 col14\" >5.114758</td>\n",
       "      <td id=\"T_cb21d_row3_col15\" class=\"data row3 col15\" >476.618130</td>\n",
       "      <td id=\"T_cb21d_row3_col16\" class=\"data row3 col16\" >59.865919</td>\n",
       "      <td id=\"T_cb21d_row3_col17\" class=\"data row3 col17\" >41.060195</td>\n",
       "      <td id=\"T_cb21d_row3_col18\" class=\"data row3 col18\" >12.181597</td>\n",
       "      <td id=\"T_cb21d_row3_col19\" class=\"data row3 col19\" >16.532144</td>\n",
       "      <td id=\"T_cb21d_row3_col20\" class=\"data row3 col20\" >5.801935</td>\n",
       "      <td id=\"T_cb21d_row3_col21\" class=\"data row3 col21\" >16.515277</td>\n",
       "      <td id=\"T_cb21d_row3_col22\" class=\"data row3 col22\" >5.803657</td>\n",
       "      <td id=\"T_cb21d_row3_col23\" class=\"data row3 col23\" >1000.276604</td>\n",
       "      <td id=\"T_cb21d_row3_col24\" class=\"data row3 col24\" >-350.172597</td>\n",
       "      <td id=\"T_cb21d_row3_col25\" class=\"data row3 col25\" >1251.322675</td>\n",
       "      <td id=\"T_cb21d_row3_col26\" class=\"data row3 col26\" >-398.655289</td>\n",
       "      <td id=\"T_cb21d_row3_col27\" class=\"data row3 col27\" >1250.493702</td>\n",
       "      <td id=\"T_cb21d_row3_col28\" class=\"data row3 col28\" >-399.746728</td>\n",
       "      <td id=\"T_cb21d_row3_col29\" class=\"data row3 col29\" >1199.398691</td>\n",
       "      <td id=\"T_cb21d_row3_col30\" class=\"data row3 col30\" >-397.503052</td>\n",
       "      <td id=\"T_cb21d_row3_col31\" class=\"data row3 col31\" >1001.930679</td>\n",
       "      <td id=\"T_cb21d_row3_col32\" class=\"data row3 col32\" >-400.437573</td>\n",
       "      <td id=\"T_cb21d_row3_col33\" class=\"data row3 col33\" >950.735324</td>\n",
       "      <td id=\"T_cb21d_row3_col34\" class=\"data row3 col34\" >-399.802986</td>\n",
       "      <td id=\"T_cb21d_row3_col35\" class=\"data row3 col35\" >24.893998</td>\n",
       "      <td id=\"T_cb21d_row3_col36\" class=\"data row3 col36\" >-499.382374</td>\n",
       "      <td id=\"T_cb21d_row3_col37\" class=\"data row3 col37\" >14.916674</td>\n",
       "      <td id=\"T_cb21d_row3_col38\" class=\"data row3 col38\" >-499.862299</td>\n",
       "      <td id=\"T_cb21d_row3_col39\" class=\"data row3 col39\" >20.031100</td>\n",
       "      <td id=\"T_cb21d_row3_col40\" class=\"data row3 col40\" >-449.372570</td>\n",
       "      <td id=\"T_cb21d_row3_col41\" class=\"data row3 col41\" >14.013968</td>\n",
       "      <td id=\"T_cb21d_row3_col42\" class=\"data row3 col42\" >-449.526900</td>\n",
       "      <td id=\"T_cb21d_row3_col43\" class=\"data row3 col43\" >12.033091</td>\n",
       "      <td id=\"T_cb21d_row3_col44\" class=\"data row3 col44\" >-498.350935</td>\n",
       "      <td id=\"T_cb21d_row3_col45\" class=\"data row3 col45\" >8.074946</td>\n",
       "      <td id=\"T_cb21d_row3_col46\" class=\"data row3 col46\" >-499.474407</td>\n",
       "      <td id=\"T_cb21d_row3_col47\" class=\"data row3 col47\" >7.897085</td>\n",
       "      <td id=\"T_cb21d_row3_col48\" class=\"data row3 col48\" >-500.868509</td>\n",
       "      <td id=\"T_cb21d_row3_col49\" class=\"data row3 col49\" >4.931400</td>\n",
       "      <td id=\"T_cb21d_row3_col50\" class=\"data row3 col50\" >-499.963623</td>\n",
       "      <td id=\"T_cb21d_row3_col51\" class=\"data row3 col51\" >24.948919</td>\n",
       "      <td id=\"T_cb21d_row3_col52\" class=\"data row3 col52\" >-498.709987</td>\n",
       "    </tr>\n",
       "    <tr>\n",
       "      <th id=\"T_cb21d_level0_row4\" class=\"row_heading level0 row4\" >4</th>\n",
       "      <td id=\"T_cb21d_row4_col0\" class=\"data row4 col0\" >2016-09-01 04:59:59</td>\n",
       "      <td id=\"T_cb21d_row4_col1\" class=\"data row4 col1\" >199.099327</td>\n",
       "      <td id=\"T_cb21d_row4_col2\" class=\"data row4 col2\" >10.682530</td>\n",
       "      <td id=\"T_cb21d_row4_col3\" class=\"data row4 col3\" >7.530000</td>\n",
       "      <td id=\"T_cb21d_row4_col4\" class=\"data row4 col4\" >0.805575</td>\n",
       "      <td id=\"T_cb21d_row4_col5\" class=\"data row4 col5\" >1401.268123</td>\n",
       "      <td id=\"T_cb21d_row4_col6\" class=\"data row4 col6\" >-500.808305</td>\n",
       "      <td id=\"T_cb21d_row4_col7\" class=\"data row4 col7\" >1398.128818</td>\n",
       "      <td id=\"T_cb21d_row4_col8\" class=\"data row4 col8\" >-499.504543</td>\n",
       "      <td id=\"T_cb21d_row4_col9\" class=\"data row4 col9\" >1402.172226</td>\n",
       "      <td id=\"T_cb21d_row4_col10\" class=\"data row4 col10\" >-500.810606</td>\n",
       "      <td id=\"T_cb21d_row4_col11\" class=\"data row4 col11\" >1399.480508</td>\n",
       "      <td id=\"T_cb21d_row4_col12\" class=\"data row4 col12\" >-499.374053</td>\n",
       "      <td id=\"T_cb21d_row4_col13\" class=\"data row4 col13\" >11.327427</td>\n",
       "      <td id=\"T_cb21d_row4_col14\" class=\"data row4 col14\" >4.767383</td>\n",
       "      <td id=\"T_cb21d_row4_col15\" class=\"data row4 col15\" >488.248117</td>\n",
       "      <td id=\"T_cb21d_row4_col16\" class=\"data row4 col16\" >63.315324</td>\n",
       "      <td id=\"T_cb21d_row4_col17\" class=\"data row4 col17\" >41.269161</td>\n",
       "      <td id=\"T_cb21d_row4_col18\" class=\"data row4 col18\" >11.290425</td>\n",
       "      <td id=\"T_cb21d_row4_col19\" class=\"data row4 col19\" >13.607257</td>\n",
       "      <td id=\"T_cb21d_row4_col20\" class=\"data row4 col20\" >5.738081</td>\n",
       "      <td id=\"T_cb21d_row4_col21\" class=\"data row4 col21\" >13.650053</td>\n",
       "      <td id=\"T_cb21d_row4_col22\" class=\"data row4 col22\" >5.739634</td>\n",
       "      <td id=\"T_cb21d_row4_col23\" class=\"data row4 col23\" >996.541302</td>\n",
       "      <td id=\"T_cb21d_row4_col24\" class=\"data row4 col24\" >-350.562517</td>\n",
       "      <td id=\"T_cb21d_row4_col25\" class=\"data row4 col25\" >1304.658848</td>\n",
       "      <td id=\"T_cb21d_row4_col26\" class=\"data row4 col26\" >-399.511519</td>\n",
       "      <td id=\"T_cb21d_row4_col27\" class=\"data row4 col27\" >1306.455515</td>\n",
       "      <td id=\"T_cb21d_row4_col28\" class=\"data row4 col28\" >-399.050685</td>\n",
       "      <td id=\"T_cb21d_row4_col29\" class=\"data row4 col29\" >1248.699349</td>\n",
       "      <td id=\"T_cb21d_row4_col30\" class=\"data row4 col30\" >-400.876894</td>\n",
       "      <td id=\"T_cb21d_row4_col31\" class=\"data row4 col31\" >1058.839106</td>\n",
       "      <td id=\"T_cb21d_row4_col32\" class=\"data row4 col32\" >-398.988239</td>\n",
       "      <td id=\"T_cb21d_row4_col33\" class=\"data row4 col33\" >949.645313</td>\n",
       "      <td id=\"T_cb21d_row4_col34\" class=\"data row4 col34\" >-399.277632</td>\n",
       "      <td id=\"T_cb21d_row4_col35\" class=\"data row4 col35\" >24.886905</td>\n",
       "      <td id=\"T_cb21d_row4_col36\" class=\"data row4 col36\" >-499.357375</td>\n",
       "      <td id=\"T_cb21d_row4_col37\" class=\"data row4 col37\" >14.979233</td>\n",
       "      <td id=\"T_cb21d_row4_col38\" class=\"data row4 col38\" >-500.186804</td>\n",
       "      <td id=\"T_cb21d_row4_col39\" class=\"data row4 col39\" >19.962364</td>\n",
       "      <td id=\"T_cb21d_row4_col40\" class=\"data row4 col40\" >-450.638828</td>\n",
       "      <td id=\"T_cb21d_row4_col41\" class=\"data row4 col41\" >14.009245</td>\n",
       "      <td id=\"T_cb21d_row4_col42\" class=\"data row4 col42\" >-450.022259</td>\n",
       "      <td id=\"T_cb21d_row4_col43\" class=\"data row4 col43\" >12.025367</td>\n",
       "      <td id=\"T_cb21d_row4_col44\" class=\"data row4 col44\" >-500.786497</td>\n",
       "      <td id=\"T_cb21d_row4_col45\" class=\"data row4 col45\" >8.054678</td>\n",
       "      <td id=\"T_cb21d_row4_col46\" class=\"data row4 col46\" >-500.397500</td>\n",
       "      <td id=\"T_cb21d_row4_col47\" class=\"data row4 col47\" >8.107890</td>\n",
       "      <td id=\"T_cb21d_row4_col48\" class=\"data row4 col48\" >-509.526725</td>\n",
       "      <td id=\"T_cb21d_row4_col49\" class=\"data row4 col49\" >4.957674</td>\n",
       "      <td id=\"T_cb21d_row4_col50\" class=\"data row4 col50\" >-500.360026</td>\n",
       "      <td id=\"T_cb21d_row4_col51\" class=\"data row4 col51\" >25.003331</td>\n",
       "      <td id=\"T_cb21d_row4_col52\" class=\"data row4 col52\" >-500.856333</td>\n",
       "    </tr>\n",
       "  </tbody>\n",
       "</table>\n"
      ],
      "text/plain": [
       "<pandas.io.formats.style.Styler at 0x29ee8acd340>"
      ]
     },
     "metadata": {},
     "output_type": "display_data"
    },
    {
     "name": "stdout",
     "output_type": "stream",
     "text": [
      "<class 'pandas.core.frame.DataFrame'>\n",
      "RangeIndex: 5290 entries, 0 to 5289\n",
      "Data columns (total 53 columns):\n",
      " #   Column                                      Non-Null Count  Dtype  \n",
      "---  ------                                      --------------  -----  \n",
      " 0   date                                        5290 non-null   object \n",
      " 1   primary_cleaner.input.sulfate               5286 non-null   float64\n",
      " 2   primary_cleaner.input.depressant            5285 non-null   float64\n",
      " 3   primary_cleaner.input.feed_size             5290 non-null   float64\n",
      " 4   primary_cleaner.input.xanthate              5286 non-null   float64\n",
      " 5   primary_cleaner.state.floatbank8_a_air      5290 non-null   float64\n",
      " 6   primary_cleaner.state.floatbank8_a_level    5290 non-null   float64\n",
      " 7   primary_cleaner.state.floatbank8_b_air      5290 non-null   float64\n",
      " 8   primary_cleaner.state.floatbank8_b_level    5290 non-null   float64\n",
      " 9   primary_cleaner.state.floatbank8_c_air      5290 non-null   float64\n",
      " 10  primary_cleaner.state.floatbank8_c_level    5290 non-null   float64\n",
      " 11  primary_cleaner.state.floatbank8_d_air      5290 non-null   float64\n",
      " 12  primary_cleaner.state.floatbank8_d_level    5290 non-null   float64\n",
      " 13  rougher.input.feed_ag                       5290 non-null   float64\n",
      " 14  rougher.input.feed_pb                       5290 non-null   float64\n",
      " 15  rougher.input.feed_rate                     5287 non-null   float64\n",
      " 16  rougher.input.feed_size                     5289 non-null   float64\n",
      " 17  rougher.input.feed_sol                      5269 non-null   float64\n",
      " 18  rougher.input.feed_au                       5290 non-null   float64\n",
      " 19  rougher.input.floatbank10_sulfate           5285 non-null   float64\n",
      " 20  rougher.input.floatbank10_xanthate          5290 non-null   float64\n",
      " 21  rougher.input.floatbank11_sulfate           5282 non-null   float64\n",
      " 22  rougher.input.floatbank11_xanthate          5265 non-null   float64\n",
      " 23  rougher.state.floatbank10_a_air             5290 non-null   float64\n",
      " 24  rougher.state.floatbank10_a_level           5290 non-null   float64\n",
      " 25  rougher.state.floatbank10_b_air             5290 non-null   float64\n",
      " 26  rougher.state.floatbank10_b_level           5290 non-null   float64\n",
      " 27  rougher.state.floatbank10_c_air             5290 non-null   float64\n",
      " 28  rougher.state.floatbank10_c_level           5290 non-null   float64\n",
      " 29  rougher.state.floatbank10_d_air             5290 non-null   float64\n",
      " 30  rougher.state.floatbank10_d_level           5290 non-null   float64\n",
      " 31  rougher.state.floatbank10_e_air             5290 non-null   float64\n",
      " 32  rougher.state.floatbank10_e_level           5290 non-null   float64\n",
      " 33  rougher.state.floatbank10_f_air             5290 non-null   float64\n",
      " 34  rougher.state.floatbank10_f_level           5290 non-null   float64\n",
      " 35  secondary_cleaner.state.floatbank2_a_air    5287 non-null   float64\n",
      " 36  secondary_cleaner.state.floatbank2_a_level  5290 non-null   float64\n",
      " 37  secondary_cleaner.state.floatbank2_b_air    5288 non-null   float64\n",
      " 38  secondary_cleaner.state.floatbank2_b_level  5290 non-null   float64\n",
      " 39  secondary_cleaner.state.floatbank3_a_air    5281 non-null   float64\n",
      " 40  secondary_cleaner.state.floatbank3_a_level  5290 non-null   float64\n",
      " 41  secondary_cleaner.state.floatbank3_b_air    5290 non-null   float64\n",
      " 42  secondary_cleaner.state.floatbank3_b_level  5290 non-null   float64\n",
      " 43  secondary_cleaner.state.floatbank4_a_air    5290 non-null   float64\n",
      " 44  secondary_cleaner.state.floatbank4_a_level  5290 non-null   float64\n",
      " 45  secondary_cleaner.state.floatbank4_b_air    5290 non-null   float64\n",
      " 46  secondary_cleaner.state.floatbank4_b_level  5290 non-null   float64\n",
      " 47  secondary_cleaner.state.floatbank5_a_air    5290 non-null   float64\n",
      " 48  secondary_cleaner.state.floatbank5_a_level  5290 non-null   float64\n",
      " 49  secondary_cleaner.state.floatbank5_b_air    5290 non-null   float64\n",
      " 50  secondary_cleaner.state.floatbank5_b_level  5290 non-null   float64\n",
      " 51  secondary_cleaner.state.floatbank6_a_air    5290 non-null   float64\n",
      " 52  secondary_cleaner.state.floatbank6_a_level  5290 non-null   float64\n",
      "dtypes: float64(52), object(1)\n",
      "memory usage: 2.1+ MB\n"
     ]
    },
    {
     "data": {
      "text/plain": [
       "None"
      ]
     },
     "metadata": {},
     "output_type": "display_data"
    },
    {
     "name": "stdout",
     "output_type": "stream",
     "text": [
      "====================================================================================================\n"
     ]
    },
    {
     "data": {
      "text/html": [
       "<style type=\"text/css\">\n",
       "#T_fe4b8_ td:hover {\n",
       "  background: #9E4447;\n",
       "  color: #ffffff;\n",
       "}\n",
       "#T_fe4b8_ tr:nth-of-type(even) {\n",
       "  background: #D9D9D9;\n",
       "  color: black;\n",
       "}\n",
       "#T_fe4b8_ tr:nth-of-type(odd) {\n",
       "  background: #ffffff;\n",
       "  color: #363636;\n",
       "}\n",
       "#T_fe4b8_ th {\n",
       "  background: #363636;\n",
       "  color: #ffffff;\n",
       "  text-align: center;\n",
       "}\n",
       "#T_fe4b8_ tr:hover {\n",
       "  background: #808080;\n",
       "  color: #ffffff;\n",
       "}\n",
       "#T_fe4b8_ td {\n",
       "  border: 1px dashed #363636;\n",
       "}\n",
       "#T_fe4b8_  {\n",
       "  border: 2px solid #363636;\n",
       "}\n",
       "#T_fe4b8_ caption {\n",
       "  color: #363636;\n",
       "  font-size: 15px;\n",
       "}\n",
       "</style>\n",
       "<table id=\"T_fe4b8_\">\n",
       "  <caption>Набор данных data_full</caption>\n",
       "  <thead>\n",
       "    <tr>\n",
       "      <th class=\"blank level0\" >&nbsp;</th>\n",
       "      <th class=\"col_heading level0 col0\" >date</th>\n",
       "      <th class=\"col_heading level0 col1\" >final.output.concentrate_ag</th>\n",
       "      <th class=\"col_heading level0 col2\" >final.output.concentrate_pb</th>\n",
       "      <th class=\"col_heading level0 col3\" >final.output.concentrate_sol</th>\n",
       "      <th class=\"col_heading level0 col4\" >final.output.concentrate_au</th>\n",
       "      <th class=\"col_heading level0 col5\" >final.output.recovery</th>\n",
       "      <th class=\"col_heading level0 col6\" >final.output.tail_ag</th>\n",
       "      <th class=\"col_heading level0 col7\" >final.output.tail_pb</th>\n",
       "      <th class=\"col_heading level0 col8\" >final.output.tail_sol</th>\n",
       "      <th class=\"col_heading level0 col9\" >final.output.tail_au</th>\n",
       "      <th class=\"col_heading level0 col10\" >primary_cleaner.input.sulfate</th>\n",
       "      <th class=\"col_heading level0 col11\" >primary_cleaner.input.depressant</th>\n",
       "      <th class=\"col_heading level0 col12\" >primary_cleaner.input.feed_size</th>\n",
       "      <th class=\"col_heading level0 col13\" >primary_cleaner.input.xanthate</th>\n",
       "      <th class=\"col_heading level0 col14\" >primary_cleaner.output.concentrate_ag</th>\n",
       "      <th class=\"col_heading level0 col15\" >primary_cleaner.output.concentrate_pb</th>\n",
       "      <th class=\"col_heading level0 col16\" >primary_cleaner.output.concentrate_sol</th>\n",
       "      <th class=\"col_heading level0 col17\" >primary_cleaner.output.concentrate_au</th>\n",
       "      <th class=\"col_heading level0 col18\" >primary_cleaner.output.tail_ag</th>\n",
       "      <th class=\"col_heading level0 col19\" >primary_cleaner.output.tail_pb</th>\n",
       "      <th class=\"col_heading level0 col20\" >primary_cleaner.output.tail_sol</th>\n",
       "      <th class=\"col_heading level0 col21\" >primary_cleaner.output.tail_au</th>\n",
       "      <th class=\"col_heading level0 col22\" >primary_cleaner.state.floatbank8_a_air</th>\n",
       "      <th class=\"col_heading level0 col23\" >primary_cleaner.state.floatbank8_a_level</th>\n",
       "      <th class=\"col_heading level0 col24\" >primary_cleaner.state.floatbank8_b_air</th>\n",
       "      <th class=\"col_heading level0 col25\" >primary_cleaner.state.floatbank8_b_level</th>\n",
       "      <th class=\"col_heading level0 col26\" >primary_cleaner.state.floatbank8_c_air</th>\n",
       "      <th class=\"col_heading level0 col27\" >primary_cleaner.state.floatbank8_c_level</th>\n",
       "      <th class=\"col_heading level0 col28\" >primary_cleaner.state.floatbank8_d_air</th>\n",
       "      <th class=\"col_heading level0 col29\" >primary_cleaner.state.floatbank8_d_level</th>\n",
       "      <th class=\"col_heading level0 col30\" >rougher.calculation.sulfate_to_au_concentrate</th>\n",
       "      <th class=\"col_heading level0 col31\" >rougher.calculation.floatbank10_sulfate_to_au_feed</th>\n",
       "      <th class=\"col_heading level0 col32\" >rougher.calculation.floatbank11_sulfate_to_au_feed</th>\n",
       "      <th class=\"col_heading level0 col33\" >rougher.calculation.au_pb_ratio</th>\n",
       "      <th class=\"col_heading level0 col34\" >rougher.input.feed_ag</th>\n",
       "      <th class=\"col_heading level0 col35\" >rougher.input.feed_pb</th>\n",
       "      <th class=\"col_heading level0 col36\" >rougher.input.feed_rate</th>\n",
       "      <th class=\"col_heading level0 col37\" >rougher.input.feed_size</th>\n",
       "      <th class=\"col_heading level0 col38\" >rougher.input.feed_sol</th>\n",
       "      <th class=\"col_heading level0 col39\" >rougher.input.feed_au</th>\n",
       "      <th class=\"col_heading level0 col40\" >rougher.input.floatbank10_sulfate</th>\n",
       "      <th class=\"col_heading level0 col41\" >rougher.input.floatbank10_xanthate</th>\n",
       "      <th class=\"col_heading level0 col42\" >rougher.input.floatbank11_sulfate</th>\n",
       "      <th class=\"col_heading level0 col43\" >rougher.input.floatbank11_xanthate</th>\n",
       "      <th class=\"col_heading level0 col44\" >rougher.output.concentrate_ag</th>\n",
       "      <th class=\"col_heading level0 col45\" >rougher.output.concentrate_pb</th>\n",
       "      <th class=\"col_heading level0 col46\" >rougher.output.concentrate_sol</th>\n",
       "      <th class=\"col_heading level0 col47\" >rougher.output.concentrate_au</th>\n",
       "      <th class=\"col_heading level0 col48\" >rougher.output.recovery</th>\n",
       "      <th class=\"col_heading level0 col49\" >rougher.output.tail_ag</th>\n",
       "      <th class=\"col_heading level0 col50\" >rougher.output.tail_pb</th>\n",
       "      <th class=\"col_heading level0 col51\" >rougher.output.tail_sol</th>\n",
       "      <th class=\"col_heading level0 col52\" >rougher.output.tail_au</th>\n",
       "      <th class=\"col_heading level0 col53\" >rougher.state.floatbank10_a_air</th>\n",
       "      <th class=\"col_heading level0 col54\" >rougher.state.floatbank10_a_level</th>\n",
       "      <th class=\"col_heading level0 col55\" >rougher.state.floatbank10_b_air</th>\n",
       "      <th class=\"col_heading level0 col56\" >rougher.state.floatbank10_b_level</th>\n",
       "      <th class=\"col_heading level0 col57\" >rougher.state.floatbank10_c_air</th>\n",
       "      <th class=\"col_heading level0 col58\" >rougher.state.floatbank10_c_level</th>\n",
       "      <th class=\"col_heading level0 col59\" >rougher.state.floatbank10_d_air</th>\n",
       "      <th class=\"col_heading level0 col60\" >rougher.state.floatbank10_d_level</th>\n",
       "      <th class=\"col_heading level0 col61\" >rougher.state.floatbank10_e_air</th>\n",
       "      <th class=\"col_heading level0 col62\" >rougher.state.floatbank10_e_level</th>\n",
       "      <th class=\"col_heading level0 col63\" >rougher.state.floatbank10_f_air</th>\n",
       "      <th class=\"col_heading level0 col64\" >rougher.state.floatbank10_f_level</th>\n",
       "      <th class=\"col_heading level0 col65\" >secondary_cleaner.output.tail_ag</th>\n",
       "      <th class=\"col_heading level0 col66\" >secondary_cleaner.output.tail_pb</th>\n",
       "      <th class=\"col_heading level0 col67\" >secondary_cleaner.output.tail_sol</th>\n",
       "      <th class=\"col_heading level0 col68\" >secondary_cleaner.output.tail_au</th>\n",
       "      <th class=\"col_heading level0 col69\" >secondary_cleaner.state.floatbank2_a_air</th>\n",
       "      <th class=\"col_heading level0 col70\" >secondary_cleaner.state.floatbank2_a_level</th>\n",
       "      <th class=\"col_heading level0 col71\" >secondary_cleaner.state.floatbank2_b_air</th>\n",
       "      <th class=\"col_heading level0 col72\" >secondary_cleaner.state.floatbank2_b_level</th>\n",
       "      <th class=\"col_heading level0 col73\" >secondary_cleaner.state.floatbank3_a_air</th>\n",
       "      <th class=\"col_heading level0 col74\" >secondary_cleaner.state.floatbank3_a_level</th>\n",
       "      <th class=\"col_heading level0 col75\" >secondary_cleaner.state.floatbank3_b_air</th>\n",
       "      <th class=\"col_heading level0 col76\" >secondary_cleaner.state.floatbank3_b_level</th>\n",
       "      <th class=\"col_heading level0 col77\" >secondary_cleaner.state.floatbank4_a_air</th>\n",
       "      <th class=\"col_heading level0 col78\" >secondary_cleaner.state.floatbank4_a_level</th>\n",
       "      <th class=\"col_heading level0 col79\" >secondary_cleaner.state.floatbank4_b_air</th>\n",
       "      <th class=\"col_heading level0 col80\" >secondary_cleaner.state.floatbank4_b_level</th>\n",
       "      <th class=\"col_heading level0 col81\" >secondary_cleaner.state.floatbank5_a_air</th>\n",
       "      <th class=\"col_heading level0 col82\" >secondary_cleaner.state.floatbank5_a_level</th>\n",
       "      <th class=\"col_heading level0 col83\" >secondary_cleaner.state.floatbank5_b_air</th>\n",
       "      <th class=\"col_heading level0 col84\" >secondary_cleaner.state.floatbank5_b_level</th>\n",
       "      <th class=\"col_heading level0 col85\" >secondary_cleaner.state.floatbank6_a_air</th>\n",
       "      <th class=\"col_heading level0 col86\" >secondary_cleaner.state.floatbank6_a_level</th>\n",
       "    </tr>\n",
       "  </thead>\n",
       "  <tbody>\n",
       "    <tr>\n",
       "      <th id=\"T_fe4b8_level0_row0\" class=\"row_heading level0 row0\" >0</th>\n",
       "      <td id=\"T_fe4b8_row0_col0\" class=\"data row0 col0\" >2016-01-15 00:00:00</td>\n",
       "      <td id=\"T_fe4b8_row0_col1\" class=\"data row0 col1\" >6.055403</td>\n",
       "      <td id=\"T_fe4b8_row0_col2\" class=\"data row0 col2\" >9.889648</td>\n",
       "      <td id=\"T_fe4b8_row0_col3\" class=\"data row0 col3\" >5.507324</td>\n",
       "      <td id=\"T_fe4b8_row0_col4\" class=\"data row0 col4\" >42.192020</td>\n",
       "      <td id=\"T_fe4b8_row0_col5\" class=\"data row0 col5\" >70.541216</td>\n",
       "      <td id=\"T_fe4b8_row0_col6\" class=\"data row0 col6\" >10.411962</td>\n",
       "      <td id=\"T_fe4b8_row0_col7\" class=\"data row0 col7\" >0.895447</td>\n",
       "      <td id=\"T_fe4b8_row0_col8\" class=\"data row0 col8\" >16.904297</td>\n",
       "      <td id=\"T_fe4b8_row0_col9\" class=\"data row0 col9\" >2.143149</td>\n",
       "      <td id=\"T_fe4b8_row0_col10\" class=\"data row0 col10\" >127.092003</td>\n",
       "      <td id=\"T_fe4b8_row0_col11\" class=\"data row0 col11\" >10.128295</td>\n",
       "      <td id=\"T_fe4b8_row0_col12\" class=\"data row0 col12\" >7.250000</td>\n",
       "      <td id=\"T_fe4b8_row0_col13\" class=\"data row0 col13\" >0.988759</td>\n",
       "      <td id=\"T_fe4b8_row0_col14\" class=\"data row0 col14\" >8.547551</td>\n",
       "      <td id=\"T_fe4b8_row0_col15\" class=\"data row0 col15\" >10.389648</td>\n",
       "      <td id=\"T_fe4b8_row0_col16\" class=\"data row0 col16\" >19.529297</td>\n",
       "      <td id=\"T_fe4b8_row0_col17\" class=\"data row0 col17\" >34.174427</td>\n",
       "      <td id=\"T_fe4b8_row0_col18\" class=\"data row0 col18\" >14.936526</td>\n",
       "      <td id=\"T_fe4b8_row0_col19\" class=\"data row0 col19\" >2.534912</td>\n",
       "      <td id=\"T_fe4b8_row0_col20\" class=\"data row0 col20\" >7.476074</td>\n",
       "      <td id=\"T_fe4b8_row0_col21\" class=\"data row0 col21\" >2.106679</td>\n",
       "      <td id=\"T_fe4b8_row0_col22\" class=\"data row0 col22\" >1549.775757</td>\n",
       "      <td id=\"T_fe4b8_row0_col23\" class=\"data row0 col23\" >-498.912140</td>\n",
       "      <td id=\"T_fe4b8_row0_col24\" class=\"data row0 col24\" >1551.434204</td>\n",
       "      <td id=\"T_fe4b8_row0_col25\" class=\"data row0 col25\" >-516.403442</td>\n",
       "      <td id=\"T_fe4b8_row0_col26\" class=\"data row0 col26\" >1549.873901</td>\n",
       "      <td id=\"T_fe4b8_row0_col27\" class=\"data row0 col27\" >-498.666595</td>\n",
       "      <td id=\"T_fe4b8_row0_col28\" class=\"data row0 col28\" >1554.367432</td>\n",
       "      <td id=\"T_fe4b8_row0_col29\" class=\"data row0 col29\" >-493.428131</td>\n",
       "      <td id=\"T_fe4b8_row0_col30\" class=\"data row0 col30\" >41885.707031</td>\n",
       "      <td id=\"T_fe4b8_row0_col31\" class=\"data row0 col31\" >3481.779053</td>\n",
       "      <td id=\"T_fe4b8_row0_col32\" class=\"data row0 col32\" >3520.337158</td>\n",
       "      <td id=\"T_fe4b8_row0_col33\" class=\"data row0 col33\" >2.838687</td>\n",
       "      <td id=\"T_fe4b8_row0_col34\" class=\"data row0 col34\" >6.100378</td>\n",
       "      <td id=\"T_fe4b8_row0_col35\" class=\"data row0 col35\" >2.284912</td>\n",
       "      <td id=\"T_fe4b8_row0_col36\" class=\"data row0 col36\" >523.546326</td>\n",
       "      <td id=\"T_fe4b8_row0_col37\" class=\"data row0 col37\" >55.486599</td>\n",
       "      <td id=\"T_fe4b8_row0_col38\" class=\"data row0 col38\" >36.808594</td>\n",
       "      <td id=\"T_fe4b8_row0_col39\" class=\"data row0 col39\" >6.486150</td>\n",
       "      <td id=\"T_fe4b8_row0_col40\" class=\"data row0 col40\" >11.986616</td>\n",
       "      <td id=\"T_fe4b8_row0_col41\" class=\"data row0 col41\" >6.007990</td>\n",
       "      <td id=\"T_fe4b8_row0_col42\" class=\"data row0 col42\" >11.836743</td>\n",
       "      <td id=\"T_fe4b8_row0_col43\" class=\"data row0 col43\" >6.005818</td>\n",
       "      <td id=\"T_fe4b8_row0_col44\" class=\"data row0 col44\" >11.500771</td>\n",
       "      <td id=\"T_fe4b8_row0_col45\" class=\"data row0 col45\" >7.101074</td>\n",
       "      <td id=\"T_fe4b8_row0_col46\" class=\"data row0 col46\" >28.029297</td>\n",
       "      <td id=\"T_fe4b8_row0_col47\" class=\"data row0 col47\" >19.793808</td>\n",
       "      <td id=\"T_fe4b8_row0_col48\" class=\"data row0 col48\" >87.107763</td>\n",
       "      <td id=\"T_fe4b8_row0_col49\" class=\"data row0 col49\" >5.008018</td>\n",
       "      <td id=\"T_fe4b8_row0_col50\" class=\"data row0 col50\" >0.508728</td>\n",
       "      <td id=\"T_fe4b8_row0_col51\" class=\"data row0 col51\" >19.154297</td>\n",
       "      <td id=\"T_fe4b8_row0_col52\" class=\"data row0 col52\" >1.170244</td>\n",
       "      <td id=\"T_fe4b8_row0_col53\" class=\"data row0 col53\" >999.706909</td>\n",
       "      <td id=\"T_fe4b8_row0_col54\" class=\"data row0 col54\" >-404.066986</td>\n",
       "      <td id=\"T_fe4b8_row0_col55\" class=\"data row0 col55\" >1603.011353</td>\n",
       "      <td id=\"T_fe4b8_row0_col56\" class=\"data row0 col56\" >-434.715027</td>\n",
       "      <td id=\"T_fe4b8_row0_col57\" class=\"data row0 col57\" >1602.375000</td>\n",
       "      <td id=\"T_fe4b8_row0_col58\" class=\"data row0 col58\" >-442.204468</td>\n",
       "      <td id=\"T_fe4b8_row0_col59\" class=\"data row0 col59\" >1598.937256</td>\n",
       "      <td id=\"T_fe4b8_row0_col60\" class=\"data row0 col60\" >-451.294128</td>\n",
       "      <td id=\"T_fe4b8_row0_col61\" class=\"data row0 col61\" >1404.472046</td>\n",
       "      <td id=\"T_fe4b8_row0_col62\" class=\"data row0 col62\" >-455.462982</td>\n",
       "      <td id=\"T_fe4b8_row0_col63\" class=\"data row0 col63\" >1416.354980</td>\n",
       "      <td id=\"T_fe4b8_row0_col64\" class=\"data row0 col64\" >-451.939636</td>\n",
       "      <td id=\"T_fe4b8_row0_col65\" class=\"data row0 col65\" >14.500184</td>\n",
       "      <td id=\"T_fe4b8_row0_col66\" class=\"data row0 col66\" >4.694824</td>\n",
       "      <td id=\"T_fe4b8_row0_col67\" class=\"data row0 col67\" >8.764648</td>\n",
       "      <td id=\"T_fe4b8_row0_col68\" class=\"data row0 col68\" >2.606185</td>\n",
       "      <td id=\"T_fe4b8_row0_col69\" class=\"data row0 col69\" >25.853109</td>\n",
       "      <td id=\"T_fe4b8_row0_col70\" class=\"data row0 col70\" >-498.526489</td>\n",
       "      <td id=\"T_fe4b8_row0_col71\" class=\"data row0 col71\" >23.893660</td>\n",
       "      <td id=\"T_fe4b8_row0_col72\" class=\"data row0 col72\" >-501.406281</td>\n",
       "      <td id=\"T_fe4b8_row0_col73\" class=\"data row0 col73\" >23.961798</td>\n",
       "      <td id=\"T_fe4b8_row0_col74\" class=\"data row0 col74\" >-495.262817</td>\n",
       "      <td id=\"T_fe4b8_row0_col75\" class=\"data row0 col75\" >21.940409</td>\n",
       "      <td id=\"T_fe4b8_row0_col76\" class=\"data row0 col76\" >-499.340973</td>\n",
       "      <td id=\"T_fe4b8_row0_col77\" class=\"data row0 col77\" >14.016835</td>\n",
       "      <td id=\"T_fe4b8_row0_col78\" class=\"data row0 col78\" >-502.488007</td>\n",
       "      <td id=\"T_fe4b8_row0_col79\" class=\"data row0 col79\" >12.099931</td>\n",
       "      <td id=\"T_fe4b8_row0_col80\" class=\"data row0 col80\" >-504.715942</td>\n",
       "      <td id=\"T_fe4b8_row0_col81\" class=\"data row0 col81\" >9.925633</td>\n",
       "      <td id=\"T_fe4b8_row0_col82\" class=\"data row0 col82\" >-498.310211</td>\n",
       "      <td id=\"T_fe4b8_row0_col83\" class=\"data row0 col83\" >8.079666</td>\n",
       "      <td id=\"T_fe4b8_row0_col84\" class=\"data row0 col84\" >-500.470978</td>\n",
       "      <td id=\"T_fe4b8_row0_col85\" class=\"data row0 col85\" >14.151341</td>\n",
       "      <td id=\"T_fe4b8_row0_col86\" class=\"data row0 col86\" >-605.841980</td>\n",
       "    </tr>\n",
       "    <tr>\n",
       "      <th id=\"T_fe4b8_level0_row1\" class=\"row_heading level0 row1\" >1</th>\n",
       "      <td id=\"T_fe4b8_row1_col0\" class=\"data row1 col0\" >2016-01-15 01:00:00</td>\n",
       "      <td id=\"T_fe4b8_row1_col1\" class=\"data row1 col1\" >6.029369</td>\n",
       "      <td id=\"T_fe4b8_row1_col2\" class=\"data row1 col2\" >9.968944</td>\n",
       "      <td id=\"T_fe4b8_row1_col3\" class=\"data row1 col3\" >5.257781</td>\n",
       "      <td id=\"T_fe4b8_row1_col4\" class=\"data row1 col4\" >42.701629</td>\n",
       "      <td id=\"T_fe4b8_row1_col5\" class=\"data row1 col5\" >69.266198</td>\n",
       "      <td id=\"T_fe4b8_row1_col6\" class=\"data row1 col6\" >10.462676</td>\n",
       "      <td id=\"T_fe4b8_row1_col7\" class=\"data row1 col7\" >0.927452</td>\n",
       "      <td id=\"T_fe4b8_row1_col8\" class=\"data row1 col8\" >16.634514</td>\n",
       "      <td id=\"T_fe4b8_row1_col9\" class=\"data row1 col9\" >2.224930</td>\n",
       "      <td id=\"T_fe4b8_row1_col10\" class=\"data row1 col10\" >125.629232</td>\n",
       "      <td id=\"T_fe4b8_row1_col11\" class=\"data row1 col11\" >10.296251</td>\n",
       "      <td id=\"T_fe4b8_row1_col12\" class=\"data row1 col12\" >7.250000</td>\n",
       "      <td id=\"T_fe4b8_row1_col13\" class=\"data row1 col13\" >1.002663</td>\n",
       "      <td id=\"T_fe4b8_row1_col14\" class=\"data row1 col14\" >8.558743</td>\n",
       "      <td id=\"T_fe4b8_row1_col15\" class=\"data row1 col15\" >10.497069</td>\n",
       "      <td id=\"T_fe4b8_row1_col16\" class=\"data row1 col16\" >19.369147</td>\n",
       "      <td id=\"T_fe4b8_row1_col17\" class=\"data row1 col17\" >34.118526</td>\n",
       "      <td id=\"T_fe4b8_row1_col18\" class=\"data row1 col18\" >16.250511</td>\n",
       "      <td id=\"T_fe4b8_row1_col19\" class=\"data row1 col19\" >3.049646</td>\n",
       "      <td id=\"T_fe4b8_row1_col20\" class=\"data row1 col20\" >6.733907</td>\n",
       "      <td id=\"T_fe4b8_row1_col21\" class=\"data row1 col21\" >2.353017</td>\n",
       "      <td id=\"T_fe4b8_row1_col22\" class=\"data row1 col22\" >1576.166671</td>\n",
       "      <td id=\"T_fe4b8_row1_col23\" class=\"data row1 col23\" >-500.904965</td>\n",
       "      <td id=\"T_fe4b8_row1_col24\" class=\"data row1 col24\" >1575.950626</td>\n",
       "      <td id=\"T_fe4b8_row1_col25\" class=\"data row1 col25\" >-499.865889</td>\n",
       "      <td id=\"T_fe4b8_row1_col26\" class=\"data row1 col26\" >1575.994189</td>\n",
       "      <td id=\"T_fe4b8_row1_col27\" class=\"data row1 col27\" >-499.315107</td>\n",
       "      <td id=\"T_fe4b8_row1_col28\" class=\"data row1 col28\" >1574.479259</td>\n",
       "      <td id=\"T_fe4b8_row1_col29\" class=\"data row1 col29\" >-498.931665</td>\n",
       "      <td id=\"T_fe4b8_row1_col30\" class=\"data row1 col30\" >42050.861809</td>\n",
       "      <td id=\"T_fe4b8_row1_col31\" class=\"data row1 col31\" >3498.370979</td>\n",
       "      <td id=\"T_fe4b8_row1_col32\" class=\"data row1 col32\" >3489.981857</td>\n",
       "      <td id=\"T_fe4b8_row1_col33\" class=\"data row1 col33\" >2.858998</td>\n",
       "      <td id=\"T_fe4b8_row1_col34\" class=\"data row1 col34\" >6.161113</td>\n",
       "      <td id=\"T_fe4b8_row1_col35\" class=\"data row1 col35\" >2.266033</td>\n",
       "      <td id=\"T_fe4b8_row1_col36\" class=\"data row1 col36\" >525.290581</td>\n",
       "      <td id=\"T_fe4b8_row1_col37\" class=\"data row1 col37\" >57.278666</td>\n",
       "      <td id=\"T_fe4b8_row1_col38\" class=\"data row1 col38\" >35.753385</td>\n",
       "      <td id=\"T_fe4b8_row1_col39\" class=\"data row1 col39\" >6.478583</td>\n",
       "      <td id=\"T_fe4b8_row1_col40\" class=\"data row1 col40\" >11.971193</td>\n",
       "      <td id=\"T_fe4b8_row1_col41\" class=\"data row1 col41\" >6.005766</td>\n",
       "      <td id=\"T_fe4b8_row1_col42\" class=\"data row1 col42\" >11.996163</td>\n",
       "      <td id=\"T_fe4b8_row1_col43\" class=\"data row1 col43\" >6.012594</td>\n",
       "      <td id=\"T_fe4b8_row1_col44\" class=\"data row1 col44\" >11.615865</td>\n",
       "      <td id=\"T_fe4b8_row1_col45\" class=\"data row1 col45\" >7.278807</td>\n",
       "      <td id=\"T_fe4b8_row1_col46\" class=\"data row1 col46\" >28.067063</td>\n",
       "      <td id=\"T_fe4b8_row1_col47\" class=\"data row1 col47\" >20.050975</td>\n",
       "      <td id=\"T_fe4b8_row1_col48\" class=\"data row1 col48\" >86.843261</td>\n",
       "      <td id=\"T_fe4b8_row1_col49\" class=\"data row1 col49\" >4.955378</td>\n",
       "      <td id=\"T_fe4b8_row1_col50\" class=\"data row1 col50\" >0.536689</td>\n",
       "      <td id=\"T_fe4b8_row1_col51\" class=\"data row1 col51\" >18.965234</td>\n",
       "      <td id=\"T_fe4b8_row1_col52\" class=\"data row1 col52\" >1.184827</td>\n",
       "      <td id=\"T_fe4b8_row1_col53\" class=\"data row1 col53\" >1000.286398</td>\n",
       "      <td id=\"T_fe4b8_row1_col54\" class=\"data row1 col54\" >-400.065196</td>\n",
       "      <td id=\"T_fe4b8_row1_col55\" class=\"data row1 col55\" >1600.754587</td>\n",
       "      <td id=\"T_fe4b8_row1_col56\" class=\"data row1 col56\" >-449.953435</td>\n",
       "      <td id=\"T_fe4b8_row1_col57\" class=\"data row1 col57\" >1600.479580</td>\n",
       "      <td id=\"T_fe4b8_row1_col58\" class=\"data row1 col58\" >-449.830646</td>\n",
       "      <td id=\"T_fe4b8_row1_col59\" class=\"data row1 col59\" >1600.527589</td>\n",
       "      <td id=\"T_fe4b8_row1_col60\" class=\"data row1 col60\" >-449.953649</td>\n",
       "      <td id=\"T_fe4b8_row1_col61\" class=\"data row1 col61\" >1399.227084</td>\n",
       "      <td id=\"T_fe4b8_row1_col62\" class=\"data row1 col62\" >-450.869848</td>\n",
       "      <td id=\"T_fe4b8_row1_col63\" class=\"data row1 col63\" >1399.719514</td>\n",
       "      <td id=\"T_fe4b8_row1_col64\" class=\"data row1 col64\" >-450.119001</td>\n",
       "      <td id=\"T_fe4b8_row1_col65\" class=\"data row1 col65\" >14.265474</td>\n",
       "      <td id=\"T_fe4b8_row1_col66\" class=\"data row1 col66\" >4.592547</td>\n",
       "      <td id=\"T_fe4b8_row1_col67\" class=\"data row1 col67\" >9.001494</td>\n",
       "      <td id=\"T_fe4b8_row1_col68\" class=\"data row1 col68\" >2.488248</td>\n",
       "      <td id=\"T_fe4b8_row1_col69\" class=\"data row1 col69\" >25.880539</td>\n",
       "      <td id=\"T_fe4b8_row1_col70\" class=\"data row1 col70\" >-499.989656</td>\n",
       "      <td id=\"T_fe4b8_row1_col71\" class=\"data row1 col71\" >23.889530</td>\n",
       "      <td id=\"T_fe4b8_row1_col72\" class=\"data row1 col72\" >-500.372428</td>\n",
       "      <td id=\"T_fe4b8_row1_col73\" class=\"data row1 col73\" >23.970550</td>\n",
       "      <td id=\"T_fe4b8_row1_col74\" class=\"data row1 col74\" >-500.085473</td>\n",
       "      <td id=\"T_fe4b8_row1_col75\" class=\"data row1 col75\" >22.085714</td>\n",
       "      <td id=\"T_fe4b8_row1_col76\" class=\"data row1 col76\" >-499.446897</td>\n",
       "      <td id=\"T_fe4b8_row1_col77\" class=\"data row1 col77\" >13.992281</td>\n",
       "      <td id=\"T_fe4b8_row1_col78\" class=\"data row1 col78\" >-505.503262</td>\n",
       "      <td id=\"T_fe4b8_row1_col79\" class=\"data row1 col79\" >11.950531</td>\n",
       "      <td id=\"T_fe4b8_row1_col80\" class=\"data row1 col80\" >-501.331529</td>\n",
       "      <td id=\"T_fe4b8_row1_col81\" class=\"data row1 col81\" >10.039245</td>\n",
       "      <td id=\"T_fe4b8_row1_col82\" class=\"data row1 col82\" >-500.169983</td>\n",
       "      <td id=\"T_fe4b8_row1_col83\" class=\"data row1 col83\" >7.984757</td>\n",
       "      <td id=\"T_fe4b8_row1_col84\" class=\"data row1 col84\" >-500.582168</td>\n",
       "      <td id=\"T_fe4b8_row1_col85\" class=\"data row1 col85\" >13.998353</td>\n",
       "      <td id=\"T_fe4b8_row1_col86\" class=\"data row1 col86\" >-599.787184</td>\n",
       "    </tr>\n",
       "    <tr>\n",
       "      <th id=\"T_fe4b8_level0_row2\" class=\"row_heading level0 row2\" >2</th>\n",
       "      <td id=\"T_fe4b8_row2_col0\" class=\"data row2 col0\" >2016-01-15 02:00:00</td>\n",
       "      <td id=\"T_fe4b8_row2_col1\" class=\"data row2 col1\" >6.055926</td>\n",
       "      <td id=\"T_fe4b8_row2_col2\" class=\"data row2 col2\" >10.213995</td>\n",
       "      <td id=\"T_fe4b8_row2_col3\" class=\"data row2 col3\" >5.383759</td>\n",
       "      <td id=\"T_fe4b8_row2_col4\" class=\"data row2 col4\" >42.657501</td>\n",
       "      <td id=\"T_fe4b8_row2_col5\" class=\"data row2 col5\" >68.116445</td>\n",
       "      <td id=\"T_fe4b8_row2_col6\" class=\"data row2 col6\" >10.507046</td>\n",
       "      <td id=\"T_fe4b8_row2_col7\" class=\"data row2 col7\" >0.953716</td>\n",
       "      <td id=\"T_fe4b8_row2_col8\" class=\"data row2 col8\" >16.208849</td>\n",
       "      <td id=\"T_fe4b8_row2_col9\" class=\"data row2 col9\" >2.257889</td>\n",
       "      <td id=\"T_fe4b8_row2_col10\" class=\"data row2 col10\" >123.819808</td>\n",
       "      <td id=\"T_fe4b8_row2_col11\" class=\"data row2 col11\" >11.316280</td>\n",
       "      <td id=\"T_fe4b8_row2_col12\" class=\"data row2 col12\" >7.250000</td>\n",
       "      <td id=\"T_fe4b8_row2_col13\" class=\"data row2 col13\" >0.991265</td>\n",
       "      <td id=\"T_fe4b8_row2_col14\" class=\"data row2 col14\" >8.603505</td>\n",
       "      <td id=\"T_fe4b8_row2_col15\" class=\"data row2 col15\" >10.354494</td>\n",
       "      <td id=\"T_fe4b8_row2_col16\" class=\"data row2 col16\" >19.167579</td>\n",
       "      <td id=\"T_fe4b8_row2_col17\" class=\"data row2 col17\" >33.969464</td>\n",
       "      <td id=\"T_fe4b8_row2_col18\" class=\"data row2 col18\" >16.491823</td>\n",
       "      <td id=\"T_fe4b8_row2_col19\" class=\"data row2 col19\" >3.124664</td>\n",
       "      <td id=\"T_fe4b8_row2_col20\" class=\"data row2 col20\" >6.471768</td>\n",
       "      <td id=\"T_fe4b8_row2_col21\" class=\"data row2 col21\" >2.416800</td>\n",
       "      <td id=\"T_fe4b8_row2_col22\" class=\"data row2 col22\" >1601.556163</td>\n",
       "      <td id=\"T_fe4b8_row2_col23\" class=\"data row2 col23\" >-499.997791</td>\n",
       "      <td id=\"T_fe4b8_row2_col24\" class=\"data row2 col24\" >1600.386685</td>\n",
       "      <td id=\"T_fe4b8_row2_col25\" class=\"data row2 col25\" >-500.607762</td>\n",
       "      <td id=\"T_fe4b8_row2_col26\" class=\"data row2 col26\" >1602.003542</td>\n",
       "      <td id=\"T_fe4b8_row2_col27\" class=\"data row2 col27\" >-500.870069</td>\n",
       "      <td id=\"T_fe4b8_row2_col28\" class=\"data row2 col28\" >1599.541515</td>\n",
       "      <td id=\"T_fe4b8_row2_col29\" class=\"data row2 col29\" >-499.827444</td>\n",
       "      <td id=\"T_fe4b8_row2_col30\" class=\"data row2 col30\" >42018.101184</td>\n",
       "      <td id=\"T_fe4b8_row2_col31\" class=\"data row2 col31\" >3495.348910</td>\n",
       "      <td id=\"T_fe4b8_row2_col32\" class=\"data row2 col32\" >3502.359819</td>\n",
       "      <td id=\"T_fe4b8_row2_col33\" class=\"data row2 col33\" >2.945989</td>\n",
       "      <td id=\"T_fe4b8_row2_col34\" class=\"data row2 col34\" >6.116455</td>\n",
       "      <td id=\"T_fe4b8_row2_col35\" class=\"data row2 col35\" >2.159622</td>\n",
       "      <td id=\"T_fe4b8_row2_col36\" class=\"data row2 col36\" >530.026610</td>\n",
       "      <td id=\"T_fe4b8_row2_col37\" class=\"data row2 col37\" >57.510649</td>\n",
       "      <td id=\"T_fe4b8_row2_col38\" class=\"data row2 col38\" >35.971630</td>\n",
       "      <td id=\"T_fe4b8_row2_col39\" class=\"data row2 col39\" >6.362222</td>\n",
       "      <td id=\"T_fe4b8_row2_col40\" class=\"data row2 col40\" >11.920603</td>\n",
       "      <td id=\"T_fe4b8_row2_col41\" class=\"data row2 col41\" >6.197377</td>\n",
       "      <td id=\"T_fe4b8_row2_col42\" class=\"data row2 col42\" >11.920305</td>\n",
       "      <td id=\"T_fe4b8_row2_col43\" class=\"data row2 col43\" >6.204633</td>\n",
       "      <td id=\"T_fe4b8_row2_col44\" class=\"data row2 col44\" >11.695753</td>\n",
       "      <td id=\"T_fe4b8_row2_col45\" class=\"data row2 col45\" >7.216833</td>\n",
       "      <td id=\"T_fe4b8_row2_col46\" class=\"data row2 col46\" >27.454037</td>\n",
       "      <td id=\"T_fe4b8_row2_col47\" class=\"data row2 col47\" >19.737170</td>\n",
       "      <td id=\"T_fe4b8_row2_col48\" class=\"data row2 col48\" >86.842308</td>\n",
       "      <td id=\"T_fe4b8_row2_col49\" class=\"data row2 col49\" >4.843460</td>\n",
       "      <td id=\"T_fe4b8_row2_col50\" class=\"data row2 col50\" >0.546416</td>\n",
       "      <td id=\"T_fe4b8_row2_col51\" class=\"data row2 col51\" >18.808533</td>\n",
       "      <td id=\"T_fe4b8_row2_col52\" class=\"data row2 col52\" >1.162562</td>\n",
       "      <td id=\"T_fe4b8_row2_col53\" class=\"data row2 col53\" >999.719565</td>\n",
       "      <td id=\"T_fe4b8_row2_col54\" class=\"data row2 col54\" >-400.074028</td>\n",
       "      <td id=\"T_fe4b8_row2_col55\" class=\"data row2 col55\" >1599.337330</td>\n",
       "      <td id=\"T_fe4b8_row2_col56\" class=\"data row2 col56\" >-450.008530</td>\n",
       "      <td id=\"T_fe4b8_row2_col57\" class=\"data row2 col57\" >1599.672797</td>\n",
       "      <td id=\"T_fe4b8_row2_col58\" class=\"data row2 col58\" >-449.954491</td>\n",
       "      <td id=\"T_fe4b8_row2_col59\" class=\"data row2 col59\" >1599.849325</td>\n",
       "      <td id=\"T_fe4b8_row2_col60\" class=\"data row2 col60\" >-449.954185</td>\n",
       "      <td id=\"T_fe4b8_row2_col61\" class=\"data row2 col61\" >1399.180945</td>\n",
       "      <td id=\"T_fe4b8_row2_col62\" class=\"data row2 col62\" >-449.937588</td>\n",
       "      <td id=\"T_fe4b8_row2_col63\" class=\"data row2 col63\" >1400.316682</td>\n",
       "      <td id=\"T_fe4b8_row2_col64\" class=\"data row2 col64\" >-450.527147</td>\n",
       "      <td id=\"T_fe4b8_row2_col65\" class=\"data row2 col65\" >14.115662</td>\n",
       "      <td id=\"T_fe4b8_row2_col66\" class=\"data row2 col66\" >4.624775</td>\n",
       "      <td id=\"T_fe4b8_row2_col67\" class=\"data row2 col67\" >8.842896</td>\n",
       "      <td id=\"T_fe4b8_row2_col68\" class=\"data row2 col68\" >2.458187</td>\n",
       "      <td id=\"T_fe4b8_row2_col69\" class=\"data row2 col69\" >26.005245</td>\n",
       "      <td id=\"T_fe4b8_row2_col70\" class=\"data row2 col70\" >-499.929616</td>\n",
       "      <td id=\"T_fe4b8_row2_col71\" class=\"data row2 col71\" >23.886657</td>\n",
       "      <td id=\"T_fe4b8_row2_col72\" class=\"data row2 col72\" >-499.951928</td>\n",
       "      <td id=\"T_fe4b8_row2_col73\" class=\"data row2 col73\" >23.913535</td>\n",
       "      <td id=\"T_fe4b8_row2_col74\" class=\"data row2 col74\" >-499.442343</td>\n",
       "      <td id=\"T_fe4b8_row2_col75\" class=\"data row2 col75\" >23.957717</td>\n",
       "      <td id=\"T_fe4b8_row2_col76\" class=\"data row2 col76\" >-499.901982</td>\n",
       "      <td id=\"T_fe4b8_row2_col77\" class=\"data row2 col77\" >14.015015</td>\n",
       "      <td id=\"T_fe4b8_row2_col78\" class=\"data row2 col78\" >-502.520901</td>\n",
       "      <td id=\"T_fe4b8_row2_col79\" class=\"data row2 col79\" >11.912783</td>\n",
       "      <td id=\"T_fe4b8_row2_col80\" class=\"data row2 col80\" >-501.133383</td>\n",
       "      <td id=\"T_fe4b8_row2_col81\" class=\"data row2 col81\" >10.070913</td>\n",
       "      <td id=\"T_fe4b8_row2_col82\" class=\"data row2 col82\" >-500.129135</td>\n",
       "      <td id=\"T_fe4b8_row2_col83\" class=\"data row2 col83\" >8.013877</td>\n",
       "      <td id=\"T_fe4b8_row2_col84\" class=\"data row2 col84\" >-500.517572</td>\n",
       "      <td id=\"T_fe4b8_row2_col85\" class=\"data row2 col85\" >14.028663</td>\n",
       "      <td id=\"T_fe4b8_row2_col86\" class=\"data row2 col86\" >-601.427363</td>\n",
       "    </tr>\n",
       "    <tr>\n",
       "      <th id=\"T_fe4b8_level0_row3\" class=\"row_heading level0 row3\" >3</th>\n",
       "      <td id=\"T_fe4b8_row3_col0\" class=\"data row3 col0\" >2016-01-15 03:00:00</td>\n",
       "      <td id=\"T_fe4b8_row3_col1\" class=\"data row3 col1\" >6.047977</td>\n",
       "      <td id=\"T_fe4b8_row3_col2\" class=\"data row3 col2\" >9.977019</td>\n",
       "      <td id=\"T_fe4b8_row3_col3\" class=\"data row3 col3\" >4.858634</td>\n",
       "      <td id=\"T_fe4b8_row3_col4\" class=\"data row3 col4\" >42.689819</td>\n",
       "      <td id=\"T_fe4b8_row3_col5\" class=\"data row3 col5\" >68.347543</td>\n",
       "      <td id=\"T_fe4b8_row3_col6\" class=\"data row3 col6\" >10.422762</td>\n",
       "      <td id=\"T_fe4b8_row3_col7\" class=\"data row3 col7\" >0.883763</td>\n",
       "      <td id=\"T_fe4b8_row3_col8\" class=\"data row3 col8\" >16.532835</td>\n",
       "      <td id=\"T_fe4b8_row3_col9\" class=\"data row3 col9\" >2.146849</td>\n",
       "      <td id=\"T_fe4b8_row3_col10\" class=\"data row3 col10\" >122.270188</td>\n",
       "      <td id=\"T_fe4b8_row3_col11\" class=\"data row3 col11\" >11.322140</td>\n",
       "      <td id=\"T_fe4b8_row3_col12\" class=\"data row3 col12\" >7.250000</td>\n",
       "      <td id=\"T_fe4b8_row3_col13\" class=\"data row3 col13\" >0.996739</td>\n",
       "      <td id=\"T_fe4b8_row3_col14\" class=\"data row3 col14\" >7.221879</td>\n",
       "      <td id=\"T_fe4b8_row3_col15\" class=\"data row3 col15\" >8.496563</td>\n",
       "      <td id=\"T_fe4b8_row3_col16\" class=\"data row3 col16\" >15.978538</td>\n",
       "      <td id=\"T_fe4b8_row3_col17\" class=\"data row3 col17\" >28.260743</td>\n",
       "      <td id=\"T_fe4b8_row3_col18\" class=\"data row3 col18\" >16.024359</td>\n",
       "      <td id=\"T_fe4b8_row3_col19\" class=\"data row3 col19\" >2.960362</td>\n",
       "      <td id=\"T_fe4b8_row3_col20\" class=\"data row3 col20\" >6.843791</td>\n",
       "      <td id=\"T_fe4b8_row3_col21\" class=\"data row3 col21\" >2.262051</td>\n",
       "      <td id=\"T_fe4b8_row3_col22\" class=\"data row3 col22\" >1599.968720</td>\n",
       "      <td id=\"T_fe4b8_row3_col23\" class=\"data row3 col23\" >-500.951778</td>\n",
       "      <td id=\"T_fe4b8_row3_col24\" class=\"data row3 col24\" >1600.659236</td>\n",
       "      <td id=\"T_fe4b8_row3_col25\" class=\"data row3 col25\" >-499.677094</td>\n",
       "      <td id=\"T_fe4b8_row3_col26\" class=\"data row3 col26\" >1600.304144</td>\n",
       "      <td id=\"T_fe4b8_row3_col27\" class=\"data row3 col27\" >-500.727997</td>\n",
       "      <td id=\"T_fe4b8_row3_col28\" class=\"data row3 col28\" >1600.449520</td>\n",
       "      <td id=\"T_fe4b8_row3_col29\" class=\"data row3 col29\" >-500.052575</td>\n",
       "      <td id=\"T_fe4b8_row3_col30\" class=\"data row3 col30\" >42029.447991</td>\n",
       "      <td id=\"T_fe4b8_row3_col31\" class=\"data row3 col31\" >3498.578313</td>\n",
       "      <td id=\"T_fe4b8_row3_col32\" class=\"data row3 col32\" >3499.162912</td>\n",
       "      <td id=\"T_fe4b8_row3_col33\" class=\"data row3 col33\" >3.002340</td>\n",
       "      <td id=\"T_fe4b8_row3_col34\" class=\"data row3 col34\" >6.043309</td>\n",
       "      <td id=\"T_fe4b8_row3_col35\" class=\"data row3 col35\" >2.037807</td>\n",
       "      <td id=\"T_fe4b8_row3_col36\" class=\"data row3 col36\" >542.590390</td>\n",
       "      <td id=\"T_fe4b8_row3_col37\" class=\"data row3 col37\" >57.792734</td>\n",
       "      <td id=\"T_fe4b8_row3_col38\" class=\"data row3 col38\" >36.862241</td>\n",
       "      <td id=\"T_fe4b8_row3_col39\" class=\"data row3 col39\" >6.118189</td>\n",
       "      <td id=\"T_fe4b8_row3_col40\" class=\"data row3 col40\" >11.630094</td>\n",
       "      <td id=\"T_fe4b8_row3_col41\" class=\"data row3 col41\" >6.203177</td>\n",
       "      <td id=\"T_fe4b8_row3_col42\" class=\"data row3 col42\" >11.692450</td>\n",
       "      <td id=\"T_fe4b8_row3_col43\" class=\"data row3 col43\" >6.196578</td>\n",
       "      <td id=\"T_fe4b8_row3_col44\" class=\"data row3 col44\" >11.915047</td>\n",
       "      <td id=\"T_fe4b8_row3_col45\" class=\"data row3 col45\" >7.175616</td>\n",
       "      <td id=\"T_fe4b8_row3_col46\" class=\"data row3 col46\" >27.341277</td>\n",
       "      <td id=\"T_fe4b8_row3_col47\" class=\"data row3 col47\" >19.320810</td>\n",
       "      <td id=\"T_fe4b8_row3_col48\" class=\"data row3 col48\" >87.226430</td>\n",
       "      <td id=\"T_fe4b8_row3_col49\" class=\"data row3 col49\" >4.655288</td>\n",
       "      <td id=\"T_fe4b8_row3_col50\" class=\"data row3 col50\" >0.542525</td>\n",
       "      <td id=\"T_fe4b8_row3_col51\" class=\"data row3 col51\" >19.330200</td>\n",
       "      <td id=\"T_fe4b8_row3_col52\" class=\"data row3 col52\" >1.079755</td>\n",
       "      <td id=\"T_fe4b8_row3_col53\" class=\"data row3 col53\" >999.814770</td>\n",
       "      <td id=\"T_fe4b8_row3_col54\" class=\"data row3 col54\" >-400.200179</td>\n",
       "      <td id=\"T_fe4b8_row3_col55\" class=\"data row3 col55\" >1600.059442</td>\n",
       "      <td id=\"T_fe4b8_row3_col56\" class=\"data row3 col56\" >-450.619948</td>\n",
       "      <td id=\"T_fe4b8_row3_col57\" class=\"data row3 col57\" >1600.012842</td>\n",
       "      <td id=\"T_fe4b8_row3_col58\" class=\"data row3 col58\" >-449.910497</td>\n",
       "      <td id=\"T_fe4b8_row3_col59\" class=\"data row3 col59\" >1597.725177</td>\n",
       "      <td id=\"T_fe4b8_row3_col60\" class=\"data row3 col60\" >-450.130127</td>\n",
       "      <td id=\"T_fe4b8_row3_col61\" class=\"data row3 col61\" >1400.943157</td>\n",
       "      <td id=\"T_fe4b8_row3_col62\" class=\"data row3 col62\" >-450.030142</td>\n",
       "      <td id=\"T_fe4b8_row3_col63\" class=\"data row3 col63\" >1400.234743</td>\n",
       "      <td id=\"T_fe4b8_row3_col64\" class=\"data row3 col64\" >-449.790835</td>\n",
       "      <td id=\"T_fe4b8_row3_col65\" class=\"data row3 col65\" >13.732071</td>\n",
       "      <td id=\"T_fe4b8_row3_col66\" class=\"data row3 col66\" >4.482453</td>\n",
       "      <td id=\"T_fe4b8_row3_col67\" class=\"data row3 col67\" >9.122857</td>\n",
       "      <td id=\"T_fe4b8_row3_col68\" class=\"data row3 col68\" >2.322062</td>\n",
       "      <td id=\"T_fe4b8_row3_col69\" class=\"data row3 col69\" >25.942508</td>\n",
       "      <td id=\"T_fe4b8_row3_col70\" class=\"data row3 col70\" >-499.176749</td>\n",
       "      <td id=\"T_fe4b8_row3_col71\" class=\"data row3 col71\" >23.955516</td>\n",
       "      <td id=\"T_fe4b8_row3_col72\" class=\"data row3 col72\" >-499.848796</td>\n",
       "      <td id=\"T_fe4b8_row3_col73\" class=\"data row3 col73\" >23.966838</td>\n",
       "      <td id=\"T_fe4b8_row3_col74\" class=\"data row3 col74\" >-500.008812</td>\n",
       "      <td id=\"T_fe4b8_row3_col75\" class=\"data row3 col75\" >23.954443</td>\n",
       "      <td id=\"T_fe4b8_row3_col76\" class=\"data row3 col76\" >-499.944710</td>\n",
       "      <td id=\"T_fe4b8_row3_col77\" class=\"data row3 col77\" >14.036510</td>\n",
       "      <td id=\"T_fe4b8_row3_col78\" class=\"data row3 col78\" >-500.857308</td>\n",
       "      <td id=\"T_fe4b8_row3_col79\" class=\"data row3 col79\" >11.999550</td>\n",
       "      <td id=\"T_fe4b8_row3_col80\" class=\"data row3 col80\" >-501.193686</td>\n",
       "      <td id=\"T_fe4b8_row3_col81\" class=\"data row3 col81\" >9.970366</td>\n",
       "      <td id=\"T_fe4b8_row3_col82\" class=\"data row3 col82\" >-499.201640</td>\n",
       "      <td id=\"T_fe4b8_row3_col83\" class=\"data row3 col83\" >7.977324</td>\n",
       "      <td id=\"T_fe4b8_row3_col84\" class=\"data row3 col84\" >-500.255908</td>\n",
       "      <td id=\"T_fe4b8_row3_col85\" class=\"data row3 col85\" >14.005551</td>\n",
       "      <td id=\"T_fe4b8_row3_col86\" class=\"data row3 col86\" >-599.996129</td>\n",
       "    </tr>\n",
       "    <tr>\n",
       "      <th id=\"T_fe4b8_level0_row4\" class=\"row_heading level0 row4\" >4</th>\n",
       "      <td id=\"T_fe4b8_row4_col0\" class=\"data row4 col0\" >2016-01-15 04:00:00</td>\n",
       "      <td id=\"T_fe4b8_row4_col1\" class=\"data row4 col1\" >6.148599</td>\n",
       "      <td id=\"T_fe4b8_row4_col2\" class=\"data row4 col2\" >10.142511</td>\n",
       "      <td id=\"T_fe4b8_row4_col3\" class=\"data row4 col3\" >4.939416</td>\n",
       "      <td id=\"T_fe4b8_row4_col4\" class=\"data row4 col4\" >42.774141</td>\n",
       "      <td id=\"T_fe4b8_row4_col5\" class=\"data row4 col5\" >66.927016</td>\n",
       "      <td id=\"T_fe4b8_row4_col6\" class=\"data row4 col6\" >10.360302</td>\n",
       "      <td id=\"T_fe4b8_row4_col7\" class=\"data row4 col7\" >0.792826</td>\n",
       "      <td id=\"T_fe4b8_row4_col8\" class=\"data row4 col8\" >16.525686</td>\n",
       "      <td id=\"T_fe4b8_row4_col9\" class=\"data row4 col9\" >2.055292</td>\n",
       "      <td id=\"T_fe4b8_row4_col10\" class=\"data row4 col10\" >117.988169</td>\n",
       "      <td id=\"T_fe4b8_row4_col11\" class=\"data row4 col11\" >11.913613</td>\n",
       "      <td id=\"T_fe4b8_row4_col12\" class=\"data row4 col12\" >7.250000</td>\n",
       "      <td id=\"T_fe4b8_row4_col13\" class=\"data row4 col13\" >1.009869</td>\n",
       "      <td id=\"T_fe4b8_row4_col14\" class=\"data row4 col14\" >9.089428</td>\n",
       "      <td id=\"T_fe4b8_row4_col15\" class=\"data row4 col15\" >9.986786</td>\n",
       "      <td id=\"T_fe4b8_row4_col16\" class=\"data row4 col16\" >19.199864</td>\n",
       "      <td id=\"T_fe4b8_row4_col17\" class=\"data row4 col17\" >33.044932</td>\n",
       "      <td id=\"T_fe4b8_row4_col18\" class=\"data row4 col18\" >16.480185</td>\n",
       "      <td id=\"T_fe4b8_row4_col19\" class=\"data row4 col19\" >3.112100</td>\n",
       "      <td id=\"T_fe4b8_row4_col20\" class=\"data row4 col20\" >6.550154</td>\n",
       "      <td id=\"T_fe4b8_row4_col21\" class=\"data row4 col21\" >2.277073</td>\n",
       "      <td id=\"T_fe4b8_row4_col22\" class=\"data row4 col22\" >1601.339707</td>\n",
       "      <td id=\"T_fe4b8_row4_col23\" class=\"data row4 col23\" >-498.975456</td>\n",
       "      <td id=\"T_fe4b8_row4_col24\" class=\"data row4 col24\" >1601.437854</td>\n",
       "      <td id=\"T_fe4b8_row4_col25\" class=\"data row4 col25\" >-500.323246</td>\n",
       "      <td id=\"T_fe4b8_row4_col26\" class=\"data row4 col26\" >1599.581894</td>\n",
       "      <td id=\"T_fe4b8_row4_col27\" class=\"data row4 col27\" >-500.888152</td>\n",
       "      <td id=\"T_fe4b8_row4_col28\" class=\"data row4 col28\" >1602.649541</td>\n",
       "      <td id=\"T_fe4b8_row4_col29\" class=\"data row4 col29\" >-500.593010</td>\n",
       "      <td id=\"T_fe4b8_row4_col30\" class=\"data row4 col30\" >42125.354245</td>\n",
       "      <td id=\"T_fe4b8_row4_col31\" class=\"data row4 col31\" >3494.800771</td>\n",
       "      <td id=\"T_fe4b8_row4_col32\" class=\"data row4 col32\" >3506.679315</td>\n",
       "      <td id=\"T_fe4b8_row4_col33\" class=\"data row4 col33\" >3.169615</td>\n",
       "      <td id=\"T_fe4b8_row4_col34\" class=\"data row4 col34\" >6.060915</td>\n",
       "      <td id=\"T_fe4b8_row4_col35\" class=\"data row4 col35\" >1.786875</td>\n",
       "      <td id=\"T_fe4b8_row4_col36\" class=\"data row4 col36\" >540.531893</td>\n",
       "      <td id=\"T_fe4b8_row4_col37\" class=\"data row4 col37\" >56.047189</td>\n",
       "      <td id=\"T_fe4b8_row4_col38\" class=\"data row4 col38\" >34.347666</td>\n",
       "      <td id=\"T_fe4b8_row4_col39\" class=\"data row4 col39\" >5.663707</td>\n",
       "      <td id=\"T_fe4b8_row4_col40\" class=\"data row4 col40\" >10.957755</td>\n",
       "      <td id=\"T_fe4b8_row4_col41\" class=\"data row4 col41\" >6.198826</td>\n",
       "      <td id=\"T_fe4b8_row4_col42\" class=\"data row4 col42\" >10.960521</td>\n",
       "      <td id=\"T_fe4b8_row4_col43\" class=\"data row4 col43\" >6.194897</td>\n",
       "      <td id=\"T_fe4b8_row4_col44\" class=\"data row4 col44\" >12.411054</td>\n",
       "      <td id=\"T_fe4b8_row4_col45\" class=\"data row4 col45\" >7.240205</td>\n",
       "      <td id=\"T_fe4b8_row4_col46\" class=\"data row4 col46\" >27.041023</td>\n",
       "      <td id=\"T_fe4b8_row4_col47\" class=\"data row4 col47\" >19.216101</td>\n",
       "      <td id=\"T_fe4b8_row4_col48\" class=\"data row4 col48\" >86.688794</td>\n",
       "      <td id=\"T_fe4b8_row4_col49\" class=\"data row4 col49\" >4.552800</td>\n",
       "      <td id=\"T_fe4b8_row4_col50\" class=\"data row4 col50\" >0.515438</td>\n",
       "      <td id=\"T_fe4b8_row4_col51\" class=\"data row4 col51\" >19.267422</td>\n",
       "      <td id=\"T_fe4b8_row4_col52\" class=\"data row4 col52\" >1.012642</td>\n",
       "      <td id=\"T_fe4b8_row4_col53\" class=\"data row4 col53\" >999.678690</td>\n",
       "      <td id=\"T_fe4b8_row4_col54\" class=\"data row4 col54\" >-399.752729</td>\n",
       "      <td id=\"T_fe4b8_row4_col55\" class=\"data row4 col55\" >1600.208824</td>\n",
       "      <td id=\"T_fe4b8_row4_col56\" class=\"data row4 col56\" >-449.599614</td>\n",
       "      <td id=\"T_fe4b8_row4_col57\" class=\"data row4 col57\" >1600.357732</td>\n",
       "      <td id=\"T_fe4b8_row4_col58\" class=\"data row4 col58\" >-450.034364</td>\n",
       "      <td id=\"T_fe4b8_row4_col59\" class=\"data row4 col59\" >1599.759049</td>\n",
       "      <td id=\"T_fe4b8_row4_col60\" class=\"data row4 col60\" >-449.909799</td>\n",
       "      <td id=\"T_fe4b8_row4_col61\" class=\"data row4 col61\" >1401.560902</td>\n",
       "      <td id=\"T_fe4b8_row4_col62\" class=\"data row4 col62\" >-448.877187</td>\n",
       "      <td id=\"T_fe4b8_row4_col63\" class=\"data row4 col63\" >1401.160227</td>\n",
       "      <td id=\"T_fe4b8_row4_col64\" class=\"data row4 col64\" >-450.407128</td>\n",
       "      <td id=\"T_fe4b8_row4_col65\" class=\"data row4 col65\" >14.079996</td>\n",
       "      <td id=\"T_fe4b8_row4_col66\" class=\"data row4 col66\" >4.470737</td>\n",
       "      <td id=\"T_fe4b8_row4_col67\" class=\"data row4 col67\" >8.871028</td>\n",
       "      <td id=\"T_fe4b8_row4_col68\" class=\"data row4 col68\" >2.330448</td>\n",
       "      <td id=\"T_fe4b8_row4_col69\" class=\"data row4 col69\" >26.024787</td>\n",
       "      <td id=\"T_fe4b8_row4_col70\" class=\"data row4 col70\" >-500.279091</td>\n",
       "      <td id=\"T_fe4b8_row4_col71\" class=\"data row4 col71\" >23.955345</td>\n",
       "      <td id=\"T_fe4b8_row4_col72\" class=\"data row4 col72\" >-500.593614</td>\n",
       "      <td id=\"T_fe4b8_row4_col73\" class=\"data row4 col73\" >23.985703</td>\n",
       "      <td id=\"T_fe4b8_row4_col74\" class=\"data row4 col74\" >-500.083811</td>\n",
       "      <td id=\"T_fe4b8_row4_col75\" class=\"data row4 col75\" >23.958945</td>\n",
       "      <td id=\"T_fe4b8_row4_col76\" class=\"data row4 col76\" >-499.990309</td>\n",
       "      <td id=\"T_fe4b8_row4_col77\" class=\"data row4 col77\" >14.027298</td>\n",
       "      <td id=\"T_fe4b8_row4_col78\" class=\"data row4 col78\" >-499.838632</td>\n",
       "      <td id=\"T_fe4b8_row4_col79\" class=\"data row4 col79\" >11.953070</td>\n",
       "      <td id=\"T_fe4b8_row4_col80\" class=\"data row4 col80\" >-501.053894</td>\n",
       "      <td id=\"T_fe4b8_row4_col81\" class=\"data row4 col81\" >9.925709</td>\n",
       "      <td id=\"T_fe4b8_row4_col82\" class=\"data row4 col82\" >-501.686727</td>\n",
       "      <td id=\"T_fe4b8_row4_col83\" class=\"data row4 col83\" >7.894242</td>\n",
       "      <td id=\"T_fe4b8_row4_col84\" class=\"data row4 col84\" >-500.356035</td>\n",
       "      <td id=\"T_fe4b8_row4_col85\" class=\"data row4 col85\" >13.996647</td>\n",
       "      <td id=\"T_fe4b8_row4_col86\" class=\"data row4 col86\" >-601.496691</td>\n",
       "    </tr>\n",
       "  </tbody>\n",
       "</table>\n"
      ],
      "text/plain": [
       "<pandas.io.formats.style.Styler at 0x29ee8b6e910>"
      ]
     },
     "metadata": {},
     "output_type": "display_data"
    },
    {
     "name": "stdout",
     "output_type": "stream",
     "text": [
      "<class 'pandas.core.frame.DataFrame'>\n",
      "RangeIndex: 19439 entries, 0 to 19438\n",
      "Data columns (total 87 columns):\n",
      " #   Column                                              Non-Null Count  Dtype  \n",
      "---  ------                                              --------------  -----  \n",
      " 0   date                                                19439 non-null  object \n",
      " 1   final.output.concentrate_ag                         19438 non-null  float64\n",
      " 2   final.output.concentrate_pb                         19438 non-null  float64\n",
      " 3   final.output.concentrate_sol                        19228 non-null  float64\n",
      " 4   final.output.concentrate_au                         19439 non-null  float64\n",
      " 5   final.output.recovery                               19439 non-null  float64\n",
      " 6   final.output.tail_ag                                19438 non-null  float64\n",
      " 7   final.output.tail_pb                                19338 non-null  float64\n",
      " 8   final.output.tail_sol                               19433 non-null  float64\n",
      " 9   final.output.tail_au                                19439 non-null  float64\n",
      " 10  primary_cleaner.input.sulfate                       19415 non-null  float64\n",
      " 11  primary_cleaner.input.depressant                    19402 non-null  float64\n",
      " 12  primary_cleaner.input.feed_size                     19439 non-null  float64\n",
      " 13  primary_cleaner.input.xanthate                      19335 non-null  float64\n",
      " 14  primary_cleaner.output.concentrate_ag               19439 non-null  float64\n",
      " 15  primary_cleaner.output.concentrate_pb               19323 non-null  float64\n",
      " 16  primary_cleaner.output.concentrate_sol              19069 non-null  float64\n",
      " 17  primary_cleaner.output.concentrate_au               19439 non-null  float64\n",
      " 18  primary_cleaner.output.tail_ag                      19435 non-null  float64\n",
      " 19  primary_cleaner.output.tail_pb                      19418 non-null  float64\n",
      " 20  primary_cleaner.output.tail_sol                     19377 non-null  float64\n",
      " 21  primary_cleaner.output.tail_au                      19439 non-null  float64\n",
      " 22  primary_cleaner.state.floatbank8_a_air              19435 non-null  float64\n",
      " 23  primary_cleaner.state.floatbank8_a_level            19438 non-null  float64\n",
      " 24  primary_cleaner.state.floatbank8_b_air              19435 non-null  float64\n",
      " 25  primary_cleaner.state.floatbank8_b_level            19438 non-null  float64\n",
      " 26  primary_cleaner.state.floatbank8_c_air              19437 non-null  float64\n",
      " 27  primary_cleaner.state.floatbank8_c_level            19438 non-null  float64\n",
      " 28  primary_cleaner.state.floatbank8_d_air              19436 non-null  float64\n",
      " 29  primary_cleaner.state.floatbank8_d_level            19438 non-null  float64\n",
      " 30  rougher.calculation.sulfate_to_au_concentrate       19437 non-null  float64\n",
      " 31  rougher.calculation.floatbank10_sulfate_to_au_feed  19437 non-null  float64\n",
      " 32  rougher.calculation.floatbank11_sulfate_to_au_feed  19437 non-null  float64\n",
      " 33  rougher.calculation.au_pb_ratio                     19439 non-null  float64\n",
      " 34  rougher.input.feed_ag                               19439 non-null  float64\n",
      " 35  rougher.input.feed_pb                               19339 non-null  float64\n",
      " 36  rougher.input.feed_rate                             19428 non-null  float64\n",
      " 37  rougher.input.feed_size                             19294 non-null  float64\n",
      " 38  rougher.input.feed_sol                              19340 non-null  float64\n",
      " 39  rougher.input.feed_au                               19439 non-null  float64\n",
      " 40  rougher.input.floatbank10_sulfate                   19405 non-null  float64\n",
      " 41  rougher.input.floatbank10_xanthate                  19431 non-null  float64\n",
      " 42  rougher.input.floatbank11_sulfate                   19395 non-null  float64\n",
      " 43  rougher.input.floatbank11_xanthate                  18986 non-null  float64\n",
      " 44  rougher.output.concentrate_ag                       19439 non-null  float64\n",
      " 45  rougher.output.concentrate_pb                       19439 non-null  float64\n",
      " 46  rougher.output.concentrate_sol                      19416 non-null  float64\n",
      " 47  rougher.output.concentrate_au                       19439 non-null  float64\n",
      " 48  rougher.output.recovery                             19439 non-null  float64\n",
      " 49  rougher.output.tail_ag                              19438 non-null  float64\n",
      " 50  rougher.output.tail_pb                              19439 non-null  float64\n",
      " 51  rougher.output.tail_sol                             19439 non-null  float64\n",
      " 52  rougher.output.tail_au                              19439 non-null  float64\n",
      " 53  rougher.state.floatbank10_a_air                     19438 non-null  float64\n",
      " 54  rougher.state.floatbank10_a_level                   19438 non-null  float64\n",
      " 55  rougher.state.floatbank10_b_air                     19438 non-null  float64\n",
      " 56  rougher.state.floatbank10_b_level                   19438 non-null  float64\n",
      " 57  rougher.state.floatbank10_c_air                     19438 non-null  float64\n",
      " 58  rougher.state.floatbank10_c_level                   19438 non-null  float64\n",
      " 59  rougher.state.floatbank10_d_air                     19439 non-null  float64\n",
      " 60  rougher.state.floatbank10_d_level                   19439 non-null  float64\n",
      " 61  rougher.state.floatbank10_e_air                     19003 non-null  float64\n",
      " 62  rougher.state.floatbank10_e_level                   19439 non-null  float64\n",
      " 63  rougher.state.floatbank10_f_air                     19439 non-null  float64\n",
      " 64  rougher.state.floatbank10_f_level                   19439 non-null  float64\n",
      " 65  secondary_cleaner.output.tail_ag                    19437 non-null  float64\n",
      " 66  secondary_cleaner.output.tail_pb                    19427 non-null  float64\n",
      " 67  secondary_cleaner.output.tail_sol                   17691 non-null  float64\n",
      " 68  secondary_cleaner.output.tail_au                    19439 non-null  float64\n",
      " 69  secondary_cleaner.state.floatbank2_a_air            19219 non-null  float64\n",
      " 70  secondary_cleaner.state.floatbank2_a_level          19438 non-null  float64\n",
      " 71  secondary_cleaner.state.floatbank2_b_air            19416 non-null  float64\n",
      " 72  secondary_cleaner.state.floatbank2_b_level          19438 non-null  float64\n",
      " 73  secondary_cleaner.state.floatbank3_a_air            19426 non-null  float64\n",
      " 74  secondary_cleaner.state.floatbank3_a_level          19438 non-null  float64\n",
      " 75  secondary_cleaner.state.floatbank3_b_air            19438 non-null  float64\n",
      " 76  secondary_cleaner.state.floatbank3_b_level          19438 non-null  float64\n",
      " 77  secondary_cleaner.state.floatbank4_a_air            19433 non-null  float64\n",
      " 78  secondary_cleaner.state.floatbank4_a_level          19438 non-null  float64\n",
      " 79  secondary_cleaner.state.floatbank4_b_air            19438 non-null  float64\n",
      " 80  secondary_cleaner.state.floatbank4_b_level          19438 non-null  float64\n",
      " 81  secondary_cleaner.state.floatbank5_a_air            19438 non-null  float64\n",
      " 82  secondary_cleaner.state.floatbank5_a_level          19438 non-null  float64\n",
      " 83  secondary_cleaner.state.floatbank5_b_air            19438 non-null  float64\n",
      " 84  secondary_cleaner.state.floatbank5_b_level          19438 non-null  float64\n",
      " 85  secondary_cleaner.state.floatbank6_a_air            19437 non-null  float64\n",
      " 86  secondary_cleaner.state.floatbank6_a_level          19438 non-null  float64\n",
      "dtypes: float64(86), object(1)\n",
      "memory usage: 12.9+ MB\n"
     ]
    },
    {
     "data": {
      "text/plain": [
       "None"
      ]
     },
     "metadata": {},
     "output_type": "display_data"
    },
    {
     "name": "stdout",
     "output_type": "stream",
     "text": [
      "====================================================================================================\n"
     ]
    }
   ],
   "source": [
    "for name, data in enumerate(data_flow):\n",
    "    display(data.head(5).style\\\n",
    "                        .set_caption(f'Набор данных {data_flow_name[name]}')\\\n",
    "                        .set_table_styles(styler))\n",
    "    display(data.info())\n",
    "    print('='*100)"
   ]
  },
  {
   "attachments": {},
   "cell_type": "markdown",
   "id": "be30b071",
   "metadata": {},
   "source": [
    "<div style=\"color: #363636; background-color:whitesmoke; border:solid #363636 1.5px; padding: 15px\">\n",
    "    <p>\n",
    "        При знакомстве с выборками были обнаружены следующие проблемы:\n",
    "    </p>\n",
    "    <ul>\n",
    "        <li>Наличие пропусков;\n",
    "        <li>Формат записи признаков через точку;\n",
    "        <li>Отсутствие признаков в выборке data_test;\n",
    "        <li>Признак date, необходимо задать тип времени и принять его как индекс во всех датафрейм.\n",
    "    </ul>"
   ]
  },
  {
   "attachments": {},
   "cell_type": "markdown",
   "id": "5766d06d",
   "metadata": {},
   "source": [
    "<h3 style=\"color:C0504D;\">Изменение типа данных</h3>"
   ]
  },
  {
   "attachments": {},
   "cell_type": "markdown",
   "id": "71540d75",
   "metadata": {},
   "source": [
    "<p style=\"color: #363636; background-color:whitesmoke; border:solid #363636 1.5px; padding: 15px\">\n",
    "    Все признаки в датафреймах являются числовыми, кроме признака date, я думаю что это ключевой признак по которому\n",
    "    необходимо будет обращаться из одной выборки в другую, для этого необходимо изменить тип данных и задать его как\n",
    "    индекс во всех выборках. Для этого я подготовлю функцию, которая будет на вход принимать признак, менять формат на\n",
    "    временной и задаст его как индекс\n",
    "</p>"
   ]
  },
  {
   "cell_type": "code",
   "execution_count": 6,
   "id": "fe8dbb03",
   "metadata": {},
   "outputs": [],
   "source": [
    "def index_to_date(data, column_name):\n",
    "    data[column_name] = pd.to_datetime(data[column_name], format=\"%Y-%m-%d %H:%M:%S\")\n",
    "    data = data.set_index(column_name)\n",
    "    return data"
   ]
  },
  {
   "cell_type": "code",
   "execution_count": 7,
   "id": "abb5a8a0",
   "metadata": {},
   "outputs": [],
   "source": [
    "data_train = index_to_date(data_train, 'date')\n",
    "data_test  = index_to_date(data_test, 'date') \n",
    "data_full  = index_to_date(data_full, 'date') "
   ]
  },
  {
   "attachments": {},
   "cell_type": "markdown",
   "id": "51a4d606",
   "metadata": {},
   "source": [
    "<h3 style=\"color:C0504D;\">Переименование признаков</h3>"
   ]
  },
  {
   "attachments": {},
   "cell_type": "markdown",
   "id": "00767c92",
   "metadata": {},
   "source": [
    "<div style=\"color: #363636; background-color:whitesmoke; border:solid #363636 1.5px; padding: 15px\">\n",
    "    <p>\n",
    "        Название признаков выполнено по формату <b>[этап].[тип_параметра].[название_параметра]</b> пример\n",
    "        <b>rougher.input.feed_ag</b>\n",
    "    </p>\n",
    "    <p>\n",
    "        Возможно для записи этот формат необходим, но для работы не удобен, переведу название признаков в удобный\n",
    "        \"питонский формат\", для этого напишу функцию которая на вход принимает название признака и переводит его в\n",
    "        необходимый формат записи\n",
    "    </p>\n",
    "</div>"
   ]
  },
  {
   "cell_type": "code",
   "execution_count": 8,
   "id": "6f36fcca",
   "metadata": {},
   "outputs": [],
   "source": [
    "def columns_rename(data):\n",
    "    columns_new = []\n",
    "    for column in data.columns:\n",
    "        columns_new.append(column.replace('.', '_'))\n",
    "    data.columns = columns_new\n",
    "    return data"
   ]
  },
  {
   "cell_type": "code",
   "execution_count": 9,
   "id": "cc6736c1",
   "metadata": {},
   "outputs": [],
   "source": [
    "data_train = columns_rename(data_train)\n",
    "data_test  = columns_rename(data_test)\n",
    "data_full  = columns_rename(data_full) "
   ]
  },
  {
   "attachments": {},
   "cell_type": "markdown",
   "id": "122bf65e",
   "metadata": {},
   "source": [
    "<h3 style=\"color:C0504D;\">Утечка признаков</h3>"
   ]
  },
  {
   "attachments": {},
   "cell_type": "markdown",
   "id": "57368d51",
   "metadata": {},
   "source": [
    "<p style=\"color: #363636; background-color:whitesmoke; border:solid #363636 1.5px; padding: 15px\">\n",
    "    В выборках разный набор признаков, он отличается только в датасете <b>data_test</b>, что свидетельствует о том, что\n",
    "    эти признаки исключены из тестовой выборки для того чтобы не произошла утечка этих признаков во время подготовки\n",
    "    модели и ее обучении. Посмотри на состав этих признаков в количестве 34 шт.\n",
    "</p>"
   ]
  },
  {
   "cell_type": "code",
   "execution_count": 10,
   "id": "38613198",
   "metadata": {},
   "outputs": [
    {
     "data": {
      "text/html": [
       "<style type=\"text/css\">\n",
       "#T_59e1a_ td:hover {\n",
       "  background: #9E4447;\n",
       "  color: #ffffff;\n",
       "}\n",
       "#T_59e1a_ tr:nth-of-type(even) {\n",
       "  background: #D9D9D9;\n",
       "  color: black;\n",
       "}\n",
       "#T_59e1a_ tr:nth-of-type(odd) {\n",
       "  background: #ffffff;\n",
       "  color: #363636;\n",
       "}\n",
       "#T_59e1a_ th {\n",
       "  background: #363636;\n",
       "  color: #ffffff;\n",
       "  text-align: center;\n",
       "}\n",
       "#T_59e1a_ tr:hover {\n",
       "  background: #808080;\n",
       "  color: #ffffff;\n",
       "}\n",
       "#T_59e1a_ td {\n",
       "  border: 1px dashed #363636;\n",
       "}\n",
       "#T_59e1a_  {\n",
       "  border: 2px solid #363636;\n",
       "}\n",
       "#T_59e1a_ caption {\n",
       "  color: #363636;\n",
       "  font-size: 15px;\n",
       "}\n",
       "</style>\n",
       "<table id=\"T_59e1a_\">\n",
       "  <caption>Информация по утечке признаков</caption>\n",
       "  <thead>\n",
       "    <tr>\n",
       "      <th class=\"blank level0\" >&nbsp;</th>\n",
       "      <th class=\"col_heading level0 col0\" >feauters_leak</th>\n",
       "    </tr>\n",
       "  </thead>\n",
       "  <tbody>\n",
       "    <tr>\n",
       "      <th id=\"T_59e1a_level0_row0\" class=\"row_heading level0 row0\" >0</th>\n",
       "      <td id=\"T_59e1a_row0_col0\" class=\"data row0 col0\" >final_output_concentrate_ag</td>\n",
       "    </tr>\n",
       "    <tr>\n",
       "      <th id=\"T_59e1a_level0_row1\" class=\"row_heading level0 row1\" >1</th>\n",
       "      <td id=\"T_59e1a_row1_col0\" class=\"data row1 col0\" >final_output_concentrate_au</td>\n",
       "    </tr>\n",
       "    <tr>\n",
       "      <th id=\"T_59e1a_level0_row2\" class=\"row_heading level0 row2\" >2</th>\n",
       "      <td id=\"T_59e1a_row2_col0\" class=\"data row2 col0\" >final_output_concentrate_pb</td>\n",
       "    </tr>\n",
       "    <tr>\n",
       "      <th id=\"T_59e1a_level0_row3\" class=\"row_heading level0 row3\" >3</th>\n",
       "      <td id=\"T_59e1a_row3_col0\" class=\"data row3 col0\" >final_output_concentrate_sol</td>\n",
       "    </tr>\n",
       "    <tr>\n",
       "      <th id=\"T_59e1a_level0_row4\" class=\"row_heading level0 row4\" >4</th>\n",
       "      <td id=\"T_59e1a_row4_col0\" class=\"data row4 col0\" >final_output_recovery</td>\n",
       "    </tr>\n",
       "    <tr>\n",
       "      <th id=\"T_59e1a_level0_row5\" class=\"row_heading level0 row5\" >5</th>\n",
       "      <td id=\"T_59e1a_row5_col0\" class=\"data row5 col0\" >final_output_tail_ag</td>\n",
       "    </tr>\n",
       "    <tr>\n",
       "      <th id=\"T_59e1a_level0_row6\" class=\"row_heading level0 row6\" >6</th>\n",
       "      <td id=\"T_59e1a_row6_col0\" class=\"data row6 col0\" >final_output_tail_au</td>\n",
       "    </tr>\n",
       "    <tr>\n",
       "      <th id=\"T_59e1a_level0_row7\" class=\"row_heading level0 row7\" >7</th>\n",
       "      <td id=\"T_59e1a_row7_col0\" class=\"data row7 col0\" >final_output_tail_pb</td>\n",
       "    </tr>\n",
       "    <tr>\n",
       "      <th id=\"T_59e1a_level0_row8\" class=\"row_heading level0 row8\" >8</th>\n",
       "      <td id=\"T_59e1a_row8_col0\" class=\"data row8 col0\" >final_output_tail_sol</td>\n",
       "    </tr>\n",
       "    <tr>\n",
       "      <th id=\"T_59e1a_level0_row9\" class=\"row_heading level0 row9\" >9</th>\n",
       "      <td id=\"T_59e1a_row9_col0\" class=\"data row9 col0\" >primary_cleaner_output_concentrate_ag</td>\n",
       "    </tr>\n",
       "    <tr>\n",
       "      <th id=\"T_59e1a_level0_row10\" class=\"row_heading level0 row10\" >10</th>\n",
       "      <td id=\"T_59e1a_row10_col0\" class=\"data row10 col0\" >primary_cleaner_output_concentrate_au</td>\n",
       "    </tr>\n",
       "    <tr>\n",
       "      <th id=\"T_59e1a_level0_row11\" class=\"row_heading level0 row11\" >11</th>\n",
       "      <td id=\"T_59e1a_row11_col0\" class=\"data row11 col0\" >primary_cleaner_output_concentrate_pb</td>\n",
       "    </tr>\n",
       "    <tr>\n",
       "      <th id=\"T_59e1a_level0_row12\" class=\"row_heading level0 row12\" >12</th>\n",
       "      <td id=\"T_59e1a_row12_col0\" class=\"data row12 col0\" >primary_cleaner_output_concentrate_sol</td>\n",
       "    </tr>\n",
       "    <tr>\n",
       "      <th id=\"T_59e1a_level0_row13\" class=\"row_heading level0 row13\" >13</th>\n",
       "      <td id=\"T_59e1a_row13_col0\" class=\"data row13 col0\" >primary_cleaner_output_tail_ag</td>\n",
       "    </tr>\n",
       "    <tr>\n",
       "      <th id=\"T_59e1a_level0_row14\" class=\"row_heading level0 row14\" >14</th>\n",
       "      <td id=\"T_59e1a_row14_col0\" class=\"data row14 col0\" >primary_cleaner_output_tail_au</td>\n",
       "    </tr>\n",
       "    <tr>\n",
       "      <th id=\"T_59e1a_level0_row15\" class=\"row_heading level0 row15\" >15</th>\n",
       "      <td id=\"T_59e1a_row15_col0\" class=\"data row15 col0\" >primary_cleaner_output_tail_pb</td>\n",
       "    </tr>\n",
       "    <tr>\n",
       "      <th id=\"T_59e1a_level0_row16\" class=\"row_heading level0 row16\" >16</th>\n",
       "      <td id=\"T_59e1a_row16_col0\" class=\"data row16 col0\" >primary_cleaner_output_tail_sol</td>\n",
       "    </tr>\n",
       "    <tr>\n",
       "      <th id=\"T_59e1a_level0_row17\" class=\"row_heading level0 row17\" >17</th>\n",
       "      <td id=\"T_59e1a_row17_col0\" class=\"data row17 col0\" >rougher_calculation_au_pb_ratio</td>\n",
       "    </tr>\n",
       "    <tr>\n",
       "      <th id=\"T_59e1a_level0_row18\" class=\"row_heading level0 row18\" >18</th>\n",
       "      <td id=\"T_59e1a_row18_col0\" class=\"data row18 col0\" >rougher_calculation_floatbank10_sulfate_to_au_feed</td>\n",
       "    </tr>\n",
       "    <tr>\n",
       "      <th id=\"T_59e1a_level0_row19\" class=\"row_heading level0 row19\" >19</th>\n",
       "      <td id=\"T_59e1a_row19_col0\" class=\"data row19 col0\" >rougher_calculation_floatbank11_sulfate_to_au_feed</td>\n",
       "    </tr>\n",
       "    <tr>\n",
       "      <th id=\"T_59e1a_level0_row20\" class=\"row_heading level0 row20\" >20</th>\n",
       "      <td id=\"T_59e1a_row20_col0\" class=\"data row20 col0\" >rougher_calculation_sulfate_to_au_concentrate</td>\n",
       "    </tr>\n",
       "    <tr>\n",
       "      <th id=\"T_59e1a_level0_row21\" class=\"row_heading level0 row21\" >21</th>\n",
       "      <td id=\"T_59e1a_row21_col0\" class=\"data row21 col0\" >rougher_output_concentrate_ag</td>\n",
       "    </tr>\n",
       "    <tr>\n",
       "      <th id=\"T_59e1a_level0_row22\" class=\"row_heading level0 row22\" >22</th>\n",
       "      <td id=\"T_59e1a_row22_col0\" class=\"data row22 col0\" >rougher_output_concentrate_au</td>\n",
       "    </tr>\n",
       "    <tr>\n",
       "      <th id=\"T_59e1a_level0_row23\" class=\"row_heading level0 row23\" >23</th>\n",
       "      <td id=\"T_59e1a_row23_col0\" class=\"data row23 col0\" >rougher_output_concentrate_pb</td>\n",
       "    </tr>\n",
       "    <tr>\n",
       "      <th id=\"T_59e1a_level0_row24\" class=\"row_heading level0 row24\" >24</th>\n",
       "      <td id=\"T_59e1a_row24_col0\" class=\"data row24 col0\" >rougher_output_concentrate_sol</td>\n",
       "    </tr>\n",
       "    <tr>\n",
       "      <th id=\"T_59e1a_level0_row25\" class=\"row_heading level0 row25\" >25</th>\n",
       "      <td id=\"T_59e1a_row25_col0\" class=\"data row25 col0\" >rougher_output_recovery</td>\n",
       "    </tr>\n",
       "    <tr>\n",
       "      <th id=\"T_59e1a_level0_row26\" class=\"row_heading level0 row26\" >26</th>\n",
       "      <td id=\"T_59e1a_row26_col0\" class=\"data row26 col0\" >rougher_output_tail_ag</td>\n",
       "    </tr>\n",
       "    <tr>\n",
       "      <th id=\"T_59e1a_level0_row27\" class=\"row_heading level0 row27\" >27</th>\n",
       "      <td id=\"T_59e1a_row27_col0\" class=\"data row27 col0\" >rougher_output_tail_au</td>\n",
       "    </tr>\n",
       "    <tr>\n",
       "      <th id=\"T_59e1a_level0_row28\" class=\"row_heading level0 row28\" >28</th>\n",
       "      <td id=\"T_59e1a_row28_col0\" class=\"data row28 col0\" >rougher_output_tail_pb</td>\n",
       "    </tr>\n",
       "    <tr>\n",
       "      <th id=\"T_59e1a_level0_row29\" class=\"row_heading level0 row29\" >29</th>\n",
       "      <td id=\"T_59e1a_row29_col0\" class=\"data row29 col0\" >rougher_output_tail_sol</td>\n",
       "    </tr>\n",
       "    <tr>\n",
       "      <th id=\"T_59e1a_level0_row30\" class=\"row_heading level0 row30\" >30</th>\n",
       "      <td id=\"T_59e1a_row30_col0\" class=\"data row30 col0\" >secondary_cleaner_output_tail_ag</td>\n",
       "    </tr>\n",
       "    <tr>\n",
       "      <th id=\"T_59e1a_level0_row31\" class=\"row_heading level0 row31\" >31</th>\n",
       "      <td id=\"T_59e1a_row31_col0\" class=\"data row31 col0\" >secondary_cleaner_output_tail_au</td>\n",
       "    </tr>\n",
       "    <tr>\n",
       "      <th id=\"T_59e1a_level0_row32\" class=\"row_heading level0 row32\" >32</th>\n",
       "      <td id=\"T_59e1a_row32_col0\" class=\"data row32 col0\" >secondary_cleaner_output_tail_pb</td>\n",
       "    </tr>\n",
       "    <tr>\n",
       "      <th id=\"T_59e1a_level0_row33\" class=\"row_heading level0 row33\" >33</th>\n",
       "      <td id=\"T_59e1a_row33_col0\" class=\"data row33 col0\" >secondary_cleaner_output_tail_sol</td>\n",
       "    </tr>\n",
       "  </tbody>\n",
       "</table>\n"
      ],
      "text/plain": [
       "<pandas.io.formats.style.Styler at 0x29ee8b5e670>"
      ]
     },
     "execution_count": 10,
     "metadata": {},
     "output_type": "execute_result"
    }
   ],
   "source": [
    "pd.DataFrame(sorted(list(set(data_train.columns) - set(data_test.columns))),\n",
    "                 columns = ['feauters_leak']).style\\\n",
    "                                             .set_caption('Информация по утечке признаков')\\\n",
    "                                             .set_table_styles(styler)"
   ]
  },
  {
   "attachments": {},
   "cell_type": "markdown",
   "id": "5a851662",
   "metadata": {},
   "source": [
    "<p style=\"color: #363636; background-color:whitesmoke; border:solid #363636 1.5px; padding: 15px\">\n",
    "    Предварительный просмотр данных на примере полной выборки\n",
    "</p>"
   ]
  },
  {
   "cell_type": "code",
   "execution_count": 11,
   "id": "c937e7d7",
   "metadata": {},
   "outputs": [
    {
     "data": {
      "text/html": [
       "<style type=\"text/css\">\n",
       "#T_988ee_ td:hover {\n",
       "  background: #9E4447;\n",
       "  color: #ffffff;\n",
       "}\n",
       "#T_988ee_ tr:nth-of-type(even) {\n",
       "  background: #D9D9D9;\n",
       "  color: black;\n",
       "}\n",
       "#T_988ee_ tr:nth-of-type(odd) {\n",
       "  background: #ffffff;\n",
       "  color: #363636;\n",
       "}\n",
       "#T_988ee_ th {\n",
       "  background: #363636;\n",
       "  color: #ffffff;\n",
       "  text-align: center;\n",
       "}\n",
       "#T_988ee_ tr:hover {\n",
       "  background: #808080;\n",
       "  color: #ffffff;\n",
       "}\n",
       "#T_988ee_ td {\n",
       "  border: 1px dashed #363636;\n",
       "}\n",
       "#T_988ee_  {\n",
       "  border: 2px solid #363636;\n",
       "}\n",
       "#T_988ee_ caption {\n",
       "  color: #363636;\n",
       "  font-size: 15px;\n",
       "}\n",
       "</style>\n",
       "<table id=\"T_988ee_\">\n",
       "  <caption>Предварительный просмотр данных</caption>\n",
       "  <thead>\n",
       "    <tr>\n",
       "      <th class=\"blank level0\" >&nbsp;</th>\n",
       "      <th class=\"col_heading level0 col0\" >final_output_concentrate_ag</th>\n",
       "      <th class=\"col_heading level0 col1\" >final_output_concentrate_pb</th>\n",
       "      <th class=\"col_heading level0 col2\" >final_output_concentrate_sol</th>\n",
       "      <th class=\"col_heading level0 col3\" >final_output_concentrate_au</th>\n",
       "      <th class=\"col_heading level0 col4\" >final_output_recovery</th>\n",
       "      <th class=\"col_heading level0 col5\" >final_output_tail_ag</th>\n",
       "      <th class=\"col_heading level0 col6\" >final_output_tail_pb</th>\n",
       "      <th class=\"col_heading level0 col7\" >final_output_tail_sol</th>\n",
       "      <th class=\"col_heading level0 col8\" >final_output_tail_au</th>\n",
       "      <th class=\"col_heading level0 col9\" >primary_cleaner_input_sulfate</th>\n",
       "      <th class=\"col_heading level0 col10\" >primary_cleaner_input_depressant</th>\n",
       "      <th class=\"col_heading level0 col11\" >primary_cleaner_input_feed_size</th>\n",
       "      <th class=\"col_heading level0 col12\" >primary_cleaner_input_xanthate</th>\n",
       "      <th class=\"col_heading level0 col13\" >primary_cleaner_output_concentrate_ag</th>\n",
       "      <th class=\"col_heading level0 col14\" >primary_cleaner_output_concentrate_pb</th>\n",
       "      <th class=\"col_heading level0 col15\" >primary_cleaner_output_concentrate_sol</th>\n",
       "      <th class=\"col_heading level0 col16\" >primary_cleaner_output_concentrate_au</th>\n",
       "      <th class=\"col_heading level0 col17\" >primary_cleaner_output_tail_ag</th>\n",
       "      <th class=\"col_heading level0 col18\" >primary_cleaner_output_tail_pb</th>\n",
       "      <th class=\"col_heading level0 col19\" >primary_cleaner_output_tail_sol</th>\n",
       "      <th class=\"col_heading level0 col20\" >primary_cleaner_output_tail_au</th>\n",
       "      <th class=\"col_heading level0 col21\" >primary_cleaner_state_floatbank8_a_air</th>\n",
       "      <th class=\"col_heading level0 col22\" >primary_cleaner_state_floatbank8_a_level</th>\n",
       "      <th class=\"col_heading level0 col23\" >primary_cleaner_state_floatbank8_b_air</th>\n",
       "      <th class=\"col_heading level0 col24\" >primary_cleaner_state_floatbank8_b_level</th>\n",
       "      <th class=\"col_heading level0 col25\" >primary_cleaner_state_floatbank8_c_air</th>\n",
       "      <th class=\"col_heading level0 col26\" >primary_cleaner_state_floatbank8_c_level</th>\n",
       "      <th class=\"col_heading level0 col27\" >primary_cleaner_state_floatbank8_d_air</th>\n",
       "      <th class=\"col_heading level0 col28\" >primary_cleaner_state_floatbank8_d_level</th>\n",
       "      <th class=\"col_heading level0 col29\" >rougher_calculation_sulfate_to_au_concentrate</th>\n",
       "      <th class=\"col_heading level0 col30\" >rougher_calculation_floatbank10_sulfate_to_au_feed</th>\n",
       "      <th class=\"col_heading level0 col31\" >rougher_calculation_floatbank11_sulfate_to_au_feed</th>\n",
       "      <th class=\"col_heading level0 col32\" >rougher_calculation_au_pb_ratio</th>\n",
       "      <th class=\"col_heading level0 col33\" >rougher_input_feed_ag</th>\n",
       "      <th class=\"col_heading level0 col34\" >rougher_input_feed_pb</th>\n",
       "      <th class=\"col_heading level0 col35\" >rougher_input_feed_rate</th>\n",
       "      <th class=\"col_heading level0 col36\" >rougher_input_feed_size</th>\n",
       "      <th class=\"col_heading level0 col37\" >rougher_input_feed_sol</th>\n",
       "      <th class=\"col_heading level0 col38\" >rougher_input_feed_au</th>\n",
       "      <th class=\"col_heading level0 col39\" >rougher_input_floatbank10_sulfate</th>\n",
       "      <th class=\"col_heading level0 col40\" >rougher_input_floatbank10_xanthate</th>\n",
       "      <th class=\"col_heading level0 col41\" >rougher_input_floatbank11_sulfate</th>\n",
       "      <th class=\"col_heading level0 col42\" >rougher_input_floatbank11_xanthate</th>\n",
       "      <th class=\"col_heading level0 col43\" >rougher_output_concentrate_ag</th>\n",
       "      <th class=\"col_heading level0 col44\" >rougher_output_concentrate_pb</th>\n",
       "      <th class=\"col_heading level0 col45\" >rougher_output_concentrate_sol</th>\n",
       "      <th class=\"col_heading level0 col46\" >rougher_output_concentrate_au</th>\n",
       "      <th class=\"col_heading level0 col47\" >rougher_output_recovery</th>\n",
       "      <th class=\"col_heading level0 col48\" >rougher_output_tail_ag</th>\n",
       "      <th class=\"col_heading level0 col49\" >rougher_output_tail_pb</th>\n",
       "      <th class=\"col_heading level0 col50\" >rougher_output_tail_sol</th>\n",
       "      <th class=\"col_heading level0 col51\" >rougher_output_tail_au</th>\n",
       "      <th class=\"col_heading level0 col52\" >rougher_state_floatbank10_a_air</th>\n",
       "      <th class=\"col_heading level0 col53\" >rougher_state_floatbank10_a_level</th>\n",
       "      <th class=\"col_heading level0 col54\" >rougher_state_floatbank10_b_air</th>\n",
       "      <th class=\"col_heading level0 col55\" >rougher_state_floatbank10_b_level</th>\n",
       "      <th class=\"col_heading level0 col56\" >rougher_state_floatbank10_c_air</th>\n",
       "      <th class=\"col_heading level0 col57\" >rougher_state_floatbank10_c_level</th>\n",
       "      <th class=\"col_heading level0 col58\" >rougher_state_floatbank10_d_air</th>\n",
       "      <th class=\"col_heading level0 col59\" >rougher_state_floatbank10_d_level</th>\n",
       "      <th class=\"col_heading level0 col60\" >rougher_state_floatbank10_e_air</th>\n",
       "      <th class=\"col_heading level0 col61\" >rougher_state_floatbank10_e_level</th>\n",
       "      <th class=\"col_heading level0 col62\" >rougher_state_floatbank10_f_air</th>\n",
       "      <th class=\"col_heading level0 col63\" >rougher_state_floatbank10_f_level</th>\n",
       "      <th class=\"col_heading level0 col64\" >secondary_cleaner_output_tail_ag</th>\n",
       "      <th class=\"col_heading level0 col65\" >secondary_cleaner_output_tail_pb</th>\n",
       "      <th class=\"col_heading level0 col66\" >secondary_cleaner_output_tail_sol</th>\n",
       "      <th class=\"col_heading level0 col67\" >secondary_cleaner_output_tail_au</th>\n",
       "      <th class=\"col_heading level0 col68\" >secondary_cleaner_state_floatbank2_a_air</th>\n",
       "      <th class=\"col_heading level0 col69\" >secondary_cleaner_state_floatbank2_a_level</th>\n",
       "      <th class=\"col_heading level0 col70\" >secondary_cleaner_state_floatbank2_b_air</th>\n",
       "      <th class=\"col_heading level0 col71\" >secondary_cleaner_state_floatbank2_b_level</th>\n",
       "      <th class=\"col_heading level0 col72\" >secondary_cleaner_state_floatbank3_a_air</th>\n",
       "      <th class=\"col_heading level0 col73\" >secondary_cleaner_state_floatbank3_a_level</th>\n",
       "      <th class=\"col_heading level0 col74\" >secondary_cleaner_state_floatbank3_b_air</th>\n",
       "      <th class=\"col_heading level0 col75\" >secondary_cleaner_state_floatbank3_b_level</th>\n",
       "      <th class=\"col_heading level0 col76\" >secondary_cleaner_state_floatbank4_a_air</th>\n",
       "      <th class=\"col_heading level0 col77\" >secondary_cleaner_state_floatbank4_a_level</th>\n",
       "      <th class=\"col_heading level0 col78\" >secondary_cleaner_state_floatbank4_b_air</th>\n",
       "      <th class=\"col_heading level0 col79\" >secondary_cleaner_state_floatbank4_b_level</th>\n",
       "      <th class=\"col_heading level0 col80\" >secondary_cleaner_state_floatbank5_a_air</th>\n",
       "      <th class=\"col_heading level0 col81\" >secondary_cleaner_state_floatbank5_a_level</th>\n",
       "      <th class=\"col_heading level0 col82\" >secondary_cleaner_state_floatbank5_b_air</th>\n",
       "      <th class=\"col_heading level0 col83\" >secondary_cleaner_state_floatbank5_b_level</th>\n",
       "      <th class=\"col_heading level0 col84\" >secondary_cleaner_state_floatbank6_a_air</th>\n",
       "      <th class=\"col_heading level0 col85\" >secondary_cleaner_state_floatbank6_a_level</th>\n",
       "    </tr>\n",
       "    <tr>\n",
       "      <th class=\"index_name level0\" >date</th>\n",
       "      <th class=\"blank col0\" >&nbsp;</th>\n",
       "      <th class=\"blank col1\" >&nbsp;</th>\n",
       "      <th class=\"blank col2\" >&nbsp;</th>\n",
       "      <th class=\"blank col3\" >&nbsp;</th>\n",
       "      <th class=\"blank col4\" >&nbsp;</th>\n",
       "      <th class=\"blank col5\" >&nbsp;</th>\n",
       "      <th class=\"blank col6\" >&nbsp;</th>\n",
       "      <th class=\"blank col7\" >&nbsp;</th>\n",
       "      <th class=\"blank col8\" >&nbsp;</th>\n",
       "      <th class=\"blank col9\" >&nbsp;</th>\n",
       "      <th class=\"blank col10\" >&nbsp;</th>\n",
       "      <th class=\"blank col11\" >&nbsp;</th>\n",
       "      <th class=\"blank col12\" >&nbsp;</th>\n",
       "      <th class=\"blank col13\" >&nbsp;</th>\n",
       "      <th class=\"blank col14\" >&nbsp;</th>\n",
       "      <th class=\"blank col15\" >&nbsp;</th>\n",
       "      <th class=\"blank col16\" >&nbsp;</th>\n",
       "      <th class=\"blank col17\" >&nbsp;</th>\n",
       "      <th class=\"blank col18\" >&nbsp;</th>\n",
       "      <th class=\"blank col19\" >&nbsp;</th>\n",
       "      <th class=\"blank col20\" >&nbsp;</th>\n",
       "      <th class=\"blank col21\" >&nbsp;</th>\n",
       "      <th class=\"blank col22\" >&nbsp;</th>\n",
       "      <th class=\"blank col23\" >&nbsp;</th>\n",
       "      <th class=\"blank col24\" >&nbsp;</th>\n",
       "      <th class=\"blank col25\" >&nbsp;</th>\n",
       "      <th class=\"blank col26\" >&nbsp;</th>\n",
       "      <th class=\"blank col27\" >&nbsp;</th>\n",
       "      <th class=\"blank col28\" >&nbsp;</th>\n",
       "      <th class=\"blank col29\" >&nbsp;</th>\n",
       "      <th class=\"blank col30\" >&nbsp;</th>\n",
       "      <th class=\"blank col31\" >&nbsp;</th>\n",
       "      <th class=\"blank col32\" >&nbsp;</th>\n",
       "      <th class=\"blank col33\" >&nbsp;</th>\n",
       "      <th class=\"blank col34\" >&nbsp;</th>\n",
       "      <th class=\"blank col35\" >&nbsp;</th>\n",
       "      <th class=\"blank col36\" >&nbsp;</th>\n",
       "      <th class=\"blank col37\" >&nbsp;</th>\n",
       "      <th class=\"blank col38\" >&nbsp;</th>\n",
       "      <th class=\"blank col39\" >&nbsp;</th>\n",
       "      <th class=\"blank col40\" >&nbsp;</th>\n",
       "      <th class=\"blank col41\" >&nbsp;</th>\n",
       "      <th class=\"blank col42\" >&nbsp;</th>\n",
       "      <th class=\"blank col43\" >&nbsp;</th>\n",
       "      <th class=\"blank col44\" >&nbsp;</th>\n",
       "      <th class=\"blank col45\" >&nbsp;</th>\n",
       "      <th class=\"blank col46\" >&nbsp;</th>\n",
       "      <th class=\"blank col47\" >&nbsp;</th>\n",
       "      <th class=\"blank col48\" >&nbsp;</th>\n",
       "      <th class=\"blank col49\" >&nbsp;</th>\n",
       "      <th class=\"blank col50\" >&nbsp;</th>\n",
       "      <th class=\"blank col51\" >&nbsp;</th>\n",
       "      <th class=\"blank col52\" >&nbsp;</th>\n",
       "      <th class=\"blank col53\" >&nbsp;</th>\n",
       "      <th class=\"blank col54\" >&nbsp;</th>\n",
       "      <th class=\"blank col55\" >&nbsp;</th>\n",
       "      <th class=\"blank col56\" >&nbsp;</th>\n",
       "      <th class=\"blank col57\" >&nbsp;</th>\n",
       "      <th class=\"blank col58\" >&nbsp;</th>\n",
       "      <th class=\"blank col59\" >&nbsp;</th>\n",
       "      <th class=\"blank col60\" >&nbsp;</th>\n",
       "      <th class=\"blank col61\" >&nbsp;</th>\n",
       "      <th class=\"blank col62\" >&nbsp;</th>\n",
       "      <th class=\"blank col63\" >&nbsp;</th>\n",
       "      <th class=\"blank col64\" >&nbsp;</th>\n",
       "      <th class=\"blank col65\" >&nbsp;</th>\n",
       "      <th class=\"blank col66\" >&nbsp;</th>\n",
       "      <th class=\"blank col67\" >&nbsp;</th>\n",
       "      <th class=\"blank col68\" >&nbsp;</th>\n",
       "      <th class=\"blank col69\" >&nbsp;</th>\n",
       "      <th class=\"blank col70\" >&nbsp;</th>\n",
       "      <th class=\"blank col71\" >&nbsp;</th>\n",
       "      <th class=\"blank col72\" >&nbsp;</th>\n",
       "      <th class=\"blank col73\" >&nbsp;</th>\n",
       "      <th class=\"blank col74\" >&nbsp;</th>\n",
       "      <th class=\"blank col75\" >&nbsp;</th>\n",
       "      <th class=\"blank col76\" >&nbsp;</th>\n",
       "      <th class=\"blank col77\" >&nbsp;</th>\n",
       "      <th class=\"blank col78\" >&nbsp;</th>\n",
       "      <th class=\"blank col79\" >&nbsp;</th>\n",
       "      <th class=\"blank col80\" >&nbsp;</th>\n",
       "      <th class=\"blank col81\" >&nbsp;</th>\n",
       "      <th class=\"blank col82\" >&nbsp;</th>\n",
       "      <th class=\"blank col83\" >&nbsp;</th>\n",
       "      <th class=\"blank col84\" >&nbsp;</th>\n",
       "      <th class=\"blank col85\" >&nbsp;</th>\n",
       "    </tr>\n",
       "  </thead>\n",
       "  <tbody>\n",
       "    <tr>\n",
       "      <th id=\"T_988ee_level0_row0\" class=\"row_heading level0 row0\" >2016-01-15 00:00:00</th>\n",
       "      <td id=\"T_988ee_row0_col0\" class=\"data row0 col0\" >6.06</td>\n",
       "      <td id=\"T_988ee_row0_col1\" class=\"data row0 col1\" >9.89</td>\n",
       "      <td id=\"T_988ee_row0_col2\" class=\"data row0 col2\" >5.51</td>\n",
       "      <td id=\"T_988ee_row0_col3\" class=\"data row0 col3\" >42.19</td>\n",
       "      <td id=\"T_988ee_row0_col4\" class=\"data row0 col4\" >70.54</td>\n",
       "      <td id=\"T_988ee_row0_col5\" class=\"data row0 col5\" >10.41</td>\n",
       "      <td id=\"T_988ee_row0_col6\" class=\"data row0 col6\" >0.90</td>\n",
       "      <td id=\"T_988ee_row0_col7\" class=\"data row0 col7\" >16.90</td>\n",
       "      <td id=\"T_988ee_row0_col8\" class=\"data row0 col8\" >2.14</td>\n",
       "      <td id=\"T_988ee_row0_col9\" class=\"data row0 col9\" >127.09</td>\n",
       "      <td id=\"T_988ee_row0_col10\" class=\"data row0 col10\" >10.13</td>\n",
       "      <td id=\"T_988ee_row0_col11\" class=\"data row0 col11\" >7.25</td>\n",
       "      <td id=\"T_988ee_row0_col12\" class=\"data row0 col12\" >0.99</td>\n",
       "      <td id=\"T_988ee_row0_col13\" class=\"data row0 col13\" >8.55</td>\n",
       "      <td id=\"T_988ee_row0_col14\" class=\"data row0 col14\" >10.39</td>\n",
       "      <td id=\"T_988ee_row0_col15\" class=\"data row0 col15\" >19.53</td>\n",
       "      <td id=\"T_988ee_row0_col16\" class=\"data row0 col16\" >34.17</td>\n",
       "      <td id=\"T_988ee_row0_col17\" class=\"data row0 col17\" >14.94</td>\n",
       "      <td id=\"T_988ee_row0_col18\" class=\"data row0 col18\" >2.53</td>\n",
       "      <td id=\"T_988ee_row0_col19\" class=\"data row0 col19\" >7.48</td>\n",
       "      <td id=\"T_988ee_row0_col20\" class=\"data row0 col20\" >2.11</td>\n",
       "      <td id=\"T_988ee_row0_col21\" class=\"data row0 col21\" >1549.78</td>\n",
       "      <td id=\"T_988ee_row0_col22\" class=\"data row0 col22\" >-498.91</td>\n",
       "      <td id=\"T_988ee_row0_col23\" class=\"data row0 col23\" >1551.43</td>\n",
       "      <td id=\"T_988ee_row0_col24\" class=\"data row0 col24\" >-516.40</td>\n",
       "      <td id=\"T_988ee_row0_col25\" class=\"data row0 col25\" >1549.87</td>\n",
       "      <td id=\"T_988ee_row0_col26\" class=\"data row0 col26\" >-498.67</td>\n",
       "      <td id=\"T_988ee_row0_col27\" class=\"data row0 col27\" >1554.37</td>\n",
       "      <td id=\"T_988ee_row0_col28\" class=\"data row0 col28\" >-493.43</td>\n",
       "      <td id=\"T_988ee_row0_col29\" class=\"data row0 col29\" >41885.71</td>\n",
       "      <td id=\"T_988ee_row0_col30\" class=\"data row0 col30\" >3481.78</td>\n",
       "      <td id=\"T_988ee_row0_col31\" class=\"data row0 col31\" >3520.34</td>\n",
       "      <td id=\"T_988ee_row0_col32\" class=\"data row0 col32\" >2.84</td>\n",
       "      <td id=\"T_988ee_row0_col33\" class=\"data row0 col33\" >6.10</td>\n",
       "      <td id=\"T_988ee_row0_col34\" class=\"data row0 col34\" >2.28</td>\n",
       "      <td id=\"T_988ee_row0_col35\" class=\"data row0 col35\" >523.55</td>\n",
       "      <td id=\"T_988ee_row0_col36\" class=\"data row0 col36\" >55.49</td>\n",
       "      <td id=\"T_988ee_row0_col37\" class=\"data row0 col37\" >36.81</td>\n",
       "      <td id=\"T_988ee_row0_col38\" class=\"data row0 col38\" >6.49</td>\n",
       "      <td id=\"T_988ee_row0_col39\" class=\"data row0 col39\" >11.99</td>\n",
       "      <td id=\"T_988ee_row0_col40\" class=\"data row0 col40\" >6.01</td>\n",
       "      <td id=\"T_988ee_row0_col41\" class=\"data row0 col41\" >11.84</td>\n",
       "      <td id=\"T_988ee_row0_col42\" class=\"data row0 col42\" >6.01</td>\n",
       "      <td id=\"T_988ee_row0_col43\" class=\"data row0 col43\" >11.50</td>\n",
       "      <td id=\"T_988ee_row0_col44\" class=\"data row0 col44\" >7.10</td>\n",
       "      <td id=\"T_988ee_row0_col45\" class=\"data row0 col45\" >28.03</td>\n",
       "      <td id=\"T_988ee_row0_col46\" class=\"data row0 col46\" >19.79</td>\n",
       "      <td id=\"T_988ee_row0_col47\" class=\"data row0 col47\" >87.11</td>\n",
       "      <td id=\"T_988ee_row0_col48\" class=\"data row0 col48\" >5.01</td>\n",
       "      <td id=\"T_988ee_row0_col49\" class=\"data row0 col49\" >0.51</td>\n",
       "      <td id=\"T_988ee_row0_col50\" class=\"data row0 col50\" >19.15</td>\n",
       "      <td id=\"T_988ee_row0_col51\" class=\"data row0 col51\" >1.17</td>\n",
       "      <td id=\"T_988ee_row0_col52\" class=\"data row0 col52\" >999.71</td>\n",
       "      <td id=\"T_988ee_row0_col53\" class=\"data row0 col53\" >-404.07</td>\n",
       "      <td id=\"T_988ee_row0_col54\" class=\"data row0 col54\" >1603.01</td>\n",
       "      <td id=\"T_988ee_row0_col55\" class=\"data row0 col55\" >-434.72</td>\n",
       "      <td id=\"T_988ee_row0_col56\" class=\"data row0 col56\" >1602.38</td>\n",
       "      <td id=\"T_988ee_row0_col57\" class=\"data row0 col57\" >-442.20</td>\n",
       "      <td id=\"T_988ee_row0_col58\" class=\"data row0 col58\" >1598.94</td>\n",
       "      <td id=\"T_988ee_row0_col59\" class=\"data row0 col59\" >-451.29</td>\n",
       "      <td id=\"T_988ee_row0_col60\" class=\"data row0 col60\" >1404.47</td>\n",
       "      <td id=\"T_988ee_row0_col61\" class=\"data row0 col61\" >-455.46</td>\n",
       "      <td id=\"T_988ee_row0_col62\" class=\"data row0 col62\" >1416.35</td>\n",
       "      <td id=\"T_988ee_row0_col63\" class=\"data row0 col63\" >-451.94</td>\n",
       "      <td id=\"T_988ee_row0_col64\" class=\"data row0 col64\" >14.50</td>\n",
       "      <td id=\"T_988ee_row0_col65\" class=\"data row0 col65\" >4.69</td>\n",
       "      <td id=\"T_988ee_row0_col66\" class=\"data row0 col66\" >8.76</td>\n",
       "      <td id=\"T_988ee_row0_col67\" class=\"data row0 col67\" >2.61</td>\n",
       "      <td id=\"T_988ee_row0_col68\" class=\"data row0 col68\" >25.85</td>\n",
       "      <td id=\"T_988ee_row0_col69\" class=\"data row0 col69\" >-498.53</td>\n",
       "      <td id=\"T_988ee_row0_col70\" class=\"data row0 col70\" >23.89</td>\n",
       "      <td id=\"T_988ee_row0_col71\" class=\"data row0 col71\" >-501.41</td>\n",
       "      <td id=\"T_988ee_row0_col72\" class=\"data row0 col72\" >23.96</td>\n",
       "      <td id=\"T_988ee_row0_col73\" class=\"data row0 col73\" >-495.26</td>\n",
       "      <td id=\"T_988ee_row0_col74\" class=\"data row0 col74\" >21.94</td>\n",
       "      <td id=\"T_988ee_row0_col75\" class=\"data row0 col75\" >-499.34</td>\n",
       "      <td id=\"T_988ee_row0_col76\" class=\"data row0 col76\" >14.02</td>\n",
       "      <td id=\"T_988ee_row0_col77\" class=\"data row0 col77\" >-502.49</td>\n",
       "      <td id=\"T_988ee_row0_col78\" class=\"data row0 col78\" >12.10</td>\n",
       "      <td id=\"T_988ee_row0_col79\" class=\"data row0 col79\" >-504.72</td>\n",
       "      <td id=\"T_988ee_row0_col80\" class=\"data row0 col80\" >9.93</td>\n",
       "      <td id=\"T_988ee_row0_col81\" class=\"data row0 col81\" >-498.31</td>\n",
       "      <td id=\"T_988ee_row0_col82\" class=\"data row0 col82\" >8.08</td>\n",
       "      <td id=\"T_988ee_row0_col83\" class=\"data row0 col83\" >-500.47</td>\n",
       "      <td id=\"T_988ee_row0_col84\" class=\"data row0 col84\" >14.15</td>\n",
       "      <td id=\"T_988ee_row0_col85\" class=\"data row0 col85\" >-605.84</td>\n",
       "    </tr>\n",
       "    <tr>\n",
       "      <th id=\"T_988ee_level0_row1\" class=\"row_heading level0 row1\" >2016-01-15 01:00:00</th>\n",
       "      <td id=\"T_988ee_row1_col0\" class=\"data row1 col0\" >6.03</td>\n",
       "      <td id=\"T_988ee_row1_col1\" class=\"data row1 col1\" >9.97</td>\n",
       "      <td id=\"T_988ee_row1_col2\" class=\"data row1 col2\" >5.26</td>\n",
       "      <td id=\"T_988ee_row1_col3\" class=\"data row1 col3\" >42.70</td>\n",
       "      <td id=\"T_988ee_row1_col4\" class=\"data row1 col4\" >69.27</td>\n",
       "      <td id=\"T_988ee_row1_col5\" class=\"data row1 col5\" >10.46</td>\n",
       "      <td id=\"T_988ee_row1_col6\" class=\"data row1 col6\" >0.93</td>\n",
       "      <td id=\"T_988ee_row1_col7\" class=\"data row1 col7\" >16.63</td>\n",
       "      <td id=\"T_988ee_row1_col8\" class=\"data row1 col8\" >2.22</td>\n",
       "      <td id=\"T_988ee_row1_col9\" class=\"data row1 col9\" >125.63</td>\n",
       "      <td id=\"T_988ee_row1_col10\" class=\"data row1 col10\" >10.30</td>\n",
       "      <td id=\"T_988ee_row1_col11\" class=\"data row1 col11\" >7.25</td>\n",
       "      <td id=\"T_988ee_row1_col12\" class=\"data row1 col12\" >1.00</td>\n",
       "      <td id=\"T_988ee_row1_col13\" class=\"data row1 col13\" >8.56</td>\n",
       "      <td id=\"T_988ee_row1_col14\" class=\"data row1 col14\" >10.50</td>\n",
       "      <td id=\"T_988ee_row1_col15\" class=\"data row1 col15\" >19.37</td>\n",
       "      <td id=\"T_988ee_row1_col16\" class=\"data row1 col16\" >34.12</td>\n",
       "      <td id=\"T_988ee_row1_col17\" class=\"data row1 col17\" >16.25</td>\n",
       "      <td id=\"T_988ee_row1_col18\" class=\"data row1 col18\" >3.05</td>\n",
       "      <td id=\"T_988ee_row1_col19\" class=\"data row1 col19\" >6.73</td>\n",
       "      <td id=\"T_988ee_row1_col20\" class=\"data row1 col20\" >2.35</td>\n",
       "      <td id=\"T_988ee_row1_col21\" class=\"data row1 col21\" >1576.17</td>\n",
       "      <td id=\"T_988ee_row1_col22\" class=\"data row1 col22\" >-500.90</td>\n",
       "      <td id=\"T_988ee_row1_col23\" class=\"data row1 col23\" >1575.95</td>\n",
       "      <td id=\"T_988ee_row1_col24\" class=\"data row1 col24\" >-499.87</td>\n",
       "      <td id=\"T_988ee_row1_col25\" class=\"data row1 col25\" >1575.99</td>\n",
       "      <td id=\"T_988ee_row1_col26\" class=\"data row1 col26\" >-499.32</td>\n",
       "      <td id=\"T_988ee_row1_col27\" class=\"data row1 col27\" >1574.48</td>\n",
       "      <td id=\"T_988ee_row1_col28\" class=\"data row1 col28\" >-498.93</td>\n",
       "      <td id=\"T_988ee_row1_col29\" class=\"data row1 col29\" >42050.86</td>\n",
       "      <td id=\"T_988ee_row1_col30\" class=\"data row1 col30\" >3498.37</td>\n",
       "      <td id=\"T_988ee_row1_col31\" class=\"data row1 col31\" >3489.98</td>\n",
       "      <td id=\"T_988ee_row1_col32\" class=\"data row1 col32\" >2.86</td>\n",
       "      <td id=\"T_988ee_row1_col33\" class=\"data row1 col33\" >6.16</td>\n",
       "      <td id=\"T_988ee_row1_col34\" class=\"data row1 col34\" >2.27</td>\n",
       "      <td id=\"T_988ee_row1_col35\" class=\"data row1 col35\" >525.29</td>\n",
       "      <td id=\"T_988ee_row1_col36\" class=\"data row1 col36\" >57.28</td>\n",
       "      <td id=\"T_988ee_row1_col37\" class=\"data row1 col37\" >35.75</td>\n",
       "      <td id=\"T_988ee_row1_col38\" class=\"data row1 col38\" >6.48</td>\n",
       "      <td id=\"T_988ee_row1_col39\" class=\"data row1 col39\" >11.97</td>\n",
       "      <td id=\"T_988ee_row1_col40\" class=\"data row1 col40\" >6.01</td>\n",
       "      <td id=\"T_988ee_row1_col41\" class=\"data row1 col41\" >12.00</td>\n",
       "      <td id=\"T_988ee_row1_col42\" class=\"data row1 col42\" >6.01</td>\n",
       "      <td id=\"T_988ee_row1_col43\" class=\"data row1 col43\" >11.62</td>\n",
       "      <td id=\"T_988ee_row1_col44\" class=\"data row1 col44\" >7.28</td>\n",
       "      <td id=\"T_988ee_row1_col45\" class=\"data row1 col45\" >28.07</td>\n",
       "      <td id=\"T_988ee_row1_col46\" class=\"data row1 col46\" >20.05</td>\n",
       "      <td id=\"T_988ee_row1_col47\" class=\"data row1 col47\" >86.84</td>\n",
       "      <td id=\"T_988ee_row1_col48\" class=\"data row1 col48\" >4.96</td>\n",
       "      <td id=\"T_988ee_row1_col49\" class=\"data row1 col49\" >0.54</td>\n",
       "      <td id=\"T_988ee_row1_col50\" class=\"data row1 col50\" >18.97</td>\n",
       "      <td id=\"T_988ee_row1_col51\" class=\"data row1 col51\" >1.18</td>\n",
       "      <td id=\"T_988ee_row1_col52\" class=\"data row1 col52\" >1000.29</td>\n",
       "      <td id=\"T_988ee_row1_col53\" class=\"data row1 col53\" >-400.07</td>\n",
       "      <td id=\"T_988ee_row1_col54\" class=\"data row1 col54\" >1600.75</td>\n",
       "      <td id=\"T_988ee_row1_col55\" class=\"data row1 col55\" >-449.95</td>\n",
       "      <td id=\"T_988ee_row1_col56\" class=\"data row1 col56\" >1600.48</td>\n",
       "      <td id=\"T_988ee_row1_col57\" class=\"data row1 col57\" >-449.83</td>\n",
       "      <td id=\"T_988ee_row1_col58\" class=\"data row1 col58\" >1600.53</td>\n",
       "      <td id=\"T_988ee_row1_col59\" class=\"data row1 col59\" >-449.95</td>\n",
       "      <td id=\"T_988ee_row1_col60\" class=\"data row1 col60\" >1399.23</td>\n",
       "      <td id=\"T_988ee_row1_col61\" class=\"data row1 col61\" >-450.87</td>\n",
       "      <td id=\"T_988ee_row1_col62\" class=\"data row1 col62\" >1399.72</td>\n",
       "      <td id=\"T_988ee_row1_col63\" class=\"data row1 col63\" >-450.12</td>\n",
       "      <td id=\"T_988ee_row1_col64\" class=\"data row1 col64\" >14.27</td>\n",
       "      <td id=\"T_988ee_row1_col65\" class=\"data row1 col65\" >4.59</td>\n",
       "      <td id=\"T_988ee_row1_col66\" class=\"data row1 col66\" >9.00</td>\n",
       "      <td id=\"T_988ee_row1_col67\" class=\"data row1 col67\" >2.49</td>\n",
       "      <td id=\"T_988ee_row1_col68\" class=\"data row1 col68\" >25.88</td>\n",
       "      <td id=\"T_988ee_row1_col69\" class=\"data row1 col69\" >-499.99</td>\n",
       "      <td id=\"T_988ee_row1_col70\" class=\"data row1 col70\" >23.89</td>\n",
       "      <td id=\"T_988ee_row1_col71\" class=\"data row1 col71\" >-500.37</td>\n",
       "      <td id=\"T_988ee_row1_col72\" class=\"data row1 col72\" >23.97</td>\n",
       "      <td id=\"T_988ee_row1_col73\" class=\"data row1 col73\" >-500.09</td>\n",
       "      <td id=\"T_988ee_row1_col74\" class=\"data row1 col74\" >22.09</td>\n",
       "      <td id=\"T_988ee_row1_col75\" class=\"data row1 col75\" >-499.45</td>\n",
       "      <td id=\"T_988ee_row1_col76\" class=\"data row1 col76\" >13.99</td>\n",
       "      <td id=\"T_988ee_row1_col77\" class=\"data row1 col77\" >-505.50</td>\n",
       "      <td id=\"T_988ee_row1_col78\" class=\"data row1 col78\" >11.95</td>\n",
       "      <td id=\"T_988ee_row1_col79\" class=\"data row1 col79\" >-501.33</td>\n",
       "      <td id=\"T_988ee_row1_col80\" class=\"data row1 col80\" >10.04</td>\n",
       "      <td id=\"T_988ee_row1_col81\" class=\"data row1 col81\" >-500.17</td>\n",
       "      <td id=\"T_988ee_row1_col82\" class=\"data row1 col82\" >7.98</td>\n",
       "      <td id=\"T_988ee_row1_col83\" class=\"data row1 col83\" >-500.58</td>\n",
       "      <td id=\"T_988ee_row1_col84\" class=\"data row1 col84\" >14.00</td>\n",
       "      <td id=\"T_988ee_row1_col85\" class=\"data row1 col85\" >-599.79</td>\n",
       "    </tr>\n",
       "    <tr>\n",
       "      <th id=\"T_988ee_level0_row2\" class=\"row_heading level0 row2\" >2016-01-15 02:00:00</th>\n",
       "      <td id=\"T_988ee_row2_col0\" class=\"data row2 col0\" >6.06</td>\n",
       "      <td id=\"T_988ee_row2_col1\" class=\"data row2 col1\" >10.21</td>\n",
       "      <td id=\"T_988ee_row2_col2\" class=\"data row2 col2\" >5.38</td>\n",
       "      <td id=\"T_988ee_row2_col3\" class=\"data row2 col3\" >42.66</td>\n",
       "      <td id=\"T_988ee_row2_col4\" class=\"data row2 col4\" >68.12</td>\n",
       "      <td id=\"T_988ee_row2_col5\" class=\"data row2 col5\" >10.51</td>\n",
       "      <td id=\"T_988ee_row2_col6\" class=\"data row2 col6\" >0.95</td>\n",
       "      <td id=\"T_988ee_row2_col7\" class=\"data row2 col7\" >16.21</td>\n",
       "      <td id=\"T_988ee_row2_col8\" class=\"data row2 col8\" >2.26</td>\n",
       "      <td id=\"T_988ee_row2_col9\" class=\"data row2 col9\" >123.82</td>\n",
       "      <td id=\"T_988ee_row2_col10\" class=\"data row2 col10\" >11.32</td>\n",
       "      <td id=\"T_988ee_row2_col11\" class=\"data row2 col11\" >7.25</td>\n",
       "      <td id=\"T_988ee_row2_col12\" class=\"data row2 col12\" >0.99</td>\n",
       "      <td id=\"T_988ee_row2_col13\" class=\"data row2 col13\" >8.60</td>\n",
       "      <td id=\"T_988ee_row2_col14\" class=\"data row2 col14\" >10.35</td>\n",
       "      <td id=\"T_988ee_row2_col15\" class=\"data row2 col15\" >19.17</td>\n",
       "      <td id=\"T_988ee_row2_col16\" class=\"data row2 col16\" >33.97</td>\n",
       "      <td id=\"T_988ee_row2_col17\" class=\"data row2 col17\" >16.49</td>\n",
       "      <td id=\"T_988ee_row2_col18\" class=\"data row2 col18\" >3.12</td>\n",
       "      <td id=\"T_988ee_row2_col19\" class=\"data row2 col19\" >6.47</td>\n",
       "      <td id=\"T_988ee_row2_col20\" class=\"data row2 col20\" >2.42</td>\n",
       "      <td id=\"T_988ee_row2_col21\" class=\"data row2 col21\" >1601.56</td>\n",
       "      <td id=\"T_988ee_row2_col22\" class=\"data row2 col22\" >-500.00</td>\n",
       "      <td id=\"T_988ee_row2_col23\" class=\"data row2 col23\" >1600.39</td>\n",
       "      <td id=\"T_988ee_row2_col24\" class=\"data row2 col24\" >-500.61</td>\n",
       "      <td id=\"T_988ee_row2_col25\" class=\"data row2 col25\" >1602.00</td>\n",
       "      <td id=\"T_988ee_row2_col26\" class=\"data row2 col26\" >-500.87</td>\n",
       "      <td id=\"T_988ee_row2_col27\" class=\"data row2 col27\" >1599.54</td>\n",
       "      <td id=\"T_988ee_row2_col28\" class=\"data row2 col28\" >-499.83</td>\n",
       "      <td id=\"T_988ee_row2_col29\" class=\"data row2 col29\" >42018.10</td>\n",
       "      <td id=\"T_988ee_row2_col30\" class=\"data row2 col30\" >3495.35</td>\n",
       "      <td id=\"T_988ee_row2_col31\" class=\"data row2 col31\" >3502.36</td>\n",
       "      <td id=\"T_988ee_row2_col32\" class=\"data row2 col32\" >2.95</td>\n",
       "      <td id=\"T_988ee_row2_col33\" class=\"data row2 col33\" >6.12</td>\n",
       "      <td id=\"T_988ee_row2_col34\" class=\"data row2 col34\" >2.16</td>\n",
       "      <td id=\"T_988ee_row2_col35\" class=\"data row2 col35\" >530.03</td>\n",
       "      <td id=\"T_988ee_row2_col36\" class=\"data row2 col36\" >57.51</td>\n",
       "      <td id=\"T_988ee_row2_col37\" class=\"data row2 col37\" >35.97</td>\n",
       "      <td id=\"T_988ee_row2_col38\" class=\"data row2 col38\" >6.36</td>\n",
       "      <td id=\"T_988ee_row2_col39\" class=\"data row2 col39\" >11.92</td>\n",
       "      <td id=\"T_988ee_row2_col40\" class=\"data row2 col40\" >6.20</td>\n",
       "      <td id=\"T_988ee_row2_col41\" class=\"data row2 col41\" >11.92</td>\n",
       "      <td id=\"T_988ee_row2_col42\" class=\"data row2 col42\" >6.20</td>\n",
       "      <td id=\"T_988ee_row2_col43\" class=\"data row2 col43\" >11.70</td>\n",
       "      <td id=\"T_988ee_row2_col44\" class=\"data row2 col44\" >7.22</td>\n",
       "      <td id=\"T_988ee_row2_col45\" class=\"data row2 col45\" >27.45</td>\n",
       "      <td id=\"T_988ee_row2_col46\" class=\"data row2 col46\" >19.74</td>\n",
       "      <td id=\"T_988ee_row2_col47\" class=\"data row2 col47\" >86.84</td>\n",
       "      <td id=\"T_988ee_row2_col48\" class=\"data row2 col48\" >4.84</td>\n",
       "      <td id=\"T_988ee_row2_col49\" class=\"data row2 col49\" >0.55</td>\n",
       "      <td id=\"T_988ee_row2_col50\" class=\"data row2 col50\" >18.81</td>\n",
       "      <td id=\"T_988ee_row2_col51\" class=\"data row2 col51\" >1.16</td>\n",
       "      <td id=\"T_988ee_row2_col52\" class=\"data row2 col52\" >999.72</td>\n",
       "      <td id=\"T_988ee_row2_col53\" class=\"data row2 col53\" >-400.07</td>\n",
       "      <td id=\"T_988ee_row2_col54\" class=\"data row2 col54\" >1599.34</td>\n",
       "      <td id=\"T_988ee_row2_col55\" class=\"data row2 col55\" >-450.01</td>\n",
       "      <td id=\"T_988ee_row2_col56\" class=\"data row2 col56\" >1599.67</td>\n",
       "      <td id=\"T_988ee_row2_col57\" class=\"data row2 col57\" >-449.95</td>\n",
       "      <td id=\"T_988ee_row2_col58\" class=\"data row2 col58\" >1599.85</td>\n",
       "      <td id=\"T_988ee_row2_col59\" class=\"data row2 col59\" >-449.95</td>\n",
       "      <td id=\"T_988ee_row2_col60\" class=\"data row2 col60\" >1399.18</td>\n",
       "      <td id=\"T_988ee_row2_col61\" class=\"data row2 col61\" >-449.94</td>\n",
       "      <td id=\"T_988ee_row2_col62\" class=\"data row2 col62\" >1400.32</td>\n",
       "      <td id=\"T_988ee_row2_col63\" class=\"data row2 col63\" >-450.53</td>\n",
       "      <td id=\"T_988ee_row2_col64\" class=\"data row2 col64\" >14.12</td>\n",
       "      <td id=\"T_988ee_row2_col65\" class=\"data row2 col65\" >4.62</td>\n",
       "      <td id=\"T_988ee_row2_col66\" class=\"data row2 col66\" >8.84</td>\n",
       "      <td id=\"T_988ee_row2_col67\" class=\"data row2 col67\" >2.46</td>\n",
       "      <td id=\"T_988ee_row2_col68\" class=\"data row2 col68\" >26.01</td>\n",
       "      <td id=\"T_988ee_row2_col69\" class=\"data row2 col69\" >-499.93</td>\n",
       "      <td id=\"T_988ee_row2_col70\" class=\"data row2 col70\" >23.89</td>\n",
       "      <td id=\"T_988ee_row2_col71\" class=\"data row2 col71\" >-499.95</td>\n",
       "      <td id=\"T_988ee_row2_col72\" class=\"data row2 col72\" >23.91</td>\n",
       "      <td id=\"T_988ee_row2_col73\" class=\"data row2 col73\" >-499.44</td>\n",
       "      <td id=\"T_988ee_row2_col74\" class=\"data row2 col74\" >23.96</td>\n",
       "      <td id=\"T_988ee_row2_col75\" class=\"data row2 col75\" >-499.90</td>\n",
       "      <td id=\"T_988ee_row2_col76\" class=\"data row2 col76\" >14.02</td>\n",
       "      <td id=\"T_988ee_row2_col77\" class=\"data row2 col77\" >-502.52</td>\n",
       "      <td id=\"T_988ee_row2_col78\" class=\"data row2 col78\" >11.91</td>\n",
       "      <td id=\"T_988ee_row2_col79\" class=\"data row2 col79\" >-501.13</td>\n",
       "      <td id=\"T_988ee_row2_col80\" class=\"data row2 col80\" >10.07</td>\n",
       "      <td id=\"T_988ee_row2_col81\" class=\"data row2 col81\" >-500.13</td>\n",
       "      <td id=\"T_988ee_row2_col82\" class=\"data row2 col82\" >8.01</td>\n",
       "      <td id=\"T_988ee_row2_col83\" class=\"data row2 col83\" >-500.52</td>\n",
       "      <td id=\"T_988ee_row2_col84\" class=\"data row2 col84\" >14.03</td>\n",
       "      <td id=\"T_988ee_row2_col85\" class=\"data row2 col85\" >-601.43</td>\n",
       "    </tr>\n",
       "    <tr>\n",
       "      <th id=\"T_988ee_level0_row3\" class=\"row_heading level0 row3\" >2016-01-15 03:00:00</th>\n",
       "      <td id=\"T_988ee_row3_col0\" class=\"data row3 col0\" >6.05</td>\n",
       "      <td id=\"T_988ee_row3_col1\" class=\"data row3 col1\" >9.98</td>\n",
       "      <td id=\"T_988ee_row3_col2\" class=\"data row3 col2\" >4.86</td>\n",
       "      <td id=\"T_988ee_row3_col3\" class=\"data row3 col3\" >42.69</td>\n",
       "      <td id=\"T_988ee_row3_col4\" class=\"data row3 col4\" >68.35</td>\n",
       "      <td id=\"T_988ee_row3_col5\" class=\"data row3 col5\" >10.42</td>\n",
       "      <td id=\"T_988ee_row3_col6\" class=\"data row3 col6\" >0.88</td>\n",
       "      <td id=\"T_988ee_row3_col7\" class=\"data row3 col7\" >16.53</td>\n",
       "      <td id=\"T_988ee_row3_col8\" class=\"data row3 col8\" >2.15</td>\n",
       "      <td id=\"T_988ee_row3_col9\" class=\"data row3 col9\" >122.27</td>\n",
       "      <td id=\"T_988ee_row3_col10\" class=\"data row3 col10\" >11.32</td>\n",
       "      <td id=\"T_988ee_row3_col11\" class=\"data row3 col11\" >7.25</td>\n",
       "      <td id=\"T_988ee_row3_col12\" class=\"data row3 col12\" >1.00</td>\n",
       "      <td id=\"T_988ee_row3_col13\" class=\"data row3 col13\" >7.22</td>\n",
       "      <td id=\"T_988ee_row3_col14\" class=\"data row3 col14\" >8.50</td>\n",
       "      <td id=\"T_988ee_row3_col15\" class=\"data row3 col15\" >15.98</td>\n",
       "      <td id=\"T_988ee_row3_col16\" class=\"data row3 col16\" >28.26</td>\n",
       "      <td id=\"T_988ee_row3_col17\" class=\"data row3 col17\" >16.02</td>\n",
       "      <td id=\"T_988ee_row3_col18\" class=\"data row3 col18\" >2.96</td>\n",
       "      <td id=\"T_988ee_row3_col19\" class=\"data row3 col19\" >6.84</td>\n",
       "      <td id=\"T_988ee_row3_col20\" class=\"data row3 col20\" >2.26</td>\n",
       "      <td id=\"T_988ee_row3_col21\" class=\"data row3 col21\" >1599.97</td>\n",
       "      <td id=\"T_988ee_row3_col22\" class=\"data row3 col22\" >-500.95</td>\n",
       "      <td id=\"T_988ee_row3_col23\" class=\"data row3 col23\" >1600.66</td>\n",
       "      <td id=\"T_988ee_row3_col24\" class=\"data row3 col24\" >-499.68</td>\n",
       "      <td id=\"T_988ee_row3_col25\" class=\"data row3 col25\" >1600.30</td>\n",
       "      <td id=\"T_988ee_row3_col26\" class=\"data row3 col26\" >-500.73</td>\n",
       "      <td id=\"T_988ee_row3_col27\" class=\"data row3 col27\" >1600.45</td>\n",
       "      <td id=\"T_988ee_row3_col28\" class=\"data row3 col28\" >-500.05</td>\n",
       "      <td id=\"T_988ee_row3_col29\" class=\"data row3 col29\" >42029.45</td>\n",
       "      <td id=\"T_988ee_row3_col30\" class=\"data row3 col30\" >3498.58</td>\n",
       "      <td id=\"T_988ee_row3_col31\" class=\"data row3 col31\" >3499.16</td>\n",
       "      <td id=\"T_988ee_row3_col32\" class=\"data row3 col32\" >3.00</td>\n",
       "      <td id=\"T_988ee_row3_col33\" class=\"data row3 col33\" >6.04</td>\n",
       "      <td id=\"T_988ee_row3_col34\" class=\"data row3 col34\" >2.04</td>\n",
       "      <td id=\"T_988ee_row3_col35\" class=\"data row3 col35\" >542.59</td>\n",
       "      <td id=\"T_988ee_row3_col36\" class=\"data row3 col36\" >57.79</td>\n",
       "      <td id=\"T_988ee_row3_col37\" class=\"data row3 col37\" >36.86</td>\n",
       "      <td id=\"T_988ee_row3_col38\" class=\"data row3 col38\" >6.12</td>\n",
       "      <td id=\"T_988ee_row3_col39\" class=\"data row3 col39\" >11.63</td>\n",
       "      <td id=\"T_988ee_row3_col40\" class=\"data row3 col40\" >6.20</td>\n",
       "      <td id=\"T_988ee_row3_col41\" class=\"data row3 col41\" >11.69</td>\n",
       "      <td id=\"T_988ee_row3_col42\" class=\"data row3 col42\" >6.20</td>\n",
       "      <td id=\"T_988ee_row3_col43\" class=\"data row3 col43\" >11.92</td>\n",
       "      <td id=\"T_988ee_row3_col44\" class=\"data row3 col44\" >7.18</td>\n",
       "      <td id=\"T_988ee_row3_col45\" class=\"data row3 col45\" >27.34</td>\n",
       "      <td id=\"T_988ee_row3_col46\" class=\"data row3 col46\" >19.32</td>\n",
       "      <td id=\"T_988ee_row3_col47\" class=\"data row3 col47\" >87.23</td>\n",
       "      <td id=\"T_988ee_row3_col48\" class=\"data row3 col48\" >4.66</td>\n",
       "      <td id=\"T_988ee_row3_col49\" class=\"data row3 col49\" >0.54</td>\n",
       "      <td id=\"T_988ee_row3_col50\" class=\"data row3 col50\" >19.33</td>\n",
       "      <td id=\"T_988ee_row3_col51\" class=\"data row3 col51\" >1.08</td>\n",
       "      <td id=\"T_988ee_row3_col52\" class=\"data row3 col52\" >999.81</td>\n",
       "      <td id=\"T_988ee_row3_col53\" class=\"data row3 col53\" >-400.20</td>\n",
       "      <td id=\"T_988ee_row3_col54\" class=\"data row3 col54\" >1600.06</td>\n",
       "      <td id=\"T_988ee_row3_col55\" class=\"data row3 col55\" >-450.62</td>\n",
       "      <td id=\"T_988ee_row3_col56\" class=\"data row3 col56\" >1600.01</td>\n",
       "      <td id=\"T_988ee_row3_col57\" class=\"data row3 col57\" >-449.91</td>\n",
       "      <td id=\"T_988ee_row3_col58\" class=\"data row3 col58\" >1597.73</td>\n",
       "      <td id=\"T_988ee_row3_col59\" class=\"data row3 col59\" >-450.13</td>\n",
       "      <td id=\"T_988ee_row3_col60\" class=\"data row3 col60\" >1400.94</td>\n",
       "      <td id=\"T_988ee_row3_col61\" class=\"data row3 col61\" >-450.03</td>\n",
       "      <td id=\"T_988ee_row3_col62\" class=\"data row3 col62\" >1400.23</td>\n",
       "      <td id=\"T_988ee_row3_col63\" class=\"data row3 col63\" >-449.79</td>\n",
       "      <td id=\"T_988ee_row3_col64\" class=\"data row3 col64\" >13.73</td>\n",
       "      <td id=\"T_988ee_row3_col65\" class=\"data row3 col65\" >4.48</td>\n",
       "      <td id=\"T_988ee_row3_col66\" class=\"data row3 col66\" >9.12</td>\n",
       "      <td id=\"T_988ee_row3_col67\" class=\"data row3 col67\" >2.32</td>\n",
       "      <td id=\"T_988ee_row3_col68\" class=\"data row3 col68\" >25.94</td>\n",
       "      <td id=\"T_988ee_row3_col69\" class=\"data row3 col69\" >-499.18</td>\n",
       "      <td id=\"T_988ee_row3_col70\" class=\"data row3 col70\" >23.96</td>\n",
       "      <td id=\"T_988ee_row3_col71\" class=\"data row3 col71\" >-499.85</td>\n",
       "      <td id=\"T_988ee_row3_col72\" class=\"data row3 col72\" >23.97</td>\n",
       "      <td id=\"T_988ee_row3_col73\" class=\"data row3 col73\" >-500.01</td>\n",
       "      <td id=\"T_988ee_row3_col74\" class=\"data row3 col74\" >23.95</td>\n",
       "      <td id=\"T_988ee_row3_col75\" class=\"data row3 col75\" >-499.94</td>\n",
       "      <td id=\"T_988ee_row3_col76\" class=\"data row3 col76\" >14.04</td>\n",
       "      <td id=\"T_988ee_row3_col77\" class=\"data row3 col77\" >-500.86</td>\n",
       "      <td id=\"T_988ee_row3_col78\" class=\"data row3 col78\" >12.00</td>\n",
       "      <td id=\"T_988ee_row3_col79\" class=\"data row3 col79\" >-501.19</td>\n",
       "      <td id=\"T_988ee_row3_col80\" class=\"data row3 col80\" >9.97</td>\n",
       "      <td id=\"T_988ee_row3_col81\" class=\"data row3 col81\" >-499.20</td>\n",
       "      <td id=\"T_988ee_row3_col82\" class=\"data row3 col82\" >7.98</td>\n",
       "      <td id=\"T_988ee_row3_col83\" class=\"data row3 col83\" >-500.26</td>\n",
       "      <td id=\"T_988ee_row3_col84\" class=\"data row3 col84\" >14.01</td>\n",
       "      <td id=\"T_988ee_row3_col85\" class=\"data row3 col85\" >-600.00</td>\n",
       "    </tr>\n",
       "    <tr>\n",
       "      <th id=\"T_988ee_level0_row4\" class=\"row_heading level0 row4\" >2016-01-15 04:00:00</th>\n",
       "      <td id=\"T_988ee_row4_col0\" class=\"data row4 col0\" >6.15</td>\n",
       "      <td id=\"T_988ee_row4_col1\" class=\"data row4 col1\" >10.14</td>\n",
       "      <td id=\"T_988ee_row4_col2\" class=\"data row4 col2\" >4.94</td>\n",
       "      <td id=\"T_988ee_row4_col3\" class=\"data row4 col3\" >42.77</td>\n",
       "      <td id=\"T_988ee_row4_col4\" class=\"data row4 col4\" >66.93</td>\n",
       "      <td id=\"T_988ee_row4_col5\" class=\"data row4 col5\" >10.36</td>\n",
       "      <td id=\"T_988ee_row4_col6\" class=\"data row4 col6\" >0.79</td>\n",
       "      <td id=\"T_988ee_row4_col7\" class=\"data row4 col7\" >16.53</td>\n",
       "      <td id=\"T_988ee_row4_col8\" class=\"data row4 col8\" >2.06</td>\n",
       "      <td id=\"T_988ee_row4_col9\" class=\"data row4 col9\" >117.99</td>\n",
       "      <td id=\"T_988ee_row4_col10\" class=\"data row4 col10\" >11.91</td>\n",
       "      <td id=\"T_988ee_row4_col11\" class=\"data row4 col11\" >7.25</td>\n",
       "      <td id=\"T_988ee_row4_col12\" class=\"data row4 col12\" >1.01</td>\n",
       "      <td id=\"T_988ee_row4_col13\" class=\"data row4 col13\" >9.09</td>\n",
       "      <td id=\"T_988ee_row4_col14\" class=\"data row4 col14\" >9.99</td>\n",
       "      <td id=\"T_988ee_row4_col15\" class=\"data row4 col15\" >19.20</td>\n",
       "      <td id=\"T_988ee_row4_col16\" class=\"data row4 col16\" >33.04</td>\n",
       "      <td id=\"T_988ee_row4_col17\" class=\"data row4 col17\" >16.48</td>\n",
       "      <td id=\"T_988ee_row4_col18\" class=\"data row4 col18\" >3.11</td>\n",
       "      <td id=\"T_988ee_row4_col19\" class=\"data row4 col19\" >6.55</td>\n",
       "      <td id=\"T_988ee_row4_col20\" class=\"data row4 col20\" >2.28</td>\n",
       "      <td id=\"T_988ee_row4_col21\" class=\"data row4 col21\" >1601.34</td>\n",
       "      <td id=\"T_988ee_row4_col22\" class=\"data row4 col22\" >-498.98</td>\n",
       "      <td id=\"T_988ee_row4_col23\" class=\"data row4 col23\" >1601.44</td>\n",
       "      <td id=\"T_988ee_row4_col24\" class=\"data row4 col24\" >-500.32</td>\n",
       "      <td id=\"T_988ee_row4_col25\" class=\"data row4 col25\" >1599.58</td>\n",
       "      <td id=\"T_988ee_row4_col26\" class=\"data row4 col26\" >-500.89</td>\n",
       "      <td id=\"T_988ee_row4_col27\" class=\"data row4 col27\" >1602.65</td>\n",
       "      <td id=\"T_988ee_row4_col28\" class=\"data row4 col28\" >-500.59</td>\n",
       "      <td id=\"T_988ee_row4_col29\" class=\"data row4 col29\" >42125.35</td>\n",
       "      <td id=\"T_988ee_row4_col30\" class=\"data row4 col30\" >3494.80</td>\n",
       "      <td id=\"T_988ee_row4_col31\" class=\"data row4 col31\" >3506.68</td>\n",
       "      <td id=\"T_988ee_row4_col32\" class=\"data row4 col32\" >3.17</td>\n",
       "      <td id=\"T_988ee_row4_col33\" class=\"data row4 col33\" >6.06</td>\n",
       "      <td id=\"T_988ee_row4_col34\" class=\"data row4 col34\" >1.79</td>\n",
       "      <td id=\"T_988ee_row4_col35\" class=\"data row4 col35\" >540.53</td>\n",
       "      <td id=\"T_988ee_row4_col36\" class=\"data row4 col36\" >56.05</td>\n",
       "      <td id=\"T_988ee_row4_col37\" class=\"data row4 col37\" >34.35</td>\n",
       "      <td id=\"T_988ee_row4_col38\" class=\"data row4 col38\" >5.66</td>\n",
       "      <td id=\"T_988ee_row4_col39\" class=\"data row4 col39\" >10.96</td>\n",
       "      <td id=\"T_988ee_row4_col40\" class=\"data row4 col40\" >6.20</td>\n",
       "      <td id=\"T_988ee_row4_col41\" class=\"data row4 col41\" >10.96</td>\n",
       "      <td id=\"T_988ee_row4_col42\" class=\"data row4 col42\" >6.19</td>\n",
       "      <td id=\"T_988ee_row4_col43\" class=\"data row4 col43\" >12.41</td>\n",
       "      <td id=\"T_988ee_row4_col44\" class=\"data row4 col44\" >7.24</td>\n",
       "      <td id=\"T_988ee_row4_col45\" class=\"data row4 col45\" >27.04</td>\n",
       "      <td id=\"T_988ee_row4_col46\" class=\"data row4 col46\" >19.22</td>\n",
       "      <td id=\"T_988ee_row4_col47\" class=\"data row4 col47\" >86.69</td>\n",
       "      <td id=\"T_988ee_row4_col48\" class=\"data row4 col48\" >4.55</td>\n",
       "      <td id=\"T_988ee_row4_col49\" class=\"data row4 col49\" >0.52</td>\n",
       "      <td id=\"T_988ee_row4_col50\" class=\"data row4 col50\" >19.27</td>\n",
       "      <td id=\"T_988ee_row4_col51\" class=\"data row4 col51\" >1.01</td>\n",
       "      <td id=\"T_988ee_row4_col52\" class=\"data row4 col52\" >999.68</td>\n",
       "      <td id=\"T_988ee_row4_col53\" class=\"data row4 col53\" >-399.75</td>\n",
       "      <td id=\"T_988ee_row4_col54\" class=\"data row4 col54\" >1600.21</td>\n",
       "      <td id=\"T_988ee_row4_col55\" class=\"data row4 col55\" >-449.60</td>\n",
       "      <td id=\"T_988ee_row4_col56\" class=\"data row4 col56\" >1600.36</td>\n",
       "      <td id=\"T_988ee_row4_col57\" class=\"data row4 col57\" >-450.03</td>\n",
       "      <td id=\"T_988ee_row4_col58\" class=\"data row4 col58\" >1599.76</td>\n",
       "      <td id=\"T_988ee_row4_col59\" class=\"data row4 col59\" >-449.91</td>\n",
       "      <td id=\"T_988ee_row4_col60\" class=\"data row4 col60\" >1401.56</td>\n",
       "      <td id=\"T_988ee_row4_col61\" class=\"data row4 col61\" >-448.88</td>\n",
       "      <td id=\"T_988ee_row4_col62\" class=\"data row4 col62\" >1401.16</td>\n",
       "      <td id=\"T_988ee_row4_col63\" class=\"data row4 col63\" >-450.41</td>\n",
       "      <td id=\"T_988ee_row4_col64\" class=\"data row4 col64\" >14.08</td>\n",
       "      <td id=\"T_988ee_row4_col65\" class=\"data row4 col65\" >4.47</td>\n",
       "      <td id=\"T_988ee_row4_col66\" class=\"data row4 col66\" >8.87</td>\n",
       "      <td id=\"T_988ee_row4_col67\" class=\"data row4 col67\" >2.33</td>\n",
       "      <td id=\"T_988ee_row4_col68\" class=\"data row4 col68\" >26.02</td>\n",
       "      <td id=\"T_988ee_row4_col69\" class=\"data row4 col69\" >-500.28</td>\n",
       "      <td id=\"T_988ee_row4_col70\" class=\"data row4 col70\" >23.96</td>\n",
       "      <td id=\"T_988ee_row4_col71\" class=\"data row4 col71\" >-500.59</td>\n",
       "      <td id=\"T_988ee_row4_col72\" class=\"data row4 col72\" >23.99</td>\n",
       "      <td id=\"T_988ee_row4_col73\" class=\"data row4 col73\" >-500.08</td>\n",
       "      <td id=\"T_988ee_row4_col74\" class=\"data row4 col74\" >23.96</td>\n",
       "      <td id=\"T_988ee_row4_col75\" class=\"data row4 col75\" >-499.99</td>\n",
       "      <td id=\"T_988ee_row4_col76\" class=\"data row4 col76\" >14.03</td>\n",
       "      <td id=\"T_988ee_row4_col77\" class=\"data row4 col77\" >-499.84</td>\n",
       "      <td id=\"T_988ee_row4_col78\" class=\"data row4 col78\" >11.95</td>\n",
       "      <td id=\"T_988ee_row4_col79\" class=\"data row4 col79\" >-501.05</td>\n",
       "      <td id=\"T_988ee_row4_col80\" class=\"data row4 col80\" >9.93</td>\n",
       "      <td id=\"T_988ee_row4_col81\" class=\"data row4 col81\" >-501.69</td>\n",
       "      <td id=\"T_988ee_row4_col82\" class=\"data row4 col82\" >7.89</td>\n",
       "      <td id=\"T_988ee_row4_col83\" class=\"data row4 col83\" >-500.36</td>\n",
       "      <td id=\"T_988ee_row4_col84\" class=\"data row4 col84\" >14.00</td>\n",
       "      <td id=\"T_988ee_row4_col85\" class=\"data row4 col85\" >-601.50</td>\n",
       "    </tr>\n",
       "  </tbody>\n",
       "</table>\n"
      ],
      "text/plain": [
       "<pandas.io.formats.style.Styler at 0x29ee8b68d60>"
      ]
     },
     "execution_count": 11,
     "metadata": {},
     "output_type": "execute_result"
    }
   ],
   "source": [
    "data_full.head().style.format('{:.2f}').set_caption('Предварительный просмотр данных').set_table_styles(styler)"
   ]
  },
  {
   "attachments": {},
   "cell_type": "markdown",
   "id": "6c1ce44b",
   "metadata": {},
   "source": [
    "<h3 style=\"color:C0504D;\">Проверка расчета эффективности</h3>"
   ]
  },
  {
   "attachments": {},
   "cell_type": "markdown",
   "id": "af04d2fc",
   "metadata": {},
   "source": [
    "<p style=\"color: #363636; background-color:whitesmoke; border:solid #363636 1.5px; padding: 15px\">\n",
    "    Необходимо проверить правильность расчета эффективности обогащения руды, значения, которые хранятся в признаке <b>recovery</b>. Для этого надо немного погрузиться в технологический процесс и изучить стадии. Ниже представлена информация о стадии техпроцесса\n",
    "</p>"
   ]
  },
  {
   "attachments": {},
   "cell_type": "markdown",
   "id": "34941110",
   "metadata": {},
   "source": [
    "<img src=\"https://github.com/Chetverukhin/gold_recovery_from_ore/blob/main/Fflotation.png\">"
   ]
  },
  {
   "cell_type": "markdown",
   "id": "5ba5e2c3",
   "metadata": {},
   "source": [
    "# $$RECOVERY = \\frac{C*(F-T)}{F*(C-T)}*100\\%$$"
   ]
  },
  {
   "attachments": {},
   "cell_type": "markdown",
   "id": "f13cfc7b",
   "metadata": {},
   "source": [
    "<div style=\"color: #363636; background-color:whitesmoke; border:solid #363636 1.5px; padding: 15px\">\n",
    "    <p>\n",
    "        Для прогноза коэффициента нужно найти долю золота в концентратах и хвостах. Причём важен не только финальный продукт, но и черновой концентрат.\n",
    "    </p>\n",
    "    <p>\n",
    "        Проверим расчеты в таблице и оценим ее метрикой <b>MAE (mean_absolute_error)</b>\n",
    "    </p>\n",
    "</div>"
   ]
  },
  {
   "cell_type": "code",
   "execution_count": 12,
   "id": "b46a447c",
   "metadata": {},
   "outputs": [
    {
     "data": {
      "text/html": [
       "<style type=\"text/css\">\n",
       "#T_f937e_ td:hover {\n",
       "  background: #9E4447;\n",
       "  color: #ffffff;\n",
       "}\n",
       "#T_f937e_ tr:nth-of-type(even) {\n",
       "  background: #D9D9D9;\n",
       "  color: black;\n",
       "}\n",
       "#T_f937e_ tr:nth-of-type(odd) {\n",
       "  background: #ffffff;\n",
       "  color: #363636;\n",
       "}\n",
       "#T_f937e_ th {\n",
       "  background: #363636;\n",
       "  color: #ffffff;\n",
       "  text-align: center;\n",
       "}\n",
       "#T_f937e_ tr:hover {\n",
       "  background: #808080;\n",
       "  color: #ffffff;\n",
       "}\n",
       "#T_f937e_ td {\n",
       "  border: 1px dashed #363636;\n",
       "}\n",
       "#T_f937e_  {\n",
       "  border: 2px solid #363636;\n",
       "}\n",
       "#T_f937e_ caption {\n",
       "  color: #363636;\n",
       "  font-size: 15px;\n",
       "}\n",
       "</style>\n",
       "<table id=\"T_f937e_\">\n",
       "  <caption>Проверка расчета Recovery</caption>\n",
       "  <thead>\n",
       "    <tr>\n",
       "      <th class=\"blank level0\" >&nbsp;</th>\n",
       "      <th class=\"col_heading level0 col0\" >MAE</th>\n",
       "    </tr>\n",
       "  </thead>\n",
       "  <tbody>\n",
       "    <tr>\n",
       "      <th id=\"T_f937e_level0_row0\" class=\"row_heading level0 row0\" >rougher</th>\n",
       "      <td id=\"T_f937e_row0_col0\" class=\"data row0 col0\" >0.00%</td>\n",
       "    </tr>\n",
       "    <tr>\n",
       "      <th id=\"T_f937e_level0_row1\" class=\"row_heading level0 row1\" >final</th>\n",
       "      <td id=\"T_f937e_row1_col0\" class=\"data row1 col0\" >0.00%</td>\n",
       "    </tr>\n",
       "  </tbody>\n",
       "</table>\n"
      ],
      "text/plain": [
       "<pandas.io.formats.style.Styler at 0x29ee8b455b0>"
      ]
     },
     "execution_count": 12,
     "metadata": {},
     "output_type": "execute_result"
    }
   ],
   "source": [
    "# ГДЕ:\n",
    "scores      =  []\n",
    "predictions =  []\n",
    "for stage in ['rougher', 'final']:\n",
    "    C = data_full[f'{stage}_output_concentrate_au']                  # доля золота в концентрате после флотации/очистки;\n",
    "    F = data_full['rougher_input_feed_au']                           # доля золота в сырье/концентрате до флотации/очистки;\n",
    "    T = data_full[f'{stage}_output_tail_au']                         # доля золота в отвальных хвостах после флотации/очистки.\n",
    "    \n",
    "    recovery_target  = data_full[f'{stage}_output_recovery']         # информация по расчету из выборки\n",
    "    predictions      = ((C * (F - T)) / (F * (C - T)) * 100)         # расчет эффективности через формулу  \n",
    "    scores.append(mean_absolute_error(recovery_target, predictions)) # расчет MAE для оценки расчета recovery\n",
    "    \n",
    "data_info = pd.DataFrame(scores,\n",
    "                         columns = ['MAE'],\n",
    "                         index   = ['rougher', 'final'])\n",
    "data_info.style\\\n",
    "         .set_caption('Проверка расчета Recovery',)\\\n",
    "         .format('{:.2%}')\\\n",
    "         .set_table_styles(styler)"
   ]
  },
  {
   "attachments": {},
   "cell_type": "markdown",
   "id": "5073fb8d",
   "metadata": {},
   "source": [
    "<p style=\"color: #363636; background-color:whitesmoke; border:solid #363636 1.5px; padding: 15px\">\n",
    "    Проверка проведена, ошибок в расчетах метрики не обнаружено\n",
    "</p>"
   ]
  },
  {
   "attachments": {},
   "cell_type": "markdown",
   "id": "e0cfe275",
   "metadata": {},
   "source": [
    "<h3 style=\"color:C0504D;\">Замена пропусков</h3>"
   ]
  },
  {
   "attachments": {},
   "cell_type": "markdown",
   "id": "ad8c8052",
   "metadata": {},
   "source": [
    "<p style=\"color: #363636; background-color:whitesmoke; border:solid #363636 1.5px; padding: 15px\">\n",
    "    Проверю сразу на предмет пропусков два целевых признака\n",
    "</p>"
   ]
  },
  {
   "cell_type": "code",
   "execution_count": 13,
   "id": "cabde219",
   "metadata": {},
   "outputs": [
    {
     "data": {
      "text/plain": [
       "final_output_recovery      0\n",
       "rougher_output_recovery    0\n",
       "dtype: int64"
      ]
     },
     "execution_count": 13,
     "metadata": {},
     "output_type": "execute_result"
    }
   ],
   "source": [
    "data_full.filter(like = 'recovery').isna().sum()"
   ]
  },
  {
   "attachments": {},
   "cell_type": "markdown",
   "id": "e701496c",
   "metadata": {},
   "source": [
    "<p style=\"color: #363636; background-color:whitesmoke; border:solid #363636 1.5px; padding: 15px\">\n",
    "    Проверка количества пропусков в выборке <b>data_test</b>\n",
    "</p>"
   ]
  },
  {
   "cell_type": "code",
   "execution_count": 14,
   "id": "7b82202a",
   "metadata": {},
   "outputs": [
    {
     "data": {
      "text/html": [
       "<style type=\"text/css\">\n",
       "#T_40210_ td:hover {\n",
       "  background: #9E4447;\n",
       "  color: #ffffff;\n",
       "}\n",
       "#T_40210_ tr:nth-of-type(even) {\n",
       "  background: #D9D9D9;\n",
       "  color: black;\n",
       "}\n",
       "#T_40210_ tr:nth-of-type(odd) {\n",
       "  background: #ffffff;\n",
       "  color: #363636;\n",
       "}\n",
       "#T_40210_ th {\n",
       "  background: #363636;\n",
       "  color: #ffffff;\n",
       "  text-align: center;\n",
       "}\n",
       "#T_40210_ tr:hover {\n",
       "  background: #808080;\n",
       "  color: #ffffff;\n",
       "}\n",
       "#T_40210_ td {\n",
       "  border: 1px dashed #363636;\n",
       "}\n",
       "#T_40210_  {\n",
       "  border: 2px solid #363636;\n",
       "}\n",
       "#T_40210_ caption {\n",
       "  color: #363636;\n",
       "  font-size: 15px;\n",
       "}\n",
       "</style>\n",
       "<table id=\"T_40210_\">\n",
       "  <caption>Проверка количества пропусков в выборке Test</caption>\n",
       "  <thead>\n",
       "    <tr>\n",
       "      <th class=\"blank level0\" >&nbsp;</th>\n",
       "      <th class=\"col_heading level0 col0\" >features</th>\n",
       "      <th class=\"col_heading level0 col1\" >miss_data</th>\n",
       "    </tr>\n",
       "  </thead>\n",
       "  <tbody>\n",
       "    <tr>\n",
       "      <th id=\"T_40210_level0_row0\" class=\"row_heading level0 row0\" >0</th>\n",
       "      <td id=\"T_40210_row0_col0\" class=\"data row0 col0\" >primary_cleaner_input_sulfate</td>\n",
       "      <td id=\"T_40210_row0_col1\" class=\"data row0 col1\" >0.08%</td>\n",
       "    </tr>\n",
       "    <tr>\n",
       "      <th id=\"T_40210_level0_row1\" class=\"row_heading level0 row1\" >1</th>\n",
       "      <td id=\"T_40210_row1_col0\" class=\"data row1 col0\" >primary_cleaner_input_depressant</td>\n",
       "      <td id=\"T_40210_row1_col1\" class=\"data row1 col1\" >0.09%</td>\n",
       "    </tr>\n",
       "    <tr>\n",
       "      <th id=\"T_40210_level0_row2\" class=\"row_heading level0 row2\" >2</th>\n",
       "      <td id=\"T_40210_row2_col0\" class=\"data row2 col0\" >primary_cleaner_input_xanthate</td>\n",
       "      <td id=\"T_40210_row2_col1\" class=\"data row2 col1\" >0.08%</td>\n",
       "    </tr>\n",
       "    <tr>\n",
       "      <th id=\"T_40210_level0_row3\" class=\"row_heading level0 row3\" >3</th>\n",
       "      <td id=\"T_40210_row3_col0\" class=\"data row3 col0\" >rougher_input_feed_rate</td>\n",
       "      <td id=\"T_40210_row3_col1\" class=\"data row3 col1\" >0.06%</td>\n",
       "    </tr>\n",
       "    <tr>\n",
       "      <th id=\"T_40210_level0_row4\" class=\"row_heading level0 row4\" >4</th>\n",
       "      <td id=\"T_40210_row4_col0\" class=\"data row4 col0\" >rougher_input_feed_size</td>\n",
       "      <td id=\"T_40210_row4_col1\" class=\"data row4 col1\" >0.02%</td>\n",
       "    </tr>\n",
       "    <tr>\n",
       "      <th id=\"T_40210_level0_row5\" class=\"row_heading level0 row5\" >5</th>\n",
       "      <td id=\"T_40210_row5_col0\" class=\"data row5 col0\" >rougher_input_feed_sol</td>\n",
       "      <td id=\"T_40210_row5_col1\" class=\"data row5 col1\" >0.40%</td>\n",
       "    </tr>\n",
       "    <tr>\n",
       "      <th id=\"T_40210_level0_row6\" class=\"row_heading level0 row6\" >6</th>\n",
       "      <td id=\"T_40210_row6_col0\" class=\"data row6 col0\" >rougher_input_floatbank10_sulfate</td>\n",
       "      <td id=\"T_40210_row6_col1\" class=\"data row6 col1\" >0.09%</td>\n",
       "    </tr>\n",
       "    <tr>\n",
       "      <th id=\"T_40210_level0_row7\" class=\"row_heading level0 row7\" >7</th>\n",
       "      <td id=\"T_40210_row7_col0\" class=\"data row7 col0\" >rougher_input_floatbank11_sulfate</td>\n",
       "      <td id=\"T_40210_row7_col1\" class=\"data row7 col1\" >0.15%</td>\n",
       "    </tr>\n",
       "    <tr>\n",
       "      <th id=\"T_40210_level0_row8\" class=\"row_heading level0 row8\" >8</th>\n",
       "      <td id=\"T_40210_row8_col0\" class=\"data row8 col0\" >rougher_input_floatbank11_xanthate</td>\n",
       "      <td id=\"T_40210_row8_col1\" class=\"data row8 col1\" >0.47%</td>\n",
       "    </tr>\n",
       "    <tr>\n",
       "      <th id=\"T_40210_level0_row9\" class=\"row_heading level0 row9\" >9</th>\n",
       "      <td id=\"T_40210_row9_col0\" class=\"data row9 col0\" >secondary_cleaner_state_floatbank2_a_air</td>\n",
       "      <td id=\"T_40210_row9_col1\" class=\"data row9 col1\" >0.06%</td>\n",
       "    </tr>\n",
       "    <tr>\n",
       "      <th id=\"T_40210_level0_row10\" class=\"row_heading level0 row10\" >10</th>\n",
       "      <td id=\"T_40210_row10_col0\" class=\"data row10 col0\" >secondary_cleaner_state_floatbank2_b_air</td>\n",
       "      <td id=\"T_40210_row10_col1\" class=\"data row10 col1\" >0.04%</td>\n",
       "    </tr>\n",
       "    <tr>\n",
       "      <th id=\"T_40210_level0_row11\" class=\"row_heading level0 row11\" >11</th>\n",
       "      <td id=\"T_40210_row11_col0\" class=\"data row11 col0\" >secondary_cleaner_state_floatbank3_a_air</td>\n",
       "      <td id=\"T_40210_row11_col1\" class=\"data row11 col1\" >0.17%</td>\n",
       "    </tr>\n",
       "  </tbody>\n",
       "</table>\n"
      ],
      "text/plain": [
       "<pandas.io.formats.style.Styler at 0x29ee8b269d0>"
      ]
     },
     "execution_count": 14,
     "metadata": {},
     "output_type": "execute_result"
    }
   ],
   "source": [
    "columns_name = []\n",
    "\n",
    "for column in data_test.columns:\n",
    "    \n",
    "    if (data_test[column].isna().sum() / len(data_test)) !=0:\n",
    "        columns_name.append([column, data_test[column].isna().sum() / len(data_test)])\n",
    "        \n",
    "data_info = pd.DataFrame(columns_name, columns = [\"features\", 'miss_data'])\n",
    "\n",
    "data_info.style\\\n",
    "         .set_caption('Проверка количества пропусков в выборке Test',)\\\n",
    "         .format({'miss_data':'{:.2%}'})\\\n",
    "         .set_table_styles(styler)"
   ]
  },
  {
   "attachments": {},
   "cell_type": "markdown",
   "id": "6f6e6fcc",
   "metadata": {},
   "source": [
    "<p style=\"color: #363636; background-color:whitesmoke; border:solid #363636 1.5px; padding: 15px\">\n",
    "    Как видно из таблицы пропуски присутствуют в небольшом количестве во многих признаках, для заполнения пропусков буду использовать метод <b>ffill</b>\n",
    "</p>"
   ]
  },
  {
   "cell_type": "code",
   "execution_count": 15,
   "id": "652289cd",
   "metadata": {},
   "outputs": [],
   "source": [
    "data_test = data_test.fillna(method = 'ffill')\n",
    "data_full = data_full.fillna(method = 'ffill')"
   ]
  },
  {
   "attachments": {},
   "cell_type": "markdown",
   "id": "9f1fa53a",
   "metadata": {},
   "source": [
    "<p style=\"color: #363636; background-color:whitesmoke; border:solid #363636 1.5px; padding: 15px\">\n",
    "    Проверка количества пропусков в выборке <b>data_train</b>\n",
    "</p>"
   ]
  },
  {
   "cell_type": "code",
   "execution_count": 16,
   "id": "d7ed9e98",
   "metadata": {},
   "outputs": [
    {
     "data": {
      "text/html": [
       "<style type=\"text/css\">\n",
       "#T_a9d35_ td:hover {\n",
       "  background: #9E4447;\n",
       "  color: #ffffff;\n",
       "}\n",
       "#T_a9d35_ tr:nth-of-type(even) {\n",
       "  background: #D9D9D9;\n",
       "  color: black;\n",
       "}\n",
       "#T_a9d35_ tr:nth-of-type(odd) {\n",
       "  background: #ffffff;\n",
       "  color: #363636;\n",
       "}\n",
       "#T_a9d35_ th {\n",
       "  background: #363636;\n",
       "  color: #ffffff;\n",
       "  text-align: center;\n",
       "}\n",
       "#T_a9d35_ tr:hover {\n",
       "  background: #808080;\n",
       "  color: #ffffff;\n",
       "}\n",
       "#T_a9d35_ td {\n",
       "  border: 1px dashed #363636;\n",
       "}\n",
       "#T_a9d35_  {\n",
       "  border: 2px solid #363636;\n",
       "}\n",
       "#T_a9d35_ caption {\n",
       "  color: #363636;\n",
       "  font-size: 15px;\n",
       "}\n",
       "</style>\n",
       "<table id=\"T_a9d35_\">\n",
       "  <caption>Проверка количества пропусков в выборке Train</caption>\n",
       "  <thead>\n",
       "    <tr>\n",
       "      <th class=\"blank level0\" >&nbsp;</th>\n",
       "      <th class=\"col_heading level0 col0\" >features</th>\n",
       "      <th class=\"col_heading level0 col1\" >miss_data</th>\n",
       "    </tr>\n",
       "  </thead>\n",
       "  <tbody>\n",
       "    <tr>\n",
       "      <th id=\"T_a9d35_level0_row0\" class=\"row_heading level0 row0\" >0</th>\n",
       "      <td id=\"T_a9d35_row0_col0\" class=\"data row0 col0\" >primary_cleaner_input_sulfate</td>\n",
       "      <td id=\"T_a9d35_row0_col1\" class=\"data row0 col1\" >0.14%</td>\n",
       "    </tr>\n",
       "    <tr>\n",
       "      <th id=\"T_a9d35_level0_row1\" class=\"row_heading level0 row1\" >1</th>\n",
       "      <td id=\"T_a9d35_row1_col0\" class=\"data row1 col0\" >primary_cleaner_input_depressant</td>\n",
       "      <td id=\"T_a9d35_row1_col1\" class=\"data row1 col1\" >0.23%</td>\n",
       "    </tr>\n",
       "    <tr>\n",
       "      <th id=\"T_a9d35_level0_row2\" class=\"row_heading level0 row2\" >2</th>\n",
       "      <td id=\"T_a9d35_row2_col0\" class=\"data row2 col0\" >primary_cleaner_input_xanthate</td>\n",
       "      <td id=\"T_a9d35_row2_col1\" class=\"data row2 col1\" >0.71%</td>\n",
       "    </tr>\n",
       "    <tr>\n",
       "      <th id=\"T_a9d35_level0_row3\" class=\"row_heading level0 row3\" >3</th>\n",
       "      <td id=\"T_a9d35_row3_col0\" class=\"data row3 col0\" >primary_cleaner_state_floatbank8_a_air</td>\n",
       "      <td id=\"T_a9d35_row3_col1\" class=\"data row3 col1\" >0.03%</td>\n",
       "    </tr>\n",
       "    <tr>\n",
       "      <th id=\"T_a9d35_level0_row4\" class=\"row_heading level0 row4\" >4</th>\n",
       "      <td id=\"T_a9d35_row4_col0\" class=\"data row4 col0\" >primary_cleaner_state_floatbank8_a_level</td>\n",
       "      <td id=\"T_a9d35_row4_col1\" class=\"data row4 col1\" >0.01%</td>\n",
       "    </tr>\n",
       "    <tr>\n",
       "      <th id=\"T_a9d35_level0_row5\" class=\"row_heading level0 row5\" >5</th>\n",
       "      <td id=\"T_a9d35_row5_col0\" class=\"data row5 col0\" >primary_cleaner_state_floatbank8_b_air</td>\n",
       "      <td id=\"T_a9d35_row5_col1\" class=\"data row5 col1\" >0.03%</td>\n",
       "    </tr>\n",
       "    <tr>\n",
       "      <th id=\"T_a9d35_level0_row6\" class=\"row_heading level0 row6\" >6</th>\n",
       "      <td id=\"T_a9d35_row6_col0\" class=\"data row6 col0\" >primary_cleaner_state_floatbank8_b_level</td>\n",
       "      <td id=\"T_a9d35_row6_col1\" class=\"data row6 col1\" >0.01%</td>\n",
       "    </tr>\n",
       "    <tr>\n",
       "      <th id=\"T_a9d35_level0_row7\" class=\"row_heading level0 row7\" >7</th>\n",
       "      <td id=\"T_a9d35_row7_col0\" class=\"data row7 col0\" >primary_cleaner_state_floatbank8_c_air</td>\n",
       "      <td id=\"T_a9d35_row7_col1\" class=\"data row7 col1\" >0.01%</td>\n",
       "    </tr>\n",
       "    <tr>\n",
       "      <th id=\"T_a9d35_level0_row8\" class=\"row_heading level0 row8\" >8</th>\n",
       "      <td id=\"T_a9d35_row8_col0\" class=\"data row8 col0\" >primary_cleaner_state_floatbank8_c_level</td>\n",
       "      <td id=\"T_a9d35_row8_col1\" class=\"data row8 col1\" >0.01%</td>\n",
       "    </tr>\n",
       "    <tr>\n",
       "      <th id=\"T_a9d35_level0_row9\" class=\"row_heading level0 row9\" >9</th>\n",
       "      <td id=\"T_a9d35_row9_col0\" class=\"data row9 col0\" >primary_cleaner_state_floatbank8_d_air</td>\n",
       "      <td id=\"T_a9d35_row9_col1\" class=\"data row9 col1\" >0.02%</td>\n",
       "    </tr>\n",
       "    <tr>\n",
       "      <th id=\"T_a9d35_level0_row10\" class=\"row_heading level0 row10\" >10</th>\n",
       "      <td id=\"T_a9d35_row10_col0\" class=\"data row10 col0\" >primary_cleaner_state_floatbank8_d_level</td>\n",
       "      <td id=\"T_a9d35_row10_col1\" class=\"data row10 col1\" >0.01%</td>\n",
       "    </tr>\n",
       "    <tr>\n",
       "      <th id=\"T_a9d35_level0_row11\" class=\"row_heading level0 row11\" >11</th>\n",
       "      <td id=\"T_a9d35_row11_col0\" class=\"data row11 col0\" >rougher_input_feed_pb</td>\n",
       "      <td id=\"T_a9d35_row11_col1\" class=\"data row11 col1\" >0.71%</td>\n",
       "    </tr>\n",
       "    <tr>\n",
       "      <th id=\"T_a9d35_level0_row12\" class=\"row_heading level0 row12\" >12</th>\n",
       "      <td id=\"T_a9d35_row12_col0\" class=\"data row12 col0\" >rougher_input_feed_rate</td>\n",
       "      <td id=\"T_a9d35_row12_col1\" class=\"data row12 col1\" >0.06%</td>\n",
       "    </tr>\n",
       "    <tr>\n",
       "      <th id=\"T_a9d35_level0_row13\" class=\"row_heading level0 row13\" >13</th>\n",
       "      <td id=\"T_a9d35_row13_col0\" class=\"data row13 col0\" >rougher_input_feed_size</td>\n",
       "      <td id=\"T_a9d35_row13_col1\" class=\"data row13 col1\" >1.02%</td>\n",
       "    </tr>\n",
       "    <tr>\n",
       "      <th id=\"T_a9d35_level0_row14\" class=\"row_heading level0 row14\" >14</th>\n",
       "      <td id=\"T_a9d35_row14_col0\" class=\"data row14 col0\" >rougher_input_feed_sol</td>\n",
       "      <td id=\"T_a9d35_row14_col1\" class=\"data row14 col1\" >0.55%</td>\n",
       "    </tr>\n",
       "    <tr>\n",
       "      <th id=\"T_a9d35_level0_row15\" class=\"row_heading level0 row15\" >15</th>\n",
       "      <td id=\"T_a9d35_row15_col0\" class=\"data row15 col0\" >rougher_input_floatbank10_sulfate</td>\n",
       "      <td id=\"T_a9d35_row15_col1\" class=\"data row15 col1\" >0.20%</td>\n",
       "    </tr>\n",
       "    <tr>\n",
       "      <th id=\"T_a9d35_level0_row16\" class=\"row_heading level0 row16\" >16</th>\n",
       "      <td id=\"T_a9d35_row16_col0\" class=\"data row16 col0\" >rougher_input_floatbank10_xanthate</td>\n",
       "      <td id=\"T_a9d35_row16_col1\" class=\"data row16 col1\" >0.06%</td>\n",
       "    </tr>\n",
       "    <tr>\n",
       "      <th id=\"T_a9d35_level0_row17\" class=\"row_heading level0 row17\" >17</th>\n",
       "      <td id=\"T_a9d35_row17_col0\" class=\"data row17 col0\" >rougher_input_floatbank11_sulfate</td>\n",
       "      <td id=\"T_a9d35_row17_col1\" class=\"data row17 col1\" >0.25%</td>\n",
       "    </tr>\n",
       "    <tr>\n",
       "      <th id=\"T_a9d35_level0_row18\" class=\"row_heading level0 row18\" >18</th>\n",
       "      <td id=\"T_a9d35_row18_col0\" class=\"data row18 col0\" >rougher_input_floatbank11_xanthate</td>\n",
       "      <td id=\"T_a9d35_row18_col1\" class=\"data row18 col1\" >3.02%</td>\n",
       "    </tr>\n",
       "    <tr>\n",
       "      <th id=\"T_a9d35_level0_row19\" class=\"row_heading level0 row19\" >19</th>\n",
       "      <td id=\"T_a9d35_row19_col0\" class=\"data row19 col0\" >rougher_state_floatbank10_a_air</td>\n",
       "      <td id=\"T_a9d35_row19_col1\" class=\"data row19 col1\" >0.01%</td>\n",
       "    </tr>\n",
       "    <tr>\n",
       "      <th id=\"T_a9d35_level0_row20\" class=\"row_heading level0 row20\" >20</th>\n",
       "      <td id=\"T_a9d35_row20_col0\" class=\"data row20 col0\" >rougher_state_floatbank10_a_level</td>\n",
       "      <td id=\"T_a9d35_row20_col1\" class=\"data row20 col1\" >0.01%</td>\n",
       "    </tr>\n",
       "    <tr>\n",
       "      <th id=\"T_a9d35_level0_row21\" class=\"row_heading level0 row21\" >21</th>\n",
       "      <td id=\"T_a9d35_row21_col0\" class=\"data row21 col0\" >rougher_state_floatbank10_b_air</td>\n",
       "      <td id=\"T_a9d35_row21_col1\" class=\"data row21 col1\" >0.01%</td>\n",
       "    </tr>\n",
       "    <tr>\n",
       "      <th id=\"T_a9d35_level0_row22\" class=\"row_heading level0 row22\" >22</th>\n",
       "      <td id=\"T_a9d35_row22_col0\" class=\"data row22 col0\" >rougher_state_floatbank10_b_level</td>\n",
       "      <td id=\"T_a9d35_row22_col1\" class=\"data row22 col1\" >0.01%</td>\n",
       "    </tr>\n",
       "    <tr>\n",
       "      <th id=\"T_a9d35_level0_row23\" class=\"row_heading level0 row23\" >23</th>\n",
       "      <td id=\"T_a9d35_row23_col0\" class=\"data row23 col0\" >rougher_state_floatbank10_c_air</td>\n",
       "      <td id=\"T_a9d35_row23_col1\" class=\"data row23 col1\" >0.01%</td>\n",
       "    </tr>\n",
       "    <tr>\n",
       "      <th id=\"T_a9d35_level0_row24\" class=\"row_heading level0 row24\" >24</th>\n",
       "      <td id=\"T_a9d35_row24_col0\" class=\"data row24 col0\" >rougher_state_floatbank10_c_level</td>\n",
       "      <td id=\"T_a9d35_row24_col1\" class=\"data row24 col1\" >0.01%</td>\n",
       "    </tr>\n",
       "    <tr>\n",
       "      <th id=\"T_a9d35_level0_row25\" class=\"row_heading level0 row25\" >25</th>\n",
       "      <td id=\"T_a9d35_row25_col0\" class=\"data row25 col0\" >rougher_state_floatbank10_e_air</td>\n",
       "      <td id=\"T_a9d35_row25_col1\" class=\"data row25 col1\" >3.08%</td>\n",
       "    </tr>\n",
       "    <tr>\n",
       "      <th id=\"T_a9d35_level0_row26\" class=\"row_heading level0 row26\" >26</th>\n",
       "      <td id=\"T_a9d35_row26_col0\" class=\"data row26 col0\" >secondary_cleaner_state_floatbank2_a_air</td>\n",
       "      <td id=\"T_a9d35_row26_col1\" class=\"data row26 col1\" >1.53%</td>\n",
       "    </tr>\n",
       "    <tr>\n",
       "      <th id=\"T_a9d35_level0_row27\" class=\"row_heading level0 row27\" >27</th>\n",
       "      <td id=\"T_a9d35_row27_col0\" class=\"data row27 col0\" >secondary_cleaner_state_floatbank2_a_level</td>\n",
       "      <td id=\"T_a9d35_row27_col1\" class=\"data row27 col1\" >0.01%</td>\n",
       "    </tr>\n",
       "    <tr>\n",
       "      <th id=\"T_a9d35_level0_row28\" class=\"row_heading level0 row28\" >28</th>\n",
       "      <td id=\"T_a9d35_row28_col0\" class=\"data row28 col0\" >secondary_cleaner_state_floatbank2_b_air</td>\n",
       "      <td id=\"T_a9d35_row28_col1\" class=\"data row28 col1\" >0.15%</td>\n",
       "    </tr>\n",
       "    <tr>\n",
       "      <th id=\"T_a9d35_level0_row29\" class=\"row_heading level0 row29\" >29</th>\n",
       "      <td id=\"T_a9d35_row29_col0\" class=\"data row29 col0\" >secondary_cleaner_state_floatbank2_b_level</td>\n",
       "      <td id=\"T_a9d35_row29_col1\" class=\"data row29 col1\" >0.01%</td>\n",
       "    </tr>\n",
       "    <tr>\n",
       "      <th id=\"T_a9d35_level0_row30\" class=\"row_heading level0 row30\" >30</th>\n",
       "      <td id=\"T_a9d35_row30_col0\" class=\"data row30 col0\" >secondary_cleaner_state_floatbank3_a_air</td>\n",
       "      <td id=\"T_a9d35_row30_col1\" class=\"data row30 col1\" >0.03%</td>\n",
       "    </tr>\n",
       "    <tr>\n",
       "      <th id=\"T_a9d35_level0_row31\" class=\"row_heading level0 row31\" >31</th>\n",
       "      <td id=\"T_a9d35_row31_col0\" class=\"data row31 col0\" >secondary_cleaner_state_floatbank3_a_level</td>\n",
       "      <td id=\"T_a9d35_row31_col1\" class=\"data row31 col1\" >0.01%</td>\n",
       "    </tr>\n",
       "    <tr>\n",
       "      <th id=\"T_a9d35_level0_row32\" class=\"row_heading level0 row32\" >32</th>\n",
       "      <td id=\"T_a9d35_row32_col0\" class=\"data row32 col0\" >secondary_cleaner_state_floatbank3_b_air</td>\n",
       "      <td id=\"T_a9d35_row32_col1\" class=\"data row32 col1\" >0.01%</td>\n",
       "    </tr>\n",
       "    <tr>\n",
       "      <th id=\"T_a9d35_level0_row33\" class=\"row_heading level0 row33\" >33</th>\n",
       "      <td id=\"T_a9d35_row33_col0\" class=\"data row33 col0\" >secondary_cleaner_state_floatbank3_b_level</td>\n",
       "      <td id=\"T_a9d35_row33_col1\" class=\"data row33 col1\" >0.01%</td>\n",
       "    </tr>\n",
       "    <tr>\n",
       "      <th id=\"T_a9d35_level0_row34\" class=\"row_heading level0 row34\" >34</th>\n",
       "      <td id=\"T_a9d35_row34_col0\" class=\"data row34 col0\" >secondary_cleaner_state_floatbank4_a_air</td>\n",
       "      <td id=\"T_a9d35_row34_col1\" class=\"data row34 col1\" >0.04%</td>\n",
       "    </tr>\n",
       "    <tr>\n",
       "      <th id=\"T_a9d35_level0_row35\" class=\"row_heading level0 row35\" >35</th>\n",
       "      <td id=\"T_a9d35_row35_col0\" class=\"data row35 col0\" >secondary_cleaner_state_floatbank4_a_level</td>\n",
       "      <td id=\"T_a9d35_row35_col1\" class=\"data row35 col1\" >0.01%</td>\n",
       "    </tr>\n",
       "    <tr>\n",
       "      <th id=\"T_a9d35_level0_row36\" class=\"row_heading level0 row36\" >36</th>\n",
       "      <td id=\"T_a9d35_row36_col0\" class=\"data row36 col0\" >secondary_cleaner_state_floatbank4_b_air</td>\n",
       "      <td id=\"T_a9d35_row36_col1\" class=\"data row36 col1\" >0.01%</td>\n",
       "    </tr>\n",
       "    <tr>\n",
       "      <th id=\"T_a9d35_level0_row37\" class=\"row_heading level0 row37\" >37</th>\n",
       "      <td id=\"T_a9d35_row37_col0\" class=\"data row37 col0\" >secondary_cleaner_state_floatbank4_b_level</td>\n",
       "      <td id=\"T_a9d35_row37_col1\" class=\"data row37 col1\" >0.01%</td>\n",
       "    </tr>\n",
       "    <tr>\n",
       "      <th id=\"T_a9d35_level0_row38\" class=\"row_heading level0 row38\" >38</th>\n",
       "      <td id=\"T_a9d35_row38_col0\" class=\"data row38 col0\" >secondary_cleaner_state_floatbank5_a_air</td>\n",
       "      <td id=\"T_a9d35_row38_col1\" class=\"data row38 col1\" >0.01%</td>\n",
       "    </tr>\n",
       "    <tr>\n",
       "      <th id=\"T_a9d35_level0_row39\" class=\"row_heading level0 row39\" >39</th>\n",
       "      <td id=\"T_a9d35_row39_col0\" class=\"data row39 col0\" >secondary_cleaner_state_floatbank5_a_level</td>\n",
       "      <td id=\"T_a9d35_row39_col1\" class=\"data row39 col1\" >0.01%</td>\n",
       "    </tr>\n",
       "    <tr>\n",
       "      <th id=\"T_a9d35_level0_row40\" class=\"row_heading level0 row40\" >40</th>\n",
       "      <td id=\"T_a9d35_row40_col0\" class=\"data row40 col0\" >secondary_cleaner_state_floatbank5_b_air</td>\n",
       "      <td id=\"T_a9d35_row40_col1\" class=\"data row40 col1\" >0.01%</td>\n",
       "    </tr>\n",
       "    <tr>\n",
       "      <th id=\"T_a9d35_level0_row41\" class=\"row_heading level0 row41\" >41</th>\n",
       "      <td id=\"T_a9d35_row41_col0\" class=\"data row41 col0\" >secondary_cleaner_state_floatbank5_b_level</td>\n",
       "      <td id=\"T_a9d35_row41_col1\" class=\"data row41 col1\" >0.01%</td>\n",
       "    </tr>\n",
       "    <tr>\n",
       "      <th id=\"T_a9d35_level0_row42\" class=\"row_heading level0 row42\" >42</th>\n",
       "      <td id=\"T_a9d35_row42_col0\" class=\"data row42 col0\" >secondary_cleaner_state_floatbank6_a_air</td>\n",
       "      <td id=\"T_a9d35_row42_col1\" class=\"data row42 col1\" >0.01%</td>\n",
       "    </tr>\n",
       "    <tr>\n",
       "      <th id=\"T_a9d35_level0_row43\" class=\"row_heading level0 row43\" >43</th>\n",
       "      <td id=\"T_a9d35_row43_col0\" class=\"data row43 col0\" >secondary_cleaner_state_floatbank6_a_level</td>\n",
       "      <td id=\"T_a9d35_row43_col1\" class=\"data row43 col1\" >0.01%</td>\n",
       "    </tr>\n",
       "  </tbody>\n",
       "</table>\n"
      ],
      "text/plain": [
       "<pandas.io.formats.style.Styler at 0x29ee8ac09a0>"
      ]
     },
     "execution_count": 16,
     "metadata": {},
     "output_type": "execute_result"
    }
   ],
   "source": [
    "columns_name = []\n",
    "\n",
    "for column in data_test.columns: # проверяю на основании списка названий признаков в наборе data_test\n",
    "    if (data_train[column].isna().sum() / len(data_train)) !=0:\n",
    "        columns_name.append([column, data_train[column].isna().sum() / len(data_train)])\n",
    "        \n",
    "data_info = pd.DataFrame(columns_name, columns = [\"features\", 'miss_data'])\n",
    "\n",
    "data_info.style\\\n",
    "         .set_caption('Проверка количества пропусков в выборке Train',)\\\n",
    "         .format({'miss_data':'{:.2%}'})\\\n",
    "         .set_table_styles(styler)"
   ]
  },
  {
   "attachments": {},
   "cell_type": "markdown",
   "id": "5f9b6625",
   "metadata": {},
   "source": [
    "<p style=\"color: #363636; background-color:whitesmoke; border:solid #363636 1.5px; padding: 15px\">\n",
    "    В данной выборке тоже достаточно признаков которые имеют пропуски, в данном случае я буду использовать метод <b>K-nearest neighbor</b> для замены отсутствующих значений в наборах данных средним значением ближайших соседей параметра <b>«n_neighbors = 3»</b>, найденных в обучающем наборе. Заменять пропуски будут только в тех признаках которые будут участвовать в обучении и тестировании моделей\n",
    "</p>"
   ]
  },
  {
   "cell_type": "code",
   "execution_count": 17,
   "id": "4827d45c",
   "metadata": {},
   "outputs": [],
   "source": [
    "imputer = KNNImputer(n_neighbors = 3, weights = \"uniform\")\n",
    "data_train[data_test.columns] = imputer.fit_transform(data_train[data_test.columns])"
   ]
  },
  {
   "cell_type": "code",
   "execution_count": 18,
   "id": "22c53edc",
   "metadata": {},
   "outputs": [
    {
     "name": "stdout",
     "output_type": "stream",
     "text": [
      "Количество пропусков в тренировочной выборке: 0\n",
      "Количество пропусков в тестовой выборке     : 0\n",
      "Количество пропусков в общей выборке        : 0\n"
     ]
    }
   ],
   "source": [
    "print(f'Количество пропусков в тренировочной выборке:'\n",
    "      f' {data_train[data_test.columns].shape[0] - data_train[data_test.columns].dropna().shape[0]}')\n",
    "print(f'Количество пропусков в тестовой выборке     :'\n",
    "      f' {data_test.shape[0] - data_test.dropna().shape[0]}')\n",
    "print(f'Количество пропусков в общей выборке        :'\n",
    "      f' {data_full.shape[0] - data_full.dropna().shape[0]}')"
   ]
  },
  {
   "attachments": {},
   "cell_type": "markdown",
   "id": "6cdd5de9",
   "metadata": {},
   "source": [
    "<div style=\"color:white; background-color:gray; border:solid #363636 1.5px; padding: 15px\">\n",
    "    <p>\n",
    "        Выводы:\n",
    "    </p>\n",
    "    <ul>\n",
    "        <li>Данные загружены проблем по составу информации обнаружены;\n",
    "        <li>Изменен индекс и переведен в тип дата;\n",
    "        <li>Изменены названия признаков;\n",
    "        <li>Найденные пропуски устранены;\n",
    "        <li>Проанализирован состав признаков;    \n",
    "        <li>Можно переходить к анализу данных.\n",
    "    </ul>\n",
    "</div>"
   ]
  },
  {
   "attachments": {},
   "cell_type": "markdown",
   "id": "2497726c",
   "metadata": {},
   "source": [
    "<h2 style=\"color:C0504D;\">Анализ данных</h2>"
   ]
  },
  {
   "attachments": {},
   "cell_type": "markdown",
   "id": "f5bb8c3b",
   "metadata": {},
   "source": [
    "<p style=\"color: #363636; background-color:whitesmoke; border:solid #363636 1.5px; padding: 15px\">\n",
    "    Посмотрим, как меняется концентрация металлов на разных стадиях очистки. Для этого предварительно подготовлю матрицу необходимых признаков\n",
    "</p>"
   ]
  },
  {
   "cell_type": "code",
   "execution_count": 19,
   "id": "75abd160",
   "metadata": {},
   "outputs": [
    {
     "data": {
      "text/html": [
       "<style type=\"text/css\">\n",
       "#T_36a48_ td:hover {\n",
       "  background: #9E4447;\n",
       "  color: #ffffff;\n",
       "}\n",
       "#T_36a48_ tr:nth-of-type(even) {\n",
       "  background: #D9D9D9;\n",
       "  color: black;\n",
       "}\n",
       "#T_36a48_ tr:nth-of-type(odd) {\n",
       "  background: #ffffff;\n",
       "  color: #363636;\n",
       "}\n",
       "#T_36a48_ th {\n",
       "  background: #363636;\n",
       "  color: #ffffff;\n",
       "  text-align: center;\n",
       "}\n",
       "#T_36a48_ tr:hover {\n",
       "  background: #808080;\n",
       "  color: #ffffff;\n",
       "}\n",
       "#T_36a48_ td {\n",
       "  border: 1px dashed #363636;\n",
       "}\n",
       "#T_36a48_  {\n",
       "  border: 2px solid #363636;\n",
       "}\n",
       "#T_36a48_ caption {\n",
       "  color: #363636;\n",
       "  font-size: 15px;\n",
       "}\n",
       "</style>\n",
       "<table id=\"T_36a48_\">\n",
       "  <caption>Выборка по составу металлов</caption>\n",
       "  <thead>\n",
       "    <tr>\n",
       "      <th class=\"blank level0\" >&nbsp;</th>\n",
       "      <th class=\"col_heading level0 col0\" >sol</th>\n",
       "      <th class=\"col_heading level0 col1\" >plumbum</th>\n",
       "      <th class=\"col_heading level0 col2\" >aurum</th>\n",
       "      <th class=\"col_heading level0 col3\" >argentum</th>\n",
       "    </tr>\n",
       "  </thead>\n",
       "  <tbody>\n",
       "    <tr>\n",
       "      <th id=\"T_36a48_level0_row0\" class=\"row_heading level0 row0\" >raw</th>\n",
       "      <td id=\"T_36a48_row0_col0\" class=\"data row0 col0\" >rougher_input_feed_sol</td>\n",
       "      <td id=\"T_36a48_row0_col1\" class=\"data row0 col1\" >rougher_input_feed_pb</td>\n",
       "      <td id=\"T_36a48_row0_col2\" class=\"data row0 col2\" >rougher_input_feed_au</td>\n",
       "      <td id=\"T_36a48_row0_col3\" class=\"data row0 col3\" >rougher_input_feed_ag</td>\n",
       "    </tr>\n",
       "    <tr>\n",
       "      <th id=\"T_36a48_level0_row1\" class=\"row_heading level0 row1\" >rougher</th>\n",
       "      <td id=\"T_36a48_row1_col0\" class=\"data row1 col0\" >rougher_output_concentrate_sol</td>\n",
       "      <td id=\"T_36a48_row1_col1\" class=\"data row1 col1\" >rougher_output_concentrate_pb</td>\n",
       "      <td id=\"T_36a48_row1_col2\" class=\"data row1 col2\" >rougher_output_concentrate_au</td>\n",
       "      <td id=\"T_36a48_row1_col3\" class=\"data row1 col3\" >rougher_output_concentrate_ag</td>\n",
       "    </tr>\n",
       "    <tr>\n",
       "      <th id=\"T_36a48_level0_row2\" class=\"row_heading level0 row2\" >primary</th>\n",
       "      <td id=\"T_36a48_row2_col0\" class=\"data row2 col0\" >primary_cleaner_output_concentrate_sol</td>\n",
       "      <td id=\"T_36a48_row2_col1\" class=\"data row2 col1\" >primary_cleaner_output_concentrate_pb</td>\n",
       "      <td id=\"T_36a48_row2_col2\" class=\"data row2 col2\" >primary_cleaner_output_concentrate_au</td>\n",
       "      <td id=\"T_36a48_row2_col3\" class=\"data row2 col3\" >primary_cleaner_output_concentrate_ag</td>\n",
       "    </tr>\n",
       "    <tr>\n",
       "      <th id=\"T_36a48_level0_row3\" class=\"row_heading level0 row3\" >final</th>\n",
       "      <td id=\"T_36a48_row3_col0\" class=\"data row3 col0\" >final_output_concentrate_sol</td>\n",
       "      <td id=\"T_36a48_row3_col1\" class=\"data row3 col1\" >final_output_concentrate_pb</td>\n",
       "      <td id=\"T_36a48_row3_col2\" class=\"data row3 col2\" >final_output_concentrate_au</td>\n",
       "      <td id=\"T_36a48_row3_col3\" class=\"data row3 col3\" >final_output_concentrate_ag</td>\n",
       "    </tr>\n",
       "  </tbody>\n",
       "</table>\n"
      ],
      "text/plain": [
       "<pandas.io.formats.style.Styler at 0x29ee8b6eee0>"
      ]
     },
     "execution_count": 19,
     "metadata": {},
     "output_type": "execute_result"
    }
   ],
   "source": [
    "features_input_concentrate = [['rougher_input_feed_sol',\n",
    "                               'rougher_input_feed_pb',\n",
    "                               'rougher_input_feed_au',\n",
    "                               'rougher_input_feed_ag',\n",
    "                             ]]\n",
    "j = 0\n",
    "for i in range(4,13,4):\n",
    "    features_input_concentrate.append(sorted(data_full.filter(like = 'concentrate_'),reverse = True)[j:i])\n",
    "    j = i\n",
    "    \n",
    "pd.DataFrame(features_input_concentrate, \n",
    "             columns = ['sol', 'plumbum', 'aurum', 'argentum'], \n",
    "             index   = ['raw', 'rougher', 'primary', 'final'])\\\n",
    "  .style\\\n",
    "  .set_caption('Выборка по составу металлов',)\\\n",
    "  .set_table_styles(styler)"
   ]
  },
  {
   "attachments": {},
   "cell_type": "markdown",
   "id": "ed6f7bf6",
   "metadata": {},
   "source": [
    "<h3 style=\"color:C0504D;\">Изменение концентрации металлов по фазам</h3>"
   ]
  },
  {
   "attachments": {},
   "cell_type": "markdown",
   "id": "03bb7516",
   "metadata": {},
   "source": [
    "<p style=\"color: #363636; background-color:whitesmoke; border:solid #363636 1.5px; padding: 15px\">\n",
    "    Создам гистограмму распределения по фазам техпроцесса для каждого из металла, в выборке участвует три металла: свинец, золото и серебро\n",
    "</p>"
   ]
  },
  {
   "cell_type": "code",
   "execution_count": 20,
   "id": "39cd98e5",
   "metadata": {},
   "outputs": [
    {
     "data": {
      "image/png": "[encoded data removed]",
      "text/plain": [
       "<Figure size 1080x432 with 3 Axes>"
      ]
     },
     "metadata": {
      "needs_background": "light"
     },
     "output_type": "display_data"
    }
   ],
   "source": [
    "data_info = pd.DataFrame(features_input_concentrate, \n",
    "                         columns = ['sol', 'plumbum', 'aurum', 'argentum'], \n",
    "                         index   = ['raw', 'rougher', 'primary', 'final'])\n",
    "\n",
    "plt.figure(figsize = (15,6))\n",
    "sns.set_style('whitegrid')\n",
    "\n",
    "for i, metal in enumerate(data_info.columns[1:]):\n",
    "    \n",
    "    plt.subplot(1, 3, i + 1)\n",
    "    sns.barplot(data       = data_full[data_info[metal]],\n",
    "                estimator  = np.median,\n",
    "                palette    = 'Reds', \n",
    "                saturation = 0.5, \n",
    "                linewidth  = 3,\n",
    "                edgecolor  = '#444444')\n",
    "    \n",
    "    plt.xticks(range(4),data_info.index, fontsize = 14)\n",
    "    plt.title(metal, fontsize = 16)\n",
    "    plt.ylabel('concentrate,%', fontsize = 12)\n",
    "    plt.ylim(0,50)\n",
    "    \n",
    "plt.show(close = True)"
   ]
  },
  {
   "attachments": {},
   "cell_type": "markdown",
   "id": "eeaccb88",
   "metadata": {},
   "source": [
    "<p style=\"color: #363636; background-color:whitesmoke; border:solid #363636 1.5px; padding: 15px\">\n",
    "    Как видно из представленной информации выше, концентрация свинца неюного увеличивается от фазы к фазе, но все равно остается очень низкой мене 10%. По-другому обстоят дела с концентрацией серебра, так после флотации концентрация увеличивается, но потом к финалу падает вдвое, хотя так же изначальная концентрация минимальна. Ну и конечно ярко выраженная динамика увеличения концентрации золота по фазам, это объясняется в принципе заточенный техпроцесс именно на этот метал, хотя показательным является тот факт, что даже на финальной стадии концентрация не достигает 50%\n",
    "</p>"
   ]
  },
  {
   "attachments": {},
   "cell_type": "markdown",
   "id": "012961e3",
   "metadata": {},
   "source": [
    "<h3 style=\"color:C0504D;\">Суммарная концентрация металлов по фазам</h3>"
   ]
  },
  {
   "attachments": {},
   "cell_type": "markdown",
   "id": "c9b8e31c",
   "metadata": {},
   "source": [
    "<p style=\"color: #363636; background-color:whitesmoke; border:solid #363636 1.5px; padding: 15px\">\n",
    "    Посмотрим на то, как распределяется суммарная концентрация металлов по фазам\n",
    "</p>"
   ]
  },
  {
   "cell_type": "code",
   "execution_count": 21,
   "id": "7fad6789",
   "metadata": {},
   "outputs": [
    {
     "data": {
      "image/png": "[encoded data removed]",
      "text/plain": [
       "<Figure size 1080x720 with 4 Axes>"
      ]
     },
     "metadata": {},
     "output_type": "display_data"
    }
   ],
   "source": [
    "plt.figure(figsize = (15, 10))\n",
    "sns.set_style('whitegrid')\n",
    "x = ['raw', 'rougher', 'primary', 'final']\n",
    "\n",
    "for i, stage in enumerate(features_input_concentrate):\n",
    "    \n",
    "    plt.subplot(2, 2, i + 1)\n",
    "    sns.histplot(data = data_full[stage].sum(1),\n",
    "                 color = '#9E4447',\n",
    "                 element=\"step\",\n",
    "                 bins = 100)\n",
    "    \n",
    "    plt.title(f'{x[i]}', fontsize = 16);\n",
    "    plt.ylabel('spread', fontsize = 14)\n",
    "    \n",
    "plt.show(close = True)"
   ]
  },
  {
   "attachments": {},
   "cell_type": "markdown",
   "id": "b9d8ad25",
   "metadata": {},
   "source": [
    "<div style=\"color: #363636; background-color:whitesmoke; border:solid #363636 1.5px; padding: 15px\">\n",
    "    <p>\n",
    "        Как видно из представленной информации выше, концентрация металлов от фазы к фазе изменяет форму \"колокола\" распределения и становиться все выше и уже, т. е. это говорит о том, что отклонений становится все меньше и состав металлов на худится на требуемом уровне.\n",
    "    </p>\n",
    "    <p>\n",
    "        В графике обнаружены аномалии в данных, очень сильно заметные на фазе флотации и первичной очистки в районе 0. Такого не может быть, потому что от фазы к фазе концентрации только увеличивается и уж тем более не может увеличиваться в районе 0. Необходимо убрать эти данные т. к. я считаю, что это ошибки либо в выгрузке данных, либо ошибки измерения концентрации.\n",
    "    </p>\n",
    "</div>"
   ]
  },
  {
   "cell_type": "code",
   "execution_count": 22,
   "id": "7869d254",
   "metadata": {},
   "outputs": [
    {
     "data": {
      "text/html": [
       "<style type=\"text/css\">\n",
       "#T_4006d_ td:hover {\n",
       "  background: #9E4447;\n",
       "  color: #ffffff;\n",
       "}\n",
       "#T_4006d_ tr:nth-of-type(even) {\n",
       "  background: #D9D9D9;\n",
       "  color: black;\n",
       "}\n",
       "#T_4006d_ tr:nth-of-type(odd) {\n",
       "  background: #ffffff;\n",
       "  color: #363636;\n",
       "}\n",
       "#T_4006d_ th {\n",
       "  background: #363636;\n",
       "  color: #ffffff;\n",
       "  text-align: center;\n",
       "}\n",
       "#T_4006d_ tr:hover {\n",
       "  background: #808080;\n",
       "  color: #ffffff;\n",
       "}\n",
       "#T_4006d_ td {\n",
       "  border: 1px dashed #363636;\n",
       "}\n",
       "#T_4006d_  {\n",
       "  border: 2px solid #363636;\n",
       "}\n",
       "#T_4006d_ caption {\n",
       "  color: #363636;\n",
       "  font-size: 15px;\n",
       "}\n",
       "</style>\n",
       "<table id=\"T_4006d_\">\n",
       "  <caption>Проверка количества выбросов в данных</caption>\n",
       "  <thead>\n",
       "    <tr>\n",
       "      <th class=\"blank level0\" >&nbsp;</th>\n",
       "      <th class=\"col_heading level0 col0\" >stage</th>\n",
       "      <th class=\"col_heading level0 col1\" >data_outliers</th>\n",
       "    </tr>\n",
       "  </thead>\n",
       "  <tbody>\n",
       "    <tr>\n",
       "      <th id=\"T_4006d_level0_row0\" class=\"row_heading level0 row0\" >0</th>\n",
       "      <td id=\"T_4006d_row0_col0\" class=\"data row0 col0\" >raw</td>\n",
       "      <td id=\"T_4006d_row0_col1\" class=\"data row0 col1\" >5</td>\n",
       "    </tr>\n",
       "    <tr>\n",
       "      <th id=\"T_4006d_level0_row1\" class=\"row_heading level0 row1\" >1</th>\n",
       "      <td id=\"T_4006d_row1_col0\" class=\"data row1 col0\" >rougher</td>\n",
       "      <td id=\"T_4006d_row1_col1\" class=\"data row1 col1\" >399</td>\n",
       "    </tr>\n",
       "    <tr>\n",
       "      <th id=\"T_4006d_level0_row2\" class=\"row_heading level0 row2\" >2</th>\n",
       "      <td id=\"T_4006d_row2_col0\" class=\"data row2 col0\" >primary</td>\n",
       "      <td id=\"T_4006d_row2_col1\" class=\"data row2 col1\" >228</td>\n",
       "    </tr>\n",
       "    <tr>\n",
       "      <th id=\"T_4006d_level0_row3\" class=\"row_heading level0 row3\" >3</th>\n",
       "      <td id=\"T_4006d_row3_col0\" class=\"data row3 col0\" >final</td>\n",
       "      <td id=\"T_4006d_row3_col1\" class=\"data row3 col1\" >99</td>\n",
       "    </tr>\n",
       "  </tbody>\n",
       "</table>\n"
      ],
      "text/plain": [
       "<pandas.io.formats.style.Styler at 0x29ee8bec850>"
      ]
     },
     "execution_count": 22,
     "metadata": {},
     "output_type": "execute_result"
    }
   ],
   "source": [
    "# задам условие что если сумма концентрации ниже 1\n",
    "x = ['raw', 'rougher', 'primary', 'final']\n",
    "data_info  = []\n",
    "\n",
    "for i, summary in enumerate(features_input_concentrate):    \n",
    "    data_info.append([x[i], len(data_full[data_full[summary].sum(1) < 1].index)]) \n",
    "    \n",
    "pd.DataFrame(data_info, columns = ['stage', 'data_outliers'])\\\n",
    "            .style\\\n",
    "            .set_caption('Проверка количества выбросов в данных',)\\\n",
    "            .set_table_styles(styler)"
   ]
  },
  {
   "cell_type": "code",
   "execution_count": 23,
   "id": "17b1303b",
   "metadata": {},
   "outputs": [],
   "source": [
    "for summary in features_input_concentrate:\n",
    "    data_test  = data_test[data_full.loc[data_test.index][summary].sum(1) >= 1]\n",
    "    data_train = data_train[data_train[summary].sum(1) >= 1]\n",
    "    data_full  = data_full[data_full[summary].sum(1) >= 1] "
   ]
  },
  {
   "cell_type": "code",
   "execution_count": 24,
   "id": "0b6806eb",
   "metadata": {},
   "outputs": [
    {
     "data": {
      "text/plain": [
       "(13599, 86)"
      ]
     },
     "metadata": {},
     "output_type": "display_data"
    },
    {
     "data": {
      "text/plain": [
       "(5123, 52)"
      ]
     },
     "metadata": {},
     "output_type": "display_data"
    },
    {
     "data": {
      "text/plain": [
       "(18722, 86)"
      ]
     },
     "metadata": {},
     "output_type": "display_data"
    }
   ],
   "source": [
    "#проверю изменение состава выборок\n",
    "for data in [data_train, data_test, data_full]:\n",
    "    display(data.shape)"
   ]
  },
  {
   "cell_type": "code",
   "execution_count": 25,
   "id": "2749e539",
   "metadata": {},
   "outputs": [
    {
     "data": {
      "image/png": "[encoded data removed]",
      "text/plain": [
       "<Figure size 1080x720 with 4 Axes>"
      ]
     },
     "metadata": {},
     "output_type": "display_data"
    }
   ],
   "source": [
    "plt.figure(figsize = (15, 10))\n",
    "sns.set_style('whitegrid')\n",
    "x = ['raw', 'rougher', 'primary', 'final']\n",
    "\n",
    "for i, stage in enumerate(features_input_concentrate):\n",
    "    \n",
    "    plt.subplot(2, 2, i + 1)\n",
    "    sns.histplot(data = data_full[stage].sum(1),\n",
    "                 color = '#444444',\n",
    "                 element=\"step\",\n",
    "                 bins = 100)\n",
    "    \n",
    "    plt.title(f'{x[i]}', fontsize = 16);\n",
    "    plt.ylabel('spread', fontsize = 14)\n",
    "    \n",
    "plt.show(close = True)"
   ]
  },
  {
   "attachments": {},
   "cell_type": "markdown",
   "id": "969b9762",
   "metadata": {},
   "source": [
    "<p style=\"color: #363636; background-color:whitesmoke; border:solid #363636 1.5px; padding: 15px\">\n",
    "    Теперь графики выглядят лучше, без видимых выбросов\n",
    "</p>"
   ]
  },
  {
   "attachments": {},
   "cell_type": "markdown",
   "id": "cd7a7914",
   "metadata": {},
   "source": [
    "<h3 style=\"color:C0504D;\">Распределение размеров гранул сырья</h3>"
   ]
  },
  {
   "attachments": {},
   "cell_type": "markdown",
   "id": "d38f25b6",
   "metadata": {},
   "source": [
    "<p style=\"color: #363636; background-color:whitesmoke; border:solid #363636 1.5px; padding: 15px\">\n",
    "    Необходимо проверить если распределения сильно отличаются друг от друга, оценка модели будет неправильной. Создам датафрейм для построения графика распределения\n",
    "</p>"
   ]
  },
  {
   "cell_type": "code",
   "execution_count": 26,
   "id": "228e3283",
   "metadata": {},
   "outputs": [
    {
     "data": {
      "text/html": [
       "<style type=\"text/css\">\n",
       "#T_f02f0_ td:hover {\n",
       "  background: #9E4447;\n",
       "  color: #ffffff;\n",
       "}\n",
       "#T_f02f0_ tr:nth-of-type(even) {\n",
       "  background: #D9D9D9;\n",
       "  color: black;\n",
       "}\n",
       "#T_f02f0_ tr:nth-of-type(odd) {\n",
       "  background: #ffffff;\n",
       "  color: #363636;\n",
       "}\n",
       "#T_f02f0_ th {\n",
       "  background: #363636;\n",
       "  color: #ffffff;\n",
       "  text-align: center;\n",
       "}\n",
       "#T_f02f0_ tr:hover {\n",
       "  background: #808080;\n",
       "  color: #ffffff;\n",
       "}\n",
       "#T_f02f0_ td {\n",
       "  border: 1px dashed #363636;\n",
       "}\n",
       "#T_f02f0_  {\n",
       "  border: 2px solid #363636;\n",
       "}\n",
       "#T_f02f0_ caption {\n",
       "  color: #363636;\n",
       "  font-size: 15px;\n",
       "}\n",
       "</style>\n",
       "<table id=\"T_f02f0_\">\n",
       "  <caption>Таблица для построения распределения размера гранул</caption>\n",
       "  <thead>\n",
       "    <tr>\n",
       "      <th class=\"blank level0\" >&nbsp;</th>\n",
       "      <th class=\"col_heading level0 col0\" >date</th>\n",
       "      <th class=\"col_heading level0 col1\" >feed_size</th>\n",
       "      <th class=\"col_heading level0 col2\" >stage</th>\n",
       "      <th class=\"col_heading level0 col3\" >sample</th>\n",
       "    </tr>\n",
       "  </thead>\n",
       "  <tbody>\n",
       "    <tr>\n",
       "      <th id=\"T_f02f0_level0_row0\" class=\"row_heading level0 row0\" >0</th>\n",
       "      <td id=\"T_f02f0_row0_col0\" class=\"data row0 col0\" >2016-01-15 00:00:00</td>\n",
       "      <td id=\"T_f02f0_row0_col1\" class=\"data row0 col1\" >55.49</td>\n",
       "      <td id=\"T_f02f0_row0_col2\" class=\"data row0 col2\" >rougher</td>\n",
       "      <td id=\"T_f02f0_row0_col3\" class=\"data row0 col3\" >train</td>\n",
       "    </tr>\n",
       "    <tr>\n",
       "      <th id=\"T_f02f0_level0_row1\" class=\"row_heading level0 row1\" >1</th>\n",
       "      <td id=\"T_f02f0_row1_col0\" class=\"data row1 col0\" >2016-01-15 01:00:00</td>\n",
       "      <td id=\"T_f02f0_row1_col1\" class=\"data row1 col1\" >57.28</td>\n",
       "      <td id=\"T_f02f0_row1_col2\" class=\"data row1 col2\" >rougher</td>\n",
       "      <td id=\"T_f02f0_row1_col3\" class=\"data row1 col3\" >train</td>\n",
       "    </tr>\n",
       "    <tr>\n",
       "      <th id=\"T_f02f0_level0_row2\" class=\"row_heading level0 row2\" >2</th>\n",
       "      <td id=\"T_f02f0_row2_col0\" class=\"data row2 col0\" >2016-01-15 02:00:00</td>\n",
       "      <td id=\"T_f02f0_row2_col1\" class=\"data row2 col1\" >57.51</td>\n",
       "      <td id=\"T_f02f0_row2_col2\" class=\"data row2 col2\" >rougher</td>\n",
       "      <td id=\"T_f02f0_row2_col3\" class=\"data row2 col3\" >train</td>\n",
       "    </tr>\n",
       "    <tr>\n",
       "      <th id=\"T_f02f0_level0_row3\" class=\"row_heading level0 row3\" >3</th>\n",
       "      <td id=\"T_f02f0_row3_col0\" class=\"data row3 col0\" >2016-01-15 03:00:00</td>\n",
       "      <td id=\"T_f02f0_row3_col1\" class=\"data row3 col1\" >57.79</td>\n",
       "      <td id=\"T_f02f0_row3_col2\" class=\"data row3 col2\" >rougher</td>\n",
       "      <td id=\"T_f02f0_row3_col3\" class=\"data row3 col3\" >train</td>\n",
       "    </tr>\n",
       "    <tr>\n",
       "      <th id=\"T_f02f0_level0_row4\" class=\"row_heading level0 row4\" >4</th>\n",
       "      <td id=\"T_f02f0_row4_col0\" class=\"data row4 col0\" >2016-01-15 04:00:00</td>\n",
       "      <td id=\"T_f02f0_row4_col1\" class=\"data row4 col1\" >56.05</td>\n",
       "      <td id=\"T_f02f0_row4_col2\" class=\"data row4 col2\" >rougher</td>\n",
       "      <td id=\"T_f02f0_row4_col3\" class=\"data row4 col3\" >train</td>\n",
       "    </tr>\n",
       "    <tr>\n",
       "      <th id=\"T_f02f0_level0_row5\" class=\"row_heading level0 row5\" >5</th>\n",
       "      <td id=\"T_f02f0_row5_col0\" class=\"data row5 col0\" >2016-01-15 05:00:00</td>\n",
       "      <td id=\"T_f02f0_row5_col1\" class=\"data row5 col1\" >57.47</td>\n",
       "      <td id=\"T_f02f0_row5_col2\" class=\"data row5 col2\" >rougher</td>\n",
       "      <td id=\"T_f02f0_row5_col3\" class=\"data row5 col3\" >train</td>\n",
       "    </tr>\n",
       "    <tr>\n",
       "      <th id=\"T_f02f0_level0_row6\" class=\"row_heading level0 row6\" >6</th>\n",
       "      <td id=\"T_f02f0_row6_col0\" class=\"data row6 col0\" >2016-01-15 06:00:00</td>\n",
       "      <td id=\"T_f02f0_row6_col1\" class=\"data row6 col1\" >56.67</td>\n",
       "      <td id=\"T_f02f0_row6_col2\" class=\"data row6 col2\" >rougher</td>\n",
       "      <td id=\"T_f02f0_row6_col3\" class=\"data row6 col3\" >train</td>\n",
       "    </tr>\n",
       "    <tr>\n",
       "      <th id=\"T_f02f0_level0_row7\" class=\"row_heading level0 row7\" >7</th>\n",
       "      <td id=\"T_f02f0_row7_col0\" class=\"data row7 col0\" >2016-01-15 07:00:00</td>\n",
       "      <td id=\"T_f02f0_row7_col1\" class=\"data row7 col1\" >56.73</td>\n",
       "      <td id=\"T_f02f0_row7_col2\" class=\"data row7 col2\" >rougher</td>\n",
       "      <td id=\"T_f02f0_row7_col3\" class=\"data row7 col3\" >train</td>\n",
       "    </tr>\n",
       "    <tr>\n",
       "      <th id=\"T_f02f0_level0_row8\" class=\"row_heading level0 row8\" >8</th>\n",
       "      <td id=\"T_f02f0_row8_col0\" class=\"data row8 col0\" >2016-01-15 08:00:00</td>\n",
       "      <td id=\"T_f02f0_row8_col1\" class=\"data row8 col1\" >56.65</td>\n",
       "      <td id=\"T_f02f0_row8_col2\" class=\"data row8 col2\" >rougher</td>\n",
       "      <td id=\"T_f02f0_row8_col3\" class=\"data row8 col3\" >train</td>\n",
       "    </tr>\n",
       "    <tr>\n",
       "      <th id=\"T_f02f0_level0_row9\" class=\"row_heading level0 row9\" >9</th>\n",
       "      <td id=\"T_f02f0_row9_col0\" class=\"data row9 col0\" >2016-01-15 09:00:00</td>\n",
       "      <td id=\"T_f02f0_row9_col1\" class=\"data row9 col1\" >58.51</td>\n",
       "      <td id=\"T_f02f0_row9_col2\" class=\"data row9 col2\" >rougher</td>\n",
       "      <td id=\"T_f02f0_row9_col3\" class=\"data row9 col3\" >train</td>\n",
       "    </tr>\n",
       "  </tbody>\n",
       "</table>\n"
      ],
      "text/plain": [
       "<pandas.io.formats.style.Styler at 0x29e803d66d0>"
      ]
     },
     "execution_count": 26,
     "metadata": {},
     "output_type": "execute_result"
    }
   ],
   "source": [
    "data_info = pd.DataFrame()\n",
    "samples   = [data_train, data_test]\n",
    "columns   = sorted(data_train.filter(like = 'size').columns, reverse = True)\n",
    "stage     = ['train', 'test']\n",
    "\n",
    "for i,data in enumerate(samples):\n",
    "    \n",
    "    for column in columns:\n",
    "        \n",
    "        data_info = data_info.append(\\\n",
    "                              data[column]\\\n",
    "                             .to_frame()\\\n",
    "                             .rename(columns = {column : 'feed_size'})\\\n",
    "                             .assign(stage = column.split('_')[0], sample = stage[i]))\n",
    "        \n",
    "data_info.reset_index().head(10)\\\n",
    "                       .style\\\n",
    "                       .format({'feed_size':'{:.2f}'})\\\n",
    "                       .set_caption('Таблица для построения распределения размера гранул',)\\\n",
    "                       .set_table_styles(styler)"
   ]
  },
  {
   "cell_type": "code",
   "execution_count": 27,
   "id": "bad9cbc7",
   "metadata": {},
   "outputs": [
    {
     "data": {
      "image/png": "[encoded data removed]",
      "text/plain": [
       "<Figure size 1080x648 with 2 Axes>"
      ]
     },
     "metadata": {},
     "output_type": "display_data"
    }
   ],
   "source": [
    "plt.figure(figsize=(15, 9))\n",
    "plt.title('stage', fontsize=16)\n",
    "sns.set_style('whitegrid')\n",
    "y_lim =((0, 130), (4,11))\n",
    "\n",
    "for i, j in enumerate([\"rougher\", \"primary\"]):\n",
    "    \n",
    "    plt.subplot(1, 2, i + 1)   \n",
    "    sns.violinplot(x = \"stage\", \n",
    "                   y = \"feed_size\", \n",
    "                   hue = \"sample\",\n",
    "                   data = data_info[data_info['stage'] == j],\n",
    "                   palette    = 'Reds', \n",
    "                   saturation = 0.5, \n",
    "                   linewidth  = 3,\n",
    "                   edgecolor  = '#444444',\n",
    "                   split = True)\n",
    "    \n",
    "    plt.title(f'{j} stage', fontsize = 16);\n",
    "    plt.ylim(y_lim[i])\n",
    "    plt.ylabel('feed size ', fontsize = 18)\n",
    "    plt.xlabel('')\n",
    "    plt.xticks(range(1),[''])\n",
    "    plt.legend(fontsize = 12)\n",
    "    \n",
    "plt.show()"
   ]
  },
  {
   "attachments": {},
   "cell_type": "markdown",
   "id": "f3c03321",
   "metadata": {},
   "source": [
    "<p style=\"color: #363636; background-color:whitesmoke; border:solid #363636 1.5px; padding: 15px\">\n",
    "    Информация по размерам гранул сырья есть для флотации и для первичной оценки, так же они разбиты на обучающую и тестовую, информация по их распределению представлена выше. Как видно распределение визуально выглядят симметрично, что говорит похожем соответствии выборок для обучения и тестирования. Немного хуже выглядит график для флотации, но не думаю, что это критично для построения модели\n",
    "</p>"
   ]
  },
  {
   "attachments": {},
   "cell_type": "markdown",
   "id": "86c88b9c",
   "metadata": {},
   "source": [
    "<div style=\"color:white; background-color:gray; border:solid #363636 1.5px; padding: 15px\">\n",
    "    <p>\n",
    "        Выводы:\n",
    "    </p>\n",
    "    <ul>\n",
    "        <li>Данные проанализированы;\n",
    "        <li>Данные очищены от выбросов; \n",
    "        <li>Сделаны предварительные выводы;\n",
    "        <li>Можно переходить поиску и обучению моделей.\n",
    "    </ul>\n",
    "</div>"
   ]
  },
  {
   "attachments": {},
   "cell_type": "markdown",
   "id": "0ac53b86",
   "metadata": {},
   "source": [
    "<h2 style=\"color:C0504D;\">Обучение модели и выбор лучшей</h2>"
   ]
  },
  {
   "attachments": {},
   "cell_type": "markdown",
   "id": "7ab2cf3a",
   "metadata": {},
   "source": [
    "<p style=\"color: #363636; background-color:whitesmoke; border:solid #363636 1.5px; padding: 15px\">\n",
    "    Основной задачей текущего проекта является прогноз эффективности обогащения на основании фактических данных. Необходимо подготовить модель, которая способна с высокой долей вероятности прогнозировать концентрацию золота. Целевой признак в моей задаче количественный, и для расчета необходимо учитывать два признака на стадии флотации и на финальном этапе данные которых находятся в признаках  <i><b>rougher_output_recovery, final_output_recovery</b></i>, соответственно буду использовать модель для регрессии <b>DecisionTreeRegressor, RandomForestRegressor, ExtraTreesRegressor, Lasso, LinearRegression</b> в рамках предсказания, где целевой признак концентрация золота. Подбор параметров буду производить с помощью <b>GridSearchCV</b>. Выбор модели на основании метрики с предельно большим значением <b>sMAPE</b>, которую необходимо создать самостоятельно. Ниже представлены формулы для расчета метрики\n",
    "</p>"
   ]
  },
  {
   "cell_type": "markdown",
   "id": "e62c931c",
   "metadata": {},
   "source": [
    "\n",
    "# $$fsMAPE = \\frac{1}{N}\\sum_{i=1}^{N}{\\frac{|Y_i - \\bar{Y}_i|}{(|Y_i|+|\\bar{Y}_i|) / 2}} * 100\\%$$"
   ]
  },
  {
   "cell_type": "markdown",
   "id": "1b17a9ad",
   "metadata": {},
   "source": [
    "# $$fsMAPE = 25\\%*sMAPE(rougher) + 75\\%*sMAPE(final)$$"
   ]
  },
  {
   "attachments": {},
   "cell_type": "markdown",
   "id": "a38037f8",
   "metadata": {},
   "source": [
    "<h3 style=\"color:C0504D;\">Подготовка метрики sMAPE</h3>"
   ]
  },
  {
   "attachments": {},
   "cell_type": "markdown",
   "id": "763d28af",
   "metadata": {},
   "source": [
    "<p style=\"color: #363636; background-color:whitesmoke; border:solid #363636 1.5px; padding: 15px\">\n",
    "    На основании формул указаных выше, составляю функцию для расчета метрики и передаю ее с помощью метода <b>make_scorer</b> как кастомный скорер для оценки модели\n",
    "</p>"
   ]
  },
  {
   "cell_type": "code",
   "execution_count": 28,
   "id": "1f93b5cb",
   "metadata": {},
   "outputs": [],
   "source": [
    "def symmetric_mean_absolute_percentage_error(y_true, y_pred): \n",
    "    \n",
    "    def smape(target,predict): \n",
    "        return (1 / len(target)) * sum(np.abs(target - predict)/ ((np.abs(target) + np.abs(predict)) / 2)) * 100\n",
    "    \n",
    "    y_true = np.array(y_true)\n",
    "    \n",
    "    smape_rougher = smape(y_true[:,1], y_pred[:,1])\n",
    "    \n",
    "    smape_final   = smape(y_true[:,0], y_pred[:,0])\n",
    "    \n",
    "    return 0.25 * smape_rougher + 0.75 * smape_final"
   ]
  },
  {
   "cell_type": "code",
   "execution_count": 29,
   "id": "3aa5af6e",
   "metadata": {},
   "outputs": [],
   "source": [
    "SMAPE = make_scorer(symmetric_mean_absolute_percentage_error, greater_is_better = False)"
   ]
  },
  {
   "attachments": {},
   "cell_type": "markdown",
   "id": "530f257e",
   "metadata": {},
   "source": [
    "<p style=\"color: #363636; background-color:whitesmoke; border:solid #363636 1.5px; padding: 15px\">\n",
    "    Разделю выборку на признаки и целевой признак, т.к. признаки имеют тип данных float и различаются по масштабу, сразу проведу масштабирование этих признаков с помощью <b>StandardScaler()</b>\n",
    "</p>"
   ]
  },
  {
   "cell_type": "code",
   "execution_count": 30,
   "id": "52511da2",
   "metadata": {},
   "outputs": [],
   "source": [
    "features_train = data_train[data_test.columns]\n",
    "target_train   = data_train.filter(like = 'recovery')"
   ]
  },
  {
   "cell_type": "code",
   "execution_count": 31,
   "id": "66c7abb1",
   "metadata": {},
   "outputs": [],
   "source": [
    "scaler = StandardScaler()\n",
    "scaler.fit(features_train)    \n",
    "features_train = scaler.transform(features_train)"
   ]
  },
  {
   "attachments": {},
   "cell_type": "markdown",
   "id": "bb0021cf",
   "metadata": {},
   "source": [
    "<h3 style=\"color:C0504D;\">Модели с базовыми параметрами</h3>"
   ]
  },
  {
   "attachments": {},
   "cell_type": "markdown",
   "id": "7eb5c9a4",
   "metadata": {},
   "source": [
    "<p style=\"color: #363636; background-color:whitesmoke; border:solid #363636 1.5px; padding: 15px\">\n",
    "    Перебирать все модели с параметрами я буду с помощью <b>GridSearchCV</b>, для этого подготовлю два списка с моделями <i><b>regressors</b></i> и с гиперпараметрами для этих моделей <i><b>parameters</b></i>. Для начала я решил проверить все модели на базовых гиперпараметрах, чтобы в дальнейшем можно было увидеть динамику изменения качества моделей, для оценки качества моделей выбираю 5 фолдов для кросс-валидации в настройках Grid\n",
    "</p>"
   ]
  },
  {
   "cell_type": "code",
   "execution_count": 32,
   "id": "93b93a44",
   "metadata": {},
   "outputs": [],
   "source": [
    "regressors = [LinearRegression(),\n",
    "              Lasso(random_state = RANDOM),\n",
    "              DecisionTreeRegressor(random_state = RANDOM),\n",
    "              ExtraTreesRegressor(random_state = RANDOM),\n",
    "              RandomForestRegressor(random_state = RANDOM)]"
   ]
  },
  {
   "cell_type": "code",
   "execution_count": 33,
   "id": "8b68f2cb",
   "metadata": {},
   "outputs": [],
   "source": [
    "parameters = [{}] * len(regressors)"
   ]
  },
  {
   "cell_type": "raw",
   "id": "a20dffb9",
   "metadata": {},
   "source": [
    "%%time\n",
    "scores = []\n",
    "\n",
    "for i in notebook.tqdm(range(len(regressors))):\n",
    "    grid_model = GridSearchCV(estimator  = regressors[i], \n",
    "                              param_grid = parameters[i],\n",
    "                              scoring    = SMAPE,\n",
    "                              n_jobs     = -1,\n",
    "                              cv         = 5)\n",
    "    \n",
    "    grid_model.fit(features_train, target_train)        \n",
    "    time_score    = grid_model.cv_results_['mean_test_score']   \n",
    "    mean_fit_time = grid_model.cv_results_['mean_fit_time'][np.where(time_score == time_score.max())[0][0]]\n",
    "    \n",
    "    scores.append([' '.join(re.sub(r'([A-Z])', r' \\1', str(regressors[i]).split('(')[0]).split()), \n",
    "                   grid_model.best_score_, \n",
    "                   mean_fit_time,\n",
    "                   grid_model.best_params_])"
   ]
  },
  {
   "cell_type": "code",
   "execution_count": 34,
   "id": "2cf5323b",
   "metadata": {},
   "outputs": [],
   "source": [
    "scores_base = [['Linear Regression', -10.06594012740744, 0.15321850776672363, {}],\n",
    "               ['Lasso', -8.625199356073605, 0.3419657230377197, {}],\n",
    "               ['Decision Tree Regressor', -14.533426202714091, 0.8597116947174073, {}],\n",
    "               ['Extra Trees Regressor', -8.933783279894774, 10.044495773315429, {}],\n",
    "               ['Random Forest Regressor', -9.155858598610378, 48.54978194236755, {}]]"
   ]
  },
  {
   "cell_type": "raw",
   "id": "2f6d5080",
   "metadata": {},
   "source": [
    "scores_base = scores"
   ]
  },
  {
   "cell_type": "code",
   "execution_count": 35,
   "id": "2ecda2f1",
   "metadata": {},
   "outputs": [
    {
     "data": {
      "text/html": [
       "<style type=\"text/css\">\n",
       "#T_4926f_ td:hover {\n",
       "  background: #9E4447;\n",
       "  color: #ffffff;\n",
       "}\n",
       "#T_4926f_ tr:nth-of-type(even) {\n",
       "  background: #D9D9D9;\n",
       "  color: black;\n",
       "}\n",
       "#T_4926f_ tr:nth-of-type(odd) {\n",
       "  background: #ffffff;\n",
       "  color: #363636;\n",
       "}\n",
       "#T_4926f_ th {\n",
       "  background: #363636;\n",
       "  color: #ffffff;\n",
       "  text-align: center;\n",
       "}\n",
       "#T_4926f_ tr:hover {\n",
       "  background: #808080;\n",
       "  color: #ffffff;\n",
       "}\n",
       "#T_4926f_ td {\n",
       "  border: 1px dashed #363636;\n",
       "}\n",
       "#T_4926f_  {\n",
       "  border: 2px solid #363636;\n",
       "}\n",
       "#T_4926f_ caption {\n",
       "  color: #363636;\n",
       "  font-size: 15px;\n",
       "}\n",
       "</style>\n",
       "<table id=\"T_4926f_\">\n",
       "  <caption>Результаты моделей на базовых параметрах</caption>\n",
       "  <thead>\n",
       "    <tr>\n",
       "      <th class=\"blank level0\" >&nbsp;</th>\n",
       "      <th class=\"col_heading level0 col0\" >model</th>\n",
       "      <th class=\"col_heading level0 col1\" >smape</th>\n",
       "      <th class=\"col_heading level0 col2\" >mean_fit_time</th>\n",
       "      <th class=\"col_heading level0 col3\" >parameters</th>\n",
       "    </tr>\n",
       "  </thead>\n",
       "  <tbody>\n",
       "    <tr>\n",
       "      <th id=\"T_4926f_level0_row0\" class=\"row_heading level0 row0\" >0</th>\n",
       "      <td id=\"T_4926f_row0_col0\" class=\"data row0 col0\" >Lasso</td>\n",
       "      <td id=\"T_4926f_row0_col1\" class=\"data row0 col1\" >-8.63</td>\n",
       "      <td id=\"T_4926f_row0_col2\" class=\"data row0 col2\" >0.34s</td>\n",
       "      <td id=\"T_4926f_row0_col3\" class=\"data row0 col3\" >{}</td>\n",
       "    </tr>\n",
       "    <tr>\n",
       "      <th id=\"T_4926f_level0_row1\" class=\"row_heading level0 row1\" >1</th>\n",
       "      <td id=\"T_4926f_row1_col0\" class=\"data row1 col0\" >Extra Trees Regressor</td>\n",
       "      <td id=\"T_4926f_row1_col1\" class=\"data row1 col1\" >-8.93</td>\n",
       "      <td id=\"T_4926f_row1_col2\" class=\"data row1 col2\" >10.04s</td>\n",
       "      <td id=\"T_4926f_row1_col3\" class=\"data row1 col3\" >{}</td>\n",
       "    </tr>\n",
       "    <tr>\n",
       "      <th id=\"T_4926f_level0_row2\" class=\"row_heading level0 row2\" >2</th>\n",
       "      <td id=\"T_4926f_row2_col0\" class=\"data row2 col0\" >Random Forest Regressor</td>\n",
       "      <td id=\"T_4926f_row2_col1\" class=\"data row2 col1\" >-9.16</td>\n",
       "      <td id=\"T_4926f_row2_col2\" class=\"data row2 col2\" >48.55s</td>\n",
       "      <td id=\"T_4926f_row2_col3\" class=\"data row2 col3\" >{}</td>\n",
       "    </tr>\n",
       "    <tr>\n",
       "      <th id=\"T_4926f_level0_row3\" class=\"row_heading level0 row3\" >3</th>\n",
       "      <td id=\"T_4926f_row3_col0\" class=\"data row3 col0\" >Linear Regression</td>\n",
       "      <td id=\"T_4926f_row3_col1\" class=\"data row3 col1\" >-10.07</td>\n",
       "      <td id=\"T_4926f_row3_col2\" class=\"data row3 col2\" >0.15s</td>\n",
       "      <td id=\"T_4926f_row3_col3\" class=\"data row3 col3\" >{}</td>\n",
       "    </tr>\n",
       "    <tr>\n",
       "      <th id=\"T_4926f_level0_row4\" class=\"row_heading level0 row4\" >4</th>\n",
       "      <td id=\"T_4926f_row4_col0\" class=\"data row4 col0\" >Decision Tree Regressor</td>\n",
       "      <td id=\"T_4926f_row4_col1\" class=\"data row4 col1\" >-14.53</td>\n",
       "      <td id=\"T_4926f_row4_col2\" class=\"data row4 col2\" >0.86s</td>\n",
       "      <td id=\"T_4926f_row4_col3\" class=\"data row4 col3\" >{}</td>\n",
       "    </tr>\n",
       "  </tbody>\n",
       "</table>\n"
      ],
      "text/plain": [
       "<pandas.io.formats.style.Styler at 0x29ee87cff10>"
      ]
     },
     "execution_count": 35,
     "metadata": {},
     "output_type": "execute_result"
    }
   ],
   "source": [
    "pd.DataFrame(data    = scores_base, \n",
    "             columns = ['model', 'smape', 'mean_fit_time', 'parameters'])\\\n",
    "            .sort_values('smape', ascending = False)\\\n",
    "            .reset_index(drop = True)\\\n",
    "            .style\\\n",
    "            .format({'smape':'{:.2f}', 'mean_fit_time' : '{:,.2f}s'})\\\n",
    "            .set_caption(f'Результаты моделей на базовых параметрах',)\\\n",
    "            .set_table_styles(styler)"
   ]
  },
  {
   "attachments": {},
   "cell_type": "markdown",
   "id": "fca5b622",
   "metadata": {},
   "source": [
    "<p style=\"color: #363636; background-color:whitesmoke; border:solid #363636 1.5px; padding: 15px\">\n",
    "    Как видно из сводных данных выше, на базовых настройках лучший результат и по качеству метрики и по скорости расчета у модели <b>Lasso</b>, недалеко от нее модель <b>Extra Trees Regressor</b>, но сильно уступает по времени обработки, что может быть критично для больших массивов данных\n",
    "</p>"
   ]
  },
  {
   "attachments": {},
   "cell_type": "markdown",
   "id": "2257fc2f",
   "metadata": {},
   "source": [
    "<h3 style=\"color:C0504D;\">Подбор гиперпараметров</h3>"
   ]
  },
  {
   "attachments": {},
   "cell_type": "markdown",
   "id": "a8473ba9",
   "metadata": {},
   "source": [
    "<p style=\"color: #363636; background-color:whitesmoke; border:solid #363636 1.5px; padding: 15px\">\n",
    "    брать параметры для моделей и на основании показателей качества моделей выберу лучшую\n",
    "</p>"
   ]
  },
  {
   "cell_type": "code",
   "execution_count": 36,
   "id": "7d537119",
   "metadata": {},
   "outputs": [],
   "source": [
    "parameters = [{                                           },\n",
    "              \n",
    "              {'selection'    : ['cyclic', 'random'],\n",
    "               'max_iter'     : [1000]}, \n",
    "              \n",
    "              {'criterion'    : ['friedman_mse', 'poisson'],\n",
    "               'max_depth'    : list(range(1,11))},\n",
    "              \n",
    "              {'n_estimators' : list(range(10,101,10)),\n",
    "               'max_depth'    : list(range(1,11))},\n",
    "              \n",
    "              {'n_estimators' : list(range(10,101,10)),\n",
    "               'max_depth'    : list(range(1,11))}        ]"
   ]
  },
  {
   "cell_type": "raw",
   "id": "2b5f95ef",
   "metadata": {},
   "source": [
    "%%time\n",
    "scores = []\n",
    "\n",
    "for i in notebook.tqdm(range(len(regressors))):\n",
    "    grid_model = GridSearchCV(estimator  = regressors[i], \n",
    "                              param_grid = parameters[i],\n",
    "                              scoring    = SMAPE,\n",
    "                              n_jobs     = -1,\n",
    "                              cv         = 5)\n",
    "    \n",
    "    grid_model.fit(features_train, target_train)        \n",
    "    time_score    = grid_model.cv_results_['mean_test_score']   \n",
    "    mean_fit_time = grid_model.cv_results_['mean_fit_time'][np.where(time_score == time_score.max())[0][0]]\n",
    "    \n",
    "    scores.append([' '.join(re.sub(r'([A-Z])', r' \\1', str(regressors[i]).split('(')[0]).split()), \n",
    "                   grid_model.best_score_, \n",
    "                   mean_fit_time,\n",
    "                   grid_model.best_params_])"
   ]
  },
  {
   "cell_type": "code",
   "execution_count": 37,
   "id": "3dc88cab",
   "metadata": {},
   "outputs": [],
   "source": [
    "scores_param = \\\n",
    "    [['Linear Regression', -10.065940127407446, 1.299419641494751, {}],\n",
    "     ['Lasso', -8.625144515400546, 6.498683214187622,{'max_iter': 1000, 'selection': 'random'}],\n",
    "     ['Decision Tree Regressor', -8.88587560791752, 38.834084272384644,{'criterion': 'friedman_mse', 'max_depth': 1}],\n",
    "     ['Extra Trees Regressor', -8.445925052089708, 444.099880695343, {'max_depth': 5, 'n_estimators': 70}],\n",
    "     ['Random Forest Regressor', -8.719239403417578, 5246.102777481079, {'max_depth': 4, 'n_estimators': 80}]]"
   ]
  },
  {
   "cell_type": "raw",
   "id": "acf4b2d2",
   "metadata": {},
   "source": [
    "scores_param = scores"
   ]
  },
  {
   "cell_type": "code",
   "execution_count": 38,
   "id": "a9c861f3",
   "metadata": {},
   "outputs": [
    {
     "data": {
      "text/html": [
       "<style type=\"text/css\">\n",
       "#T_c66eb_ td:hover {\n",
       "  background: #9E4447;\n",
       "  color: #ffffff;\n",
       "}\n",
       "#T_c66eb_ tr:nth-of-type(even) {\n",
       "  background: #D9D9D9;\n",
       "  color: black;\n",
       "}\n",
       "#T_c66eb_ tr:nth-of-type(odd) {\n",
       "  background: #ffffff;\n",
       "  color: #363636;\n",
       "}\n",
       "#T_c66eb_ th {\n",
       "  background: #363636;\n",
       "  color: #ffffff;\n",
       "  text-align: center;\n",
       "}\n",
       "#T_c66eb_ tr:hover {\n",
       "  background: #808080;\n",
       "  color: #ffffff;\n",
       "}\n",
       "#T_c66eb_ td {\n",
       "  border: 1px dashed #363636;\n",
       "}\n",
       "#T_c66eb_  {\n",
       "  border: 2px solid #363636;\n",
       "}\n",
       "#T_c66eb_ caption {\n",
       "  color: #363636;\n",
       "  font-size: 15px;\n",
       "}\n",
       "</style>\n",
       "<table id=\"T_c66eb_\">\n",
       "  <caption>Результаты поиска лучшей модели с подбором гиперпараметров</caption>\n",
       "  <thead>\n",
       "    <tr>\n",
       "      <th class=\"blank level0\" >&nbsp;</th>\n",
       "      <th class=\"col_heading level0 col0\" >model</th>\n",
       "      <th class=\"col_heading level0 col1\" >smape</th>\n",
       "      <th class=\"col_heading level0 col2\" >time</th>\n",
       "      <th class=\"col_heading level0 col3\" >parameters</th>\n",
       "    </tr>\n",
       "  </thead>\n",
       "  <tbody>\n",
       "    <tr>\n",
       "      <th id=\"T_c66eb_level0_row0\" class=\"row_heading level0 row0\" >0</th>\n",
       "      <td id=\"T_c66eb_row0_col0\" class=\"data row0 col0\" >Extra Trees Regressor</td>\n",
       "      <td id=\"T_c66eb_row0_col1\" class=\"data row0 col1\" >-8.45</td>\n",
       "      <td id=\"T_c66eb_row0_col2\" class=\"data row0 col2\" >444.10s</td>\n",
       "      <td id=\"T_c66eb_row0_col3\" class=\"data row0 col3\" >{'max_depth': 5, 'n_estimators': 70}</td>\n",
       "    </tr>\n",
       "    <tr>\n",
       "      <th id=\"T_c66eb_level0_row1\" class=\"row_heading level0 row1\" >1</th>\n",
       "      <td id=\"T_c66eb_row1_col0\" class=\"data row1 col0\" >Lasso</td>\n",
       "      <td id=\"T_c66eb_row1_col1\" class=\"data row1 col1\" >-8.63</td>\n",
       "      <td id=\"T_c66eb_row1_col2\" class=\"data row1 col2\" >6.50s</td>\n",
       "      <td id=\"T_c66eb_row1_col3\" class=\"data row1 col3\" >{'max_iter': 1000, 'selection': 'random'}</td>\n",
       "    </tr>\n",
       "    <tr>\n",
       "      <th id=\"T_c66eb_level0_row2\" class=\"row_heading level0 row2\" >2</th>\n",
       "      <td id=\"T_c66eb_row2_col0\" class=\"data row2 col0\" >Random Forest Regressor</td>\n",
       "      <td id=\"T_c66eb_row2_col1\" class=\"data row2 col1\" >-8.72</td>\n",
       "      <td id=\"T_c66eb_row2_col2\" class=\"data row2 col2\" >5,246.10s</td>\n",
       "      <td id=\"T_c66eb_row2_col3\" class=\"data row2 col3\" >{'max_depth': 4, 'n_estimators': 80}</td>\n",
       "    </tr>\n",
       "    <tr>\n",
       "      <th id=\"T_c66eb_level0_row3\" class=\"row_heading level0 row3\" >3</th>\n",
       "      <td id=\"T_c66eb_row3_col0\" class=\"data row3 col0\" >Decision Tree Regressor</td>\n",
       "      <td id=\"T_c66eb_row3_col1\" class=\"data row3 col1\" >-8.89</td>\n",
       "      <td id=\"T_c66eb_row3_col2\" class=\"data row3 col2\" >38.83s</td>\n",
       "      <td id=\"T_c66eb_row3_col3\" class=\"data row3 col3\" >{'criterion': 'friedman_mse', 'max_depth': 1}</td>\n",
       "    </tr>\n",
       "    <tr>\n",
       "      <th id=\"T_c66eb_level0_row4\" class=\"row_heading level0 row4\" >4</th>\n",
       "      <td id=\"T_c66eb_row4_col0\" class=\"data row4 col0\" >Linear Regression</td>\n",
       "      <td id=\"T_c66eb_row4_col1\" class=\"data row4 col1\" >-10.07</td>\n",
       "      <td id=\"T_c66eb_row4_col2\" class=\"data row4 col2\" >1.30s</td>\n",
       "      <td id=\"T_c66eb_row4_col3\" class=\"data row4 col3\" >{}</td>\n",
       "    </tr>\n",
       "  </tbody>\n",
       "</table>\n"
      ],
      "text/plain": [
       "<pandas.io.formats.style.Styler at 0x29ee8b41400>"
      ]
     },
     "execution_count": 38,
     "metadata": {},
     "output_type": "execute_result"
    }
   ],
   "source": [
    "pd.DataFrame(data    = scores_param, \n",
    "             columns = ['model', 'smape', 'time', 'parameters'])\\\n",
    "            .sort_values('smape', ascending = False)\\\n",
    "            .reset_index(drop = True)\\\n",
    "            .style\\\n",
    "            .format({'smape':'{:.2f}', 'time' : '{:,.2f}s'})\\\n",
    "            .set_caption(f'Результаты поиска лучшей модели с подбором гиперпараметров',)\\\n",
    "            .set_table_styles(styler)"
   ]
  },
  {
   "attachments": {},
   "cell_type": "markdown",
   "id": "24d308f7",
   "metadata": {},
   "source": [
    "<div style=\"color:white; background-color:gray; border:solid #363636 1.5px; padding: 15px\">\n",
    "    <p>\n",
    "        Выводы:\n",
    "    </p>\n",
    "    <ul>\n",
    "        Как видно из сводных данных выше, двойку лучших моделей также занимают те же самые модели, но лидер поменялся, на первое место вышла модель <b>Extra Trees Regressor</b> с лучшими показателями по качеству метрики, но, как и на предыдущем этапе значительно уступает по скорости работы алгоритма модели <b>Lasso</b>. На данном этапе необходимо выбрать лучшую модель, но выбор неочевиден, т. к. качество по метрики модели не сильно отличаются, а вот по скорости решения задачи лидер ярко выражен. Но есть и неоднозначные показатели дерево улучшило свои показатели с предыдущего этапа, хотя и не сильно, а вот Lasso осталось на том же уровне, я предлагаю выбрать две модели на следующий этап там уже финально выбрать модель на тестовом наборе, где надеюсь будет очевиден лидер и качество моделей будет различаться в большей степени\n",
    "    </ul>\n",
    "</div>"
   ]
  },
  {
   "attachments": {},
   "cell_type": "markdown",
   "id": "9b37236d",
   "metadata": {},
   "source": [
    "<h2 style=\"color:C0504D;\">Тестирование лучшей модели</h2>"
   ]
  },
  {
   "attachments": {},
   "cell_type": "markdown",
   "id": "28d7579c",
   "metadata": {},
   "source": [
    "<p style=\"color: #363636; background-color:whitesmoke; border:solid #363636 1.5px; padding: 15px\">\n",
    "    Тестирование модели буду проводить на выборке <b>data_test</b>, так же предварительно решив вопрос с масштабирование признаков. Для моделей указываю лучшие параметры с предыдущего этапа\n",
    "</p>"
   ]
  },
  {
   "cell_type": "code",
   "execution_count": 39,
   "id": "4c4ba3f1",
   "metadata": {},
   "outputs": [],
   "source": [
    "features_test = scaler.transform(data_test)"
   ]
  },
  {
   "attachments": {},
   "cell_type": "markdown",
   "id": "53008a55",
   "metadata": {},
   "source": [
    "<h3 style=\"color:C0504D;\">Тестирование моделей</h3>"
   ]
  },
  {
   "cell_type": "code",
   "execution_count": 40,
   "id": "9d80ac07",
   "metadata": {},
   "outputs": [],
   "source": [
    "models = [Lasso(random_state = RANDOM, max_iter = 1000, selection = 'random'),\n",
    "          ExtraTreesRegressor(random_state = RANDOM, max_depth = 5, n_estimators = 70)]"
   ]
  },
  {
   "cell_type": "code",
   "execution_count": 41,
   "id": "39225634",
   "metadata": {},
   "outputs": [],
   "source": [
    "scores_final = []\n",
    "data_info    = pd.DataFrame()\n",
    "x = ['Lasso', 'Extra Trees Regressor']\n",
    "for i, model in enumerate(models):  \n",
    "    \n",
    "    model.fit(features_train, target_train)\n",
    "    predictions = model.predict(features_test)\n",
    "    target_test = data_full.loc[data_test.index].filter(like = 'recovery')\n",
    "    score       = symmetric_mean_absolute_percentage_error(target_test, predictions)\n",
    "    \n",
    "    data_info = data_info.append(pd.DataFrame(predictions).assign(model  = x[i], sample = 'predict'))\n",
    "    \n",
    "    data_info = data_info.append(target_test.rename(columns = {'final_output_recovery' : 0, 'rougher_output_recovery' : 1})\\\n",
    "                                            .assign(model = x[i], sample = 'true'))\n",
    "    \n",
    "    scores_final.append([' '.join(re.sub(r'([A-Z])', r' \\1', str(model).split('(')[0]).split()), -score])\n",
    "    \n",
    "data_info = data_info.rename(columns = {0: 'final', 1 :'rougher'}).reset_index(drop = True)"
   ]
  },
  {
   "cell_type": "code",
   "execution_count": 42,
   "id": "d69e25f2",
   "metadata": {},
   "outputs": [
    {
     "data": {
      "text/html": [
       "<style type=\"text/css\">\n",
       "#T_e0be8_ td:hover {\n",
       "  background: #9E4447;\n",
       "  color: #ffffff;\n",
       "}\n",
       "#T_e0be8_ tr:nth-of-type(even) {\n",
       "  background: #D9D9D9;\n",
       "  color: black;\n",
       "}\n",
       "#T_e0be8_ tr:nth-of-type(odd) {\n",
       "  background: #ffffff;\n",
       "  color: #363636;\n",
       "}\n",
       "#T_e0be8_ th {\n",
       "  background: #363636;\n",
       "  color: #ffffff;\n",
       "  text-align: center;\n",
       "}\n",
       "#T_e0be8_ tr:hover {\n",
       "  background: #808080;\n",
       "  color: #ffffff;\n",
       "}\n",
       "#T_e0be8_ td {\n",
       "  border: 1px dashed #363636;\n",
       "}\n",
       "#T_e0be8_  {\n",
       "  border: 2px solid #363636;\n",
       "}\n",
       "#T_e0be8_ caption {\n",
       "  color: #363636;\n",
       "  font-size: 15px;\n",
       "}\n",
       "</style>\n",
       "<table id=\"T_e0be8_\">\n",
       "  <caption>Финальные разультаты подготовки модели</caption>\n",
       "  <thead>\n",
       "    <tr>\n",
       "      <th class=\"blank level0\" >&nbsp;</th>\n",
       "      <th class=\"col_heading level0 col0\" >model</th>\n",
       "      <th class=\"col_heading level0 col1\" >smape_base</th>\n",
       "      <th class=\"col_heading level0 col2\" >smape_param</th>\n",
       "      <th class=\"col_heading level0 col3\" >smape_final</th>\n",
       "    </tr>\n",
       "  </thead>\n",
       "  <tbody>\n",
       "    <tr>\n",
       "      <th id=\"T_e0be8_level0_row0\" class=\"row_heading level0 row0\" >0</th>\n",
       "      <td id=\"T_e0be8_row0_col0\" class=\"data row0 col0\" >Lasso</td>\n",
       "      <td id=\"T_e0be8_row0_col1\" class=\"data row0 col1\" >-8.63</td>\n",
       "      <td id=\"T_e0be8_row0_col2\" class=\"data row0 col2\" >-8.63</td>\n",
       "      <td id=\"T_e0be8_row0_col3\" class=\"data row0 col3\" >-6.36</td>\n",
       "    </tr>\n",
       "    <tr>\n",
       "      <th id=\"T_e0be8_level0_row1\" class=\"row_heading level0 row1\" >1</th>\n",
       "      <td id=\"T_e0be8_row1_col0\" class=\"data row1 col0\" >Extra Trees Regressor</td>\n",
       "      <td id=\"T_e0be8_row1_col1\" class=\"data row1 col1\" >-8.93</td>\n",
       "      <td id=\"T_e0be8_row1_col2\" class=\"data row1 col2\" >-8.45</td>\n",
       "      <td id=\"T_e0be8_row1_col3\" class=\"data row1 col3\" >-6.72</td>\n",
       "    </tr>\n",
       "    <tr>\n",
       "      <th id=\"T_e0be8_level0_row2\" class=\"row_heading level0 row2\" >2</th>\n",
       "      <td id=\"T_e0be8_row2_col0\" class=\"data row2 col0\" >Linear Regression</td>\n",
       "      <td id=\"T_e0be8_row2_col1\" class=\"data row2 col1\" >-10.07</td>\n",
       "      <td id=\"T_e0be8_row2_col2\" class=\"data row2 col2\" >-10.07</td>\n",
       "      <td id=\"T_e0be8_row2_col3\" class=\"data row2 col3\" >0.00</td>\n",
       "    </tr>\n",
       "    <tr>\n",
       "      <th id=\"T_e0be8_level0_row3\" class=\"row_heading level0 row3\" >3</th>\n",
       "      <td id=\"T_e0be8_row3_col0\" class=\"data row3 col0\" >Decision Tree Regressor</td>\n",
       "      <td id=\"T_e0be8_row3_col1\" class=\"data row3 col1\" >-14.53</td>\n",
       "      <td id=\"T_e0be8_row3_col2\" class=\"data row3 col2\" >-8.89</td>\n",
       "      <td id=\"T_e0be8_row3_col3\" class=\"data row3 col3\" >0.00</td>\n",
       "    </tr>\n",
       "    <tr>\n",
       "      <th id=\"T_e0be8_level0_row4\" class=\"row_heading level0 row4\" >4</th>\n",
       "      <td id=\"T_e0be8_row4_col0\" class=\"data row4 col0\" >Random Forest Regressor</td>\n",
       "      <td id=\"T_e0be8_row4_col1\" class=\"data row4 col1\" >-9.16</td>\n",
       "      <td id=\"T_e0be8_row4_col2\" class=\"data row4 col2\" >-8.72</td>\n",
       "      <td id=\"T_e0be8_row4_col3\" class=\"data row4 col3\" >0.00</td>\n",
       "    </tr>\n",
       "  </tbody>\n",
       "</table>\n"
      ],
      "text/plain": [
       "<pandas.io.formats.style.Styler at 0x29e8046b1c0>"
      ]
     },
     "execution_count": 42,
     "metadata": {},
     "output_type": "execute_result"
    }
   ],
   "source": [
    "pd.DataFrame(data = np.array(scores_base)[:,:2],\n",
    "             columns = ['model', 'smape_base'])\\\n",
    "            .assign(smape_param = np.array(scores_param)[:,1])\\\n",
    "            .merge(pd.DataFrame(scores_final, columns = ['model', 'smape_final']), on = 'model', how='outer')\\\n",
    "            .sort_values('smape_final', ascending = False)\\\n",
    "            .fillna(0)\\\n",
    "            .reset_index(drop = True)\\\n",
    "            .style\\\n",
    "            .format({'smape_base':'{:.2f}', 'smape_param':'{:.2f}', 'smape_final':'{:.2f}'})\\\n",
    "            .set_caption(f'Финальные разультаты подготовки модели',)\\\n",
    "            .set_table_styles(styler)"
   ]
  },
  {
   "attachments": {},
   "cell_type": "markdown",
   "id": "48c55bb8",
   "metadata": {},
   "source": [
    "<p style=\"color: #363636; background-color:whitesmoke; border:solid #363636 1.5px; padding: 15px\">\n",
    "    Показатели качества моделей улучшилось на тестовой выборке, но вот разница в метрике моделей осталась на том же уровне. Можно сделать выбор на основании статистики показателей, но я бы предварительно хотел визуально провести осмотр предсказаний моделей, возможно там будет ответ на выбор модели.\n",
    "</p>"
   ]
  },
  {
   "attachments": {},
   "cell_type": "markdown",
   "id": "e18ad2d8",
   "metadata": {},
   "source": [
    "<h3 style=\"color:C0504D;\">Сравнение распределения предсказаний моделей</h3>"
   ]
  },
  {
   "attachments": {},
   "cell_type": "markdown",
   "id": "31605ef7",
   "metadata": {},
   "source": [
    "<p style=\"color: #363636; background-color:whitesmoke; border:solid #363636 1.5px; padding: 15px\">\n",
    "    Предварительно создам датафрейм для построения графиков\n",
    "</p>"
   ]
  },
  {
   "cell_type": "code",
   "execution_count": 43,
   "id": "ff2953ad",
   "metadata": {
    "scrolled": false
   },
   "outputs": [
    {
     "data": {
      "text/html": [
       "<style type=\"text/css\">\n",
       "#T_66081_ td:hover {\n",
       "  background: #9E4447;\n",
       "  color: #ffffff;\n",
       "}\n",
       "#T_66081_ tr:nth-of-type(even) {\n",
       "  background: #D9D9D9;\n",
       "  color: black;\n",
       "}\n",
       "#T_66081_ tr:nth-of-type(odd) {\n",
       "  background: #ffffff;\n",
       "  color: #363636;\n",
       "}\n",
       "#T_66081_ th {\n",
       "  background: #363636;\n",
       "  color: #ffffff;\n",
       "  text-align: center;\n",
       "}\n",
       "#T_66081_ tr:hover {\n",
       "  background: #808080;\n",
       "  color: #ffffff;\n",
       "}\n",
       "#T_66081_ td {\n",
       "  border: 1px dashed #363636;\n",
       "}\n",
       "#T_66081_  {\n",
       "  border: 2px solid #363636;\n",
       "}\n",
       "#T_66081_ caption {\n",
       "  color: #363636;\n",
       "  font-size: 15px;\n",
       "}\n",
       "</style>\n",
       "<table id=\"T_66081_\">\n",
       "  <caption>Информация по моделям для каждого этапа</caption>\n",
       "  <thead>\n",
       "    <tr>\n",
       "      <th class=\"blank level0\" >&nbsp;</th>\n",
       "      <th class=\"col_heading level0 col0\" >final</th>\n",
       "      <th class=\"col_heading level0 col1\" >rougher</th>\n",
       "      <th class=\"col_heading level0 col2\" >model</th>\n",
       "      <th class=\"col_heading level0 col3\" >sample</th>\n",
       "    </tr>\n",
       "  </thead>\n",
       "  <tbody>\n",
       "    <tr>\n",
       "      <th id=\"T_66081_level0_row0\" class=\"row_heading level0 row0\" >0</th>\n",
       "      <td id=\"T_66081_row0_col0\" class=\"data row0 col0\" >71.43</td>\n",
       "      <td id=\"T_66081_row0_col1\" class=\"data row0 col1\" >88.55</td>\n",
       "      <td id=\"T_66081_row0_col2\" class=\"data row0 col2\" >Lasso</td>\n",
       "      <td id=\"T_66081_row0_col3\" class=\"data row0 col3\" >predict</td>\n",
       "    </tr>\n",
       "    <tr>\n",
       "      <th id=\"T_66081_level0_row1\" class=\"row_heading level0 row1\" >1</th>\n",
       "      <td id=\"T_66081_row1_col0\" class=\"data row1 col0\" >71.16</td>\n",
       "      <td id=\"T_66081_row1_col1\" class=\"data row1 col1\" >88.39</td>\n",
       "      <td id=\"T_66081_row1_col2\" class=\"data row1 col2\" >Lasso</td>\n",
       "      <td id=\"T_66081_row1_col3\" class=\"data row1 col3\" >predict</td>\n",
       "    </tr>\n",
       "    <tr>\n",
       "      <th id=\"T_66081_level0_row2\" class=\"row_heading level0 row2\" >2</th>\n",
       "      <td id=\"T_66081_row2_col0\" class=\"data row2 col0\" >71.18</td>\n",
       "      <td id=\"T_66081_row2_col1\" class=\"data row2 col1\" >88.52</td>\n",
       "      <td id=\"T_66081_row2_col2\" class=\"data row2 col2\" >Lasso</td>\n",
       "      <td id=\"T_66081_row2_col3\" class=\"data row2 col3\" >predict</td>\n",
       "    </tr>\n",
       "    <tr>\n",
       "      <th id=\"T_66081_level0_row3\" class=\"row_heading level0 row3\" >3</th>\n",
       "      <td id=\"T_66081_row3_col0\" class=\"data row3 col0\" >70.79</td>\n",
       "      <td id=\"T_66081_row3_col1\" class=\"data row3 col1\" >87.79</td>\n",
       "      <td id=\"T_66081_row3_col2\" class=\"data row3 col2\" >Lasso</td>\n",
       "      <td id=\"T_66081_row3_col3\" class=\"data row3 col3\" >predict</td>\n",
       "    </tr>\n",
       "    <tr>\n",
       "      <th id=\"T_66081_level0_row4\" class=\"row_heading level0 row4\" >4</th>\n",
       "      <td id=\"T_66081_row4_col0\" class=\"data row4 col0\" >69.59</td>\n",
       "      <td id=\"T_66081_row4_col1\" class=\"data row4 col1\" >86.59</td>\n",
       "      <td id=\"T_66081_row4_col2\" class=\"data row4 col2\" >Lasso</td>\n",
       "      <td id=\"T_66081_row4_col3\" class=\"data row4 col3\" >predict</td>\n",
       "    </tr>\n",
       "    <tr>\n",
       "      <th id=\"T_66081_level0_row5\" class=\"row_heading level0 row5\" >5</th>\n",
       "      <td id=\"T_66081_row5_col0\" class=\"data row5 col0\" >67.49</td>\n",
       "      <td id=\"T_66081_row5_col1\" class=\"data row5 col1\" >84.71</td>\n",
       "      <td id=\"T_66081_row5_col2\" class=\"data row5 col2\" >Lasso</td>\n",
       "      <td id=\"T_66081_row5_col3\" class=\"data row5 col3\" >predict</td>\n",
       "    </tr>\n",
       "    <tr>\n",
       "      <th id=\"T_66081_level0_row6\" class=\"row_heading level0 row6\" >6</th>\n",
       "      <td id=\"T_66081_row6_col0\" class=\"data row6 col0\" >66.52</td>\n",
       "      <td id=\"T_66081_row6_col1\" class=\"data row6 col1\" >83.90</td>\n",
       "      <td id=\"T_66081_row6_col2\" class=\"data row6 col2\" >Lasso</td>\n",
       "      <td id=\"T_66081_row6_col3\" class=\"data row6 col3\" >predict</td>\n",
       "    </tr>\n",
       "    <tr>\n",
       "      <th id=\"T_66081_level0_row7\" class=\"row_heading level0 row7\" >7</th>\n",
       "      <td id=\"T_66081_row7_col0\" class=\"data row7 col0\" >66.31</td>\n",
       "      <td id=\"T_66081_row7_col1\" class=\"data row7 col1\" >83.76</td>\n",
       "      <td id=\"T_66081_row7_col2\" class=\"data row7 col2\" >Lasso</td>\n",
       "      <td id=\"T_66081_row7_col3\" class=\"data row7 col3\" >predict</td>\n",
       "    </tr>\n",
       "    <tr>\n",
       "      <th id=\"T_66081_level0_row8\" class=\"row_heading level0 row8\" >8</th>\n",
       "      <td id=\"T_66081_row8_col0\" class=\"data row8 col0\" >66.23</td>\n",
       "      <td id=\"T_66081_row8_col1\" class=\"data row8 col1\" >83.79</td>\n",
       "      <td id=\"T_66081_row8_col2\" class=\"data row8 col2\" >Lasso</td>\n",
       "      <td id=\"T_66081_row8_col3\" class=\"data row8 col3\" >predict</td>\n",
       "    </tr>\n",
       "    <tr>\n",
       "      <th id=\"T_66081_level0_row9\" class=\"row_heading level0 row9\" >9</th>\n",
       "      <td id=\"T_66081_row9_col0\" class=\"data row9 col0\" >65.59</td>\n",
       "      <td id=\"T_66081_row9_col1\" class=\"data row9 col1\" >83.24</td>\n",
       "      <td id=\"T_66081_row9_col2\" class=\"data row9 col2\" >Lasso</td>\n",
       "      <td id=\"T_66081_row9_col3\" class=\"data row9 col3\" >predict</td>\n",
       "    </tr>\n",
       "  </tbody>\n",
       "</table>\n"
      ],
      "text/plain": [
       "<pandas.io.formats.style.Styler at 0x29e80a186d0>"
      ]
     },
     "execution_count": 43,
     "metadata": {},
     "output_type": "execute_result"
    }
   ],
   "source": [
    "data_info.head(10).style\\\n",
    "                  .format({'final':'{:.2f}', 'rougher':'{:.2f}'})\\\n",
    "                  .set_caption(f'Информация по моделям для каждого этапа',)\\\n",
    "                  .set_table_styles(styler)"
   ]
  },
  {
   "cell_type": "code",
   "execution_count": 44,
   "id": "570820e9",
   "metadata": {},
   "outputs": [
    {
     "data": {
      "image/png": "[encoded data removed]",
      "text/plain": [
       "<Figure size 1080x648 with 2 Axes>"
      ]
     },
     "metadata": {},
     "output_type": "display_data"
    }
   ],
   "source": [
    "plt.figure(figsize=(15, 9))\n",
    "plt.title('stage', fontsize=16)\n",
    "sns.set_style('whitegrid')\n",
    "y_lim =((60, 100), (45, 80))\n",
    "\n",
    "for i, j in enumerate(['rougher', 'final']):\n",
    "    \n",
    "    plt.subplot(1, 2, i + 1)   \n",
    "    sns.violinplot(x = \"sample\", \n",
    "                   y = j, \n",
    "                   hue = \"model\",\n",
    "                   data = data_info[data_info['sample'] == 'predict'],\n",
    "                   palette    = 'Reds', \n",
    "                   saturation = 0.5, \n",
    "                   linewidth  = 3,\n",
    "                   edgecolor  = '#444444',\n",
    "                   split = True)\n",
    "    \n",
    "    plt.title(f'{j}_output_recovery', fontsize = 16);\n",
    "    plt.ylim(y_lim[i])\n",
    "    plt.ylabel('recovery', fontsize = 18)\n",
    "    plt.xlabel('')\n",
    "    plt.xticks(range(1),[''])\n",
    "    plt.legend(fontsize = 12)\n",
    "    \n",
    "plt.show()"
   ]
  },
  {
   "attachments": {},
   "cell_type": "markdown",
   "id": "34fde642",
   "metadata": {},
   "source": [
    "<p style=\"color: #363636; background-color:whitesmoke; border:solid #363636 1.5px; padding: 15px\">\n",
    "    Из графиков распределения предсказаний видно, что распределение предсказания и для флотации и финального этапа имеет форму не правильного распределения, распределения имеют сильную кривизну хотя в основном сосредоточены в одной области среднего значения. А вот для финальной концентрации выборки уже разнятся сильнее, дерево сильно усредняет данные, в то время как лассо старается определить значение показателя, как и в целевом распределении далее можно сравнить распределение моделей в сравнении с целевыми признаками.\n",
    "</p>"
   ]
  },
  {
   "attachments": {},
   "cell_type": "markdown",
   "id": "5e801021",
   "metadata": {},
   "source": [
    "<h3 style=\"color:C0504D;\">Сравнение предсказаний моделей с целевым признаком</h3>"
   ]
  },
  {
   "cell_type": "code",
   "execution_count": 45,
   "id": "4bd31083",
   "metadata": {},
   "outputs": [
    {
     "data": {
      "image/png": "[encoded data removed]",
      "text/plain": [
       "<Figure size 1080x1080 with 4 Axes>"
      ]
     },
     "metadata": {},
     "output_type": "display_data"
    }
   ],
   "source": [
    "plt.figure(figsize=(15, 15))\n",
    "plt.title('stage', fontsize=16)\n",
    "sns.set_style('whitegrid')\n",
    "y_lim =((60, 100), (45, 90))\n",
    "count = 0\n",
    "\n",
    "for i, j in enumerate(['rougher', 'final']):\n",
    "    \n",
    "    for model in ['Lasso', 'Extra Trees Regressor']:\n",
    "        count += 1\n",
    "        plt.subplot(2, 2, count)   \n",
    "        sns.violinplot(x = \"model\", \n",
    "                       y = j, \n",
    "                       hue = \"sample\",\n",
    "                       data = data_info[data_info['model'] == model],\n",
    "                       palette    = 'Reds', \n",
    "                       saturation = 0.5, \n",
    "                       linewidth  = 3,\n",
    "                       edgecolor  = '#444444',\n",
    "                       split = True)\n",
    "\n",
    "        plt.title(f'{j}_recovery_{model}', fontsize = 14);\n",
    "        plt.ylim(y_lim[i])\n",
    "        plt.ylabel('recovery', fontsize = 14)\n",
    "        plt.xlabel('')\n",
    "        plt.xticks(range(1),[''])\n",
    "        plt.legend(fontsize = 12)\n",
    "    \n",
    "plt.show()"
   ]
  },
  {
   "attachments": {},
   "cell_type": "markdown",
   "id": "e51c9dbe",
   "metadata": {},
   "source": [
    "<p style=\"color: #363636; background-color:whitesmoke; border:solid #363636 1.5px; padding: 15px\">\n",
    "    Из графиков видно как обе модели стараются сильно усреднить показатели предсказания что в итоге сильно заметно по форме распределения, так же заметен потолок в который упирается предсказания моделей, но Lasso именно на финальной метрике все равно выглядит лучше показывая более правильное распределение, а так как в метрике 75% именно финального показателя за счет этого качество предсказания выше, хотя я думаю что исходя из визуального осмотра моделей при проверке на DummyRegressor показатели будут не намного хуже, скорее всего это особенность данного набора данных которые имеют много характеристик, которые по отдельности вносят незначительный весь при определении конечного результата и в то же время само распределение фактических показателей не имеет большого разброса, что тоже обусловлено спецификой производство где идет борьба за каждый процент концентрации золота. Перед окончательными выводами финально проверю модель на DummyRegressor\n",
    "</p>"
   ]
  },
  {
   "attachments": {},
   "cell_type": "markdown",
   "id": "4d01ae15",
   "metadata": {},
   "source": [
    "<h3 style=\"color:C0504D;\">Проверка на адекватность</h3>"
   ]
  },
  {
   "cell_type": "code",
   "execution_count": 46,
   "id": "78a3ea7a",
   "metadata": {},
   "outputs": [
    {
     "name": "stdout",
     "output_type": "stream",
     "text": [
      "показатель SMAPE на модели DummyRegressor: -7.78\n"
     ]
    }
   ],
   "source": [
    "model = DummyRegressor(strategy = 'mean')\n",
    "model.fit(features_train, target_train)\n",
    "predict_dummy = model.predict(features_test)\n",
    "score_dummy   = symmetric_mean_absolute_percentage_error(target_test, predict_dummy)\n",
    "print(f'показатель SMAPE на модели DummyRegressor: {-score_dummy:.2f}')"
   ]
  },
  {
   "attachments": {},
   "cell_type": "markdown",
   "id": "363b9c9c",
   "metadata": {},
   "source": [
    "<p style=\"color: #363636; background-color:whitesmoke; border:solid #363636 1.5px; padding: 15px\">\n",
    "    Предыдущие выводы были верными и показатели на DummyRegressor не сильно отличаются от показателей Lasso 7,78 против 7,14\n",
    "</p>"
   ]
  },
  {
   "attachments": {},
   "cell_type": "markdown",
   "id": "2bca6c48",
   "metadata": {},
   "source": [
    "<div style=\"color:white; background-color:gray; border:solid #363636 1.5px; padding: 15px\">\n",
    "    <p>\n",
    "        Выводы:\n",
    "    </p>\n",
    "    <ul>\n",
    "        <li>Предоставленные данные были проанализированы и подготовлены, для дальнейшей работы. В данных были обнаружены\n",
    "            некоторые недочеты, о которых было написано выше, можно остановиться только на одном моменте. В данных\n",
    "            присутствовали аномальные значения, которые предположительно появились в процессе замеров показателей,\n",
    "            хотелось бы обратить внимание на этом моменте, т.к. возможно это разовый сбой, а возможно закономерные\n",
    "            проблемы в техпроцессе.\n",
    "        <li>Задача по подбору модели была выполнена, для этого в несколько этапов была произведена подготовка и проверка\n",
    "            моделей на представленных данных, в итоге выбор был не совсем очевиден модели показывали ошибку в\n",
    "            предсказаниях на уровне 7% но с огромной разницей во времени работы алгоритма, что для больших массивов\n",
    "            данных может быть критично. Что по качеству модели то однозначно выбор должен быть в сторону модели\n",
    "            <b>Lasso</b> с гиперпараметрами <b>max_iter = 1000, selection = 'random'</b>, что было подтверждено на\n",
    "            графиках распределения, где распределение у модели дерева в значительной степени выглядит хуже модели Lasso,\n",
    "            где последняя имеет более правильную форму. Но модель ExtraTreesRegressor можно использовать как\n",
    "            альтернативный вариант.\n",
    "            Как видно из сводных данных выше, двойку лучших моделей также занимают те же самые модели, но лидер\n",
    "            поменялся, на первое место вышла модель <b>Extra Trees Regressor</b> с лучшими показателями по качеству\n",
    "            метрики, но, как и на предыдущем этапе значительно уступает по скорости работы алгоритма модели\n",
    "            <b>Lasso</b>. На данном этапе необходимо выбрать лучшую модель, но выбор неочевиден, т. к. качество по\n",
    "            метрики модели не сильно отличаются, а вот по скорости решения задачи лидер ярко выражен. Но есть и\n",
    "            неоднозначные показатели дерево улучшило свои показатели с предыдущего этапа, хотя и не сильно, а вот Lasso\n",
    "            осталось на том же уровне, я предлагаю выбрать две модели на следующий этап там уже финально выбрать модель\n",
    "            на тестовом наборе, где надеюсь будет очевиден лидер и качество моделей будет различаться в большей степени\n",
    "    </ul>\n",
    "    <p>\n",
    "        Итог выбора:\n",
    "    </p>\n",
    "    <li>модель Lasso(max_iter = 1000, selection = 'random')\n",
    "        <br>\n",
    "        <p>\n",
    "            альтернативный вариант для экспресс-оценки:\n",
    "        </p>\n",
    "    <li>модель ExtraTreesRegressor(max_depth = 5, n_estimators = 70)\n",
    "</div>"
   ]
  },
  {
   "cell_type": "markdown",
   "id": "a88d9d33",
   "metadata": {},
   "source": []
  }
 ],
 "metadata": {
  "ExecuteTimeLog": [
   {
    "duration": 1598,
    "start_time": "2022-10-21T04:29:04.093Z"
   },
   {
    "duration": 48,
    "start_time": "2022-10-21T04:29:49.222Z"
   },
   {
    "duration": 7,
    "start_time": "2022-10-21T04:30:10.630Z"
   },
   {
    "duration": 2233,
    "start_time": "2022-10-21T04:32:37.894Z"
   },
   {
    "duration": 7,
    "start_time": "2022-10-21T04:32:46.174Z"
   },
   {
    "duration": 48,
    "start_time": "2022-10-21T04:33:38.574Z"
   },
   {
    "duration": 294,
    "start_time": "2022-10-21T04:33:47.053Z"
   },
   {
    "duration": 251,
    "start_time": "2022-10-21T04:51:28.043Z"
   },
   {
    "duration": 3,
    "start_time": "2022-10-21T04:53:50.459Z"
   },
   {
    "duration": 214,
    "start_time": "2022-10-21T04:53:50.526Z"
   },
   {
    "duration": 5,
    "start_time": "2022-10-21T04:54:23.398Z"
   },
   {
    "duration": 1448,
    "start_time": "2022-10-21T04:54:25.445Z"
   },
   {
    "duration": 2,
    "start_time": "2022-10-21T04:54:26.895Z"
   },
   {
    "duration": 201,
    "start_time": "2022-10-21T04:54:36.734Z"
   },
   {
    "duration": 66,
    "start_time": "2022-10-21T04:59:29.041Z"
   },
   {
    "duration": 115,
    "start_time": "2022-10-21T05:03:22.357Z"
   },
   {
    "duration": 5,
    "start_time": "2022-10-21T05:05:56.541Z"
   },
   {
    "duration": 123,
    "start_time": "2022-10-21T05:05:59.574Z"
   },
   {
    "duration": 5,
    "start_time": "2022-10-21T05:06:10.445Z"
   },
   {
    "duration": 5,
    "start_time": "2022-10-21T05:06:15.958Z"
   },
   {
    "duration": 134,
    "start_time": "2022-10-21T05:06:18.513Z"
   },
   {
    "duration": 5,
    "start_time": "2022-10-21T05:06:42.813Z"
   },
   {
    "duration": 123,
    "start_time": "2022-10-21T05:06:44.576Z"
   },
   {
    "duration": 83,
    "start_time": "2022-10-21T05:11:25.777Z"
   },
   {
    "duration": 5,
    "start_time": "2022-10-21T05:13:21.605Z"
   },
   {
    "duration": 5,
    "start_time": "2022-10-21T05:13:22.740Z"
   },
   {
    "duration": 1308,
    "start_time": "2022-10-21T05:13:24.572Z"
   },
   {
    "duration": 3,
    "start_time": "2022-10-21T05:13:25.882Z"
   },
   {
    "duration": 101,
    "start_time": "2022-10-21T05:13:25.886Z"
   },
   {
    "duration": 4,
    "start_time": "2022-10-21T05:14:30.628Z"
   },
   {
    "duration": 86,
    "start_time": "2022-10-21T05:14:33.869Z"
   },
   {
    "duration": 3,
    "start_time": "2022-10-21T05:21:17.972Z"
   },
   {
    "duration": 23,
    "start_time": "2022-10-21T05:21:30.330Z"
   },
   {
    "duration": 3,
    "start_time": "2022-10-21T05:23:07.028Z"
   },
   {
    "duration": 3,
    "start_time": "2022-10-21T05:23:12.308Z"
   },
   {
    "duration": 8,
    "start_time": "2022-10-21T05:24:47.220Z"
   },
   {
    "duration": 4,
    "start_time": "2022-10-21T05:25:30.212Z"
   },
   {
    "duration": 22,
    "start_time": "2022-10-21T05:26:12.084Z"
   },
   {
    "duration": 17,
    "start_time": "2022-10-21T05:26:30.036Z"
   },
   {
    "duration": 16,
    "start_time": "2022-10-21T05:26:34.540Z"
   },
   {
    "duration": 23,
    "start_time": "2022-10-21T05:26:40.932Z"
   },
   {
    "duration": 1390,
    "start_time": "2022-10-21T05:27:40.605Z"
   },
   {
    "duration": 6,
    "start_time": "2022-10-21T05:27:41.997Z"
   },
   {
    "duration": 1332,
    "start_time": "2022-10-21T05:27:42.004Z"
   },
   {
    "duration": 5,
    "start_time": "2022-10-21T05:27:43.338Z"
   },
   {
    "duration": 132,
    "start_time": "2022-10-21T05:27:43.345Z"
   },
   {
    "duration": 3,
    "start_time": "2022-10-21T05:27:43.478Z"
   },
   {
    "duration": 51,
    "start_time": "2022-10-21T05:27:43.482Z"
   },
   {
    "duration": 3,
    "start_time": "2022-10-21T05:27:43.534Z"
   },
   {
    "duration": 9,
    "start_time": "2022-10-21T05:27:43.539Z"
   },
   {
    "duration": 9,
    "start_time": "2022-10-21T05:27:43.550Z"
   },
   {
    "duration": 25,
    "start_time": "2022-10-21T05:27:43.561Z"
   },
   {
    "duration": 536,
    "start_time": "2022-10-21T06:55:53.458Z"
   },
   {
    "duration": 17,
    "start_time": "2022-10-21T06:58:48.034Z"
   },
   {
    "duration": 7,
    "start_time": "2022-10-21T07:00:02.841Z"
   },
   {
    "duration": 33,
    "start_time": "2022-10-21T07:00:43.202Z"
   },
   {
    "duration": 23,
    "start_time": "2022-10-21T07:01:34.412Z"
   },
   {
    "duration": 33,
    "start_time": "2022-10-21T07:02:21.121Z"
   },
   {
    "duration": 3745,
    "start_time": "2022-10-21T07:04:05.801Z"
   },
   {
    "duration": 26,
    "start_time": "2022-10-21T07:04:22.049Z"
   },
   {
    "duration": 14,
    "start_time": "2022-10-21T07:06:07.410Z"
   },
   {
    "duration": 12,
    "start_time": "2022-10-21T07:06:38.554Z"
   },
   {
    "duration": 5007,
    "start_time": "2022-10-21T07:07:04.899Z"
   },
   {
    "duration": 644,
    "start_time": "2022-10-21T07:08:00.730Z"
   },
   {
    "duration": 15,
    "start_time": "2022-10-21T07:08:42.083Z"
   },
   {
    "duration": 47,
    "start_time": "2022-10-21T07:08:50.881Z"
   },
   {
    "duration": 5,
    "start_time": "2022-10-21T07:08:55.513Z"
   },
   {
    "duration": 590,
    "start_time": "2022-10-21T07:09:02.018Z"
   },
   {
    "duration": 6,
    "start_time": "2022-10-21T07:09:24.218Z"
   },
   {
    "duration": 31,
    "start_time": "2022-10-21T07:10:15.202Z"
   },
   {
    "duration": 717,
    "start_time": "2022-10-21T07:10:31.701Z"
   },
   {
    "duration": 4,
    "start_time": "2022-10-21T07:15:13.418Z"
   },
   {
    "duration": 2,
    "start_time": "2022-10-21T07:15:19.890Z"
   },
   {
    "duration": 6,
    "start_time": "2022-10-21T07:15:52.770Z"
   },
   {
    "duration": 15,
    "start_time": "2022-10-21T07:15:57.233Z"
   },
   {
    "duration": 3,
    "start_time": "2022-10-21T07:17:08.281Z"
   },
   {
    "duration": 3,
    "start_time": "2022-10-21T07:17:17.521Z"
   },
   {
    "duration": 37,
    "start_time": "2022-10-21T07:21:30.120Z"
   },
   {
    "duration": 1380,
    "start_time": "2022-10-21T07:22:02.448Z"
   },
   {
    "duration": 6,
    "start_time": "2022-10-21T07:22:03.830Z"
   },
   {
    "duration": 1579,
    "start_time": "2022-10-21T07:22:03.837Z"
   },
   {
    "duration": 3,
    "start_time": "2022-10-21T07:22:05.418Z"
   },
   {
    "duration": 161,
    "start_time": "2022-10-21T07:22:05.423Z"
   },
   {
    "duration": 4,
    "start_time": "2022-10-21T07:22:05.585Z"
   },
   {
    "duration": 66,
    "start_time": "2022-10-21T07:22:05.590Z"
   },
   {
    "duration": 30,
    "start_time": "2022-10-21T07:22:05.658Z"
   },
   {
    "duration": 32,
    "start_time": "2022-10-21T07:22:05.689Z"
   },
   {
    "duration": 39,
    "start_time": "2022-10-21T07:22:05.724Z"
   },
   {
    "duration": 38,
    "start_time": "2022-10-21T07:22:05.764Z"
   },
   {
    "duration": 50,
    "start_time": "2022-10-21T07:22:05.803Z"
   },
   {
    "duration": 32,
    "start_time": "2022-10-21T07:22:05.854Z"
   },
   {
    "duration": 53,
    "start_time": "2022-10-21T07:22:05.888Z"
   },
   {
    "duration": 44,
    "start_time": "2022-10-21T07:22:05.943Z"
   },
   {
    "duration": 71,
    "start_time": "2022-10-21T07:22:05.989Z"
   },
   {
    "duration": 3709,
    "start_time": "2022-10-21T07:22:06.062Z"
   },
   {
    "duration": 18,
    "start_time": "2022-10-21T07:22:09.773Z"
   },
   {
    "duration": 11,
    "start_time": "2022-10-21T07:22:09.794Z"
   },
   {
    "duration": 4958,
    "start_time": "2022-10-21T07:22:09.822Z"
   },
   {
    "duration": 645,
    "start_time": "2022-10-21T07:22:14.781Z"
   },
   {
    "duration": 14,
    "start_time": "2022-10-21T07:22:15.428Z"
   },
   {
    "duration": 69,
    "start_time": "2022-10-21T07:22:15.443Z"
   },
   {
    "duration": 5,
    "start_time": "2022-10-21T07:22:15.514Z"
   },
   {
    "duration": 576,
    "start_time": "2022-10-21T07:22:15.521Z"
   },
   {
    "duration": 31,
    "start_time": "2022-10-21T07:22:16.098Z"
   },
   {
    "duration": 729,
    "start_time": "2022-10-21T07:22:16.131Z"
   },
   {
    "duration": 4,
    "start_time": "2022-10-21T07:22:16.863Z"
   },
   {
    "duration": 43,
    "start_time": "2022-10-21T07:22:16.868Z"
   },
   {
    "duration": 34,
    "start_time": "2022-10-21T07:22:16.912Z"
   },
   {
    "duration": 41,
    "start_time": "2022-10-21T07:22:16.947Z"
   },
   {
    "duration": 13,
    "start_time": "2022-10-21T07:22:16.990Z"
   },
   {
    "duration": 18,
    "start_time": "2022-10-21T07:22:17.004Z"
   },
   {
    "duration": 174,
    "start_time": "2022-10-21T07:22:29.689Z"
   },
   {
    "duration": 5,
    "start_time": "2022-10-21T07:23:34.474Z"
   },
   {
    "duration": 1392,
    "start_time": "2022-10-21T07:24:10.901Z"
   },
   {
    "duration": 5,
    "start_time": "2022-10-21T07:24:12.294Z"
   },
   {
    "duration": 1394,
    "start_time": "2022-10-21T07:24:12.303Z"
   },
   {
    "duration": 4,
    "start_time": "2022-10-21T07:24:13.698Z"
   },
   {
    "duration": 154,
    "start_time": "2022-10-21T07:24:13.703Z"
   },
   {
    "duration": 3,
    "start_time": "2022-10-21T07:24:13.858Z"
   },
   {
    "duration": 37,
    "start_time": "2022-10-21T07:24:13.863Z"
   },
   {
    "duration": 21,
    "start_time": "2022-10-21T07:24:13.901Z"
   },
   {
    "duration": 30,
    "start_time": "2022-10-21T07:24:13.924Z"
   },
   {
    "duration": 12,
    "start_time": "2022-10-21T07:24:13.956Z"
   },
   {
    "duration": 39,
    "start_time": "2022-10-21T07:24:13.970Z"
   },
   {
    "duration": 32,
    "start_time": "2022-10-21T07:24:14.011Z"
   },
   {
    "duration": 8,
    "start_time": "2022-10-21T07:24:14.045Z"
   },
   {
    "duration": 39,
    "start_time": "2022-10-21T07:24:14.054Z"
   },
   {
    "duration": 15,
    "start_time": "2022-10-21T07:24:14.094Z"
   },
   {
    "duration": 35,
    "start_time": "2022-10-21T07:24:14.110Z"
   },
   {
    "duration": 3760,
    "start_time": "2022-10-21T07:24:14.147Z"
   },
   {
    "duration": 24,
    "start_time": "2022-10-21T07:24:17.908Z"
   },
   {
    "duration": 10,
    "start_time": "2022-10-21T07:24:17.934Z"
   },
   {
    "duration": 5870,
    "start_time": "2022-10-21T07:24:17.945Z"
   },
   {
    "duration": 621,
    "start_time": "2022-10-21T07:24:23.817Z"
   },
   {
    "duration": 15,
    "start_time": "2022-10-21T07:24:24.439Z"
   },
   {
    "duration": 48,
    "start_time": "2022-10-21T07:24:24.455Z"
   },
   {
    "duration": 20,
    "start_time": "2022-10-21T07:24:24.505Z"
   },
   {
    "duration": 564,
    "start_time": "2022-10-21T07:24:24.527Z"
   },
   {
    "duration": 34,
    "start_time": "2022-10-21T07:24:25.093Z"
   },
   {
    "duration": 647,
    "start_time": "2022-10-21T07:24:25.130Z"
   },
   {
    "duration": 5,
    "start_time": "2022-10-21T07:24:25.779Z"
   },
   {
    "duration": 13,
    "start_time": "2022-10-21T07:24:25.786Z"
   },
   {
    "duration": 11,
    "start_time": "2022-10-21T07:24:25.800Z"
   },
   {
    "duration": 21,
    "start_time": "2022-10-21T07:24:25.812Z"
   },
   {
    "duration": 3,
    "start_time": "2022-10-21T07:24:25.835Z"
   },
   {
    "duration": 29,
    "start_time": "2022-10-21T07:24:25.839Z"
   },
   {
    "duration": 1694,
    "start_time": "2022-10-21T07:24:25.869Z"
   },
   {
    "duration": 1375,
    "start_time": "2022-10-21T07:25:59.728Z"
   },
   {
    "duration": 7,
    "start_time": "2022-10-21T07:26:01.105Z"
   },
   {
    "duration": 1404,
    "start_time": "2022-10-21T07:26:01.115Z"
   },
   {
    "duration": 4,
    "start_time": "2022-10-21T07:26:02.524Z"
   },
   {
    "duration": 152,
    "start_time": "2022-10-21T07:26:02.529Z"
   },
   {
    "duration": 3,
    "start_time": "2022-10-21T07:26:02.683Z"
   },
   {
    "duration": 56,
    "start_time": "2022-10-21T07:26:02.687Z"
   },
   {
    "duration": 3,
    "start_time": "2022-10-21T07:26:02.744Z"
   },
   {
    "duration": 13,
    "start_time": "2022-10-21T07:26:02.749Z"
   },
   {
    "duration": 11,
    "start_time": "2022-10-21T07:26:02.764Z"
   },
   {
    "duration": 37,
    "start_time": "2022-10-21T07:26:02.776Z"
   },
   {
    "duration": 16,
    "start_time": "2022-10-21T07:26:02.814Z"
   },
   {
    "duration": 9,
    "start_time": "2022-10-21T07:26:02.831Z"
   },
   {
    "duration": 22,
    "start_time": "2022-10-21T07:26:02.842Z"
   },
   {
    "duration": 16,
    "start_time": "2022-10-21T07:26:02.866Z"
   },
   {
    "duration": 52,
    "start_time": "2022-10-21T07:26:02.884Z"
   },
   {
    "duration": 3638,
    "start_time": "2022-10-21T07:26:02.937Z"
   },
   {
    "duration": 19,
    "start_time": "2022-10-21T07:26:06.576Z"
   },
   {
    "duration": 10,
    "start_time": "2022-10-21T07:26:06.597Z"
   },
   {
    "duration": 5104,
    "start_time": "2022-10-21T07:26:06.622Z"
   },
   {
    "duration": 660,
    "start_time": "2022-10-21T07:26:11.727Z"
   },
   {
    "duration": 15,
    "start_time": "2022-10-21T07:26:12.389Z"
   },
   {
    "duration": 67,
    "start_time": "2022-10-21T07:26:12.406Z"
   },
   {
    "duration": 7,
    "start_time": "2022-10-21T07:26:12.474Z"
   },
   {
    "duration": 599,
    "start_time": "2022-10-21T07:26:12.482Z"
   },
   {
    "duration": 28,
    "start_time": "2022-10-21T07:26:13.083Z"
   },
   {
    "duration": 848,
    "start_time": "2022-10-21T07:26:13.123Z"
   },
   {
    "duration": 5,
    "start_time": "2022-10-21T07:26:13.973Z"
   },
   {
    "duration": 7,
    "start_time": "2022-10-21T07:26:13.980Z"
   },
   {
    "duration": 9,
    "start_time": "2022-10-21T07:26:13.988Z"
   },
   {
    "duration": 29,
    "start_time": "2022-10-21T07:26:13.998Z"
   },
   {
    "duration": 4,
    "start_time": "2022-10-21T07:26:14.029Z"
   },
   {
    "duration": 9,
    "start_time": "2022-10-21T07:26:14.034Z"
   },
   {
    "duration": 378250,
    "start_time": "2022-10-21T07:26:14.045Z"
   },
   {
    "duration": 2,
    "start_time": "2022-10-21T07:32:32.297Z"
   },
   {
    "duration": 36,
    "start_time": "2022-10-21T07:32:32.347Z"
   },
   {
    "duration": 5,
    "start_time": "2022-10-21T07:33:01.111Z"
   },
   {
    "duration": 4,
    "start_time": "2022-10-21T07:33:15.742Z"
   },
   {
    "duration": 4,
    "start_time": "2022-10-21T07:33:42.471Z"
   },
   {
    "duration": 9,
    "start_time": "2022-10-21T07:33:46.999Z"
   },
   {
    "duration": 8,
    "start_time": "2022-10-21T07:34:00.334Z"
   },
   {
    "duration": 4,
    "start_time": "2022-10-21T12:32:38.757Z"
   },
   {
    "duration": 3,
    "start_time": "2022-10-21T12:33:18.246Z"
   },
   {
    "duration": 8,
    "start_time": "2022-10-21T12:34:06.565Z"
   },
   {
    "duration": 111,
    "start_time": "2022-10-21T12:40:32.933Z"
   },
   {
    "duration": 3,
    "start_time": "2022-10-21T12:40:37.229Z"
   },
   {
    "duration": 8,
    "start_time": "2022-10-21T12:40:38.044Z"
   },
   {
    "duration": 17,
    "start_time": "2022-10-21T12:40:55.670Z"
   },
   {
    "duration": 2,
    "start_time": "2022-10-21T12:41:09.460Z"
   },
   {
    "duration": 3,
    "start_time": "2022-10-21T12:41:09.821Z"
   },
   {
    "duration": 3,
    "start_time": "2022-10-21T12:41:12.973Z"
   },
   {
    "duration": 13,
    "start_time": "2022-10-21T12:41:14.124Z"
   },
   {
    "duration": 8,
    "start_time": "2022-10-21T12:41:19.380Z"
   },
   {
    "duration": 16,
    "start_time": "2022-10-21T12:42:36.621Z"
   },
   {
    "duration": 9,
    "start_time": "2022-10-21T12:43:05.029Z"
   },
   {
    "duration": 5,
    "start_time": "2022-10-21T13:18:08.604Z"
   },
   {
    "duration": 2,
    "start_time": "2022-10-21T13:19:12.485Z"
   },
   {
    "duration": 13660,
    "start_time": "2022-10-21T13:19:12.900Z"
   },
   {
    "duration": 22,
    "start_time": "2022-10-21T13:19:26.562Z"
   },
   {
    "duration": 0,
    "start_time": "2022-10-21T13:19:26.585Z"
   },
   {
    "duration": 1326,
    "start_time": "2022-10-21T13:20:26.173Z"
   },
   {
    "duration": 6,
    "start_time": "2022-10-21T13:20:27.501Z"
   },
   {
    "duration": 1575,
    "start_time": "2022-10-21T13:20:27.509Z"
   },
   {
    "duration": 3,
    "start_time": "2022-10-21T13:20:29.087Z"
   },
   {
    "duration": 152,
    "start_time": "2022-10-21T13:20:29.092Z"
   },
   {
    "duration": 3,
    "start_time": "2022-10-21T13:20:29.246Z"
   },
   {
    "duration": 28,
    "start_time": "2022-10-21T13:20:29.251Z"
   },
   {
    "duration": 4,
    "start_time": "2022-10-21T13:20:29.280Z"
   },
   {
    "duration": 6,
    "start_time": "2022-10-21T13:20:29.285Z"
   },
   {
    "duration": 34,
    "start_time": "2022-10-21T13:20:29.294Z"
   },
   {
    "duration": 26,
    "start_time": "2022-10-21T13:20:29.329Z"
   },
   {
    "duration": 13,
    "start_time": "2022-10-21T13:20:29.357Z"
   },
   {
    "duration": 6,
    "start_time": "2022-10-21T13:20:29.371Z"
   },
   {
    "duration": 44,
    "start_time": "2022-10-21T13:20:29.378Z"
   },
   {
    "duration": 14,
    "start_time": "2022-10-21T13:20:29.423Z"
   },
   {
    "duration": 30,
    "start_time": "2022-10-21T13:20:29.438Z"
   },
   {
    "duration": 3772,
    "start_time": "2022-10-21T13:20:29.469Z"
   },
   {
    "duration": 20,
    "start_time": "2022-10-21T13:20:33.242Z"
   },
   {
    "duration": 10,
    "start_time": "2022-10-21T13:20:33.263Z"
   },
   {
    "duration": 5033,
    "start_time": "2022-10-21T13:20:33.274Z"
   },
   {
    "duration": 675,
    "start_time": "2022-10-21T13:20:38.309Z"
   },
   {
    "duration": 23,
    "start_time": "2022-10-21T13:20:38.986Z"
   },
   {
    "duration": 85,
    "start_time": "2022-10-21T13:20:39.011Z"
   },
   {
    "duration": 7,
    "start_time": "2022-10-21T13:20:39.098Z"
   },
   {
    "duration": 621,
    "start_time": "2022-10-21T13:20:39.107Z"
   },
   {
    "duration": 28,
    "start_time": "2022-10-21T13:20:39.729Z"
   },
   {
    "duration": 808,
    "start_time": "2022-10-21T13:20:39.759Z"
   },
   {
    "duration": 5,
    "start_time": "2022-10-21T13:20:40.570Z"
   },
   {
    "duration": 30,
    "start_time": "2022-10-21T13:20:40.577Z"
   },
   {
    "duration": 21,
    "start_time": "2022-10-21T13:20:40.609Z"
   },
   {
    "duration": 53,
    "start_time": "2022-10-21T13:20:40.632Z"
   },
   {
    "duration": 10,
    "start_time": "2022-10-21T13:20:40.687Z"
   },
   {
    "duration": 23,
    "start_time": "2022-10-21T13:20:40.699Z"
   },
   {
    "duration": 69825,
    "start_time": "2022-10-21T13:20:40.724Z"
   },
   {
    "duration": 3,
    "start_time": "2022-10-21T13:21:50.551Z"
   },
   {
    "duration": 39,
    "start_time": "2022-10-21T13:21:50.555Z"
   },
   {
    "duration": 37,
    "start_time": "2022-10-21T13:21:50.595Z"
   },
   {
    "duration": 45,
    "start_time": "2022-10-21T13:21:50.634Z"
   },
   {
    "duration": 0,
    "start_time": "2022-10-21T13:21:50.681Z"
   },
   {
    "duration": 0,
    "start_time": "2022-10-21T13:21:50.682Z"
   },
   {
    "duration": 0,
    "start_time": "2022-10-21T13:21:50.683Z"
   },
   {
    "duration": 0,
    "start_time": "2022-10-21T13:21:50.684Z"
   },
   {
    "duration": 0,
    "start_time": "2022-10-21T13:21:50.684Z"
   },
   {
    "duration": 0,
    "start_time": "2022-10-21T13:21:50.685Z"
   },
   {
    "duration": 0,
    "start_time": "2022-10-21T13:21:50.686Z"
   },
   {
    "duration": 0,
    "start_time": "2022-10-21T13:21:50.687Z"
   },
   {
    "duration": 1319,
    "start_time": "2022-10-21T13:22:13.069Z"
   },
   {
    "duration": 5,
    "start_time": "2022-10-21T13:22:14.390Z"
   },
   {
    "duration": 1364,
    "start_time": "2022-10-21T13:22:14.397Z"
   },
   {
    "duration": 4,
    "start_time": "2022-10-21T13:22:15.763Z"
   },
   {
    "duration": 127,
    "start_time": "2022-10-21T13:22:15.769Z"
   },
   {
    "duration": 3,
    "start_time": "2022-10-21T13:22:15.921Z"
   },
   {
    "duration": 28,
    "start_time": "2022-10-21T13:22:15.925Z"
   },
   {
    "duration": 3,
    "start_time": "2022-10-21T13:22:15.955Z"
   },
   {
    "duration": 7,
    "start_time": "2022-10-21T13:22:15.959Z"
   },
   {
    "duration": 10,
    "start_time": "2022-10-21T13:22:15.967Z"
   },
   {
    "duration": 46,
    "start_time": "2022-10-21T13:22:15.978Z"
   },
   {
    "duration": 13,
    "start_time": "2022-10-21T13:22:16.025Z"
   },
   {
    "duration": 14,
    "start_time": "2022-10-21T13:22:16.040Z"
   },
   {
    "duration": 31,
    "start_time": "2022-10-21T13:22:16.058Z"
   },
   {
    "duration": 19,
    "start_time": "2022-10-21T13:22:16.091Z"
   },
   {
    "duration": 29,
    "start_time": "2022-10-21T13:22:16.122Z"
   },
   {
    "duration": 3748,
    "start_time": "2022-10-21T13:22:16.153Z"
   },
   {
    "duration": 22,
    "start_time": "2022-10-21T13:22:19.902Z"
   },
   {
    "duration": 18,
    "start_time": "2022-10-21T13:22:19.926Z"
   },
   {
    "duration": 4984,
    "start_time": "2022-10-21T13:22:19.946Z"
   },
   {
    "duration": 636,
    "start_time": "2022-10-21T13:22:24.932Z"
   },
   {
    "duration": 14,
    "start_time": "2022-10-21T13:22:25.569Z"
   },
   {
    "duration": 63,
    "start_time": "2022-10-21T13:22:25.585Z"
   },
   {
    "duration": 8,
    "start_time": "2022-10-21T13:22:25.650Z"
   },
   {
    "duration": 584,
    "start_time": "2022-10-21T13:22:25.660Z"
   },
   {
    "duration": 24,
    "start_time": "2022-10-21T13:22:26.246Z"
   },
   {
    "duration": 703,
    "start_time": "2022-10-21T13:22:26.271Z"
   },
   {
    "duration": 4,
    "start_time": "2022-10-21T13:22:26.976Z"
   },
   {
    "duration": 14,
    "start_time": "2022-10-21T13:22:26.981Z"
   },
   {
    "duration": 9,
    "start_time": "2022-10-21T13:22:26.996Z"
   },
   {
    "duration": 21,
    "start_time": "2022-10-21T13:22:27.006Z"
   },
   {
    "duration": 3,
    "start_time": "2022-10-21T13:22:27.028Z"
   },
   {
    "duration": 7,
    "start_time": "2022-10-21T13:22:27.033Z"
   },
   {
    "duration": 6,
    "start_time": "2022-10-21T13:22:27.042Z"
   },
   {
    "duration": 11,
    "start_time": "2022-10-21T13:22:27.050Z"
   },
   {
    "duration": 10,
    "start_time": "2022-10-21T13:22:27.063Z"
   },
   {
    "duration": 121,
    "start_time": "2022-10-21T13:22:27.075Z"
   },
   {
    "duration": 0,
    "start_time": "2022-10-21T13:22:27.199Z"
   },
   {
    "duration": 1,
    "start_time": "2022-10-21T13:22:27.200Z"
   },
   {
    "duration": 0,
    "start_time": "2022-10-21T13:22:27.202Z"
   },
   {
    "duration": 0,
    "start_time": "2022-10-21T13:22:27.203Z"
   },
   {
    "duration": 0,
    "start_time": "2022-10-21T13:22:27.205Z"
   },
   {
    "duration": 0,
    "start_time": "2022-10-21T13:22:27.206Z"
   },
   {
    "duration": 0,
    "start_time": "2022-10-21T13:22:27.208Z"
   },
   {
    "duration": 0,
    "start_time": "2022-10-21T13:22:27.209Z"
   },
   {
    "duration": 0,
    "start_time": "2022-10-21T13:22:27.210Z"
   },
   {
    "duration": 0,
    "start_time": "2022-10-21T13:22:27.211Z"
   },
   {
    "duration": 0,
    "start_time": "2022-10-21T13:22:27.212Z"
   },
   {
    "duration": 4,
    "start_time": "2022-10-21T13:22:51.805Z"
   },
   {
    "duration": 1456,
    "start_time": "2022-10-21T13:22:57.300Z"
   },
   {
    "duration": 6,
    "start_time": "2022-10-21T13:22:58.757Z"
   },
   {
    "duration": 1325,
    "start_time": "2022-10-21T13:22:58.764Z"
   },
   {
    "duration": 4,
    "start_time": "2022-10-21T13:23:00.091Z"
   },
   {
    "duration": 200,
    "start_time": "2022-10-21T13:23:00.096Z"
   },
   {
    "duration": 3,
    "start_time": "2022-10-21T13:23:00.323Z"
   },
   {
    "duration": 112,
    "start_time": "2022-10-21T13:23:00.327Z"
   },
   {
    "duration": 162,
    "start_time": "2022-10-21T13:23:00.440Z"
   },
   {
    "duration": 67,
    "start_time": "2022-10-21T13:23:00.603Z"
   },
   {
    "duration": 26,
    "start_time": "2022-10-21T13:23:00.672Z"
   },
   {
    "duration": 73,
    "start_time": "2022-10-21T13:23:00.699Z"
   },
   {
    "duration": 26,
    "start_time": "2022-10-21T13:23:00.774Z"
   },
   {
    "duration": 7,
    "start_time": "2022-10-21T13:23:00.801Z"
   },
   {
    "duration": 75,
    "start_time": "2022-10-21T13:23:00.810Z"
   },
   {
    "duration": 15,
    "start_time": "2022-10-21T13:23:00.887Z"
   },
   {
    "duration": 29,
    "start_time": "2022-10-21T13:23:00.904Z"
   },
   {
    "duration": 3708,
    "start_time": "2022-10-21T13:23:00.935Z"
   },
   {
    "duration": 20,
    "start_time": "2022-10-21T13:23:04.645Z"
   },
   {
    "duration": 11,
    "start_time": "2022-10-21T13:23:04.667Z"
   },
   {
    "duration": 5099,
    "start_time": "2022-10-21T13:23:04.679Z"
   },
   {
    "duration": 653,
    "start_time": "2022-10-21T13:23:09.780Z"
   },
   {
    "duration": 15,
    "start_time": "2022-10-21T13:23:10.434Z"
   },
   {
    "duration": 47,
    "start_time": "2022-10-21T13:23:10.450Z"
   },
   {
    "duration": 24,
    "start_time": "2022-10-21T13:23:10.498Z"
   },
   {
    "duration": 560,
    "start_time": "2022-10-21T13:23:10.524Z"
   },
   {
    "duration": 26,
    "start_time": "2022-10-21T13:23:11.086Z"
   },
   {
    "duration": 653,
    "start_time": "2022-10-21T13:23:11.122Z"
   },
   {
    "duration": 3,
    "start_time": "2022-10-21T13:23:11.779Z"
   },
   {
    "duration": 9,
    "start_time": "2022-10-21T13:23:11.784Z"
   },
   {
    "duration": 9,
    "start_time": "2022-10-21T13:23:11.794Z"
   },
   {
    "duration": 20,
    "start_time": "2022-10-21T13:23:11.804Z"
   },
   {
    "duration": 3,
    "start_time": "2022-10-21T13:23:11.825Z"
   },
   {
    "duration": 4,
    "start_time": "2022-10-21T13:23:11.830Z"
   },
   {
    "duration": 6,
    "start_time": "2022-10-21T13:23:11.835Z"
   },
   {
    "duration": 10,
    "start_time": "2022-10-21T13:23:11.842Z"
   },
   {
    "duration": 5,
    "start_time": "2022-10-21T13:23:11.853Z"
   },
   {
    "duration": 7,
    "start_time": "2022-10-21T13:23:11.859Z"
   },
   {
    "duration": 11,
    "start_time": "2022-10-21T13:23:11.867Z"
   },
   {
    "duration": 5,
    "start_time": "2022-10-21T13:23:11.879Z"
   },
   {
    "duration": 5,
    "start_time": "2022-10-21T13:23:11.885Z"
   },
   {
    "duration": 5,
    "start_time": "2022-10-21T13:23:11.891Z"
   },
   {
    "duration": 28,
    "start_time": "2022-10-21T13:23:11.898Z"
   },
   {
    "duration": 20,
    "start_time": "2022-10-21T13:23:11.928Z"
   },
   {
    "duration": 14,
    "start_time": "2022-10-21T13:23:11.949Z"
   },
   {
    "duration": 7,
    "start_time": "2022-10-21T13:23:11.964Z"
   },
   {
    "duration": 3,
    "start_time": "2022-10-21T13:23:11.972Z"
   },
   {
    "duration": 1739,
    "start_time": "2022-10-21T13:23:11.976Z"
   },
   {
    "duration": 15,
    "start_time": "2022-10-21T13:23:13.716Z"
   },
   {
    "duration": 14,
    "start_time": "2022-10-21T13:23:41.319Z"
   },
   {
    "duration": 3,
    "start_time": "2022-10-21T13:25:49.510Z"
   },
   {
    "duration": 5,
    "start_time": "2022-10-21T13:28:25.167Z"
   },
   {
    "duration": 3,
    "start_time": "2022-10-21T13:28:25.846Z"
   },
   {
    "duration": 13990,
    "start_time": "2022-10-21T13:28:26.221Z"
   },
   {
    "duration": 22,
    "start_time": "2022-10-21T13:29:00.814Z"
   },
   {
    "duration": 4,
    "start_time": "2022-10-21T13:29:08.086Z"
   },
   {
    "duration": 3,
    "start_time": "2022-10-21T13:29:51.670Z"
   },
   {
    "duration": 160,
    "start_time": "2022-10-21T13:29:52.278Z"
   },
   {
    "duration": 5,
    "start_time": "2022-10-21T13:30:32.046Z"
   },
   {
    "duration": 1483,
    "start_time": "2022-10-21T13:32:25.987Z"
   },
   {
    "duration": 5,
    "start_time": "2022-10-21T13:32:27.472Z"
   },
   {
    "duration": 1345,
    "start_time": "2022-10-21T13:32:27.479Z"
   },
   {
    "duration": 3,
    "start_time": "2022-10-21T13:32:28.826Z"
   },
   {
    "duration": 225,
    "start_time": "2022-10-21T13:32:28.831Z"
   },
   {
    "duration": 3,
    "start_time": "2022-10-21T13:32:29.058Z"
   },
   {
    "duration": 46,
    "start_time": "2022-10-21T13:32:29.063Z"
   },
   {
    "duration": 12,
    "start_time": "2022-10-21T13:32:29.110Z"
   },
   {
    "duration": 8,
    "start_time": "2022-10-21T13:32:29.124Z"
   },
   {
    "duration": 29,
    "start_time": "2022-10-21T13:32:29.134Z"
   },
   {
    "duration": 28,
    "start_time": "2022-10-21T13:32:29.164Z"
   },
   {
    "duration": 21,
    "start_time": "2022-10-21T13:32:29.193Z"
   },
   {
    "duration": 9,
    "start_time": "2022-10-21T13:32:29.216Z"
   },
   {
    "duration": 21,
    "start_time": "2022-10-21T13:32:29.227Z"
   },
   {
    "duration": 14,
    "start_time": "2022-10-21T13:32:29.250Z"
   },
   {
    "duration": 32,
    "start_time": "2022-10-21T13:32:29.265Z"
   },
   {
    "duration": 3755,
    "start_time": "2022-10-21T13:32:29.299Z"
   },
   {
    "duration": 22,
    "start_time": "2022-10-21T13:32:33.055Z"
   },
   {
    "duration": 15,
    "start_time": "2022-10-21T13:32:33.078Z"
   },
   {
    "duration": 5054,
    "start_time": "2022-10-21T13:32:33.094Z"
   },
   {
    "duration": 670,
    "start_time": "2022-10-21T13:32:38.149Z"
   },
   {
    "duration": 16,
    "start_time": "2022-10-21T13:32:38.822Z"
   },
   {
    "duration": 66,
    "start_time": "2022-10-21T13:32:38.840Z"
   },
   {
    "duration": 11,
    "start_time": "2022-10-21T13:32:38.923Z"
   },
   {
    "duration": 653,
    "start_time": "2022-10-21T13:32:38.937Z"
   },
   {
    "duration": 35,
    "start_time": "2022-10-21T13:32:39.591Z"
   },
   {
    "duration": 694,
    "start_time": "2022-10-21T13:32:39.628Z"
   },
   {
    "duration": 4,
    "start_time": "2022-10-21T13:32:40.323Z"
   },
   {
    "duration": 13,
    "start_time": "2022-10-21T13:32:40.328Z"
   },
   {
    "duration": 10,
    "start_time": "2022-10-21T13:32:40.342Z"
   },
   {
    "duration": 20,
    "start_time": "2022-10-21T13:32:40.354Z"
   },
   {
    "duration": 3,
    "start_time": "2022-10-21T13:32:40.376Z"
   },
   {
    "duration": 7,
    "start_time": "2022-10-21T13:32:40.380Z"
   },
   {
    "duration": 9,
    "start_time": "2022-10-21T13:32:40.388Z"
   },
   {
    "duration": 28,
    "start_time": "2022-10-21T13:32:40.399Z"
   },
   {
    "duration": 5,
    "start_time": "2022-10-21T13:32:40.428Z"
   },
   {
    "duration": 15,
    "start_time": "2022-10-21T13:32:40.434Z"
   },
   {
    "duration": 11,
    "start_time": "2022-10-21T13:32:43.310Z"
   },
   {
    "duration": 3,
    "start_time": "2022-10-21T13:33:46.854Z"
   },
   {
    "duration": 968,
    "start_time": "2022-10-21T13:34:00.958Z"
   },
   {
    "duration": 7,
    "start_time": "2022-10-21T13:34:11.966Z"
   },
   {
    "duration": 4,
    "start_time": "2022-10-21T13:34:12.462Z"
   },
   {
    "duration": 7444,
    "start_time": "2022-10-21T13:34:12.783Z"
   },
   {
    "duration": 13,
    "start_time": "2022-10-21T13:35:02.014Z"
   },
   {
    "duration": 13,
    "start_time": "2022-10-21T13:36:01.950Z"
   },
   {
    "duration": 106,
    "start_time": "2022-10-21T13:37:05.119Z"
   },
   {
    "duration": 54,
    "start_time": "2022-10-21T13:37:23.709Z"
   },
   {
    "duration": 128,
    "start_time": "2022-10-21T13:37:43.581Z"
   },
   {
    "duration": 100,
    "start_time": "2022-10-21T13:38:01.854Z"
   },
   {
    "duration": 3599,
    "start_time": "2022-10-21T13:38:05.926Z"
   },
   {
    "duration": 7,
    "start_time": "2022-10-21T13:38:42.108Z"
   },
   {
    "duration": 7,
    "start_time": "2022-10-21T13:39:12.063Z"
   },
   {
    "duration": 7,
    "start_time": "2022-10-21T13:40:03.919Z"
   },
   {
    "duration": 334,
    "start_time": "2022-10-21T13:40:14.134Z"
   },
   {
    "duration": 598,
    "start_time": "2022-10-21T13:40:43.239Z"
   },
   {
    "duration": 7,
    "start_time": "2022-10-21T13:41:12.510Z"
   },
   {
    "duration": 47,
    "start_time": "2022-10-21T13:42:04.626Z"
   },
   {
    "duration": 53,
    "start_time": "2022-10-21T13:42:22.887Z"
   }
  ],
  "kernelspec": {
   "display_name": "Python 3 (ipykernel)",
   "language": "python",
   "name": "python3"
  },
  "language_info": {
   "codemirror_mode": {
    "name": "ipython",
    "version": 3
   },
   "file_extension": ".py",
   "mimetype": "text/x-python",
   "name": "python",
   "nbconvert_exporter": "python",
   "pygments_lexer": "ipython3",
   "version": "3.9.13"
  },
  "toc": {
   "base_numbering": 1,
   "nav_menu": {},
   "number_sections": true,
   "sideBar": true,
   "skip_h1_title": true,
   "title_cell": "Table of Contents",
   "title_sidebar": "Contents",
   "toc_cell": false,
   "toc_position": {},
   "toc_section_display": true,
   "toc_window_display": true
  }
 },
 "nbformat": 4,
 "nbformat_minor": 5
}
