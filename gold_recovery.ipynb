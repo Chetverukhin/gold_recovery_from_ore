{
 "cells": [
  {
   "cell_type": "markdown",
   "id": "94d8fd5e",
   "metadata": {},
   "source": [
    "# <span style=\"color:Maroon\">ПРОЕКТ: Восстановление золота из руды</span>"
   ]
  },
  {
   "cell_type": "markdown",
   "id": "df661f02",
   "metadata": {},
   "source": [
    "<div style=\"background-color:whitesmoke; border:solid #363636 1.5px; padding: 15px\">\n",
    "В распоряжении данные с параметрами добычи и очистки, компания разрабатывает решения для эффективной работы промышленных предприятий.<br><br>    \n",
    "<b>Цель данного проекта</b> - Необходимо построить модель машинного обучения, которая поможет предсказать коэффициент восстановления золота из золотосодержащей руды.<br><br>\n",
    "<span style=\"color:Maroon\"><b>1 Загрузить и подготовить данные:</b></span><br><br>\n",
    "    <li>Проверить, что эффективность обогащения рассчитана правильно;\n",
    "    <li>Проверить состав предоставленных выборок;\n",
    "    <li>Проверить данные на наличие пропусков;\n",
    "    <li>Провести восстановление пропусков;\n",
    "    <li>Проанализировать результаты.<br><br>\n",
    "<span style=\"color:Maroon\"><b>2 Проанализировать данные:</b></span><br><br>\n",
    "    <li>Посмотреть, как меняется концентрация металлов (Au, Ag, Pb) на различных этапах очистки;\n",
    "    <li>Сравнить распределения размеров гранул сырья на обучающей и тестовой выборках;\n",
    "    <li>Исследовать суммарную концентрацию всех веществ на разных стадиях: в сырье, в черновом и финальном концентратах;\n",
    "    <li>Сделать выводы.<br><br>\n",
    "<span style=\"color:Maroon\"><b>3 Обучить модель и выбрать лучшую:</b></span><br><br>\n",
    "    <li>Напишите функцию для вычисления итоговой sMAPE;\n",
    "    <li>Обучите разные модели;\n",
    "    <li>Подобрать для моделей оптимальные гиперпараметры;\n",
    "    <li>Оценить качество моделей кросс-валидацией;\n",
    "    <li>Выбрать лучшую модель\n",
    "    <li>Сделать выводы.<br><br>\n",
    "<span style=\"color:Maroon\"><b>4 Тестирование лучшей модели:</b></span><br><br>\n",
    "    <li>Проверить модель на тестовой выборке;\n",
    "    <li>Проанализировать предсказания выбранной модели;\n",
    "    <li>Написать выводы и обосновать выбор.\n",
    "</div>"
   ]
  },
  {
   "cell_type": "code",
   "execution_count": 1,
   "id": "f4079068",
   "metadata": {},
   "outputs": [],
   "source": [
    "# библиотеки\n",
    "import re\n",
    "import pandas as pd \n",
    "import numpy as np\n",
    "import seaborn as sns\n",
    "import warnings \n",
    "from matplotlib import pyplot as plt\n",
    "from time import time\n",
    "\n",
    "# обработка\n",
    "from sklearn.model_selection import train_test_split\n",
    "from sklearn.model_selection import GridSearchCV\n",
    "from sklearn.model_selection import cross_val_score\n",
    "from sklearn.preprocessing import StandardScaler\n",
    "\n",
    "# модели\n",
    "from sklearn.linear_model import Lasso\n",
    "from sklearn.linear_model import LinearRegression\n",
    "from sklearn.ensemble import RandomForestRegressor\n",
    "from sklearn.ensemble import ExtraTreesRegressor\n",
    "from sklearn.dummy import DummyRegressor\n",
    "from sklearn.tree import DecisionTreeRegressor\n",
    "from lightgbm import LGBMRegressor\n",
    "\n",
    "# метрики\n",
    "from sklearn.preprocessing import StandardScaler\n",
    "from sklearn.metrics import mean_absolute_error\n",
    "from sklearn.metrics import make_scorer\n",
    "from sklearn.impute import KNNImputer\n",
    "\n",
    "# настройки и параметры\n",
    "from tqdm import notebook\n",
    "pd.set_option('display.max_columns', None)\n",
    "warnings.filterwarnings('ignore')\n"
   ]
  },
  {
   "cell_type": "markdown",
   "id": "daa4f8da",
   "metadata": {},
   "source": [
    "<div style=\"background-color:whitesmoke; border:solid #363636 1.5px; padding: 15px\">\n",
    "создам стиль для отображения табличных данных\n",
    "</div>"
   ]
  },
  {
   "cell_type": "code",
   "execution_count": null,
   "id": "37a5033d",
   "metadata": {},
   "outputs": [],
   "source": [
    "cell_hover     = {'selector': 'td:hover',\n",
    "                  'props'   : [('background', '#9E4447'), \n",
    "                               ('color', '#ffffff')]}           # формат выделенной ячейки\n",
    "\n",
    "row_hover      = {'selector': 'tr:hover',\n",
    "                  'props'   : [('background', '#808080'), \n",
    "                               ('color', '#ffffff')]}           # формат выделенной строки\n",
    "\n",
    "color_row_even = {'selector': 'tr:nth-of-type(even)',\n",
    "                  'props'   : [('background', '#D9D9D9'),\n",
    "                               ('color', 'black')]}             # формат нечетных строк\n",
    "\n",
    "color_row_odd  = {'selector': 'tr:nth-of-type(odd)',\n",
    "                  'props'   : [('background', '#ffffff'),\n",
    "                               ('color', '#363636')]}           # формат четных строк\n",
    "\n",
    "index_names    = {'selector': 'th',\n",
    "                  'props'   : [('background', '#363636'), \n",
    "                               ('color', '#ffffff'),  \n",
    "                               ('text-align','center')]}        # формат заголовка и индекса\n",
    "\n",
    "border_inner   = {'selector': 'td',\n",
    "                  'props'   : [('border','1px dashed #363636')]}# формат границы таблицы\n",
    "\n",
    "border_outer   = {'selector': '',\n",
    "                  'props'   : [('border','2px solid #363636')]} # формат границы таблицы\n",
    "\n",
    "caption        = {'selector': 'caption',\n",
    "                  'props'   : [('color', '#363636'), \n",
    "                               ('font-size', '15px')]}\n",
    "\n",
    "# передаю в переменную для дальнейшего использования\n",
    "styler = [cell_hover, color_row_even, color_row_odd, index_names, row_hover, border_inner, border_outer, caption]"
   ]
  },
  {
   "cell_type": "markdown",
   "id": "e6b00722",
   "metadata": {},
   "source": [
    "## <span style=\"color:Maroon\">Загрузка и подготовка данных</span>"
   ]
  },
  {
   "cell_type": "markdown",
   "id": "9e98e885",
   "metadata": {},
   "source": [
    "### <span style=\"color:Maroon\">Загрузка данных</span>"
   ]
  },
  {
   "cell_type": "markdown",
   "id": "7bfb9d31",
   "metadata": {},
   "source": [
    "<div style=\"background-color:whitesmoke; border:solid #363636 1.5px; padding: 15px\">\n",
    "Загрузим данные и познакомимься с их содержимым\n",
    "</div>"
   ]
  },
  {
   "cell_type": "code",
   "execution_count": null,
   "id": "4032628a",
   "metadata": {},
   "outputs": [],
   "source": [
    "try:\n",
    "    data_train = pd.read_csv('/datasets/gold_recovery_train_new.csv')\n",
    "    data_test  = pd.read_csv('/datasets/gold_recovery_test_new.csv ')\n",
    "    data_full  = pd.read_csv('/datasets/gold_recovery_full_new.csv .csv')\n",
    "except:\n",
    "    data_train = pd.read_csv('gold_recovery_train_new.csv')\n",
    "    data_test  = pd.read_csv('gold_recovery_test_new.csv')\n",
    "    data_full  = pd.read_csv('gold_recovery_full_new.csv')"
   ]
  },
  {
   "cell_type": "code",
   "execution_count": null,
   "id": "076b78a1",
   "metadata": {},
   "outputs": [],
   "source": [
    "data_flow      = [data_train, data_test, data_full]\n",
    "data_flow_name = ['data_train', 'data_test', 'data_full']\n",
    "\n",
    "STAGE  = ['rougher', 'primary_cleaner', 'final', 'secondary_cleaner']\n",
    "METAL  = ['ag', 'au', 'pb', 'sol']\n",
    "TYPE   = ['calculation', 'input', 'state', 'output']\n",
    "SAMPLE = [data_train, data_test, data_full]\n",
    "TARGET = ['rougher_output_recovery', 'final_output_recovery']\n",
    "RANDOM = 1123581321"
   ]
  },
  {
   "cell_type": "code",
   "execution_count": null,
   "id": "6427e2ac",
   "metadata": {
    "scrolled": false
   },
   "outputs": [],
   "source": [
    "for name, data in enumerate(data_flow):\n",
    "    display(data.head(5).style\\\n",
    "                        .set_caption(f'Набор данных {data_flow_name[name]}')\\\n",
    "                        .set_table_styles(styler))\n",
    "    display(data.info())\n",
    "    print('='*100)"
   ]
  },
  {
   "cell_type": "markdown",
   "id": "be30b071",
   "metadata": {},
   "source": [
    "<div style=\"background-color:whitesmoke; border:solid #363636 1.5px; padding: 15px\">\n",
    "При знакомстве с выборками были обнаружены следующие проблемы:<br>    \n",
    "<li>Наличие пропусков;\n",
    "<li>Формат записи признаков через точку;\n",
    "<li>Отсутствие прзнаков в выборке data_test;\n",
    "<li>Признак date, необходимо задать тип времени и принять его как индекс во всех датафрейм\n",
    "</div>"
   ]
  },
  {
   "cell_type": "markdown",
   "id": "5766d06d",
   "metadata": {},
   "source": [
    "### <span style=\"color:Maroon\">Изменение типа данных</span>"
   ]
  },
  {
   "cell_type": "markdown",
   "id": "71540d75",
   "metadata": {},
   "source": [
    "<div style=\"background-color:whitesmoke; border:solid #363636 1.5px; padding: 15px\">\n",
    "Все признаки в датафреймах являются числовыми, кроме признака date, я думаю что это ключевой признак по которому необходимо будет обращаться из одной выборки в другую, для этого необходимо изменить тип данных и задать его как индекс во всех выборках. Для этого я подготовлю функию, которая будет на вход принимать признак, менять формат на временной и задаст его как индекс\n",
    "</div>"
   ]
  },
  {
   "cell_type": "code",
   "execution_count": null,
   "id": "fe8dbb03",
   "metadata": {},
   "outputs": [],
   "source": [
    "def index_to_date(data, column_name):\n",
    "    data[column_name] = pd.to_datetime(data[column_name], format=\"%Y-%m-%d %H:%M:%S\")\n",
    "    data = data.set_index(column_name)\n",
    "    return data"
   ]
  },
  {
   "cell_type": "code",
   "execution_count": null,
   "id": "abb5a8a0",
   "metadata": {},
   "outputs": [],
   "source": [
    "data_train = index_to_date(data_train, 'date')\n",
    "data_test  = index_to_date(data_test, 'date') \n",
    "data_full  = index_to_date(data_full, 'date') "
   ]
  },
  {
   "cell_type": "markdown",
   "id": "51a4d606",
   "metadata": {},
   "source": [
    "### <span style=\"color:Maroon\">Переименование признаков</span>"
   ]
  },
  {
   "cell_type": "markdown",
   "id": "00767c92",
   "metadata": {},
   "source": [
    "<div style=\"background-color:whitesmoke; border:solid #363636 1.5px; padding: 15px\">\n",
    "Название признаков выполнено по формату <b>[этап].[тип_параметра].[название_параметра]</b> пример <b>rougher.input.feed_ag</b>\n",
    "<br><br>Возможно для записи этот формат необходим, но для работы не удобен, переведу название признаков в удобный \"питонский формат\", для этого напишу функцию которая на вход принимает название признака и переводит его в необходимый формат записи\n",
    "</div>"
   ]
  },
  {
   "cell_type": "code",
   "execution_count": null,
   "id": "6f36fcca",
   "metadata": {},
   "outputs": [],
   "source": [
    "def columns_rename(data):\n",
    "    columns_new = []\n",
    "    for column in data.columns:\n",
    "        columns_new.append(column.replace('.', '_'))\n",
    "    data.columns = columns_new\n",
    "    return data"
   ]
  },
  {
   "cell_type": "code",
   "execution_count": null,
   "id": "cc6736c1",
   "metadata": {},
   "outputs": [],
   "source": [
    "data_train = columns_rename(data_train)\n",
    "data_test  = columns_rename(data_test)\n",
    "data_full  = columns_rename(data_full) "
   ]
  },
  {
   "cell_type": "markdown",
   "id": "122bf65e",
   "metadata": {},
   "source": [
    "### <span style=\"color:Maroon\">Утечка признаков</span>"
   ]
  },
  {
   "cell_type": "markdown",
   "id": "57368d51",
   "metadata": {},
   "source": [
    "<div style=\"background-color:whitesmoke; border:solid #363636 1.5px; padding: 15px\">\n",
    "В выборках разный набор признаков, он отличается только в датасете <b>data_test</b>, что свидетелсьтвует о том, что эти признаки исключены из тестовой выборки для того чтобы не произошла утечка этих признаков во премя подготовки модели и ее обучении. Посмотри на состав этих признаков в количестве 34 шт.\n",
    "</div>"
   ]
  },
  {
   "cell_type": "code",
   "execution_count": null,
   "id": "38613198",
   "metadata": {},
   "outputs": [],
   "source": [
    "pd.DataFrame(sorted(list(set(data_train.columns) - set(data_test.columns))),\n",
    "                 columns = ['feauters_leak']).style\\\n",
    "                                             .set_caption('Информация по утечке признаков')\\\n",
    "                                             .set_table_styles(styler)"
   ]
  },
  {
   "cell_type": "markdown",
   "id": "5a851662",
   "metadata": {},
   "source": [
    "<div style=\"background-color:whitesmoke; border:solid #363636 1.5px; padding: 15px\">\n",
    "Предварительный просмотр данных на примере полной выборки\n",
    "</div>"
   ]
  },
  {
   "cell_type": "code",
   "execution_count": null,
   "id": "c937e7d7",
   "metadata": {},
   "outputs": [],
   "source": [
    "data_full.head().style.format('{:.2f}').set_caption('Предварительный просмотр данных').set_table_styles(styler)"
   ]
  },
  {
   "cell_type": "markdown",
   "id": "6c1ce44b",
   "metadata": {},
   "source": [
    "### <span style=\"color:Maroon\">Проверка расчета эффективности</span>"
   ]
  },
  {
   "cell_type": "markdown",
   "id": "af04d2fc",
   "metadata": {},
   "source": [
    "<div style=\"background-color:whitesmoke; border:solid #363636 1.5px; padding: 15px\">\n",
    "Необходимо проверить правильность расчет эффективносит обогощения руды, значения которые храняться в прзнаке <b>recovery</b>, для этого надо немного поргузиться в технологический процес и изучить стадии. Ниже представленна информация о стадии техпроцесса\n",
    "</div>"
   ]
  },
  {
   "attachments": {
    "process.png": {
     "image/png": "[encoded data removed]"
    }
   },
   "cell_type": "markdown",
   "id": "34941110",
   "metadata": {},
   "source": [
    "![process.png](attachment:process.png)"
   ]
  },
  {
   "cell_type": "markdown",
   "id": "5ba5e2c3",
   "metadata": {},
   "source": [
    "# $$RECOVERY = \\frac{C*(F-T)}{F*(C-T)}*100\\%$$"
   ]
  },
  {
   "cell_type": "markdown",
   "id": "f13cfc7b",
   "metadata": {},
   "source": [
    "<div style=\"background-color:whitesmoke; border:solid #363636 1.5px; padding: 15px\">\n",
    "Для прогноза коэффициента нужно найти долю золота в концентратах и хвостах. Причём важен не только финальный продукт, но и черновой концентрат.<br>    \n",
    "Проверим расчеты в таблице и оценим ее метрикой <b>MAE (mean_absolute_error)</b>\n",
    "</div>"
   ]
  },
  {
   "cell_type": "code",
   "execution_count": null,
   "id": "b46a447c",
   "metadata": {},
   "outputs": [],
   "source": [
    "# ГДЕ:\n",
    "scores      =  []\n",
    "predictions =  []\n",
    "for stage in ['rougher', 'final']:\n",
    "    C = data_full[f'{stage}_output_concentrate_au']                  # доля золота в концентрате после флотации/очистки;\n",
    "    F = data_full['rougher_input_feed_au']                           # доля золота в сырье/концентрате до флотации/очистки;\n",
    "    T = data_full[f'{stage}_output_tail_au']                         # доля золота в отвальных хвостах после флотации/очистки.\n",
    "    \n",
    "    recovery_target  = data_full[f'{stage}_output_recovery']         # информация по расчету из выборки\n",
    "    predictions      = ((C * (F - T)) / (F * (C - T)) * 100)         # расчет эффективности через формулу  \n",
    "    scores.append(mean_absolute_error(recovery_target, predictions)) # расчет MAE для оценки расчета recovery\n",
    "    \n",
    "data_info = pd.DataFrame(scores,\n",
    "                         columns = ['MAE'],\n",
    "                         index   = ['rougher', 'final'])\n",
    "data_info.style\\\n",
    "         .set_caption('Проверка расчета Recovery',)\\\n",
    "         .format('{:.2%}')\\\n",
    "         .set_table_styles(styler)"
   ]
  },
  {
   "cell_type": "markdown",
   "id": "5073fb8d",
   "metadata": {},
   "source": [
    "<div style=\"background-color:whitesmoke; border:solid #363636 1.5px; padding: 15px\">\n",
    "Проверка проведена, ошибок в расчатах метрики не обнаружено\n",
    "</div>"
   ]
  },
  {
   "cell_type": "markdown",
   "id": "e0cfe275",
   "metadata": {},
   "source": [
    "### <span style=\"color:Maroon\">Замена пропусков</span>"
   ]
  },
  {
   "cell_type": "markdown",
   "id": "ad8c8052",
   "metadata": {},
   "source": [
    "<div style=\"background-color:whitesmoke; border:solid #363636 1.5px; padding: 15px\">\n",
    "Проверю сразу на предмет пропусков два целевых признака\n",
    "</div>"
   ]
  },
  {
   "cell_type": "code",
   "execution_count": null,
   "id": "cabde219",
   "metadata": {},
   "outputs": [],
   "source": [
    "data_full.filter(like = 'recovery').isna().sum()"
   ]
  },
  {
   "cell_type": "markdown",
   "id": "e701496c",
   "metadata": {},
   "source": [
    "<div style=\"background-color:whitesmoke; border:solid #363636 1.5px; padding: 15px\">\n",
    "Проверка количества пропусков в выборке <b>data_test</b>\n",
    "</div>"
   ]
  },
  {
   "cell_type": "code",
   "execution_count": null,
   "id": "7b82202a",
   "metadata": {},
   "outputs": [],
   "source": [
    "columns_name = []\n",
    "\n",
    "for column in data_test.columns:\n",
    "    \n",
    "    if (data_test[column].isna().sum() / len(data_test)) !=0:\n",
    "        columns_name.append([column, data_test[column].isna().sum() / len(data_test)])\n",
    "        \n",
    "data_info = pd.DataFrame(columns_name, columns = [\"features\", 'miss_data'])\n",
    "\n",
    "data_info.style\\\n",
    "         .set_caption('Проверка количества пропусков в выборке Test',)\\\n",
    "         .format({'miss_data':'{:.2%}'})\\\n",
    "         .set_table_styles(styler)"
   ]
  },
  {
   "cell_type": "markdown",
   "id": "6f6e6fcc",
   "metadata": {},
   "source": [
    "<div style=\"background-color:whitesmoke; border:solid #363636 1.5px; padding: 15px\">\n",
    "Как видно из таблицы пропуски присутствуют в небольшом количестве во многих признаках, для заполнения пропусков буду использовать метод <b>ffill</b>  \n",
    "</div>"
   ]
  },
  {
   "cell_type": "code",
   "execution_count": null,
   "id": "652289cd",
   "metadata": {},
   "outputs": [],
   "source": [
    "data_test = data_test.fillna(method = 'ffill')\n",
    "data_full = data_full.fillna(method = 'ffill')"
   ]
  },
  {
   "cell_type": "markdown",
   "id": "9f1fa53a",
   "metadata": {},
   "source": [
    "<div style=\"background-color:whitesmoke; border:solid #363636 1.5px; padding: 15px\">\n",
    "Проверка количества пропусков в выборке <b>data_train</b>\n",
    "</div>"
   ]
  },
  {
   "cell_type": "code",
   "execution_count": null,
   "id": "d7ed9e98",
   "metadata": {},
   "outputs": [],
   "source": [
    "columns_name = []\n",
    "\n",
    "for column in data_test.columns: # проверяю на основании списка названий признаков в наборе data_test\n",
    "    if (data_train[column].isna().sum() / len(data_train)) !=0:\n",
    "        columns_name.append([column, data_train[column].isna().sum() / len(data_train)])\n",
    "        \n",
    "data_info = pd.DataFrame(columns_name, columns = [\"features\", 'miss_data'])\n",
    "\n",
    "data_info.style\\\n",
    "         .set_caption('Проверка количества пропусков в выборке Train',)\\\n",
    "         .format({'miss_data':'{:.2%}'})\\\n",
    "         .set_table_styles(styler)"
   ]
  },
  {
   "cell_type": "markdown",
   "id": "5f9b6625",
   "metadata": {},
   "source": [
    "<div style=\"background-color:whitesmoke; border:solid #363636 1.5px; padding: 15px\">\n",
    "В данной выборке тоже достаточно признаков которые имеют пропуски, в данном случае я буду использовать метод <b>K-nearest neighbor</b> для замены отсутствующих значений в наборах данных средним значением ближайших соседей параметра <b>«n_neighbors = 3»</b>, найденных в обучающем наборе. Заменять пропуски будут только в тех признаках которые будут учавствовать в обучении и тестировании моделей\n",
    "</div>"
   ]
  },
  {
   "cell_type": "code",
   "execution_count": null,
   "id": "4827d45c",
   "metadata": {},
   "outputs": [],
   "source": [
    "imputer = KNNImputer(n_neighbors = 3, weights = \"uniform\")\n",
    "data_train[data_test.columns] = imputer.fit_transform(data_train[data_test.columns])"
   ]
  },
  {
   "cell_type": "code",
   "execution_count": null,
   "id": "22c53edc",
   "metadata": {},
   "outputs": [],
   "source": [
    "print(f'Количество пропусков в тренировочной выборке:'\n",
    "      f' {data_train[data_test.columns].shape[0] - data_train[data_test.columns].dropna().shape[0]}')\n",
    "print(f'Количество пропусков в тестовой выборке     :'\n",
    "      f' {data_test.shape[0] - data_test.dropna().shape[0]}')\n",
    "print(f'Количество пропусков в общей выборке        :'\n",
    "      f' {data_full.shape[0] - data_full.dropna().shape[0]}')"
   ]
  },
  {
   "cell_type": "markdown",
   "id": "6cdd5de9",
   "metadata": {},
   "source": [
    "<div style=\"background-color:gray; border:solid #363636 2px; padding: 20px\">  \n",
    "    \n",
    "<span style=\"color:white\">**Выводы:**</span><br> \n",
    "   \n",
    "<span style=\"color:white\">\n",
    "    \n",
    "<li>Данные загружены проблем по составу информации обнаружены;\n",
    "<li>Изменен индекс и переведен в тип дата;\n",
    "<li>Изменены названия признаков;\n",
    "<li>Найденные пропуски устранены;\n",
    "<li>Проанализирован состав признаков;    \n",
    "<li>Можно переходить к анализу данных.\n",
    "</span>\n",
    "</div>"
   ]
  },
  {
   "cell_type": "markdown",
   "id": "2497726c",
   "metadata": {},
   "source": [
    "## <span style=\"color:Maroon\">Анализ данных</span>"
   ]
  },
  {
   "cell_type": "markdown",
   "id": "f5bb8c3b",
   "metadata": {},
   "source": [
    "<div style=\"background-color:whitesmoke; border:solid #363636 1.5px; padding: 15px\">\n",
    "Посмотрим как меняется концентрация металлов на разных стадиях очистки. Для этого предварительно подготовлю матрицу необходимых признаков\n",
    "</div>"
   ]
  },
  {
   "cell_type": "code",
   "execution_count": null,
   "id": "75abd160",
   "metadata": {},
   "outputs": [],
   "source": [
    "features_input_concentrate = [['rougher_input_feed_sol',\n",
    "                               'rougher_input_feed_pb',\n",
    "                               'rougher_input_feed_au',\n",
    "                               'rougher_input_feed_ag',\n",
    "                             ]]\n",
    "j = 0\n",
    "for i in range(4,13,4):\n",
    "    features_input_concentrate.append(sorted(data_full.filter(like = 'concentrate_'),reverse = True)[j:i])\n",
    "    j = i\n",
    "    \n",
    "pd.DataFrame(features_input_concentrate, \n",
    "             columns = ['sol', 'plumbum', 'aurum', 'argentum'], \n",
    "             index   = ['raw', 'rougher', 'primary', 'final'])\\\n",
    "  .style\\\n",
    "  .set_caption('Выборка по составу металлов',)\\\n",
    "  .set_table_styles(styler)"
   ]
  },
  {
   "cell_type": "markdown",
   "id": "ed6f7bf6",
   "metadata": {},
   "source": [
    "### <span style=\"color:Maroon\">Изменение концентрации металлов по фазам</span>"
   ]
  },
  {
   "cell_type": "markdown",
   "id": "03bb7516",
   "metadata": {},
   "source": [
    "<div style=\"background-color:whitesmoke; border:solid #363636 1.5px; padding: 15px\">\n",
    "Создам гистограмму рапределения по фазам техпроцесса для каждого из металло, в выборке учавствует три металла: свинец, золото и серебро\n",
    "</div>"
   ]
  },
  {
   "cell_type": "code",
   "execution_count": null,
   "id": "39cd98e5",
   "metadata": {},
   "outputs": [],
   "source": [
    "data_info = pd.DataFrame(features_input_concentrate, \n",
    "                         columns = ['sol', 'plumbum', 'aurum', 'argentum'], \n",
    "                         index   = ['raw', 'rougher', 'primary', 'final'])\n",
    "\n",
    "plt.figure(figsize = (15,6))\n",
    "sns.set_style('whitegrid')\n",
    "\n",
    "for i, metal in enumerate(data_info.columns[1:]):\n",
    "    \n",
    "    plt.subplot(1, 3, i + 1)\n",
    "    sns.barplot(data       = data_full[data_info[metal]],\n",
    "                estimator  = np.median,\n",
    "                palette    = 'Reds', \n",
    "                saturation = 0.5, \n",
    "                linewidth  = 3,\n",
    "                edgecolor  = '#444444')\n",
    "    \n",
    "    plt.xticks(range(4),data_info.index, fontsize = 14)\n",
    "    plt.title(metal, fontsize = 16)\n",
    "    plt.ylabel('concentrate,%', fontsize = 12)\n",
    "    plt.ylim(0,50)\n",
    "    \n",
    "plt.show(close = True)"
   ]
  },
  {
   "cell_type": "markdown",
   "id": "eeaccb88",
   "metadata": {},
   "source": [
    "<div style=\"background-color:whitesmoke; border:solid #363636 1.5px; padding: 15px\">\n",
    "Как видно из представленной информации выше, концентрация свинца неюного увеличивается от фазы к фазе, но все равно остается очень низкой мене 10%. По-другому обстоят дела с концентрацией серебра, так после флотации концентрация увеличивается, но потом к финалу падает вдвое, хотя так же изначальная концентрация минимальна. Ну и конечно ярко выраженная динамика увеличения концентрации золота по фазам, это объясняется в принципе заточенный техпроцесс именно на этот метал, хотя показательным является тот факт, что даже на финальной стадии концентрация не достигает 50%\n",
    "</div>"
   ]
  },
  {
   "cell_type": "markdown",
   "id": "012961e3",
   "metadata": {},
   "source": [
    "### <span style=\"color:Maroon\">Суммарная концентрация металлов по фазам</span>"
   ]
  },
  {
   "cell_type": "markdown",
   "id": "c9b8e31c",
   "metadata": {},
   "source": [
    "<div style=\"background-color:whitesmoke; border:solid #363636 1.5px; padding: 15px\">\n",
    "Посмотрим на то как распределяется суммарная концентрация металлов по фазам\n",
    "</div>"
   ]
  },
  {
   "cell_type": "code",
   "execution_count": null,
   "id": "7fad6789",
   "metadata": {},
   "outputs": [],
   "source": [
    "plt.figure(figsize = (15, 10))\n",
    "sns.set_style('whitegrid')\n",
    "x = ['raw', 'rougher', 'primary', 'final']\n",
    "\n",
    "for i, stage in enumerate(features_input_concentrate):\n",
    "    \n",
    "    plt.subplot(2, 2, i + 1)\n",
    "    sns.histplot(data = data_full[stage].sum(1),\n",
    "                 color = '#9E4447',\n",
    "                 element=\"step\",\n",
    "                 bins = 100)\n",
    "    \n",
    "    plt.title(f'{x[i]}', fontsize = 16);\n",
    "    plt.ylabel('spread', fontsize = 14)\n",
    "    \n",
    "plt.show(close = True)"
   ]
  },
  {
   "cell_type": "markdown",
   "id": "b9d8ad25",
   "metadata": {},
   "source": [
    "<div style=\"background-color:whitesmoke; border:solid #363636 1.5px; padding: 15px\">\n",
    "Как видно из представленной информации выше, концентрация металлов от фазы к фазе изменяет форму \"колокола\" распределения и становиться все выше и уже, т. е. это говорит о том, что отклонений становится все меньше и состав металлов на худится на требуемом уровне.<br><br>    \n",
    "В графике обнаружены аномалии в данных, очень сильно заметные на фазе флотации и первичной очистки в районе 0. Такого не может быть, потому что от фазы к фазе концентрации только увеличивается и уж тем более не может увеличиваться в районе 0. Необходимо убрать эти данные т. к. я считаю, что это ошибки либо в выгрузке данных, либо ошибки измерения концентрации.\n",
    "</div>"
   ]
  },
  {
   "cell_type": "code",
   "execution_count": null,
   "id": "7869d254",
   "metadata": {},
   "outputs": [],
   "source": [
    "# задам условие что если сумма концентрации ниже 1\n",
    "x = ['raw', 'rougher', 'primary', 'final']\n",
    "data_info  = []\n",
    "\n",
    "for i, summary in enumerate(features_input_concentrate):    \n",
    "    data_info.append([x[i], len(data_full[data_full[summary].sum(1) < 1].index)]) \n",
    "    \n",
    "pd.DataFrame(data_info, columns = ['stage', 'data_outliers'])\\\n",
    "            .style\\\n",
    "            .set_caption('Проверка количества выбросов в данных',)\\\n",
    "            .set_table_styles(styler)"
   ]
  },
  {
   "cell_type": "code",
   "execution_count": null,
   "id": "17b1303b",
   "metadata": {},
   "outputs": [],
   "source": [
    "for summary in features_input_concentrate:\n",
    "    data_test  = data_test[data_full.loc[data_test.index][summary].sum(1) >= 1]\n",
    "    data_train = data_train[data_train[summary].sum(1) >= 1]\n",
    "    data_full  = data_full[data_full[summary].sum(1) >= 1] "
   ]
  },
  {
   "cell_type": "code",
   "execution_count": null,
   "id": "0b6806eb",
   "metadata": {},
   "outputs": [],
   "source": [
    "#проверю изменение состава выборок\n",
    "for data in [data_train, data_test, data_full]:\n",
    "    display(data.shape)"
   ]
  },
  {
   "cell_type": "code",
   "execution_count": null,
   "id": "2749e539",
   "metadata": {},
   "outputs": [],
   "source": [
    "plt.figure(figsize = (15, 10))\n",
    "sns.set_style('whitegrid')\n",
    "x = ['raw', 'rougher', 'primary', 'final']\n",
    "\n",
    "for i, stage in enumerate(features_input_concentrate):\n",
    "    \n",
    "    plt.subplot(2, 2, i + 1)\n",
    "    sns.histplot(data = data_full[stage].sum(1),\n",
    "                 color = '#444444',\n",
    "                 element=\"step\",\n",
    "                 bins = 100)\n",
    "    \n",
    "    plt.title(f'{x[i]}', fontsize = 16);\n",
    "    plt.ylabel('spread', fontsize = 14)\n",
    "    \n",
    "plt.show(close = True)"
   ]
  },
  {
   "cell_type": "markdown",
   "id": "969b9762",
   "metadata": {},
   "source": [
    "<div style=\"background-color:whitesmoke; border:solid #363636 1.5px; padding: 15px\">\n",
    "Теперь графики выглядят лучше, без видимых выбросов\n",
    "</div>"
   ]
  },
  {
   "cell_type": "markdown",
   "id": "cd7a7914",
   "metadata": {},
   "source": [
    "### <span style=\"color:Maroon\">Распределение размеров гранул сырья </span>"
   ]
  },
  {
   "cell_type": "markdown",
   "id": "d38f25b6",
   "metadata": {},
   "source": [
    "<div style=\"background-color:whitesmoke; border:solid #363636 1.5px; padding: 15px\">\n",
    "Необходимо проверить если распределения сильно отличаются друг от друга, оценка модели будет неправильной. Создам датафрейм для построения графика распределения\n",
    "</div>"
   ]
  },
  {
   "cell_type": "code",
   "execution_count": null,
   "id": "228e3283",
   "metadata": {},
   "outputs": [],
   "source": [
    "data_info = pd.DataFrame()\n",
    "samples   = [data_train, data_test]\n",
    "columns   = sorted(data_train.filter(like = 'size').columns, reverse = True)\n",
    "stage     = ['train', 'test']\n",
    "\n",
    "for i,data in enumerate(samples):\n",
    "    \n",
    "    for column in columns:\n",
    "        \n",
    "        data_info = data_info.append(\\\n",
    "                              data[column]\\\n",
    "                             .to_frame()\\\n",
    "                             .rename(columns = {column : 'feed_size'})\\\n",
    "                             .assign(stage = column.split('_')[0], sample = stage[i]))\n",
    "        \n",
    "data_info.reset_index().head(10)\\\n",
    "                       .style\\\n",
    "                       .format({'feed_size':'{:.2f}'})\\\n",
    "                       .set_caption('Таблица для построения распределения размера гранул',)\\\n",
    "                       .set_table_styles(styler)"
   ]
  },
  {
   "cell_type": "code",
   "execution_count": null,
   "id": "bad9cbc7",
   "metadata": {},
   "outputs": [],
   "source": [
    "plt.figure(figsize=(15, 9))\n",
    "plt.title('stage', fontsize=16)\n",
    "sns.set_style('whitegrid')\n",
    "y_lim =((0, 130), (4,11))\n",
    "\n",
    "for i, j in enumerate([\"rougher\", \"primary\"]):\n",
    "    \n",
    "    plt.subplot(1, 2, i + 1)   \n",
    "    sns.violinplot(x = \"stage\", \n",
    "                   y = \"feed_size\", \n",
    "                   hue = \"sample\",\n",
    "                   data = data_info[data_info['stage'] == j],\n",
    "                   palette    = 'Reds', \n",
    "                   saturation = 0.5, \n",
    "                   linewidth  = 3,\n",
    "                   edgecolor  = '#444444',\n",
    "                   split = True)\n",
    "    \n",
    "    plt.title(f'{j} stage', fontsize = 16);\n",
    "    plt.ylim(y_lim[i])\n",
    "    plt.ylabel('feed size ', fontsize = 18)\n",
    "    plt.xlabel('')\n",
    "    plt.xticks(range(1),[''])\n",
    "    plt.legend(fontsize = 12)\n",
    "    \n",
    "plt.show()"
   ]
  },
  {
   "cell_type": "markdown",
   "id": "f3c03321",
   "metadata": {},
   "source": [
    "<div style=\"background-color:whitesmoke; border:solid #363636 1.5px; padding: 15px\">\n",
    "Информация по размерам гранул сырья есть для флотации и для первичной оценки, так же они разбиты на обучающую и тестовую, информация по их распределению представлена выше. Как видно распределение визуально выглядят симметрично, что говорит похожем соответствии выборок для обучения и тестирования. Немного хуже выглядит график для флотации, но не думаю что это критично для построения модели\n",
    "</div>"
   ]
  },
  {
   "cell_type": "markdown",
   "id": "86c88b9c",
   "metadata": {},
   "source": [
    "<div style=\"background-color:gray; border:solid #363636 2px; padding: 20px\">  \n",
    "    \n",
    "<span style=\"color:white\">**Выводы:**</span><br> \n",
    "   \n",
    "<span style=\"color:white\">\n",
    "    \n",
    "<li>Данные проанализированы;\n",
    "<li>Данные очищены от выбросов; \n",
    "<li>Сделаны предварительные выводы;\n",
    "<li>Можно переходить поиску и обучению моделей.\n",
    "</span>\n",
    "</div>"
   ]
  },
  {
   "cell_type": "markdown",
   "id": "0ac53b86",
   "metadata": {},
   "source": [
    "## <span style=\"color:Maroon\">Обучение модели и выбор лучшей</span>"
   ]
  },
  {
   "cell_type": "markdown",
   "id": "7ab2cf3a",
   "metadata": {},
   "source": [
    "<div style=\"background-color:whitesmoke; border:solid #363636 1.5px; padding: 15px\">\n",
    "Основной задачей текущего проекта является прогноз эффективности обогащения на основании фактических данных. Необходимо подготовить модель, которая способна с высокой долей вероятности прогнозировать концентрацию золота. Целевой признак в моей задаче количественный, и для расчета необходимо учитывать два признака на стадии флотации и на финальном этапе данные которых находятся в признаках  <b>rougher_output_recovery, final_output_recovery</b>, соответственно буду использовать модель для регрессии <b>DecisionTreeRegressor, RandomForestRegressor, ExtraTreesRegressor, Lasso, LinearRegression</b> в рамках предсказания, где целевой признак концентрация золота. Подбор параметров буду производить с помощью <b>GridSearchCV</b>. Выбор модели на основании метрики с предельно большим значением <b>sMAPE</b>, которую необходимо создать самостоятельно. Ниже представлены формулы для расчета метрики\n",
    "</div>"
   ]
  },
  {
   "cell_type": "markdown",
   "id": "e62c931c",
   "metadata": {},
   "source": [
    "\n",
    "# $$fsMAPE = \\frac{1}{N}\\sum_{i=1}^{N}{\\frac{|Y_i - \\bar{Y}_i|}{(|Y_i|+|\\bar{Y}_i|) / 2}} * 100\\%$$"
   ]
  },
  {
   "cell_type": "markdown",
   "id": "1b17a9ad",
   "metadata": {},
   "source": [
    "# $$fsMAPE = 25\\%*sMAPE(rougher) + 75\\%*sMAPE(final)$$"
   ]
  },
  {
   "cell_type": "markdown",
   "id": "a38037f8",
   "metadata": {},
   "source": [
    "### <span style=\"color:Maroon\">Подготовка метрики sMAPE </span>"
   ]
  },
  {
   "cell_type": "markdown",
   "id": "763d28af",
   "metadata": {},
   "source": [
    "<div style=\"background-color:whitesmoke; border:solid #363636 1.5px; padding: 15px\">\n",
    "На основании формул указаных выше, составляю функцию для расчета метрики и передаю ее с помощью метода <b>make_scorer</b> как кастомный скорер для оценки модели\n",
    "</div>"
   ]
  },
  {
   "cell_type": "code",
   "execution_count": null,
   "id": "1f93b5cb",
   "metadata": {},
   "outputs": [],
   "source": [
    "def symmetric_mean_absolute_percentage_error(y_true, y_pred): \n",
    "    \n",
    "    def smape(target,predict): \n",
    "        return (1 / len(target)) * sum(np.abs(target - predict)/ ((np.abs(target) + np.abs(predict)) / 2)) * 100\n",
    "    \n",
    "    y_true = np.array(y_true)\n",
    "    \n",
    "    smape_rougher = smape(y_true[:,1], y_pred[:,1])\n",
    "    \n",
    "    smape_final   = smape(y_true[:,0], y_pred[:,0])\n",
    "    \n",
    "    return 0.25 * smape_rougher + 0.75 * smape_final"
   ]
  },
  {
   "cell_type": "code",
   "execution_count": null,
   "id": "3aa5af6e",
   "metadata": {},
   "outputs": [],
   "source": [
    "SMAPE = make_scorer(symmetric_mean_absolute_percentage_error, greater_is_better = False)"
   ]
  },
  {
   "cell_type": "markdown",
   "id": "530f257e",
   "metadata": {},
   "source": [
    "<div style=\"background-color:whitesmoke; border:solid #363636 1.5px; padding: 15px\">\n",
    "Разделю выборку на признаки и целевой признак, т.к. признаки имеют тип данных float и различаются по масштабу, сразу проведу масштабирование этих признаков с помощью <b>StandardScaler()</b>\n",
    "</div>"
   ]
  },
  {
   "cell_type": "code",
   "execution_count": null,
   "id": "52511da2",
   "metadata": {},
   "outputs": [],
   "source": [
    "features_train = data_train[data_test.columns]\n",
    "target_train   = data_train.filter(like = 'recovery')"
   ]
  },
  {
   "cell_type": "code",
   "execution_count": null,
   "id": "66c7abb1",
   "metadata": {},
   "outputs": [],
   "source": [
    "scaler = StandardScaler()\n",
    "scaler.fit(features_train)    \n",
    "features_train = scaler.transform(features_train)"
   ]
  },
  {
   "cell_type": "markdown",
   "id": "bb0021cf",
   "metadata": {},
   "source": [
    "### <span style=\"color:Maroon\">Модели с базовыми параметрами </span>"
   ]
  },
  {
   "cell_type": "markdown",
   "id": "7eb5c9a4",
   "metadata": {},
   "source": [
    "<div style=\"background-color:whitesmoke; border:solid #363636 1.5px; padding: 15px\">\n",
    "Перебирать все модели с параметрами я буду с помощью <b>GridSearchCV</b>, для этого подготовлю два списка с моделями <b>regressors</b> и с гиперпараметрами для этих моделей <b>parameters</b>. Для начала я решил проверить все модели на базовых гиперпараметрах, чтобы в дальнейшем можно было увидеть динамику изменения качества моделей, для оценки качества моделей выбираю 5 фолдов для кросс-валидации в настройках Grid\n",
    "</div>"
   ]
  },
  {
   "cell_type": "code",
   "execution_count": null,
   "id": "93b93a44",
   "metadata": {},
   "outputs": [],
   "source": [
    "regressors = [LinearRegression(),\n",
    "              Lasso(random_state = RANDOM),\n",
    "              DecisionTreeRegressor(random_state = RANDOM),\n",
    "              ExtraTreesRegressor(random_state = RANDOM),\n",
    "              RandomForestRegressor(random_state = RANDOM)]"
   ]
  },
  {
   "cell_type": "code",
   "execution_count": null,
   "id": "8b68f2cb",
   "metadata": {},
   "outputs": [],
   "source": [
    "parameters = [{}] * len(regressors)"
   ]
  },
  {
   "cell_type": "raw",
   "id": "a20dffb9",
   "metadata": {},
   "source": [
    "%%time\n",
    "scores = []\n",
    "\n",
    "for i in notebook.tqdm(range(len(regressors))):\n",
    "    grid_model = GridSearchCV(estimator  = regressors[i], \n",
    "                              param_grid = parameters[i],\n",
    "                              scoring    = SMAPE,\n",
    "                              n_jobs     = -1,\n",
    "                              cv         = 5)\n",
    "    \n",
    "    grid_model.fit(features_train, target_train)        \n",
    "    time_score    = grid_model.cv_results_['mean_test_score']   \n",
    "    mean_fit_time = grid_model.cv_results_['mean_fit_time'][np.where(time_score == time_score.max())[0][0]]\n",
    "    \n",
    "    scores.append([' '.join(re.sub(r'([A-Z])', r' \\1', str(regressors[i]).split('(')[0]).split()), \n",
    "                   grid_model.best_score_, \n",
    "                   mean_fit_time,\n",
    "                   grid_model.best_params_])"
   ]
  },
  {
   "cell_type": "code",
   "execution_count": null,
   "id": "2cf5323b",
   "metadata": {},
   "outputs": [],
   "source": [
    "scores_base = [['Linear Regression', -10.06594012740744, 0.15321850776672363, {}],\n",
    "               ['Lasso', -8.625199356073605, 0.3419657230377197, {}],\n",
    "               ['Decision Tree Regressor', -14.533426202714091, 0.8597116947174073, {}],\n",
    "               ['Extra Trees Regressor', -8.933783279894774, 10.044495773315429, {}],\n",
    "               ['Random Forest Regressor', -9.155858598610378, 48.54978194236755, {}]]"
   ]
  },
  {
   "cell_type": "raw",
   "id": "2f6d5080",
   "metadata": {},
   "source": [
    "scores_base = scores"
   ]
  },
  {
   "cell_type": "code",
   "execution_count": null,
   "id": "2ecda2f1",
   "metadata": {},
   "outputs": [],
   "source": [
    "pd.DataFrame(data    = scores_base, \n",
    "             columns = ['model', 'smape', 'mean_fit_time', 'parameters'])\\\n",
    "            .sort_values('smape', ascending = False)\\\n",
    "            .reset_index(drop = True)\\\n",
    "            .style\\\n",
    "            .format({'smape':'{:.2f}', 'mean_fit_time' : '{:,.2f}s'})\\\n",
    "            .set_caption(f'Результаты моделей на базовых параметрах',)\\\n",
    "            .set_table_styles(styler)"
   ]
  },
  {
   "cell_type": "markdown",
   "id": "fca5b622",
   "metadata": {},
   "source": [
    "<div style=\"background-color:whitesmoke; border:solid #363636 1.5px; padding: 15px\">\n",
    "Как видно из сводных данных выше, на базовых настройках лучший результат и по качеству метрики и по скорости рассчета у модели <b>Lasso</b>, недалеко от нее модель <b>Extra Trees Regressor</b>, но сильно уступает по времени обработки, что может быть критично для больших массивов данных\n",
    "</div>"
   ]
  },
  {
   "cell_type": "markdown",
   "id": "2257fc2f",
   "metadata": {},
   "source": [
    "### <span style=\"color:Maroon\">Подбор гиперпараметров </span>"
   ]
  },
  {
   "cell_type": "markdown",
   "id": "a8473ba9",
   "metadata": {},
   "source": [
    "<div style=\"background-color:whitesmoke; border:solid #363636 1.5px; padding: 15px\">\n",
    "Далее буду перебрать параметры для моделей и на основании показателей качества моделей выберу лучшую\n",
    "</div>"
   ]
  },
  {
   "cell_type": "code",
   "execution_count": null,
   "id": "7d537119",
   "metadata": {},
   "outputs": [],
   "source": [
    "parameters = [{                                           },\n",
    "              \n",
    "              {'selection'    : ['cyclic', 'random'],\n",
    "               'max_iter'     : [1000]}, \n",
    "              \n",
    "              {'criterion'    : ['friedman_mse', 'poisson'],\n",
    "               'max_depth'    : list(range(1,11))},\n",
    "              \n",
    "              {'n_estimators' : list(range(10,101,10)),\n",
    "               'max_depth'    : list(range(1,11))},\n",
    "              \n",
    "              {'n_estimators' : list(range(10,101,10)),\n",
    "               'max_depth'    : list(range(1,11))}        ]"
   ]
  },
  {
   "cell_type": "raw",
   "id": "2b5f95ef",
   "metadata": {},
   "source": [
    "%%time\n",
    "scores = []\n",
    "\n",
    "for i in notebook.tqdm(range(len(regressors))):\n",
    "    grid_model = GridSearchCV(estimator  = regressors[i], \n",
    "                              param_grid = parameters[i],\n",
    "                              scoring    = SMAPE,\n",
    "                              n_jobs     = -1,\n",
    "                              cv         = 5)\n",
    "    \n",
    "    grid_model.fit(features_train, target_train)        \n",
    "    time_score    = grid_model.cv_results_['mean_test_score']   \n",
    "    mean_fit_time = grid_model.cv_results_['mean_fit_time'][np.where(time_score == time_score.max())[0][0]]\n",
    "    \n",
    "    scores.append([' '.join(re.sub(r'([A-Z])', r' \\1', str(regressors[i]).split('(')[0]).split()), \n",
    "                   grid_model.best_score_, \n",
    "                   mean_fit_time,\n",
    "                   grid_model.best_params_])"
   ]
  },
  {
   "cell_type": "code",
   "execution_count": null,
   "id": "3dc88cab",
   "metadata": {},
   "outputs": [],
   "source": [
    "scores_param = \\\n",
    "    [['Linear Regression', -10.065940127407446, 1.299419641494751, {}],\n",
    "     ['Lasso', -8.625144515400546, 6.498683214187622,{'max_iter': 1000, 'selection': 'random'}],\n",
    "     ['Decision Tree Regressor', -8.88587560791752, 38.834084272384644,{'criterion': 'friedman_mse', 'max_depth': 1}],\n",
    "     ['Extra Trees Regressor', -8.445925052089708, 444.099880695343, {'max_depth': 5, 'n_estimators': 70}],\n",
    "     ['Random Forest Regressor', -8.719239403417578, 5246.102777481079, {'max_depth': 4, 'n_estimators': 80}]]"
   ]
  },
  {
   "cell_type": "raw",
   "id": "acf4b2d2",
   "metadata": {},
   "source": [
    "scores_param = scores"
   ]
  },
  {
   "cell_type": "code",
   "execution_count": null,
   "id": "a9c861f3",
   "metadata": {},
   "outputs": [],
   "source": [
    "pd.DataFrame(data    = scores_param, \n",
    "             columns = ['model', 'smape', 'time', 'parameters'])\\\n",
    "            .sort_values('smape', ascending = False)\\\n",
    "            .reset_index(drop = True)\\\n",
    "            .style\\\n",
    "            .format({'smape':'{:.2f}', 'time' : '{:,.2f}s'})\\\n",
    "            .set_caption(f'Результаты поиска лучшей модели с подбором гиперпараметров',)\\\n",
    "            .set_table_styles(styler)"
   ]
  },
  {
   "cell_type": "markdown",
   "id": "24d308f7",
   "metadata": {},
   "source": [
    "<div style=\"background-color:gray; border:solid #363636 2px; padding: 20px\">  \n",
    "    \n",
    "<span style=\"color:white\">**Выводы:**</span><br> \n",
    "   \n",
    "<span style=\"color:white\">\n",
    "    \n",
    "Как видно из сводных данных выше, двойку лучших моделей также занимают те же самые модели, но лидер поменялся, на первое место вышла модель <b>Extra Trees Regressor</b> с лучшими показателями по качеству метрики, но как и на предыдущем этапе значитьельно уступает по скорости работы алгоритма модели <b>Lasso</b>. На данном этапе необходимо выбрать лучшую модель, но выбор неочевиден, т.к. качество по метрики модели не сильно отличаются а вот по скорости решения задачи лидер ярко выражен. Но есть и неоднозначные показатели дерево улучшило свои показатели с предыдущего этапа, хотя и не сильно, а вот Lasso осталось на том же уровне, я предлагю выбрать две модели на следующий этап там уже финально выбрать модель на тестовом наборе, где надеюсь будет очевиден лидер и качество моделей будет различаться в большей степени\n",
    "</span>\n",
    "</div>"
   ]
  },
  {
   "cell_type": "markdown",
   "id": "9b37236d",
   "metadata": {},
   "source": [
    "## <span style=\"color:Maroon\">Тестирование лучшей модели</span>"
   ]
  },
  {
   "cell_type": "markdown",
   "id": "28d7579c",
   "metadata": {},
   "source": [
    "<div style=\"background-color:whitesmoke; border:solid #363636 1.5px; padding: 15px\">\n",
    "Тестирование модели буду проводить на выборке <b>data_test</b>, так же предварительно решив вопрос с масштабирование признаков. Для моделей указываю лучшие параметры с предыдущего этапа\n",
    "</div>"
   ]
  },
  {
   "cell_type": "code",
   "execution_count": null,
   "id": "4c4ba3f1",
   "metadata": {},
   "outputs": [],
   "source": [
    "features_test = scaler.transform(data_test)"
   ]
  },
  {
   "cell_type": "markdown",
   "id": "53008a55",
   "metadata": {},
   "source": [
    "### <span style=\"color:Maroon\">Тестирование моделей </span>"
   ]
  },
  {
   "cell_type": "code",
   "execution_count": null,
   "id": "9d80ac07",
   "metadata": {},
   "outputs": [],
   "source": [
    "models = [Lasso(random_state = RANDOM, max_iter = 1000, selection = 'random'),\n",
    "          ExtraTreesRegressor(random_state = RANDOM, max_depth = 5, n_estimators = 70)]"
   ]
  },
  {
   "cell_type": "code",
   "execution_count": null,
   "id": "39225634",
   "metadata": {},
   "outputs": [],
   "source": [
    "scores_final = []\n",
    "data_info    = pd.DataFrame()\n",
    "x = ['Lasso', 'Extra Trees Regressor']\n",
    "for i, model in enumerate(models):  \n",
    "    \n",
    "    model.fit(features_train, target_train)\n",
    "    predictions = model.predict(features_test)\n",
    "    target_test = data_full.loc[data_test.index].filter(like = 'recovery')\n",
    "    score       = symmetric_mean_absolute_percentage_error(target_test, predictions)\n",
    "    \n",
    "    data_info = data_info.append(pd.DataFrame(predictions).assign(model  = x[i], sample = 'predict'))\n",
    "    \n",
    "    data_info = data_info.append(target_test.rename(columns = {'final_output_recovery' : 0, 'rougher_output_recovery' : 1})\\\n",
    "                                            .assign(model = x[i], sample = 'true'))\n",
    "    \n",
    "    scores_final.append([' '.join(re.sub(r'([A-Z])', r' \\1', str(model).split('(')[0]).split()), -score])\n",
    "    \n",
    "data_info = data_info.rename(columns = {0: 'final', 1 :'rougher'}).reset_index(drop = True)"
   ]
  },
  {
   "cell_type": "code",
   "execution_count": null,
   "id": "d69e25f2",
   "metadata": {},
   "outputs": [],
   "source": [
    "pd.DataFrame(data = np.array(scores_base)[:,:2],\n",
    "             columns = ['model', 'smape_base'])\\\n",
    "            .assign(smape_param = np.array(scores_param)[:,1])\\\n",
    "            .merge(pd.DataFrame(scores_final, columns = ['model', 'smape_final']), on = 'model', how='outer')\\\n",
    "            .sort_values('smape_final', ascending = False)\\\n",
    "            .fillna(0)\\\n",
    "            .reset_index(drop = True)\\\n",
    "            .style\\\n",
    "            .format({'smape_base':'{:.2f}', 'smape_param':'{:.2f}', 'smape_final':'{:.2f}'})\\\n",
    "            .set_caption(f'Финальные разультаты подготовки модели',)\\\n",
    "            .set_table_styles(styler)"
   ]
  },
  {
   "cell_type": "markdown",
   "id": "48c55bb8",
   "metadata": {},
   "source": [
    "<div style=\"background-color:whitesmoke; border:solid #363636 1.5px; padding: 15px\">\n",
    "Показатели качества моделей улучшилось на тестовой выборке, но вот разница в метрике моделей осталась на том же уровне. Можно сделать выбор на основании статистики показателей, но я бы предварительно хотел визуально провести осмотр предсказаний моделей, возможно там будет ответ на выбор модели.\n",
    "</div>"
   ]
  },
  {
   "cell_type": "markdown",
   "id": "e18ad2d8",
   "metadata": {},
   "source": [
    "### <span style=\"color:Maroon\">Сравнение распределения предсказаний моделей </span>"
   ]
  },
  {
   "cell_type": "markdown",
   "id": "31605ef7",
   "metadata": {},
   "source": [
    "<div style=\"background-color:whitesmoke; border:solid #363636 1.5px; padding: 15px\">\n",
    "Предварительно создат датафрейм для построения графиков\n",
    "</div>"
   ]
  },
  {
   "cell_type": "code",
   "execution_count": null,
   "id": "ff2953ad",
   "metadata": {
    "scrolled": false
   },
   "outputs": [],
   "source": [
    "data_info.head(10).style\\\n",
    "                  .format({'final':'{:.2f}', 'rougher':'{:.2f}'})\\\n",
    "                  .set_caption(f'Информация по моделям для каждого этапа',)\\\n",
    "                  .set_table_styles(styler)"
   ]
  },
  {
   "cell_type": "code",
   "execution_count": null,
   "id": "570820e9",
   "metadata": {},
   "outputs": [],
   "source": [
    "plt.figure(figsize=(15, 9))\n",
    "plt.title('stage', fontsize=16)\n",
    "sns.set_style('whitegrid')\n",
    "y_lim =((60, 100), (45, 80))\n",
    "\n",
    "for i, j in enumerate(['rougher', 'final']):\n",
    "    \n",
    "    plt.subplot(1, 2, i + 1)   \n",
    "    sns.violinplot(x = \"sample\", \n",
    "                   y = j, \n",
    "                   hue = \"model\",\n",
    "                   data = data_info[data_info['sample'] == 'predict'],\n",
    "                   palette    = 'Reds', \n",
    "                   saturation = 0.5, \n",
    "                   linewidth  = 3,\n",
    "                   edgecolor  = '#444444',\n",
    "                   split = True)\n",
    "    \n",
    "    plt.title(f'{j}_output_recovery', fontsize = 16);\n",
    "    plt.ylim(y_lim[i])\n",
    "    plt.ylabel('recovery', fontsize = 18)\n",
    "    plt.xlabel('')\n",
    "    plt.xticks(range(1),[''])\n",
    "    plt.legend(fontsize = 12)\n",
    "    \n",
    "plt.show()"
   ]
  },
  {
   "cell_type": "markdown",
   "id": "34fde642",
   "metadata": {},
   "source": [
    "<div style=\"background-color:whitesmoke; border:solid #363636 1.5px; padding: 15px\">\n",
    "Из графиков распределения предсказаний видно, что распределение предсказания и для флотации и финального этапа имеет форму не правильного распределения, распределения имеют сильную кривизну хотя в основном сосредоточены в одной области среднего значения. А вот для финальной концентрации выборки уже разнятся сильнее, дерево сильно усредняет данные, в то время как лассо старается определить значение показателя, как и в целевом распределении далее можно сравнить распределение моделей в сравнении с целевыми признаками.\n",
    "</div>"
   ]
  },
  {
   "cell_type": "markdown",
   "id": "5e801021",
   "metadata": {},
   "source": [
    "### <span style=\"color:Maroon\">Сравнение предсказаний моделей с целевым признаком </span>"
   ]
  },
  {
   "cell_type": "code",
   "execution_count": null,
   "id": "4bd31083",
   "metadata": {},
   "outputs": [],
   "source": [
    "plt.figure(figsize=(15, 15))\n",
    "plt.title('stage', fontsize=16)\n",
    "sns.set_style('whitegrid')\n",
    "y_lim =((60, 100), (45, 90))\n",
    "count = 0\n",
    "\n",
    "for i, j in enumerate(['rougher', 'final']):\n",
    "    \n",
    "    for model in ['Lasso', 'Extra Trees Regressor']:\n",
    "        count += 1\n",
    "        plt.subplot(2, 2, count)   \n",
    "        sns.violinplot(x = \"model\", \n",
    "                       y = j, \n",
    "                       hue = \"sample\",\n",
    "                       data = data_info[data_info['model'] == model],\n",
    "                       palette    = 'Reds', \n",
    "                       saturation = 0.5, \n",
    "                       linewidth  = 3,\n",
    "                       edgecolor  = '#444444',\n",
    "                       split = True)\n",
    "\n",
    "        plt.title(f'{j}_recovery_{model}', fontsize = 14);\n",
    "        plt.ylim(y_lim[i])\n",
    "        plt.ylabel('recovery', fontsize = 14)\n",
    "        plt.xlabel('')\n",
    "        plt.xticks(range(1),[''])\n",
    "        plt.legend(fontsize = 12)\n",
    "    \n",
    "plt.show()"
   ]
  },
  {
   "cell_type": "markdown",
   "id": "e51c9dbe",
   "metadata": {},
   "source": [
    "<div style=\"background-color:whitesmoke; border:solid #363636 1.5px; padding: 15px\">\n",
    "Из графиков видно как обе модели стараются сильно усреднить показатели предсказания что в итоге сильно заметно по форме распределения, так же заметен потолок в который упирается предсказания моделей, но лассо именно на финальной метрике все равно выглядит лучше показывая более правильное распределение, а так как в метрике 75% именно финального показателя за счет этго качество предсказания выше, хотя я думаю что исходя из визуального осмотра моделей при проверке на DummyRegressor показатели будут не намного хуже, скорее всего это особенность данного набора данных которые имеют много характеричтик, которые по отдельносит вносят незначительный весь при определении конечного результата и в то же время само распределение фактических показателей не имеет большого разброса, что тоже обусловлено спецификой производство где идет борьба за каждый процент концентрации золота. Перед окончательными выводами финально проверю модель на DummyRegressor\n",
    "</div>"
   ]
  },
  {
   "cell_type": "markdown",
   "id": "4d01ae15",
   "metadata": {},
   "source": [
    "### <span style=\"color:Maroon\">Проверка на адекватность </span>"
   ]
  },
  {
   "cell_type": "code",
   "execution_count": null,
   "id": "78a3ea7a",
   "metadata": {},
   "outputs": [],
   "source": [
    "model = DummyRegressor(strategy = 'mean')\n",
    "model.fit(features_train, target_train)\n",
    "predict_dummy = model.predict(features_test)\n",
    "score_dummy   = symmetric_mean_absolute_percentage_error(target_test, predict_dummy)\n",
    "print(f'показатель SMAPE на модели DummyRegressor: {-score_dummy:.2f}')"
   ]
  },
  {
   "cell_type": "markdown",
   "id": "363b9c9c",
   "metadata": {},
   "source": [
    "<div style=\"background-color:whitesmoke; border:solid #363636 1.5px; padding: 15px\">\n",
    "Предыдущие выводы были верными и показатели на DummyRegressor не сильно отличаются от показателей Lasso 7,78 против 7,14\n",
    "</div>"
   ]
  },
  {
   "cell_type": "markdown",
   "id": "2bca6c48",
   "metadata": {},
   "source": [
    "<div style=\"background-color:gray; border:solid #363636 2px; padding: 20px\">  \n",
    "    \n",
    "<span style=\"color:white\">**Выводы:**</span>  \n",
    "   \n",
    "<span style=\"color:white\">\n",
    "    \n",
    "- Предоставленные данные были проанализированны и подготовлены, для дальнейшей работы. В данных были обнаружены некоторые недочеты о которых было написно выше, можно остановиться только на одном моменте. В данных присутствовали аномальные значения которые предположительно появились в процессе замеров показателей, хотелось бы обратить внимание на этом моменте, т.к. возможно это разовый сбой, а возможно закономерные проблемы в техпроцессе\n",
    "    \n",
    "- Задача по подбору модели была выполнена, для этого в несколько этапов была произведена подготовка и проверка моделей на представленных данных, в итоге выбор был не совсем очевиден модели показывали ошибку в предсказаниях на уровне 7% но с огромной разницей во времени работы алгоритма, что для больших массивов данных может быть критично. Что по качеству модели то однозначно выбор должен быть в сторону модели **Lasso** с гиперпараметрами *max_iter = 1000, selection = 'random'*, что было подтверждено на графиках распределения, где распределение у модели дерева в значительной степени выглядит хуже модели Lasso, где последняя имет более правильную форму. Но модель ExtraTreesRegressor можно использовать как альтернативный вариант.\n",
    " \n",
    "<span style=\"color:white\">**Итог выбора:**</span>\n",
    "\n",
    "- модель Lasso(max_iter = 1000, selection = 'random')\n",
    "    \n",
    "<span style=\"color:white\">альтернативный вариант для эксперсс-оценки:</span>\n",
    "    \n",
    "*- модель ExtraTreesRegressor(max_depth = 5, n_estimators = 70)*\n",
    "</span>\n",
    "</div>"
   ]
  },
  {
   "cell_type": "code",
   "execution_count": null,
   "id": "1b73ef2a",
   "metadata": {},
   "outputs": [],
   "source": []
  },
  {
   "cell_type": "code",
   "execution_count": null,
   "id": "3c168c26",
   "metadata": {},
   "outputs": [],
   "source": []
  }
 ],
 "metadata": {
  "ExecuteTimeLog": [
   {
    "duration": 1598,
    "start_time": "2022-10-21T04:29:04.093Z"
   },
   {
    "duration": 48,
    "start_time": "2022-10-21T04:29:49.222Z"
   },
   {
    "duration": 7,
    "start_time": "2022-10-21T04:30:10.630Z"
   },
   {
    "duration": 2233,
    "start_time": "2022-10-21T04:32:37.894Z"
   },
   {
    "duration": 7,
    "start_time": "2022-10-21T04:32:46.174Z"
   },
   {
    "duration": 48,
    "start_time": "2022-10-21T04:33:38.574Z"
   },
   {
    "duration": 294,
    "start_time": "2022-10-21T04:33:47.053Z"
   },
   {
    "duration": 251,
    "start_time": "2022-10-21T04:51:28.043Z"
   },
   {
    "duration": 3,
    "start_time": "2022-10-21T04:53:50.459Z"
   },
   {
    "duration": 214,
    "start_time": "2022-10-21T04:53:50.526Z"
   },
   {
    "duration": 5,
    "start_time": "2022-10-21T04:54:23.398Z"
   },
   {
    "duration": 1448,
    "start_time": "2022-10-21T04:54:25.445Z"
   },
   {
    "duration": 2,
    "start_time": "2022-10-21T04:54:26.895Z"
   },
   {
    "duration": 201,
    "start_time": "2022-10-21T04:54:36.734Z"
   },
   {
    "duration": 66,
    "start_time": "2022-10-21T04:59:29.041Z"
   },
   {
    "duration": 115,
    "start_time": "2022-10-21T05:03:22.357Z"
   },
   {
    "duration": 5,
    "start_time": "2022-10-21T05:05:56.541Z"
   },
   {
    "duration": 123,
    "start_time": "2022-10-21T05:05:59.574Z"
   },
   {
    "duration": 5,
    "start_time": "2022-10-21T05:06:10.445Z"
   },
   {
    "duration": 5,
    "start_time": "2022-10-21T05:06:15.958Z"
   },
   {
    "duration": 134,
    "start_time": "2022-10-21T05:06:18.513Z"
   },
   {
    "duration": 5,
    "start_time": "2022-10-21T05:06:42.813Z"
   },
   {
    "duration": 123,
    "start_time": "2022-10-21T05:06:44.576Z"
   },
   {
    "duration": 83,
    "start_time": "2022-10-21T05:11:25.777Z"
   },
   {
    "duration": 5,
    "start_time": "2022-10-21T05:13:21.605Z"
   },
   {
    "duration": 5,
    "start_time": "2022-10-21T05:13:22.740Z"
   },
   {
    "duration": 1308,
    "start_time": "2022-10-21T05:13:24.572Z"
   },
   {
    "duration": 3,
    "start_time": "2022-10-21T05:13:25.882Z"
   },
   {
    "duration": 101,
    "start_time": "2022-10-21T05:13:25.886Z"
   },
   {
    "duration": 4,
    "start_time": "2022-10-21T05:14:30.628Z"
   },
   {
    "duration": 86,
    "start_time": "2022-10-21T05:14:33.869Z"
   },
   {
    "duration": 3,
    "start_time": "2022-10-21T05:21:17.972Z"
   },
   {
    "duration": 23,
    "start_time": "2022-10-21T05:21:30.330Z"
   },
   {
    "duration": 3,
    "start_time": "2022-10-21T05:23:07.028Z"
   },
   {
    "duration": 3,
    "start_time": "2022-10-21T05:23:12.308Z"
   },
   {
    "duration": 8,
    "start_time": "2022-10-21T05:24:47.220Z"
   },
   {
    "duration": 4,
    "start_time": "2022-10-21T05:25:30.212Z"
   },
   {
    "duration": 22,
    "start_time": "2022-10-21T05:26:12.084Z"
   },
   {
    "duration": 17,
    "start_time": "2022-10-21T05:26:30.036Z"
   },
   {
    "duration": 16,
    "start_time": "2022-10-21T05:26:34.540Z"
   },
   {
    "duration": 23,
    "start_time": "2022-10-21T05:26:40.932Z"
   },
   {
    "duration": 1390,
    "start_time": "2022-10-21T05:27:40.605Z"
   },
   {
    "duration": 6,
    "start_time": "2022-10-21T05:27:41.997Z"
   },
   {
    "duration": 1332,
    "start_time": "2022-10-21T05:27:42.004Z"
   },
   {
    "duration": 5,
    "start_time": "2022-10-21T05:27:43.338Z"
   },
   {
    "duration": 132,
    "start_time": "2022-10-21T05:27:43.345Z"
   },
   {
    "duration": 3,
    "start_time": "2022-10-21T05:27:43.478Z"
   },
   {
    "duration": 51,
    "start_time": "2022-10-21T05:27:43.482Z"
   },
   {
    "duration": 3,
    "start_time": "2022-10-21T05:27:43.534Z"
   },
   {
    "duration": 9,
    "start_time": "2022-10-21T05:27:43.539Z"
   },
   {
    "duration": 9,
    "start_time": "2022-10-21T05:27:43.550Z"
   },
   {
    "duration": 25,
    "start_time": "2022-10-21T05:27:43.561Z"
   },
   {
    "duration": 536,
    "start_time": "2022-10-21T06:55:53.458Z"
   },
   {
    "duration": 17,
    "start_time": "2022-10-21T06:58:48.034Z"
   },
   {
    "duration": 7,
    "start_time": "2022-10-21T07:00:02.841Z"
   },
   {
    "duration": 33,
    "start_time": "2022-10-21T07:00:43.202Z"
   },
   {
    "duration": 23,
    "start_time": "2022-10-21T07:01:34.412Z"
   },
   {
    "duration": 33,
    "start_time": "2022-10-21T07:02:21.121Z"
   },
   {
    "duration": 3745,
    "start_time": "2022-10-21T07:04:05.801Z"
   },
   {
    "duration": 26,
    "start_time": "2022-10-21T07:04:22.049Z"
   },
   {
    "duration": 14,
    "start_time": "2022-10-21T07:06:07.410Z"
   },
   {
    "duration": 12,
    "start_time": "2022-10-21T07:06:38.554Z"
   },
   {
    "duration": 5007,
    "start_time": "2022-10-21T07:07:04.899Z"
   },
   {
    "duration": 644,
    "start_time": "2022-10-21T07:08:00.730Z"
   },
   {
    "duration": 15,
    "start_time": "2022-10-21T07:08:42.083Z"
   },
   {
    "duration": 47,
    "start_time": "2022-10-21T07:08:50.881Z"
   },
   {
    "duration": 5,
    "start_time": "2022-10-21T07:08:55.513Z"
   },
   {
    "duration": 590,
    "start_time": "2022-10-21T07:09:02.018Z"
   },
   {
    "duration": 6,
    "start_time": "2022-10-21T07:09:24.218Z"
   },
   {
    "duration": 31,
    "start_time": "2022-10-21T07:10:15.202Z"
   },
   {
    "duration": 717,
    "start_time": "2022-10-21T07:10:31.701Z"
   },
   {
    "duration": 4,
    "start_time": "2022-10-21T07:15:13.418Z"
   },
   {
    "duration": 2,
    "start_time": "2022-10-21T07:15:19.890Z"
   },
   {
    "duration": 6,
    "start_time": "2022-10-21T07:15:52.770Z"
   },
   {
    "duration": 15,
    "start_time": "2022-10-21T07:15:57.233Z"
   },
   {
    "duration": 3,
    "start_time": "2022-10-21T07:17:08.281Z"
   },
   {
    "duration": 3,
    "start_time": "2022-10-21T07:17:17.521Z"
   },
   {
    "duration": 37,
    "start_time": "2022-10-21T07:21:30.120Z"
   },
   {
    "duration": 1380,
    "start_time": "2022-10-21T07:22:02.448Z"
   },
   {
    "duration": 6,
    "start_time": "2022-10-21T07:22:03.830Z"
   },
   {
    "duration": 1579,
    "start_time": "2022-10-21T07:22:03.837Z"
   },
   {
    "duration": 3,
    "start_time": "2022-10-21T07:22:05.418Z"
   },
   {
    "duration": 161,
    "start_time": "2022-10-21T07:22:05.423Z"
   },
   {
    "duration": 4,
    "start_time": "2022-10-21T07:22:05.585Z"
   },
   {
    "duration": 66,
    "start_time": "2022-10-21T07:22:05.590Z"
   },
   {
    "duration": 30,
    "start_time": "2022-10-21T07:22:05.658Z"
   },
   {
    "duration": 32,
    "start_time": "2022-10-21T07:22:05.689Z"
   },
   {
    "duration": 39,
    "start_time": "2022-10-21T07:22:05.724Z"
   },
   {
    "duration": 38,
    "start_time": "2022-10-21T07:22:05.764Z"
   },
   {
    "duration": 50,
    "start_time": "2022-10-21T07:22:05.803Z"
   },
   {
    "duration": 32,
    "start_time": "2022-10-21T07:22:05.854Z"
   },
   {
    "duration": 53,
    "start_time": "2022-10-21T07:22:05.888Z"
   },
   {
    "duration": 44,
    "start_time": "2022-10-21T07:22:05.943Z"
   },
   {
    "duration": 71,
    "start_time": "2022-10-21T07:22:05.989Z"
   },
   {
    "duration": 3709,
    "start_time": "2022-10-21T07:22:06.062Z"
   },
   {
    "duration": 18,
    "start_time": "2022-10-21T07:22:09.773Z"
   },
   {
    "duration": 11,
    "start_time": "2022-10-21T07:22:09.794Z"
   },
   {
    "duration": 4958,
    "start_time": "2022-10-21T07:22:09.822Z"
   },
   {
    "duration": 645,
    "start_time": "2022-10-21T07:22:14.781Z"
   },
   {
    "duration": 14,
    "start_time": "2022-10-21T07:22:15.428Z"
   },
   {
    "duration": 69,
    "start_time": "2022-10-21T07:22:15.443Z"
   },
   {
    "duration": 5,
    "start_time": "2022-10-21T07:22:15.514Z"
   },
   {
    "duration": 576,
    "start_time": "2022-10-21T07:22:15.521Z"
   },
   {
    "duration": 31,
    "start_time": "2022-10-21T07:22:16.098Z"
   },
   {
    "duration": 729,
    "start_time": "2022-10-21T07:22:16.131Z"
   },
   {
    "duration": 4,
    "start_time": "2022-10-21T07:22:16.863Z"
   },
   {
    "duration": 43,
    "start_time": "2022-10-21T07:22:16.868Z"
   },
   {
    "duration": 34,
    "start_time": "2022-10-21T07:22:16.912Z"
   },
   {
    "duration": 41,
    "start_time": "2022-10-21T07:22:16.947Z"
   },
   {
    "duration": 13,
    "start_time": "2022-10-21T07:22:16.990Z"
   },
   {
    "duration": 18,
    "start_time": "2022-10-21T07:22:17.004Z"
   },
   {
    "duration": 174,
    "start_time": "2022-10-21T07:22:29.689Z"
   },
   {
    "duration": 5,
    "start_time": "2022-10-21T07:23:34.474Z"
   },
   {
    "duration": 1392,
    "start_time": "2022-10-21T07:24:10.901Z"
   },
   {
    "duration": 5,
    "start_time": "2022-10-21T07:24:12.294Z"
   },
   {
    "duration": 1394,
    "start_time": "2022-10-21T07:24:12.303Z"
   },
   {
    "duration": 4,
    "start_time": "2022-10-21T07:24:13.698Z"
   },
   {
    "duration": 154,
    "start_time": "2022-10-21T07:24:13.703Z"
   },
   {
    "duration": 3,
    "start_time": "2022-10-21T07:24:13.858Z"
   },
   {
    "duration": 37,
    "start_time": "2022-10-21T07:24:13.863Z"
   },
   {
    "duration": 21,
    "start_time": "2022-10-21T07:24:13.901Z"
   },
   {
    "duration": 30,
    "start_time": "2022-10-21T07:24:13.924Z"
   },
   {
    "duration": 12,
    "start_time": "2022-10-21T07:24:13.956Z"
   },
   {
    "duration": 39,
    "start_time": "2022-10-21T07:24:13.970Z"
   },
   {
    "duration": 32,
    "start_time": "2022-10-21T07:24:14.011Z"
   },
   {
    "duration": 8,
    "start_time": "2022-10-21T07:24:14.045Z"
   },
   {
    "duration": 39,
    "start_time": "2022-10-21T07:24:14.054Z"
   },
   {
    "duration": 15,
    "start_time": "2022-10-21T07:24:14.094Z"
   },
   {
    "duration": 35,
    "start_time": "2022-10-21T07:24:14.110Z"
   },
   {
    "duration": 3760,
    "start_time": "2022-10-21T07:24:14.147Z"
   },
   {
    "duration": 24,
    "start_time": "2022-10-21T07:24:17.908Z"
   },
   {
    "duration": 10,
    "start_time": "2022-10-21T07:24:17.934Z"
   },
   {
    "duration": 5870,
    "start_time": "2022-10-21T07:24:17.945Z"
   },
   {
    "duration": 621,
    "start_time": "2022-10-21T07:24:23.817Z"
   },
   {
    "duration": 15,
    "start_time": "2022-10-21T07:24:24.439Z"
   },
   {
    "duration": 48,
    "start_time": "2022-10-21T07:24:24.455Z"
   },
   {
    "duration": 20,
    "start_time": "2022-10-21T07:24:24.505Z"
   },
   {
    "duration": 564,
    "start_time": "2022-10-21T07:24:24.527Z"
   },
   {
    "duration": 34,
    "start_time": "2022-10-21T07:24:25.093Z"
   },
   {
    "duration": 647,
    "start_time": "2022-10-21T07:24:25.130Z"
   },
   {
    "duration": 5,
    "start_time": "2022-10-21T07:24:25.779Z"
   },
   {
    "duration": 13,
    "start_time": "2022-10-21T07:24:25.786Z"
   },
   {
    "duration": 11,
    "start_time": "2022-10-21T07:24:25.800Z"
   },
   {
    "duration": 21,
    "start_time": "2022-10-21T07:24:25.812Z"
   },
   {
    "duration": 3,
    "start_time": "2022-10-21T07:24:25.835Z"
   },
   {
    "duration": 29,
    "start_time": "2022-10-21T07:24:25.839Z"
   },
   {
    "duration": 1694,
    "start_time": "2022-10-21T07:24:25.869Z"
   },
   {
    "duration": 1375,
    "start_time": "2022-10-21T07:25:59.728Z"
   },
   {
    "duration": 7,
    "start_time": "2022-10-21T07:26:01.105Z"
   },
   {
    "duration": 1404,
    "start_time": "2022-10-21T07:26:01.115Z"
   },
   {
    "duration": 4,
    "start_time": "2022-10-21T07:26:02.524Z"
   },
   {
    "duration": 152,
    "start_time": "2022-10-21T07:26:02.529Z"
   },
   {
    "duration": 3,
    "start_time": "2022-10-21T07:26:02.683Z"
   },
   {
    "duration": 56,
    "start_time": "2022-10-21T07:26:02.687Z"
   },
   {
    "duration": 3,
    "start_time": "2022-10-21T07:26:02.744Z"
   },
   {
    "duration": 13,
    "start_time": "2022-10-21T07:26:02.749Z"
   },
   {
    "duration": 11,
    "start_time": "2022-10-21T07:26:02.764Z"
   },
   {
    "duration": 37,
    "start_time": "2022-10-21T07:26:02.776Z"
   },
   {
    "duration": 16,
    "start_time": "2022-10-21T07:26:02.814Z"
   },
   {
    "duration": 9,
    "start_time": "2022-10-21T07:26:02.831Z"
   },
   {
    "duration": 22,
    "start_time": "2022-10-21T07:26:02.842Z"
   },
   {
    "duration": 16,
    "start_time": "2022-10-21T07:26:02.866Z"
   },
   {
    "duration": 52,
    "start_time": "2022-10-21T07:26:02.884Z"
   },
   {
    "duration": 3638,
    "start_time": "2022-10-21T07:26:02.937Z"
   },
   {
    "duration": 19,
    "start_time": "2022-10-21T07:26:06.576Z"
   },
   {
    "duration": 10,
    "start_time": "2022-10-21T07:26:06.597Z"
   },
   {
    "duration": 5104,
    "start_time": "2022-10-21T07:26:06.622Z"
   },
   {
    "duration": 660,
    "start_time": "2022-10-21T07:26:11.727Z"
   },
   {
    "duration": 15,
    "start_time": "2022-10-21T07:26:12.389Z"
   },
   {
    "duration": 67,
    "start_time": "2022-10-21T07:26:12.406Z"
   },
   {
    "duration": 7,
    "start_time": "2022-10-21T07:26:12.474Z"
   },
   {
    "duration": 599,
    "start_time": "2022-10-21T07:26:12.482Z"
   },
   {
    "duration": 28,
    "start_time": "2022-10-21T07:26:13.083Z"
   },
   {
    "duration": 848,
    "start_time": "2022-10-21T07:26:13.123Z"
   },
   {
    "duration": 5,
    "start_time": "2022-10-21T07:26:13.973Z"
   },
   {
    "duration": 7,
    "start_time": "2022-10-21T07:26:13.980Z"
   },
   {
    "duration": 9,
    "start_time": "2022-10-21T07:26:13.988Z"
   },
   {
    "duration": 29,
    "start_time": "2022-10-21T07:26:13.998Z"
   },
   {
    "duration": 4,
    "start_time": "2022-10-21T07:26:14.029Z"
   },
   {
    "duration": 9,
    "start_time": "2022-10-21T07:26:14.034Z"
   },
   {
    "duration": 378250,
    "start_time": "2022-10-21T07:26:14.045Z"
   },
   {
    "duration": 2,
    "start_time": "2022-10-21T07:32:32.297Z"
   },
   {
    "duration": 36,
    "start_time": "2022-10-21T07:32:32.347Z"
   },
   {
    "duration": 5,
    "start_time": "2022-10-21T07:33:01.111Z"
   },
   {
    "duration": 4,
    "start_time": "2022-10-21T07:33:15.742Z"
   },
   {
    "duration": 4,
    "start_time": "2022-10-21T07:33:42.471Z"
   },
   {
    "duration": 9,
    "start_time": "2022-10-21T07:33:46.999Z"
   },
   {
    "duration": 8,
    "start_time": "2022-10-21T07:34:00.334Z"
   },
   {
    "duration": 4,
    "start_time": "2022-10-21T12:32:38.757Z"
   },
   {
    "duration": 3,
    "start_time": "2022-10-21T12:33:18.246Z"
   },
   {
    "duration": 8,
    "start_time": "2022-10-21T12:34:06.565Z"
   },
   {
    "duration": 111,
    "start_time": "2022-10-21T12:40:32.933Z"
   },
   {
    "duration": 3,
    "start_time": "2022-10-21T12:40:37.229Z"
   },
   {
    "duration": 8,
    "start_time": "2022-10-21T12:40:38.044Z"
   },
   {
    "duration": 17,
    "start_time": "2022-10-21T12:40:55.670Z"
   },
   {
    "duration": 2,
    "start_time": "2022-10-21T12:41:09.460Z"
   },
   {
    "duration": 3,
    "start_time": "2022-10-21T12:41:09.821Z"
   },
   {
    "duration": 3,
    "start_time": "2022-10-21T12:41:12.973Z"
   },
   {
    "duration": 13,
    "start_time": "2022-10-21T12:41:14.124Z"
   },
   {
    "duration": 8,
    "start_time": "2022-10-21T12:41:19.380Z"
   },
   {
    "duration": 16,
    "start_time": "2022-10-21T12:42:36.621Z"
   },
   {
    "duration": 9,
    "start_time": "2022-10-21T12:43:05.029Z"
   },
   {
    "duration": 5,
    "start_time": "2022-10-21T13:18:08.604Z"
   },
   {
    "duration": 2,
    "start_time": "2022-10-21T13:19:12.485Z"
   },
   {
    "duration": 13660,
    "start_time": "2022-10-21T13:19:12.900Z"
   },
   {
    "duration": 22,
    "start_time": "2022-10-21T13:19:26.562Z"
   },
   {
    "duration": 0,
    "start_time": "2022-10-21T13:19:26.585Z"
   },
   {
    "duration": 1326,
    "start_time": "2022-10-21T13:20:26.173Z"
   },
   {
    "duration": 6,
    "start_time": "2022-10-21T13:20:27.501Z"
   },
   {
    "duration": 1575,
    "start_time": "2022-10-21T13:20:27.509Z"
   },
   {
    "duration": 3,
    "start_time": "2022-10-21T13:20:29.087Z"
   },
   {
    "duration": 152,
    "start_time": "2022-10-21T13:20:29.092Z"
   },
   {
    "duration": 3,
    "start_time": "2022-10-21T13:20:29.246Z"
   },
   {
    "duration": 28,
    "start_time": "2022-10-21T13:20:29.251Z"
   },
   {
    "duration": 4,
    "start_time": "2022-10-21T13:20:29.280Z"
   },
   {
    "duration": 6,
    "start_time": "2022-10-21T13:20:29.285Z"
   },
   {
    "duration": 34,
    "start_time": "2022-10-21T13:20:29.294Z"
   },
   {
    "duration": 26,
    "start_time": "2022-10-21T13:20:29.329Z"
   },
   {
    "duration": 13,
    "start_time": "2022-10-21T13:20:29.357Z"
   },
   {
    "duration": 6,
    "start_time": "2022-10-21T13:20:29.371Z"
   },
   {
    "duration": 44,
    "start_time": "2022-10-21T13:20:29.378Z"
   },
   {
    "duration": 14,
    "start_time": "2022-10-21T13:20:29.423Z"
   },
   {
    "duration": 30,
    "start_time": "2022-10-21T13:20:29.438Z"
   },
   {
    "duration": 3772,
    "start_time": "2022-10-21T13:20:29.469Z"
   },
   {
    "duration": 20,
    "start_time": "2022-10-21T13:20:33.242Z"
   },
   {
    "duration": 10,
    "start_time": "2022-10-21T13:20:33.263Z"
   },
   {
    "duration": 5033,
    "start_time": "2022-10-21T13:20:33.274Z"
   },
   {
    "duration": 675,
    "start_time": "2022-10-21T13:20:38.309Z"
   },
   {
    "duration": 23,
    "start_time": "2022-10-21T13:20:38.986Z"
   },
   {
    "duration": 85,
    "start_time": "2022-10-21T13:20:39.011Z"
   },
   {
    "duration": 7,
    "start_time": "2022-10-21T13:20:39.098Z"
   },
   {
    "duration": 621,
    "start_time": "2022-10-21T13:20:39.107Z"
   },
   {
    "duration": 28,
    "start_time": "2022-10-21T13:20:39.729Z"
   },
   {
    "duration": 808,
    "start_time": "2022-10-21T13:20:39.759Z"
   },
   {
    "duration": 5,
    "start_time": "2022-10-21T13:20:40.570Z"
   },
   {
    "duration": 30,
    "start_time": "2022-10-21T13:20:40.577Z"
   },
   {
    "duration": 21,
    "start_time": "2022-10-21T13:20:40.609Z"
   },
   {
    "duration": 53,
    "start_time": "2022-10-21T13:20:40.632Z"
   },
   {
    "duration": 10,
    "start_time": "2022-10-21T13:20:40.687Z"
   },
   {
    "duration": 23,
    "start_time": "2022-10-21T13:20:40.699Z"
   },
   {
    "duration": 69825,
    "start_time": "2022-10-21T13:20:40.724Z"
   },
   {
    "duration": 3,
    "start_time": "2022-10-21T13:21:50.551Z"
   },
   {
    "duration": 39,
    "start_time": "2022-10-21T13:21:50.555Z"
   },
   {
    "duration": 37,
    "start_time": "2022-10-21T13:21:50.595Z"
   },
   {
    "duration": 45,
    "start_time": "2022-10-21T13:21:50.634Z"
   },
   {
    "duration": 0,
    "start_time": "2022-10-21T13:21:50.681Z"
   },
   {
    "duration": 0,
    "start_time": "2022-10-21T13:21:50.682Z"
   },
   {
    "duration": 0,
    "start_time": "2022-10-21T13:21:50.683Z"
   },
   {
    "duration": 0,
    "start_time": "2022-10-21T13:21:50.684Z"
   },
   {
    "duration": 0,
    "start_time": "2022-10-21T13:21:50.684Z"
   },
   {
    "duration": 0,
    "start_time": "2022-10-21T13:21:50.685Z"
   },
   {
    "duration": 0,
    "start_time": "2022-10-21T13:21:50.686Z"
   },
   {
    "duration": 0,
    "start_time": "2022-10-21T13:21:50.687Z"
   },
   {
    "duration": 1319,
    "start_time": "2022-10-21T13:22:13.069Z"
   },
   {
    "duration": 5,
    "start_time": "2022-10-21T13:22:14.390Z"
   },
   {
    "duration": 1364,
    "start_time": "2022-10-21T13:22:14.397Z"
   },
   {
    "duration": 4,
    "start_time": "2022-10-21T13:22:15.763Z"
   },
   {
    "duration": 127,
    "start_time": "2022-10-21T13:22:15.769Z"
   },
   {
    "duration": 3,
    "start_time": "2022-10-21T13:22:15.921Z"
   },
   {
    "duration": 28,
    "start_time": "2022-10-21T13:22:15.925Z"
   },
   {
    "duration": 3,
    "start_time": "2022-10-21T13:22:15.955Z"
   },
   {
    "duration": 7,
    "start_time": "2022-10-21T13:22:15.959Z"
   },
   {
    "duration": 10,
    "start_time": "2022-10-21T13:22:15.967Z"
   },
   {
    "duration": 46,
    "start_time": "2022-10-21T13:22:15.978Z"
   },
   {
    "duration": 13,
    "start_time": "2022-10-21T13:22:16.025Z"
   },
   {
    "duration": 14,
    "start_time": "2022-10-21T13:22:16.040Z"
   },
   {
    "duration": 31,
    "start_time": "2022-10-21T13:22:16.058Z"
   },
   {
    "duration": 19,
    "start_time": "2022-10-21T13:22:16.091Z"
   },
   {
    "duration": 29,
    "start_time": "2022-10-21T13:22:16.122Z"
   },
   {
    "duration": 3748,
    "start_time": "2022-10-21T13:22:16.153Z"
   },
   {
    "duration": 22,
    "start_time": "2022-10-21T13:22:19.902Z"
   },
   {
    "duration": 18,
    "start_time": "2022-10-21T13:22:19.926Z"
   },
   {
    "duration": 4984,
    "start_time": "2022-10-21T13:22:19.946Z"
   },
   {
    "duration": 636,
    "start_time": "2022-10-21T13:22:24.932Z"
   },
   {
    "duration": 14,
    "start_time": "2022-10-21T13:22:25.569Z"
   },
   {
    "duration": 63,
    "start_time": "2022-10-21T13:22:25.585Z"
   },
   {
    "duration": 8,
    "start_time": "2022-10-21T13:22:25.650Z"
   },
   {
    "duration": 584,
    "start_time": "2022-10-21T13:22:25.660Z"
   },
   {
    "duration": 24,
    "start_time": "2022-10-21T13:22:26.246Z"
   },
   {
    "duration": 703,
    "start_time": "2022-10-21T13:22:26.271Z"
   },
   {
    "duration": 4,
    "start_time": "2022-10-21T13:22:26.976Z"
   },
   {
    "duration": 14,
    "start_time": "2022-10-21T13:22:26.981Z"
   },
   {
    "duration": 9,
    "start_time": "2022-10-21T13:22:26.996Z"
   },
   {
    "duration": 21,
    "start_time": "2022-10-21T13:22:27.006Z"
   },
   {
    "duration": 3,
    "start_time": "2022-10-21T13:22:27.028Z"
   },
   {
    "duration": 7,
    "start_time": "2022-10-21T13:22:27.033Z"
   },
   {
    "duration": 6,
    "start_time": "2022-10-21T13:22:27.042Z"
   },
   {
    "duration": 11,
    "start_time": "2022-10-21T13:22:27.050Z"
   },
   {
    "duration": 10,
    "start_time": "2022-10-21T13:22:27.063Z"
   },
   {
    "duration": 121,
    "start_time": "2022-10-21T13:22:27.075Z"
   },
   {
    "duration": 0,
    "start_time": "2022-10-21T13:22:27.199Z"
   },
   {
    "duration": 1,
    "start_time": "2022-10-21T13:22:27.200Z"
   },
   {
    "duration": 0,
    "start_time": "2022-10-21T13:22:27.202Z"
   },
   {
    "duration": 0,
    "start_time": "2022-10-21T13:22:27.203Z"
   },
   {
    "duration": 0,
    "start_time": "2022-10-21T13:22:27.205Z"
   },
   {
    "duration": 0,
    "start_time": "2022-10-21T13:22:27.206Z"
   },
   {
    "duration": 0,
    "start_time": "2022-10-21T13:22:27.208Z"
   },
   {
    "duration": 0,
    "start_time": "2022-10-21T13:22:27.209Z"
   },
   {
    "duration": 0,
    "start_time": "2022-10-21T13:22:27.210Z"
   },
   {
    "duration": 0,
    "start_time": "2022-10-21T13:22:27.211Z"
   },
   {
    "duration": 0,
    "start_time": "2022-10-21T13:22:27.212Z"
   },
   {
    "duration": 4,
    "start_time": "2022-10-21T13:22:51.805Z"
   },
   {
    "duration": 1456,
    "start_time": "2022-10-21T13:22:57.300Z"
   },
   {
    "duration": 6,
    "start_time": "2022-10-21T13:22:58.757Z"
   },
   {
    "duration": 1325,
    "start_time": "2022-10-21T13:22:58.764Z"
   },
   {
    "duration": 4,
    "start_time": "2022-10-21T13:23:00.091Z"
   },
   {
    "duration": 200,
    "start_time": "2022-10-21T13:23:00.096Z"
   },
   {
    "duration": 3,
    "start_time": "2022-10-21T13:23:00.323Z"
   },
   {
    "duration": 112,
    "start_time": "2022-10-21T13:23:00.327Z"
   },
   {
    "duration": 162,
    "start_time": "2022-10-21T13:23:00.440Z"
   },
   {
    "duration": 67,
    "start_time": "2022-10-21T13:23:00.603Z"
   },
   {
    "duration": 26,
    "start_time": "2022-10-21T13:23:00.672Z"
   },
   {
    "duration": 73,
    "start_time": "2022-10-21T13:23:00.699Z"
   },
   {
    "duration": 26,
    "start_time": "2022-10-21T13:23:00.774Z"
   },
   {
    "duration": 7,
    "start_time": "2022-10-21T13:23:00.801Z"
   },
   {
    "duration": 75,
    "start_time": "2022-10-21T13:23:00.810Z"
   },
   {
    "duration": 15,
    "start_time": "2022-10-21T13:23:00.887Z"
   },
   {
    "duration": 29,
    "start_time": "2022-10-21T13:23:00.904Z"
   },
   {
    "duration": 3708,
    "start_time": "2022-10-21T13:23:00.935Z"
   },
   {
    "duration": 20,
    "start_time": "2022-10-21T13:23:04.645Z"
   },
   {
    "duration": 11,
    "start_time": "2022-10-21T13:23:04.667Z"
   },
   {
    "duration": 5099,
    "start_time": "2022-10-21T13:23:04.679Z"
   },
   {
    "duration": 653,
    "start_time": "2022-10-21T13:23:09.780Z"
   },
   {
    "duration": 15,
    "start_time": "2022-10-21T13:23:10.434Z"
   },
   {
    "duration": 47,
    "start_time": "2022-10-21T13:23:10.450Z"
   },
   {
    "duration": 24,
    "start_time": "2022-10-21T13:23:10.498Z"
   },
   {
    "duration": 560,
    "start_time": "2022-10-21T13:23:10.524Z"
   },
   {
    "duration": 26,
    "start_time": "2022-10-21T13:23:11.086Z"
   },
   {
    "duration": 653,
    "start_time": "2022-10-21T13:23:11.122Z"
   },
   {
    "duration": 3,
    "start_time": "2022-10-21T13:23:11.779Z"
   },
   {
    "duration": 9,
    "start_time": "2022-10-21T13:23:11.784Z"
   },
   {
    "duration": 9,
    "start_time": "2022-10-21T13:23:11.794Z"
   },
   {
    "duration": 20,
    "start_time": "2022-10-21T13:23:11.804Z"
   },
   {
    "duration": 3,
    "start_time": "2022-10-21T13:23:11.825Z"
   },
   {
    "duration": 4,
    "start_time": "2022-10-21T13:23:11.830Z"
   },
   {
    "duration": 6,
    "start_time": "2022-10-21T13:23:11.835Z"
   },
   {
    "duration": 10,
    "start_time": "2022-10-21T13:23:11.842Z"
   },
   {
    "duration": 5,
    "start_time": "2022-10-21T13:23:11.853Z"
   },
   {
    "duration": 7,
    "start_time": "2022-10-21T13:23:11.859Z"
   },
   {
    "duration": 11,
    "start_time": "2022-10-21T13:23:11.867Z"
   },
   {
    "duration": 5,
    "start_time": "2022-10-21T13:23:11.879Z"
   },
   {
    "duration": 5,
    "start_time": "2022-10-21T13:23:11.885Z"
   },
   {
    "duration": 5,
    "start_time": "2022-10-21T13:23:11.891Z"
   },
   {
    "duration": 28,
    "start_time": "2022-10-21T13:23:11.898Z"
   },
   {
    "duration": 20,
    "start_time": "2022-10-21T13:23:11.928Z"
   },
   {
    "duration": 14,
    "start_time": "2022-10-21T13:23:11.949Z"
   },
   {
    "duration": 7,
    "start_time": "2022-10-21T13:23:11.964Z"
   },
   {
    "duration": 3,
    "start_time": "2022-10-21T13:23:11.972Z"
   },
   {
    "duration": 1739,
    "start_time": "2022-10-21T13:23:11.976Z"
   },
   {
    "duration": 15,
    "start_time": "2022-10-21T13:23:13.716Z"
   },
   {
    "duration": 14,
    "start_time": "2022-10-21T13:23:41.319Z"
   },
   {
    "duration": 3,
    "start_time": "2022-10-21T13:25:49.510Z"
   },
   {
    "duration": 5,
    "start_time": "2022-10-21T13:28:25.167Z"
   },
   {
    "duration": 3,
    "start_time": "2022-10-21T13:28:25.846Z"
   },
   {
    "duration": 13990,
    "start_time": "2022-10-21T13:28:26.221Z"
   },
   {
    "duration": 22,
    "start_time": "2022-10-21T13:29:00.814Z"
   },
   {
    "duration": 4,
    "start_time": "2022-10-21T13:29:08.086Z"
   },
   {
    "duration": 3,
    "start_time": "2022-10-21T13:29:51.670Z"
   },
   {
    "duration": 160,
    "start_time": "2022-10-21T13:29:52.278Z"
   },
   {
    "duration": 5,
    "start_time": "2022-10-21T13:30:32.046Z"
   },
   {
    "duration": 1483,
    "start_time": "2022-10-21T13:32:25.987Z"
   },
   {
    "duration": 5,
    "start_time": "2022-10-21T13:32:27.472Z"
   },
   {
    "duration": 1345,
    "start_time": "2022-10-21T13:32:27.479Z"
   },
   {
    "duration": 3,
    "start_time": "2022-10-21T13:32:28.826Z"
   },
   {
    "duration": 225,
    "start_time": "2022-10-21T13:32:28.831Z"
   },
   {
    "duration": 3,
    "start_time": "2022-10-21T13:32:29.058Z"
   },
   {
    "duration": 46,
    "start_time": "2022-10-21T13:32:29.063Z"
   },
   {
    "duration": 12,
    "start_time": "2022-10-21T13:32:29.110Z"
   },
   {
    "duration": 8,
    "start_time": "2022-10-21T13:32:29.124Z"
   },
   {
    "duration": 29,
    "start_time": "2022-10-21T13:32:29.134Z"
   },
   {
    "duration": 28,
    "start_time": "2022-10-21T13:32:29.164Z"
   },
   {
    "duration": 21,
    "start_time": "2022-10-21T13:32:29.193Z"
   },
   {
    "duration": 9,
    "start_time": "2022-10-21T13:32:29.216Z"
   },
   {
    "duration": 21,
    "start_time": "2022-10-21T13:32:29.227Z"
   },
   {
    "duration": 14,
    "start_time": "2022-10-21T13:32:29.250Z"
   },
   {
    "duration": 32,
    "start_time": "2022-10-21T13:32:29.265Z"
   },
   {
    "duration": 3755,
    "start_time": "2022-10-21T13:32:29.299Z"
   },
   {
    "duration": 22,
    "start_time": "2022-10-21T13:32:33.055Z"
   },
   {
    "duration": 15,
    "start_time": "2022-10-21T13:32:33.078Z"
   },
   {
    "duration": 5054,
    "start_time": "2022-10-21T13:32:33.094Z"
   },
   {
    "duration": 670,
    "start_time": "2022-10-21T13:32:38.149Z"
   },
   {
    "duration": 16,
    "start_time": "2022-10-21T13:32:38.822Z"
   },
   {
    "duration": 66,
    "start_time": "2022-10-21T13:32:38.840Z"
   },
   {
    "duration": 11,
    "start_time": "2022-10-21T13:32:38.923Z"
   },
   {
    "duration": 653,
    "start_time": "2022-10-21T13:32:38.937Z"
   },
   {
    "duration": 35,
    "start_time": "2022-10-21T13:32:39.591Z"
   },
   {
    "duration": 694,
    "start_time": "2022-10-21T13:32:39.628Z"
   },
   {
    "duration": 4,
    "start_time": "2022-10-21T13:32:40.323Z"
   },
   {
    "duration": 13,
    "start_time": "2022-10-21T13:32:40.328Z"
   },
   {
    "duration": 10,
    "start_time": "2022-10-21T13:32:40.342Z"
   },
   {
    "duration": 20,
    "start_time": "2022-10-21T13:32:40.354Z"
   },
   {
    "duration": 3,
    "start_time": "2022-10-21T13:32:40.376Z"
   },
   {
    "duration": 7,
    "start_time": "2022-10-21T13:32:40.380Z"
   },
   {
    "duration": 9,
    "start_time": "2022-10-21T13:32:40.388Z"
   },
   {
    "duration": 28,
    "start_time": "2022-10-21T13:32:40.399Z"
   },
   {
    "duration": 5,
    "start_time": "2022-10-21T13:32:40.428Z"
   },
   {
    "duration": 15,
    "start_time": "2022-10-21T13:32:40.434Z"
   },
   {
    "duration": 11,
    "start_time": "2022-10-21T13:32:43.310Z"
   },
   {
    "duration": 3,
    "start_time": "2022-10-21T13:33:46.854Z"
   },
   {
    "duration": 968,
    "start_time": "2022-10-21T13:34:00.958Z"
   },
   {
    "duration": 7,
    "start_time": "2022-10-21T13:34:11.966Z"
   },
   {
    "duration": 4,
    "start_time": "2022-10-21T13:34:12.462Z"
   },
   {
    "duration": 7444,
    "start_time": "2022-10-21T13:34:12.783Z"
   },
   {
    "duration": 13,
    "start_time": "2022-10-21T13:35:02.014Z"
   },
   {
    "duration": 13,
    "start_time": "2022-10-21T13:36:01.950Z"
   },
   {
    "duration": 106,
    "start_time": "2022-10-21T13:37:05.119Z"
   },
   {
    "duration": 54,
    "start_time": "2022-10-21T13:37:23.709Z"
   },
   {
    "duration": 128,
    "start_time": "2022-10-21T13:37:43.581Z"
   },
   {
    "duration": 100,
    "start_time": "2022-10-21T13:38:01.854Z"
   },
   {
    "duration": 3599,
    "start_time": "2022-10-21T13:38:05.926Z"
   },
   {
    "duration": 7,
    "start_time": "2022-10-21T13:38:42.108Z"
   },
   {
    "duration": 7,
    "start_time": "2022-10-21T13:39:12.063Z"
   },
   {
    "duration": 7,
    "start_time": "2022-10-21T13:40:03.919Z"
   },
   {
    "duration": 334,
    "start_time": "2022-10-21T13:40:14.134Z"
   },
   {
    "duration": 598,
    "start_time": "2022-10-21T13:40:43.239Z"
   },
   {
    "duration": 7,
    "start_time": "2022-10-21T13:41:12.510Z"
   },
   {
    "duration": 47,
    "start_time": "2022-10-21T13:42:04.626Z"
   },
   {
    "duration": 53,
    "start_time": "2022-10-21T13:42:22.887Z"
   }
  ],
  "kernelspec": {
   "display_name": "Python 3 (ipykernel)",
   "language": "python",
   "name": "python3"
  },
  "language_info": {
   "codemirror_mode": {
    "name": "ipython",
    "version": 3
   },
   "file_extension": ".py",
   "mimetype": "text/x-python",
   "name": "python",
   "nbconvert_exporter": "python",
   "pygments_lexer": "ipython3",
   "version": "3.9.7"
  },
  "toc": {
   "base_numbering": 1,
   "nav_menu": {},
   "number_sections": true,
   "sideBar": true,
   "skip_h1_title": true,
   "title_cell": "Table of Contents",
   "title_sidebar": "Contents",
   "toc_cell": false,
   "toc_position": {},
   "toc_section_display": true,
   "toc_window_display": true
  }
 },
 "nbformat": 4,
 "nbformat_minor": 5
}
